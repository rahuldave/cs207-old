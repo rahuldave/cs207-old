{
 "cells": [
  {
   "cell_type": "markdown",
   "metadata": {},
   "source": [
    "### Defining a Graph \n",
    "\n",
    "What is a graph?\n",
    "\n",
    "**A graph G = (V, E) consists of a set of vertices V together with a set E of vertex pairs or edges.**\n",
    "\n",
    "- Directed, vs a tree(from dsa at iit)\n",
    "![](http://lcm.csa.iisc.ernet.in/dsa/img383.gif)\n",
    "\n",
    "- Undirected: if edge x -> y is in graph, so is y->x\n",
    "\n",
    "![](http://i.stack.imgur.com/YA7NX.png)\n",
    "\n",
    "- An acyclic graph does not contain any cycles.\n",
    "\n",
    "- With weights: each edge is assigned a weight\n",
    "\n",
    "![](http://images.books24x7.com/bookimages/id_12903/fig413_01.jpg)\n",
    "\n",
    "- DAG, with topologocal ordering: these arise naturally in scheduling problems\n",
    "\n",
    "![](http://www.cs.cornell.edu/courses/cs3110/2009sp/lectures/images/graph-ordering.png)\n",
    "\n",
    "- Trees are connected, acyclic, undirected graphs."
   ]
  },
  {
   "cell_type": "code",
   "execution_count": 1,
   "metadata": {
    "collapsed": false
   },
   "outputs": [],
   "source": [
    "from IPython.display import Image\n",
    "import subprocess\n",
    "def plotdgraph(g, fname):\n",
    "    start=\"\"\"\n",
    "    digraph G {\n",
    "    nodesep=0.9;\n",
    "    ranksep=0.6;\n",
    "    margin=0.1;\n",
    "    rankdir=LR;\n",
    "    node [shape=circle];\n",
    "    edge [arrowsize=0.8];\n",
    "    \"\"\"\n",
    "    end = \"}\"\n",
    "    lines=\"\"\n",
    "    labeldict={}\n",
    "    for f in g:\n",
    "        for t in f.connections:\n",
    "            lines = lines + \"\\\"{}\\\" -> \\\"{}\\\";\\n\".format(f.idee,t.idee)\n",
    "    end=\"\\n\"+end\n",
    "    start = start + lines +end\n",
    "    with open(fname+\".dot\",\"w\") as fd:\n",
    "        fd.write(start)\n",
    "    subprocess.call(['./graphplot.sh', fname])\n",
    "    return Image(fname+\".png\")"
   ]
  },
  {
   "cell_type": "code",
   "execution_count": 97,
   "metadata": {
    "collapsed": true
   },
   "outputs": [],
   "source": [
    "from IPython.display import Image\n",
    "import subprocess\n",
    "def plotugraph(g, fname):\n",
    "    start=\"\"\"\n",
    "    graph G {\n",
    "    nodesep=0.9;\n",
    "    ranksep=0.6;\n",
    "    sep=0.5;\n",
    "    margin=0.1;\n",
    "    rankdir=LR;\n",
    "    node [shape=circle];\n",
    "    edge [arrowsize=10];\n",
    "    \"\"\"\n",
    "    end = \"}\"\n",
    "    lines=\"\"\n",
    "    labeldict={}\n",
    "    for f in g:\n",
    "        for t in f.connections:\n",
    "            if not \"{}-{}\".format(f.idee, t.idee) in labeldict:\n",
    "                lines = lines + \"\\\"{}\\\" -- \\\"{}\\\";\\n\".format(f.idee,t.idee)\n",
    "                labeldict[\"{}-{}\".format(f.idee, t.idee)]=True\n",
    "                labeldict[\"{}-{}\".format(t.idee, f.idee)]=True\n",
    "            #if not \"{}-{}\".format(f.idee, t.idee) in labeldict:\n",
    "            #    lines = lines + \"\\\"{}\\\" -- \\\"{}\\\"[dir=none, style=dashed];\\n\".format(f.idee,t.idee)\n",
    "    end=\"\\n\"+end\n",
    "    start = start + lines +end\n",
    "    with open(fname+\".dot\",\"w\") as fd:\n",
    "        fd.write(start)\n",
    "    subprocess.call(['./graphplot.sh', fname])\n",
    "    return Image(fname+\".png\")"
   ]
  },
  {
   "cell_type": "code",
   "execution_count": 98,
   "metadata": {
    "collapsed": false
   },
   "outputs": [],
   "source": [
    "from IPython.display import Image\n",
    "import subprocess\n",
    "def plotgraphtree(g, fname):\n",
    "    start=\"\"\"\n",
    "    digraph G {\n",
    "    nodesep=0.9;\n",
    "    ranksep=0.6;\n",
    "    margin=0.1;\n",
    "    node [shape=circle];\n",
    "    edge [arrowsize=0.8];\n",
    "    \"\"\"\n",
    "    end = \"}\"\n",
    "    lines=\"\"\n",
    "    labeldict={}\n",
    "    for av in g:\n",
    "        print(av, av.idee)\n",
    "        if av.parent != None:\n",
    "            lines = lines + \"\\\"{}\\\" -> \\\"{}\\\";\\n\".format(av.parent.idee,av.idee)\n",
    "            for x in av.connections:\n",
    "                labeldict[\"{}-{}\".format(av.idee, x.idee)]=True\n",
    "                if not \"{}-{}\".format(x.idee, av.idee) in labeldict:\n",
    "                    lines = lines + \"\\\"{}\\\" -> \\\"{}\\\"[dir=none, style=dashed];\\n\".format(av.idee,x.idee)\n",
    "\n",
    "    end=\"\\n\"+end\n",
    "    start = start + lines +end\n",
    "    with open(fname+\".dot\",\"w\") as fd:\n",
    "        fd.write(start)\n",
    "    subprocess.call(['./graphplot.sh', fname])\n",
    "    return Image(fname+\".png\")"
   ]
  },
  {
   "cell_type": "markdown",
   "metadata": {},
   "source": [
    "### Representations\n",
    "\n",
    "1. **Adjacency Matrix**: We can represent G using an n x n matrix M, where element M[i,j] = 1 if (i,j) is an edge of G, and 0 if it isn't. Fast for membership of edges, and for edge insertion and deletion. Space hungry.\n",
    "2. **Adjacency Lists**: sparse graphs can be represented by using lists/linked lists to store the neighbors adjacent to each vertex. \n",
    "3. **list of edges**:edge lists are linear in the size of the graph (edges plus vertices), just like adjacency lists.\n",
    "\n",
    "![](http://staff.ustc.edu.cn/~csli/graduate/algorithms/book6/466_b.gif)"
   ]
  },
  {
   "cell_type": "markdown",
   "metadata": {},
   "source": [
    "### Adjacency List representation"
   ]
  },
  {
   "cell_type": "code",
   "execution_count": 99,
   "metadata": {
    "collapsed": false
   },
   "outputs": [],
   "source": [
    "class Vertex:\n",
    "    def __init__(self,key):\n",
    "        self._idee = key\n",
    "        self._clist = []\n",
    "\n",
    "    def addNeighbor(self,nbr):\n",
    "        self._clist.append(nbr)\n",
    "\n",
    "    def __repr__(self):\n",
    "        return self.__class__.__name__+\"(\"+ str(self._idee) + \\\n",
    "            ' -> ' + str([x._idee for x in self._clist])+\")\"\n",
    "\n",
    "    @property\n",
    "    def connections(self):\n",
    "        return self._clist\n",
    "\n",
    "    @property\n",
    "    def idee(self):\n",
    "        return self._idee"
   ]
  },
  {
   "cell_type": "code",
   "execution_count": 100,
   "metadata": {
    "collapsed": true
   },
   "outputs": [],
   "source": [
    "class Graph:\n",
    "    def __init__(self, directed=False, vclass = Vertex):\n",
    "        self._vertlist = {}\n",
    "        self._n = 0\n",
    "        self._directed=directed\n",
    "        self._vclass=vclass\n",
    "\n",
    "    def addVertex(self,key):\n",
    "        self._n += 1\n",
    "        nv = self._vclass(key)\n",
    "        self._vertlist[key]=nv\n",
    "        return nv\n",
    "    \n",
    "    def __len__(self):\n",
    "        return self._n\n",
    "\n",
    "    def getVertex(self,vkey):\n",
    "        if vkey in self._vertlist:\n",
    "            return self._vertlist[vkey]\n",
    "        else:\n",
    "            return None\n",
    "\n",
    "    def __contains__(self,vkey):\n",
    "        return vkey in self._vertlist\n",
    "\n",
    "    def addEdge(self,f,t):\n",
    "        if f not in self._vertlist:\n",
    "            fv = self.addVertex(f)\n",
    "        if t not in self._vertlist:\n",
    "            tv = self.addVertex(t)\n",
    "        self._vertlist[f].addNeighbor(self._vertlist[t])\n",
    "        if not self._directed:\n",
    "            self._vertlist[t].addNeighbor(self._vertlist[f])\n",
    "\n",
    "    @property\n",
    "    def directed(self):\n",
    "        return self._directed\n",
    "        \n",
    "    def __iter__(self):\n",
    "        return iter(self._vertlist.values())\n",
    "    \n",
    "    def connections(self, vkey):\n",
    "        v = self._vertlist[vkey]\n",
    "        return v.connections"
   ]
  },
  {
   "cell_type": "markdown",
   "metadata": {},
   "source": [
    "### Graphs everywhere\n",
    "\n",
    "- scheduling\n",
    "- social networks\n",
    "- mazes: what's a vertex and what's an edge?\n",
    "- moves in the Rubiks cube (this turns into an algorithm called **connected components**: is the graph of legal configurations is connected?"
   ]
  },
  {
   "cell_type": "markdown",
   "metadata": {},
   "source": [
    "### Our first undirected graph"
   ]
  },
  {
   "cell_type": "code",
   "execution_count": 101,
   "metadata": {
    "collapsed": false
   },
   "outputs": [
    {
     "data": {
      "text/plain": [
       "[Vertex(1 -> []),\n",
       " Vertex(2 -> []),\n",
       " Vertex(3 -> []),\n",
       " Vertex(4 -> []),\n",
       " Vertex(5 -> []),\n",
       " Vertex(6 -> [])]"
      ]
     },
     "execution_count": 101,
     "metadata": {},
     "output_type": "execute_result"
    }
   ],
   "source": [
    "g = Graph()\n",
    "for i in range(1,7):\n",
    "    g.addVertex(i)\n",
    "list(g)"
   ]
  },
  {
   "cell_type": "code",
   "execution_count": 102,
   "metadata": {
    "collapsed": false
   },
   "outputs": [],
   "source": [
    "g.addEdge(1,6)\n",
    "g.addEdge(1,2)\n",
    "g.addEdge(2,3)\n",
    "g.addEdge(3,4)\n",
    "g.addEdge(4,5)\n",
    "g.addEdge(2,5)\n",
    "g.addEdge(5,1)"
   ]
  },
  {
   "cell_type": "code",
   "execution_count": 103,
   "metadata": {
    "collapsed": false
   },
   "outputs": [
    {
     "data": {
      "image/png": "[encoded data removed]",
      "text/plain": [
       "<IPython.core.display.Image object>"
      ]
     },
     "execution_count": 103,
     "metadata": {},
     "output_type": "execute_result"
    }
   ],
   "source": [
    "plotugraph(g,\"small\")"
   ]
  },
  {
   "cell_type": "code",
   "execution_count": 16,
   "metadata": {
    "collapsed": false
   },
   "outputs": [
    {
     "data": {
      "text/plain": [
       "[Vertex(1 -> [6, 2, 5]),\n",
       " Vertex(2 -> [1, 3, 5]),\n",
       " Vertex(3 -> [2, 4]),\n",
       " Vertex(4 -> [3, 5]),\n",
       " Vertex(5 -> [4, 2, 1]),\n",
       " Vertex(6 -> [1])]"
      ]
     },
     "execution_count": 16,
     "metadata": {},
     "output_type": "execute_result"
    }
   ],
   "source": [
    "list(g)"
   ]
  },
  {
   "cell_type": "markdown",
   "metadata": {},
   "source": [
    "### The general idea of graph traversal\n",
    "\n",
    "- There are three states a vertex can be in **initial**, **discovered**, and **processed**.\n",
    "- initially, only thestart vertex is considered to be discovered. \n",
    "- evaluate each edge leaving this start vertex.\n",
    "- if edge goes to an undoscovered vertex v, mark it discovered. This means that it is a vertex we have to work on.\n",
    "- ignore edges going to a processed vertex, or discovered but not processed, as these will come up in the list of nodes to process from some node\n",
    "- we can go depth-first or breadth-first.\n",
    "- Each undirected edge will be considered exactly twice, once when each of its endpoints is explored. \n",
    "- Directed edges will be considered only once, when exploring the source vertex. \n"
   ]
  },
  {
   "cell_type": "code",
   "execution_count": 17,
   "metadata": {
    "collapsed": true
   },
   "outputs": [],
   "source": [
    "class AnnotatedVertex(Vertex):\n",
    "    \n",
    "    def __init__(self, key):\n",
    "        super().__init__(key)\n",
    "        self._parent = None\n",
    "        self._annotation = None\n",
    "        self.entry=0\n",
    "        self.exit=0\n",
    "\n",
    "    @property\n",
    "    def parent(self):\n",
    "        return self._parent\n",
    "    @parent.setter\n",
    "    def parent(self, v):\n",
    "        self._parent = v\n",
    "    @property\n",
    "    def status(self):\n",
    "        return self._annotation\n",
    "    \n",
    "    @property\n",
    "    def discovered(self):\n",
    "        return self._annotation=='d'\n",
    "    \n",
    "    @property\n",
    "    def processed(self):\n",
    "        return self._annotation=='p'\n",
    "        \n",
    "    def __repr__(self):\n",
    "        if self.parent==None:\n",
    "            self.parentid='null'\n",
    "        else:\n",
    "            self.parentid = self.parent._idee\n",
    "        return self.__class__.__name__+\"(\"+ str(self._idee) + \\\n",
    "            ' -> ' + str([x._idee for x in self._clist])+\", time=(\"+\\\n",
    "                str(self.entry)+\", \"+str(self.exit)+\"), parent=\"+str(self.parentid)+\")\"\n",
    "\n",
    "    def set_status(self, **kwargs):\n",
    "        if 'discovered' in kwargs and kwargs['discovered']==True:\n",
    "            self._annotation='d'\n",
    "        elif 'processed' in kwargs and kwargs['processed']==True:\n",
    "            self._annotation='p'\n",
    "        else:\n",
    "            self._annotation=None\n",
    "    "
   ]
  },
  {
   "cell_type": "code",
   "execution_count": 18,
   "metadata": {
    "collapsed": false
   },
   "outputs": [
    {
     "data": {
      "text/plain": [
       "[AnnotatedVertex(1 -> [6, 2, 5], time=(0, 0), parent=null),\n",
       " AnnotatedVertex(2 -> [1, 3, 5], time=(0, 0), parent=null),\n",
       " AnnotatedVertex(3 -> [2, 4], time=(0, 0), parent=null),\n",
       " AnnotatedVertex(4 -> [3, 5], time=(0, 0), parent=null),\n",
       " AnnotatedVertex(5 -> [4, 2, 1], time=(0, 0), parent=null),\n",
       " AnnotatedVertex(6 -> [1], time=(0, 0), parent=null)]"
      ]
     },
     "execution_count": 18,
     "metadata": {},
     "output_type": "execute_result"
    }
   ],
   "source": [
    "g = Graph(vclass=AnnotatedVertex)\n",
    "for i in range(1,7):\n",
    "    g.addVertex(i)\n",
    "g.addEdge(1,6)\n",
    "g.addEdge(1,2)\n",
    "g.addEdge(2,3)\n",
    "g.addEdge(3,4)\n",
    "g.addEdge(4,5)\n",
    "g.addEdge(2,5)\n",
    "g.addEdge(5,1)\n",
    "list(g)"
   ]
  },
  {
   "cell_type": "code",
   "execution_count": 19,
   "metadata": {
    "collapsed": false
   },
   "outputs": [
    {
     "data": {
      "text/plain": [
       "AnnotatedVertex(1 -> [6, 2, 5], time=(0, 0), parent=null)"
      ]
     },
     "execution_count": 19,
     "metadata": {},
     "output_type": "execute_result"
    }
   ],
   "source": [
    "g.getVertex(1)"
   ]
  },
  {
   "cell_type": "code",
   "execution_count": 20,
   "metadata": {
    "collapsed": false
   },
   "outputs": [],
   "source": [
    "g.getVertex(6).status"
   ]
  },
  {
   "cell_type": "markdown",
   "metadata": {},
   "source": [
    "### Breadth First Search\n",
    "\n",
    "(try implementing this yourself)\n",
    "\n",
    "- assign a direction to each edge, starung from a start point.\n",
    "- go breadth first at all the children of the start and make the start the parent.\n",
    "- repeat at the children. This defines a tree on the vertices of the graph.\n",
    "- the tree gives us a shortest path from start to every other node in the tree. \n",
    "- we find the path from an x to the start, following parent pointers."
   ]
  },
  {
   "cell_type": "markdown",
   "metadata": {},
   "source": [
    "### Depth First Search\n",
    "\n",
    "The difference between BFS and DFS results is how they explore vertices. \n",
    "\n",
    "- Queue: BFS\n",
    "- Stack or recursive: DFS\n",
    "\n",
    "The stack is implicit in our recursive implementation below.\n",
    "\n",
    "There is a notion of traversal time for each vertex: this tells us how many descendants a node has in the tree and the order in which they were processed in the DFS algorithm. Half the time difference tells us the number of descendants. This clock is used in many algorithms.\n"
   ]
  },
  {
   "cell_type": "code",
   "execution_count": 63,
   "metadata": {
    "collapsed": false
   },
   "outputs": [],
   "source": [
    "class DepthFirstSearch():\n",
    "    \n",
    "    def post_hook(self, v):\n",
    "        print('after for', v.idee)\n",
    "        print(\"Setting {} to processed\".format(v.idee))\n",
    "        \n",
    "    def edge_hook(self, start, v):\n",
    "        print('|', start.idee, start.status,'->',v.idee, v.status)\n",
    "        if v.parent is start:\n",
    "            print(start.idee,\">\", v.idee)\n",
    "        elif (not v.processed and start.parent is not v):\n",
    "            print('non-tree edge', v.processed)\n",
    "        else:\n",
    "            print(\"backward edge\", v.processed)\n",
    "    def pre_hook(self, v):\n",
    "        print(\"start is\", v.idee)\n",
    "\n",
    "    def __init__(self, graph):\n",
    "        self.time = 0\n",
    "        self.g = graph\n",
    "        self.vpre = self.pre_hook \n",
    "        self.vpost = self.post_hook\n",
    "        self.process_edge = self.edge_hook\n",
    "        self.finished = False\n",
    "        \n",
    "    def setPreVertex(self, hook):\n",
    "        hook.__get__(self, self.__class_)\n",
    "        self.vpre=hook\n",
    "        \n",
    "    def setPostVertex(self, hook):\n",
    "        self.vpost=hook\n",
    "        \n",
    "    def setEdgeProcessor(self, hook):\n",
    "        self.process_edge=hook\n",
    "        \n",
    "    def __call__(self, start):\n",
    "        if self.finished:\n",
    "            return None\n",
    "        start.set_status(discovered=True)\n",
    "        self.time += 1\n",
    "        start.entry=self.time\n",
    "        self.vpre(start)#run pre hook\n",
    "        for v in start.connections:\n",
    "            if not (v.discovered or v.processed):\n",
    "                v.parent = start\n",
    "                self.process_edge(start, v)#run edge hook\n",
    "                self(v)\n",
    "            elif (not v.processed and start.parent is not v) or g.directed:\n",
    "                self.process_edge(start, v)\n",
    "            else:\n",
    "                self.process_edge(start, v)\n",
    "            if self.finished:\n",
    "                return None\n",
    "        \n",
    "        self.vpost(start)#run post hook\n",
    "        self.time += 1\n",
    "        start.exit=self.time\n",
    "        start.set_status(processed=True)"
   ]
  },
  {
   "cell_type": "markdown",
   "metadata": {},
   "source": [
    "#### DFS for our undirected graph"
   ]
  },
  {
   "cell_type": "code",
   "execution_count": 64,
   "metadata": {
    "collapsed": false
   },
   "outputs": [
    {
     "name": "stdout",
     "output_type": "stream",
     "text": [
      "[AnnotatedVertex(1 -> [6, 2, 5], time=(0, 0), parent=null), AnnotatedVertex(2 -> [1, 3, 5], time=(0, 0), parent=null), AnnotatedVertex(3 -> [2, 4], time=(0, 0), parent=null), AnnotatedVertex(4 -> [3, 5], time=(0, 0), parent=null), AnnotatedVertex(5 -> [4, 2, 1], time=(0, 0), parent=null), AnnotatedVertex(6 -> [1], time=(0, 0), parent=null)]\n"
     ]
    }
   ],
   "source": [
    "g = Graph(vclass=AnnotatedVertex)\n",
    "for i in range(1,7):\n",
    "    g.addVertex(i)\n",
    "g.addEdge(1,6)\n",
    "g.addEdge(1,2)\n",
    "g.addEdge(2,3)\n",
    "g.addEdge(3,4)\n",
    "g.addEdge(4,5)\n",
    "g.addEdge(2,5)\n",
    "g.addEdge(5,1)\n",
    "print(list(g))"
   ]
  },
  {
   "cell_type": "code",
   "execution_count": 65,
   "metadata": {
    "collapsed": false
   },
   "outputs": [
    {
     "data": {
      "image/png": "[encoded data removed]",
      "text/plain": [
       "<IPython.core.display.Image object>"
      ]
     },
     "execution_count": 65,
     "metadata": {},
     "output_type": "execute_result"
    }
   ],
   "source": [
    "plotugraph(g, \"smallagain\")"
   ]
  },
  {
   "cell_type": "code",
   "execution_count": 66,
   "metadata": {
    "collapsed": false
   },
   "outputs": [
    {
     "name": "stdout",
     "output_type": "stream",
     "text": [
      "start is 1\n",
      "| 1 d -> 6 None\n",
      "1 > 6\n",
      "start is 6\n",
      "| 6 d -> 1 d\n",
      "backward edge False\n",
      "after for 6\n",
      "Setting 6 to processed\n",
      "| 1 d -> 2 None\n",
      "1 > 2\n",
      "start is 2\n",
      "| 2 d -> 1 d\n",
      "backward edge False\n",
      "| 2 d -> 3 None\n",
      "2 > 3\n",
      "start is 3\n",
      "| 3 d -> 2 d\n",
      "backward edge False\n",
      "| 3 d -> 4 None\n",
      "3 > 4\n",
      "start is 4\n",
      "| 4 d -> 3 d\n",
      "backward edge False\n",
      "| 4 d -> 5 None\n",
      "4 > 5\n",
      "start is 5\n",
      "| 5 d -> 4 d\n",
      "backward edge False\n",
      "| 5 d -> 2 d\n",
      "non-tree edge False\n",
      "| 5 d -> 1 d\n",
      "non-tree edge False\n",
      "after for 5\n",
      "Setting 5 to processed\n",
      "after for 4\n",
      "Setting 4 to processed\n",
      "after for 3\n",
      "Setting 3 to processed\n",
      "| 2 d -> 5 p\n",
      "backward edge True\n",
      "after for 2\n",
      "Setting 2 to processed\n",
      "| 1 d -> 5 p\n",
      "backward edge True\n",
      "after for 1\n",
      "Setting 1 to processed\n"
     ]
    }
   ],
   "source": [
    "dfs=DepthFirstSearch(g)\n",
    "dfs(g.getVertex(1))"
   ]
  },
  {
   "cell_type": "code",
   "execution_count": 67,
   "metadata": {
    "collapsed": false
   },
   "outputs": [
    {
     "data": {
      "text/plain": [
       "[AnnotatedVertex(1 -> [6, 2, 5], time=(1, 12), parent=null),\n",
       " AnnotatedVertex(2 -> [1, 3, 5], time=(4, 11), parent=1),\n",
       " AnnotatedVertex(3 -> [2, 4], time=(5, 10), parent=2),\n",
       " AnnotatedVertex(4 -> [3, 5], time=(6, 9), parent=3),\n",
       " AnnotatedVertex(5 -> [4, 2, 1], time=(7, 8), parent=4),\n",
       " AnnotatedVertex(6 -> [1], time=(2, 3), parent=1)]"
      ]
     },
     "execution_count": 67,
     "metadata": {},
     "output_type": "execute_result"
    }
   ],
   "source": [
    "list(g)"
   ]
  },
  {
   "cell_type": "code",
   "execution_count": 68,
   "metadata": {
    "collapsed": false
   },
   "outputs": [
    {
     "name": "stdout",
     "output_type": "stream",
     "text": [
      "AnnotatedVertex(1 -> [6, 2, 5], time=(1, 12), parent=null) 1\n",
      "AnnotatedVertex(2 -> [1, 3, 5], time=(4, 11), parent=1) 2\n",
      "AnnotatedVertex(3 -> [2, 4], time=(5, 10), parent=2) 3\n",
      "AnnotatedVertex(4 -> [3, 5], time=(6, 9), parent=3) 4\n",
      "AnnotatedVertex(5 -> [4, 2, 1], time=(7, 8), parent=4) 5\n",
      "AnnotatedVertex(6 -> [1], time=(2, 3), parent=1) 6\n"
     ]
    },
    {
     "data": {
      "image/png": "[encoded data removed]",
      "text/plain": [
       "<IPython.core.display.Image object>"
      ]
     },
     "execution_count": 68,
     "metadata": {},
     "output_type": "execute_result"
    }
   ],
   "source": [
    "plotgraphtree(g, \"smalltree\")"
   ]
  },
  {
   "cell_type": "markdown",
   "metadata": {},
   "source": [
    "### Cycles\n",
    "\n",
    "If there is no back edge like 5-> 1 above, all edges are tree edges, and no cycle exists in a tree. Then, say you started at `x`:\n",
    "\n",
    "`y.discovered and x.parent !=y` implies cycle (since you got to x from y)"
   ]
  },
  {
   "cell_type": "code",
   "execution_count": 71,
   "metadata": {
    "collapsed": true
   },
   "outputs": [],
   "source": [
    "def find_path(f, t):#maybe should be in graph class\n",
    "    if t is not None:\n",
    "        find_path(f, t.parent)\n",
    "        print(t.idee)"
   ]
  },
  {
   "cell_type": "code",
   "execution_count": 72,
   "metadata": {
    "collapsed": true
   },
   "outputs": [],
   "source": [
    "class CycleFindingDFS(DepthFirstSearch):\n",
    "    \n",
    "    def pre_hook(self, v):\n",
    "        pass\n",
    "    \n",
    "    def post_hook(self, v):\n",
    "        pass\n",
    "    \n",
    "    def edge_hook(self, f, t):\n",
    "        if t.discovered and f.parent is not t:\n",
    "            print(\"Found cycle from {} to {}\".format(f.idee, t.idee))\n",
    "            print(\"Start at {}\".format(f.idee))\n",
    "            find_path(f,t)\n",
    "            self.finished=True"
   ]
  },
  {
   "cell_type": "code",
   "execution_count": 73,
   "metadata": {
    "collapsed": true
   },
   "outputs": [],
   "source": [
    "g = Graph(vclass=AnnotatedVertex)\n",
    "for i in range(1,7):\n",
    "    g.addVertex(i)\n",
    "g.addEdge(1,6)\n",
    "g.addEdge(1,2)\n",
    "g.addEdge(2,3)\n",
    "g.addEdge(3,4)\n",
    "g.addEdge(4,5)\n",
    "g.addEdge(2,5)\n",
    "g.addEdge(5,1)\n",
    "dfs2 = CycleFindingDFS(g)"
   ]
  },
  {
   "cell_type": "code",
   "execution_count": 74,
   "metadata": {
    "collapsed": false
   },
   "outputs": [
    {
     "name": "stdout",
     "output_type": "stream",
     "text": [
      "Found cycle from 5 to 2\n",
      "Start at 5\n",
      "1\n",
      "2\n"
     ]
    }
   ],
   "source": [
    "dfs2(g.getVertex(1))"
   ]
  },
  {
   "cell_type": "code",
   "execution_count": 75,
   "metadata": {
    "collapsed": false
   },
   "outputs": [
    {
     "name": "stdout",
     "output_type": "stream",
     "text": [
      "AnnotatedVertex(1 -> [6, 2, 5], time=(1, 0), parent=null) 1\n",
      "AnnotatedVertex(2 -> [1, 3, 5], time=(4, 0), parent=1) 2\n",
      "AnnotatedVertex(3 -> [2, 4], time=(5, 0), parent=2) 3\n",
      "AnnotatedVertex(4 -> [3, 5], time=(6, 0), parent=3) 4\n",
      "AnnotatedVertex(5 -> [4, 2, 1], time=(7, 0), parent=4) 5\n",
      "AnnotatedVertex(6 -> [1], time=(2, 3), parent=1) 6\n"
     ]
    },
    {
     "data": {
      "image/png": "[encoded data removed]",
      "text/plain": [
       "<IPython.core.display.Image object>"
      ]
     },
     "execution_count": 75,
     "metadata": {},
     "output_type": "execute_result"
    }
   ],
   "source": [
    "plotgraphtree(g, \"cycle\")"
   ]
  },
  {
   "cell_type": "markdown",
   "metadata": {},
   "source": [
    "### Directed Graphs\n",
    "\n",
    "The critical difference in the traversal comes from how we encoded the adjacency list: directed edges will be considered only once, when exploring the source vertex. "
   ]
  },
  {
   "cell_type": "markdown",
   "metadata": {},
   "source": [
    "### Edge Classification\n",
    "\n",
    "For directed graphs, depth-first search labelings have many more possibilities:\n",
    "\n",
    "From Skiena:\n",
    "\n",
    "![](dirposs.png)"
   ]
  },
  {
   "cell_type": "code",
   "execution_count": 104,
   "metadata": {
    "collapsed": false
   },
   "outputs": [
    {
     "name": "stdout",
     "output_type": "stream",
     "text": [
      "[AnnotatedVertex(1 -> [6, 2], time=(0, 0), parent=null), AnnotatedVertex(2 -> [3, 5], time=(0, 0), parent=null), AnnotatedVertex(3 -> [4], time=(0, 0), parent=null), AnnotatedVertex(4 -> [5], time=(0, 0), parent=null), AnnotatedVertex(5 -> [1], time=(0, 0), parent=null), AnnotatedVertex(6 -> [], time=(0, 0), parent=null)]\n"
     ]
    }
   ],
   "source": [
    "g = Graph(vclass=AnnotatedVertex, directed=True)\n",
    "for i in range(1,7):\n",
    "    g.addVertex(i)\n",
    "g.addEdge(1,6)\n",
    "g.addEdge(1,2)\n",
    "g.addEdge(2,3)\n",
    "g.addEdge(3,4)\n",
    "g.addEdge(4,5)\n",
    "g.addEdge(2,5)\n",
    "g.addEdge(5,1)\n",
    "print(list(g))"
   ]
  },
  {
   "cell_type": "code",
   "execution_count": 105,
   "metadata": {
    "collapsed": false
   },
   "outputs": [
    {
     "data": {
      "image/png": "[encoded data removed]",
      "text/plain": [
       "<IPython.core.display.Image object>"
      ]
     },
     "execution_count": 105,
     "metadata": {},
     "output_type": "execute_result"
    }
   ],
   "source": [
    "plotdgraph(g, \"nearlyadag\")"
   ]
  },
  {
   "cell_type": "code",
   "execution_count": 106,
   "metadata": {
    "collapsed": false
   },
   "outputs": [],
   "source": [
    "class EdgeClassifyingDFS(DepthFirstSearch):\n",
    "    \n",
    "    def pre_hook(self, v):\n",
    "        #print(\"PRE\", v.idee)\n",
    "        pass\n",
    "    \n",
    "    def post_hook(self, v):\n",
    "        #print(\"POST\", v.idee)\n",
    "        pass\n",
    "    \n",
    "    def edge_hook(self, f, t):\n",
    "        print(f.idee, t.idee)\n",
    "        if t.parent is f:\n",
    "            r = \"{} TREE {}\".format(f.idee, t.idee)\n",
    "            print(r)\n",
    "            return r\n",
    "        if t.discovered and not t.processed:\n",
    "            r = \"{} BACK {}\".format(f.idee, t.idee)\n",
    "            print(r)\n",
    "            return r\n",
    "        if t.processed and t.entry > f.entry:\n",
    "            r = \"{} FORWARD {}\".format(f.idee, t.idee)\n",
    "            print(r)\n",
    "            return r\n",
    "        if t.processed and t.entry < f.entry:\n",
    "            r = \"{} CROSS {}\".format(f.idee, t.idee)\n",
    "            print(r)\n",
    "            return r\n",
    "        print(\"BLA\", )\n",
    "        "
   ]
  },
  {
   "cell_type": "code",
   "execution_count": 107,
   "metadata": {
    "collapsed": false
   },
   "outputs": [
    {
     "name": "stdout",
     "output_type": "stream",
     "text": [
      "1 6\n",
      "1 TREE 6\n",
      "1 2\n",
      "1 TREE 2\n",
      "2 3\n",
      "2 TREE 3\n",
      "3 4\n",
      "3 TREE 4\n",
      "4 5\n",
      "4 TREE 5\n",
      "5 1\n",
      "5 BACK 1\n",
      "2 5\n",
      "2 FORWARD 5\n"
     ]
    }
   ],
   "source": [
    "dfsc=EdgeClassifyingDFS(g)\n",
    "dfsc(g.getVertex(1))"
   ]
  },
  {
   "cell_type": "code",
   "execution_count": 108,
   "metadata": {
    "collapsed": false
   },
   "outputs": [
    {
     "data": {
      "text/plain": [
       "[AnnotatedVertex(1 -> [6, 2], time=(1, 12), parent=null),\n",
       " AnnotatedVertex(2 -> [3, 5], time=(4, 11), parent=1),\n",
       " AnnotatedVertex(3 -> [4], time=(5, 10), parent=2),\n",
       " AnnotatedVertex(4 -> [5], time=(6, 9), parent=3),\n",
       " AnnotatedVertex(5 -> [1], time=(7, 8), parent=4),\n",
       " AnnotatedVertex(6 -> [], time=(2, 3), parent=1)]"
      ]
     },
     "execution_count": 108,
     "metadata": {},
     "output_type": "execute_result"
    }
   ],
   "source": [
    "list(g)"
   ]
  },
  {
   "cell_type": "markdown",
   "metadata": {},
   "source": [
    "### DAGs\n",
    "\n",
    "**A directed graph is a DAG if and only if no back edges are encountered.**"
   ]
  },
  {
   "cell_type": "code",
   "execution_count": 109,
   "metadata": {
    "collapsed": false
   },
   "outputs": [
    {
     "name": "stdout",
     "output_type": "stream",
     "text": [
      "[AnnotatedVertex(1 -> [6, 2], time=(0, 0), parent=null), AnnotatedVertex(2 -> [3, 5], time=(0, 0), parent=null), AnnotatedVertex(3 -> [4], time=(0, 0), parent=null), AnnotatedVertex(4 -> [5], time=(0, 0), parent=null), AnnotatedVertex(5 -> [], time=(0, 0), parent=null), AnnotatedVertex(6 -> [], time=(0, 0), parent=null)]\n"
     ]
    }
   ],
   "source": [
    "dag = Graph(vclass=AnnotatedVertex, directed=True)\n",
    "for i in range(1,7):\n",
    "    dag.addVertex(i)\n",
    "dag.addEdge(1,6)\n",
    "dag.addEdge(1,2)\n",
    "dag.addEdge(2,3)\n",
    "dag.addEdge(3,4)\n",
    "dag.addEdge(4,5)\n",
    "dag.addEdge(2,5)\n",
    "print(list(dag))"
   ]
  },
  {
   "cell_type": "code",
   "execution_count": 110,
   "metadata": {
    "collapsed": false
   },
   "outputs": [
    {
     "data": {
      "image/png": "[encoded data removed]",
      "text/plain": [
       "<IPython.core.display.Image object>"
      ]
     },
     "execution_count": 110,
     "metadata": {},
     "output_type": "execute_result"
    }
   ],
   "source": [
    "plotdgraph(dag,\"dag1\")"
   ]
  },
  {
   "cell_type": "markdown",
   "metadata": {},
   "source": [
    "### Toposort or Linear Extension\n",
    "\n",
    "From Skiena:\n",
    "Topological sorting  is the most important operation on directed acyclic graphs (DAGs). It orders the vertices on a line such that all directed edges go from left to right. Such an ordering cannot exist if the graph contains a directed cycle, because there is no way you can keep going right on a line and still return back to where you started from!\n",
    "\n",
    "Each DAG has at least one topological sort. The importance of topological sorting is that it gives us an ordering to process each vertex before any of its successors. Suppose the edges represented precedence constraints, such that edge (x, y) means job x must be done before job y. Then, any topological sort defines a legal schedule. Indeed, there can be many such orderings for a given DAG.\n",
    "\n",
    "**Labeling the vertices in the reverse order that they are marked processed finds a topological sort of a DAG**. This means that if we order the vertices by DFS finishing time we get our linear extension\n",
    "\n"
   ]
  },
  {
   "cell_type": "code",
   "execution_count": 111,
   "metadata": {
    "collapsed": false
   },
   "outputs": [],
   "source": [
    "class ToposortDFS(DepthFirstSearch):\n",
    "    \n",
    "    def __init__(self, g):\n",
    "        super().__init__(g)\n",
    "        self.stack=[]\n",
    "    \n",
    "    def pre_hook(self, v):\n",
    "        #print(\"PRE\", v.idee)\n",
    "        print('----entering----'+str(v.idee))\n",
    "    \n",
    "    def post_hook(self, v):\n",
    "        print(\"POST\", str(v.idee))\n",
    "        self.stack.append(v)\n",
    "    \n",
    "    def edge_hook(self, f, t):\n",
    "        print(f.idee, t.idee)\n",
    "        if t.parent is f:\n",
    "            r = \"{} TREE {}\".format(f.idee, t.idee)\n",
    "            print(r)\n",
    "            return r\n",
    "        if t.discovered and not t.processed:\n",
    "            r = \"{} BACK {}\".format(f.idee, t.idee)\n",
    "            print(\"WARNING: NOT A DAG\", r)\n",
    "            return r\n",
    "        if t.processed and t.entry > f.entry:\n",
    "            r = \"{} FORWARD {}\".format(f.idee, t.idee)\n",
    "            print(r)\n",
    "            return r\n",
    "        if t.processed and t.entry < f.entry:\n",
    "            r = \"{} CROSS {}\".format(f.idee, t.idee)\n",
    "            print(r)\n",
    "            return r\n",
    "        print(\"BLA\" )\n",
    "        "
   ]
  },
  {
   "cell_type": "code",
   "execution_count": 112,
   "metadata": {
    "collapsed": true
   },
   "outputs": [],
   "source": [
    "def toposort(g):\n",
    "    dagdfs=ToposortDFS(g)\n",
    "    for v in g:\n",
    "        print(\"=========For {}\".format(v.idee))\n",
    "        if not (v.discovered or v.processed):\n",
    "            print(\"dagging\", v.idee)\n",
    "            dagdfs(v)\n",
    "    return dagdfs.stack"
   ]
  },
  {
   "cell_type": "code",
   "execution_count": 113,
   "metadata": {
    "collapsed": false
   },
   "outputs": [
    {
     "name": "stdout",
     "output_type": "stream",
     "text": [
      "=========For 1\n",
      "dagging 1\n",
      "----entering----1\n",
      "1 6\n",
      "1 TREE 6\n",
      "----entering----6\n",
      "POST 6\n",
      "1 2\n",
      "1 TREE 2\n",
      "----entering----2\n",
      "2 3\n",
      "2 TREE 3\n",
      "----entering----3\n",
      "3 4\n",
      "3 TREE 4\n",
      "----entering----4\n",
      "4 5\n",
      "4 TREE 5\n",
      "----entering----5\n",
      "POST 5\n",
      "POST 4\n",
      "POST 3\n",
      "2 5\n",
      "2 FORWARD 5\n",
      "POST 2\n",
      "POST 1\n",
      "=========For 2\n",
      "=========For 3\n",
      "=========For 4\n",
      "=========For 5\n",
      "=========For 6\n"
     ]
    },
    {
     "data": {
      "text/plain": [
       "[AnnotatedVertex(6 -> [], time=(2, 3), parent=1),\n",
       " AnnotatedVertex(5 -> [], time=(7, 8), parent=4),\n",
       " AnnotatedVertex(4 -> [5], time=(6, 9), parent=3),\n",
       " AnnotatedVertex(3 -> [4], time=(5, 10), parent=2),\n",
       " AnnotatedVertex(2 -> [3, 5], time=(4, 11), parent=1),\n",
       " AnnotatedVertex(1 -> [6, 2], time=(1, 12), parent=null)]"
      ]
     },
     "execution_count": 113,
     "metadata": {},
     "output_type": "execute_result"
    }
   ],
   "source": [
    "toposort(dag)"
   ]
  },
  {
   "cell_type": "code",
   "execution_count": 114,
   "metadata": {
    "collapsed": false
   },
   "outputs": [
    {
     "data": {
      "text/plain": [
       "[AnnotatedVertex(1 -> [6, 2], time=(1, 12), parent=null),\n",
       " AnnotatedVertex(2 -> [3, 5], time=(4, 11), parent=1),\n",
       " AnnotatedVertex(3 -> [4], time=(5, 10), parent=2),\n",
       " AnnotatedVertex(4 -> [5], time=(6, 9), parent=3),\n",
       " AnnotatedVertex(5 -> [], time=(7, 8), parent=4),\n",
       " AnnotatedVertex(6 -> [], time=(2, 3), parent=1)]"
      ]
     },
     "execution_count": 114,
     "metadata": {},
     "output_type": "execute_result"
    }
   ],
   "source": [
    "list(dag)"
   ]
  },
  {
   "cell_type": "markdown",
   "metadata": {},
   "source": [
    "### A more involved graph"
   ]
  },
  {
   "cell_type": "code",
   "execution_count": 115,
   "metadata": {
    "collapsed": false
   },
   "outputs": [
    {
     "name": "stdout",
     "output_type": "stream",
     "text": [
      "[AnnotatedVertex(b -> ['e'], time=(0, 0), parent=null), AnnotatedVertex(h -> ['i'], time=(0, 0), parent=null), AnnotatedVertex(j -> ['m'], time=(0, 0), parent=null), AnnotatedVertex(l -> [], time=(0, 0), parent=null), AnnotatedVertex(g -> ['k', 'm'], time=(0, 0), parent=null), AnnotatedVertex(a -> ['b', 'c', 'h', 'i'], time=(0, 0), parent=null), AnnotatedVertex(f -> ['j'], time=(0, 0), parent=null), AnnotatedVertex(e -> ['f'], time=(0, 0), parent=null), AnnotatedVertex(k -> ['l'], time=(0, 0), parent=null), AnnotatedVertex(i -> ['j'], time=(0, 0), parent=null), AnnotatedVertex(m -> [], time=(0, 0), parent=null), AnnotatedVertex(c -> ['d', 'e'], time=(0, 0), parent=null), AnnotatedVertex(d -> ['f'], time=(0, 0), parent=null)]\n"
     ]
    }
   ],
   "source": [
    "dag = Graph(vclass=AnnotatedVertex, directed=True)\n",
    "for i in 'abcdefghijklm':\n",
    "    dag.addVertex(i)\n",
    "dag.addEdge('a','b')\n",
    "dag.addEdge('a','c')\n",
    "dag.addEdge('c','d')\n",
    "dag.addEdge('c','e')\n",
    "dag.addEdge('b','e')\n",
    "dag.addEdge('d','f')\n",
    "dag.addEdge('e','f')\n",
    "dag.addEdge('f','j')\n",
    "dag.addEdge('a','h')\n",
    "dag.addEdge('a','i')\n",
    "dag.addEdge('h','i')\n",
    "dag.addEdge('i','j')\n",
    "dag.addEdge('j','m')\n",
    "dag.addEdge('g','k')\n",
    "dag.addEdge('k','l')\n",
    "dag.addEdge('g','m')\n",
    "\n",
    "\n",
    "\n",
    "\n",
    "\n",
    "print(list(dag))"
   ]
  },
  {
   "cell_type": "code",
   "execution_count": 116,
   "metadata": {
    "collapsed": false
   },
   "outputs": [
    {
     "data": {
      "image/png": "[encoded data removed]",
      "text/plain": [
       "<IPython.core.display.Image object>"
      ]
     },
     "execution_count": 116,
     "metadata": {},
     "output_type": "execute_result"
    }
   ],
   "source": [
    "plotdgraph(dag, \"dag2\")"
   ]
  },
  {
   "cell_type": "code",
   "execution_count": 117,
   "metadata": {
    "collapsed": false
   },
   "outputs": [
    {
     "name": "stdout",
     "output_type": "stream",
     "text": [
      "=========For b\n",
      "dagging b\n",
      "----entering----b\n",
      "b e\n",
      "b TREE e\n",
      "----entering----e\n",
      "e f\n",
      "e TREE f\n",
      "----entering----f\n",
      "f j\n",
      "f TREE j\n",
      "----entering----j\n",
      "j m\n",
      "j TREE m\n",
      "----entering----m\n",
      "POST m\n",
      "POST j\n",
      "POST f\n",
      "POST e\n",
      "POST b\n",
      "=========For h\n",
      "dagging h\n",
      "----entering----h\n",
      "h i\n",
      "h TREE i\n",
      "----entering----i\n",
      "i j\n",
      "i CROSS j\n",
      "POST i\n",
      "POST h\n",
      "=========For j\n",
      "=========For l\n",
      "dagging l\n",
      "----entering----l\n",
      "POST l\n",
      "=========For g\n",
      "dagging g\n",
      "----entering----g\n",
      "g k\n",
      "g TREE k\n",
      "----entering----k\n",
      "k l\n",
      "k CROSS l\n",
      "POST k\n",
      "g m\n",
      "g CROSS m\n",
      "POST g\n",
      "=========For a\n",
      "dagging a\n",
      "----entering----a\n",
      "a b\n",
      "a CROSS b\n",
      "a c\n",
      "a TREE c\n",
      "----entering----c\n",
      "c d\n",
      "c TREE d\n",
      "----entering----d\n",
      "d f\n",
      "d CROSS f\n",
      "POST d\n",
      "c e\n",
      "c CROSS e\n",
      "POST c\n",
      "a h\n",
      "a CROSS h\n",
      "a i\n",
      "a CROSS i\n",
      "POST a\n",
      "=========For f\n",
      "=========For e\n",
      "=========For k\n",
      "=========For i\n",
      "=========For m\n",
      "=========For c\n",
      "=========For d\n"
     ]
    },
    {
     "data": {
      "text/plain": [
       "[AnnotatedVertex(m -> [], time=(5, 6), parent=j),\n",
       " AnnotatedVertex(j -> ['m'], time=(4, 7), parent=f),\n",
       " AnnotatedVertex(f -> ['j'], time=(3, 8), parent=e),\n",
       " AnnotatedVertex(e -> ['f'], time=(2, 9), parent=b),\n",
       " AnnotatedVertex(b -> ['e'], time=(1, 10), parent=null),\n",
       " AnnotatedVertex(i -> ['j'], time=(12, 13), parent=h),\n",
       " AnnotatedVertex(h -> ['i'], time=(11, 14), parent=null),\n",
       " AnnotatedVertex(l -> [], time=(15, 16), parent=null),\n",
       " AnnotatedVertex(k -> ['l'], time=(18, 19), parent=g),\n",
       " AnnotatedVertex(g -> ['k', 'm'], time=(17, 20), parent=null),\n",
       " AnnotatedVertex(d -> ['f'], time=(23, 24), parent=c),\n",
       " AnnotatedVertex(c -> ['d', 'e'], time=(22, 25), parent=a),\n",
       " AnnotatedVertex(a -> ['b', 'c', 'h', 'i'], time=(21, 26), parent=null)]"
      ]
     },
     "execution_count": 117,
     "metadata": {},
     "output_type": "execute_result"
    }
   ],
   "source": [
    "toposort(dag)"
   ]
  }
 ],
 "metadata": {
  "kernelspec": {
   "display_name": "Python 3",
   "language": "python",
   "name": "python3"
  },
  "language_info": {
   "codemirror_mode": {
    "name": "ipython",
    "version": 3
   },
   "file_extension": ".py",
   "mimetype": "text/x-python",
   "name": "python",
   "nbconvert_exporter": "python",
   "pygments_lexer": "ipython3",
   "version": "3.5.1"
  }
 },
 "nbformat": 4,
 "nbformat_minor": 0
}
