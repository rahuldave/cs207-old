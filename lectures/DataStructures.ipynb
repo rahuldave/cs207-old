{
 "cells": [
  {
   "cell_type": "markdown",
   "metadata": {
    "slideshow": {
     "slide_type": "slide"
    }
   },
   "source": [
    "## Data Structures: Memory Allocation and Lists\n",
    "\n",
    "> Changing a data structure in a slow program can work the same way an organ transplant does in a sick patient. Important classes of abstract data types such as containers, dictionaries, and priority queues, have many different but functionally equivalent data structures that implement them. Changing the data structure does not change the correctness of the program, since we presumably replace a correct implementation with a different correct implementation. However, the new implementation mentation of the data type realizes different tradeoffs in the time to execute various operations, so the total performance can improve dramatically. Like a patient in need of a transplant, only one part might need to be replaced in order to fix the problem.\n",
    "\n",
    "Steven S Skiena. The Algorithm Design Manual "
   ]
  },
  {
   "cell_type": "markdown",
   "metadata": {
    "slideshow": {
     "slide_type": "slide"
    }
   },
   "source": [
    "## Process address space\n",
    "\n",
    "Let's start by understanding what we mean when we say a program is \"in memory.\" As you've already learned, a C program is compiled to an executable binary, which contains the instructions that the machine will execute. In order to actually run the program, this compiled code must be loaded from disk into memory. In addition, once your program starts, it must create space for the variables it will use, and it must store and read values from those variables. The code, the reserved space, and the generated data all constitute a program's memory footprint.\n",
    "\n"
   ]
  },
  {
   "cell_type": "markdown",
   "metadata": {
    "slideshow": {
     "slide_type": "slide"
    }
   },
   "source": [
    "Every operating system has a (different) convention for exactly where and how these different resources are actually laid out in memory. (These conventions are called object file formats, where \"object file\" in this context refers to the semi-finished intermediate files that a compiler produces, not to be confused with objects as instances of class data types in languages like Python or C++.) In Linux, the most common object format is called ELF, short for \"Executable and Linkable Format\", and we'll use that as an example here, but most object file formats have very similar concepts.\n",
    "\n",
    "By using program analysis tools, we can actually take a sample program and compute the (relative) addresses for all its different pieces. A simplified view of our example program looks like this in memory:the stack and the heap"
   ]
  },
  {
   "cell_type": "markdown",
   "metadata": {
    "slideshow": {
     "slide_type": "slide"
    }
   },
   "source": [
    "![](https://raw.githubusercontent.com/iacs-cs207/cs207/gh-pages/lectures/f01/segments.png)"
   ]
  },
  {
   "cell_type": "markdown",
   "metadata": {
    "slideshow": {
     "slide_type": "slide"
    }
   },
   "source": [
    "### The Stack\n",
    "\n",
    "The stack keeps track of function calls and their data. Whenever a function is called, a new chunk of memory is reserved at the top of the stack in order to store variables for that function. This includes variables that you have defined inside your function and function parameters, but it also includes data that were generated automatically by the compiler. The most recognizable value in this latter category is the return address. When a function calls return, the computer starts executing instructions at the location the function was originally called from, and the return address is what lets the computer know where it left off. Additionally, when a function returns, it removes its stack frame from the stack. This means that at any given point, the stack contains a record of which functions the program is currently in. When you run backtrace in gdb, this is exactly the information it's telling you."
   ]
  },
  {
   "cell_type": "markdown",
   "metadata": {
    "slideshow": {
     "slide_type": "slide"
    }
   },
   "source": [
    "### The Heap\n",
    "\n",
    "This is a problem if you want to create space for variables and then access them after the function returns. What we really need is another memory location which is not reclaimed after a function returns. That's what the heap is for. The heap is explicitly managed, which means that in order to allocate a variable in it, you need to ask. What's more, when you're finished with that space, you need to say so. This interface, explicitly requesting and releasing memory from the heap, is typically called memory management.\n",
    "\n"
   ]
  },
  {
   "cell_type": "markdown",
   "metadata": {
    "slideshow": {
     "slide_type": "slide"
    }
   },
   "source": [
    "### Simple arrays and memory management in C"
   ]
  },
  {
   "cell_type": "code",
   "execution_count": 338,
   "metadata": {
    "collapsed": false,
    "slideshow": {
     "slide_type": "fragment"
    }
   },
   "outputs": [
    {
     "name": "stdout",
     "output_type": "stream",
     "text": [
      "Overwriting simple.c\n"
     ]
    }
   ],
   "source": [
    "%%file simple.c\n",
    "#include <stdlib.h>\n",
    "#include <stdio.h>\n",
    "\n",
    "int* just_a_func(){\n",
    "    int *heapintlist;\n",
    "    int i;\n",
    "    int stackintlist[3]; /*Allocate in this functions frame on stack*/\n",
    "    heapintlist = (int *) malloc(3*sizeof(int)); /*Allocate on heap*/\n",
    "    for (i = 0; i < 3; i++) {\n",
    "        stackintlist[i] = i;\n",
    "        heapintlist[i] =i;\n",
    "    }\n",
    "    for (i = 0; i < 3; i++) {\n",
    "        printf(\"stackintlist %d\\n\",stackintlist[i]);\n",
    "        printf(\"heapintlist %d :  %d\\n\", i, heapintlist[i]);\n",
    "    }\n",
    "    return heapintlist; /*stackintlist unallocated here */\n",
    "}\n",
    "int main() {\n",
    "    int* heapintlist;\n",
    "    int i;\n",
    "    \n",
    "    heapintlist=just_a_func();\n",
    "    for (i = 0; i < 3; i++) {\n",
    "        heapintlist[i] =i+5;\n",
    "        printf(\"heapintlist %d :  %d\\n\", i, heapintlist[i]);\n",
    "    }\n",
    "    free(heapintlist);\n",
    "    /* garbage in &heapinlist[i] after this */\n",
    "}"
   ]
  },
  {
   "cell_type": "code",
   "execution_count": 339,
   "metadata": {
    "collapsed": false,
    "slideshow": {
     "slide_type": "slide"
    }
   },
   "outputs": [],
   "source": [
    "!gcc -o simple -g simple.c"
   ]
  },
  {
   "cell_type": "code",
   "execution_count": 340,
   "metadata": {
    "collapsed": false,
    "slideshow": {
     "slide_type": "fragment"
    }
   },
   "outputs": [
    {
     "name": "stdout",
     "output_type": "stream",
     "text": [
      "stackintlist 0\r\n",
      "heapintlist 0 :  0\r\n",
      "stackintlist 1\r\n",
      "heapintlist 1 :  1\r\n",
      "stackintlist 2\r\n",
      "heapintlist 2 :  2\r\n",
      "heapintlist 0 :  5\r\n",
      "heapintlist 1 :  6\r\n",
      "heapintlist 2 :  7\r\n"
     ]
    }
   ],
   "source": [
    "!./simple"
   ]
  },
  {
   "cell_type": "markdown",
   "metadata": {
    "slideshow": {
     "slide_type": "slide"
    }
   },
   "source": [
    "#### If you malloc, you must free\n",
    "\n",
    "Control over memory allocation is a powerful tool, but it comes with responsibilities. While the operating system will reclaim all the memory from a process after it exits (including the heap, any stack space, and all program segments), the programmer is completely responsible during the program's lifetime. So calling free on memory when you are finished with it is not particularly optional. For instance, let's say you have a web server program, and every time a page is requested, you allocated some memory on the heap but forgot to free it. As time goes on, more and more memory is reserved on the heap for you. Because C will not automatically free it up, the heap will begin to expand. Eventually, the OS will run out of physical RAM, and it will either start swapping (which is when it tries to start using disk as a back-up for memory---a death knell for performance) or simply start killing random programs to free up memory."
   ]
  },
  {
   "cell_type": "markdown",
   "metadata": {
    "slideshow": {
     "slide_type": "slide"
    }
   },
   "source": [
    "## How does Python manage memory for lists?\n",
    "\n",
    "In python, when you create a list, like so:"
   ]
  },
  {
   "cell_type": "code",
   "execution_count": 2,
   "metadata": {
    "collapsed": false,
    "slideshow": {
     "slide_type": "fragment"
    }
   },
   "outputs": [],
   "source": [
    "a=[1,2,3,4,5]"
   ]
  },
  {
   "cell_type": "markdown",
   "metadata": {
    "slideshow": {
     "slide_type": "fragment"
    }
   },
   "source": [
    "the layout in memory you get is not what you might have expected. For example, you might have expected 5 continuous integers, with some book-keeping at the beginning, either on the stack or the heap. Such a data structure is called an array, but the above is not an array of integers. "
   ]
  },
  {
   "cell_type": "markdown",
   "metadata": {
    "slideshow": {
     "slide_type": "slide"
    }
   },
   "source": [
    "#### Python objects are allocated on the heap\n",
    "\n",
    "What is it? To understand this we must first understand how an int is represented in Python. It is represented as a C structure **allocated on the heap**/\n",
    "\n",
    "The picture of this C structure looks a little bit  like this (taken from Jake Vanderplas's excellent [Why Python is Slow](https://jakevdp.github.io/blog/2014/05/09/why-python-is-slow/):\n",
    "\n",
    "![](http://jakevdp.github.io/images/cint_vs_pyint.png)"
   ]
  },
  {
   "cell_type": "markdown",
   "metadata": {
    "slideshow": {
     "slide_type": "slide"
    }
   },
   "source": [
    "On Jake's blog, he shows how this integer is represented:\n",
    "\n",
    "```C\n",
    "struct _longobject {\n",
    "    long ob_refcnt; // in PyObject_HEAD\n",
    "    PyTypeObject *ob_type; // in PyObject_HEAD\n",
    "    size_t ob_size; // in PyObject_HEAD\n",
    "    long ob_digit[1];\n",
    "};\n",
    "```\n",
    "\n",
    "Notice a reference count `ob_refcnt`? We saw earlier how the `id`'s of two variables having the same value, say 10, are the same. That id points to this structure. Its preallocated by python and kept around. Jake shows us how to poke at it.."
   ]
  },
  {
   "cell_type": "code",
   "execution_count": 341,
   "metadata": {
    "collapsed": false,
    "slideshow": {
     "slide_type": "slide"
    }
   },
   "outputs": [
    {
     "data": {
      "text/plain": [
       "IntStruct(ob_digit=5, refcount=259)"
      ]
     },
     "execution_count": 341,
     "metadata": {},
     "output_type": "execute_result"
    }
   ],
   "source": [
    "import ctypes\n",
    "\n",
    "class IntStruct(ctypes.Structure):\n",
    "    _fields_ = [(\"ob_refcnt\", ctypes.c_long),\n",
    "                (\"ob_type\", ctypes.c_void_p),\n",
    "                (\"ob_size\", ctypes.c_ulong),\n",
    "                (\"ob_digit\", ctypes.c_long)]\n",
    "    \n",
    "    def __repr__(self):\n",
    "        return (\"IntStruct(ob_digit={self.ob_digit}, \"\n",
    "                \"refcount={self.ob_refcnt})\").format(self=self)\n",
    "num = 5\n",
    "IntStruct.from_address(id(num)) # 5 is a struct allocated on heap and pointed to 200+ times!"
   ]
  },
  {
   "cell_type": "markdown",
   "metadata": {
    "slideshow": {
     "slide_type": "slide"
    }
   },
   "source": [
    "A python list is represented by this struct:\n",
    "\n",
    "```C\n",
    "typedef struct {\n",
    "    long ob_refcnt;\n",
    "    PyTypeObject *ob_type;\n",
    "    Py_ssize_t ob_size;\n",
    "    PyObject **ob_item;\n",
    "    long allocated;\n",
    "} PyListObject;\n",
    "```\n",
    "\n",
    "Notice the `PyObject**`. This points to the contents of the list. What is this a list of? This is a list of `PyObject*`.  Each of those pointers when dereferenced gives us one of the integer structure above. The `ob_size` tells us the number of items on the list.\n",
    "\n",
    "Thus this is **an array of pointers to heap allocated inststruct**s.\n",
    "\n",
    "This is illustrated next (int 1 means an instruct with digit 1)"
   ]
  },
  {
   "cell_type": "code",
   "execution_count": 343,
   "metadata": {
    "collapsed": false,
    "slideshow": {
     "slide_type": "slide"
    }
   },
   "outputs": [
    {
     "data": {
      "text/html": [
       "<iframe width=\"800\" height=\"500\" frameborder=\"0\" src=\"http://pythontutor.com/iframe-embed.html#code=def+b(%29%3A%0A++++a%3D%5B1,2,3,4,5%5D%0Aa%3D%5B1,2,3,4,5%5D%0Ab(%29&origin=opt-frontend.js&cumulative=false&heapPrimitives=true&textReferences=false&py=3&rawInputLstJSON=%5B%5D&curInstr=0&codeDivWidth=350&codeDivHeight=400\"> </iframe>"
      ],
      "text/plain": [
       "<IPython.core.display.HTML object>"
      ]
     },
     "execution_count": 343,
     "metadata": {},
     "output_type": "execute_result"
    }
   ],
   "source": [
    "HTML('<iframe width=\"800\" height=\"500\" frameborder=\"0\" src=\"http://pythontutor.com/iframe-embed.html#code=def+b(%29%3A%0A++++a%3D%5B1,2,3,4,5%5D%0Aa%3D%5B1,2,3,4,5%5D%0Ab(%29&origin=opt-frontend.js&cumulative=false&heapPrimitives=true&textReferences=false&py=3&rawInputLstJSON=%5B%5D&curInstr=0&codeDivWidth=350&codeDivHeight=400\"> </iframe>')"
   ]
  },
  {
   "cell_type": "markdown",
   "metadata": {
    "slideshow": {
     "slide_type": "slide"
    }
   },
   "source": [
    "But wait. In Python you can append to lists. Ad Infinitum (well upto VM memory). Whats a `ob_size` doing in our struct then? Turns out Python lists are implemented in something called a dynamic array!"
   ]
  },
  {
   "cell_type": "markdown",
   "metadata": {
    "slideshow": {
     "slide_type": "slide"
    }
   },
   "source": [
    "### Arrays\n",
    "\n",
    "To talk about dynamic arrays, we ought to first define a static array. This is a contiguous slab of memory of known size, such that n items (ints ot structs or whatever) can fit in. This is a great data structure. Why?\n",
    "\n",
    "- constant time index access: a[i] is O(1)...just seek i*sizeof(int) for example down\n",
    "- linear time traversal or search: 1 unit per loop iteration means O(n) in loop.\n",
    "- locality in memory: its one int after another\n",
    "\n",
    "Tuples in Python are fixed size, static arrays..\n",
    "\n"
   ]
  },
  {
   "cell_type": "markdown",
   "metadata": {
    "slideshow": {
     "slide_type": "slide"
    }
   },
   "source": [
    "But the big problem is, what if I want to add something more beyond the end of the array? Then we fall flat, so we use..\n",
    "\n",
    "### Dynamic Arrays\n",
    "\n",
    "What python does is first create a fixed size array of these `Pyobject*` pointers on the heap. Then, as you append, it uses its own algorithm to figure out when to expand the size of the array."
   ]
  },
  {
   "cell_type": "code",
   "execution_count": 7,
   "metadata": {
    "collapsed": false,
    "slideshow": {
     "slide_type": "fragment"
    }
   },
   "outputs": [
    {
     "data": {
      "text/plain": [
       "[1, 2, 3, 4, 5]"
      ]
     },
     "execution_count": 7,
     "metadata": {},
     "output_type": "execute_result"
    }
   ],
   "source": [
    "alist=[1,2,3,4]\n",
    "alist.append(5)\n",
    "alist"
   ]
  },
  {
   "cell_type": "markdown",
   "metadata": {
    "slideshow": {
     "slide_type": "slide"
    }
   },
   "source": [
    "From https://svn.python.org/projects/python/trunk/Objects/listobject.c :\n",
    "\n",
    "```C\n",
    "/* This over-allocates proportional to the list size, making room\n",
    "     * for additional growth.  The over-allocation is mild, but is\n",
    "     * enough to give linear-time amortized behavior over a long\n",
    "     * sequence of appends() in the presence of a poorly-performing\n",
    "     * system realloc().\n",
    "     * The growth pattern is:  0, 4, 8, 16, 25, 35, 46, 58, 72, 88, ...\n",
    "     */\n",
    "new_allocated = (newsize >> 3) + (newsize < 9 ? 3 : 6);\n",
    "```"
   ]
  },
  {
   "cell_type": "code",
   "execution_count": 9,
   "metadata": {
    "collapsed": false,
    "slideshow": {
     "slide_type": "fragment"
    }
   },
   "outputs": [
    {
     "data": {
      "text/plain": [
       "(64, 72, 80, 88)"
      ]
     },
     "execution_count": 9,
     "metadata": {},
     "output_type": "execute_result"
    }
   ],
   "source": [
    "import sys\n",
    "sys.getsizeof([]),sys.getsizeof([1]),sys.getsizeof([1,1]), sys.getsizeof([1,1,1])"
   ]
  },
  {
   "cell_type": "code",
   "execution_count": 344,
   "metadata": {
    "collapsed": false,
    "slideshow": {
     "slide_type": "slide"
    }
   },
   "outputs": [
    {
     "data": {
      "text/plain": [
       "64"
      ]
     },
     "execution_count": 344,
     "metadata": {},
     "output_type": "execute_result"
    }
   ],
   "source": [
    "a=[]\n",
    "sys.getsizeof(a)"
   ]
  },
  {
   "cell_type": "code",
   "execution_count": 345,
   "metadata": {
    "collapsed": false,
    "slideshow": {
     "slide_type": "fragment"
    }
   },
   "outputs": [
    {
     "data": {
      "text/plain": [
       "96"
      ]
     },
     "execution_count": 345,
     "metadata": {},
     "output_type": "execute_result"
    }
   ],
   "source": [
    "a.append(1)\n",
    "sys.getsizeof(a)"
   ]
  },
  {
   "cell_type": "code",
   "execution_count": 346,
   "metadata": {
    "collapsed": false,
    "slideshow": {
     "slide_type": "fragment"
    }
   },
   "outputs": [
    {
     "data": {
      "text/plain": [
       "96"
      ]
     },
     "execution_count": 346,
     "metadata": {},
     "output_type": "execute_result"
    }
   ],
   "source": [
    "a.append(1)\n",
    "sys.getsizeof(a)"
   ]
  },
  {
   "cell_type": "code",
   "execution_count": 347,
   "metadata": {
    "collapsed": false,
    "slideshow": {
     "slide_type": "slide"
    }
   },
   "outputs": [
    {
     "name": "stdout",
     "output_type": "stream",
     "text": [
      "[1, 1, 1]\n",
      "96\n",
      "[1, 1, 1, 1]\n",
      "96\n",
      "[1, 1, 1, 1, 1]\n",
      "128\n",
      "[1, 1, 1, 1, 1, 1]\n",
      "128\n",
      "[1, 1, 1, 1, 1, 1, 1]\n",
      "128\n",
      "[1, 1, 1, 1, 1, 1, 1, 1]\n",
      "128\n",
      "[1, 1, 1, 1, 1, 1, 1, 1, 1]\n",
      "192\n",
      "[1, 1, 1, 1, 1, 1, 1, 1, 1, 1]\n",
      "192\n",
      "[1, 1, 1, 1, 1, 1, 1, 1, 1, 1, 1]\n",
      "192\n",
      "[1, 1, 1, 1, 1, 1, 1, 1, 1, 1, 1, 1]\n",
      "192\n",
      "[1, 1, 1, 1, 1, 1, 1, 1, 1, 1, 1, 1, 1]\n",
      "192\n",
      "[1, 1, 1, 1, 1, 1, 1, 1, 1, 1, 1, 1, 1, 1]\n",
      "192\n",
      "[1, 1, 1, 1, 1, 1, 1, 1, 1, 1, 1, 1, 1, 1, 1]\n",
      "192\n",
      "[1, 1, 1, 1, 1, 1, 1, 1, 1, 1, 1, 1, 1, 1, 1, 1]\n",
      "192\n",
      "[1, 1, 1, 1, 1, 1, 1, 1, 1, 1, 1, 1, 1, 1, 1, 1, 1]\n",
      "264\n",
      "[1, 1, 1, 1, 1, 1, 1, 1, 1, 1, 1, 1, 1, 1, 1, 1, 1, 1]\n",
      "264\n"
     ]
    }
   ],
   "source": [
    "for j in range(16):\n",
    "    a.append(1)\n",
    "    print(a)\n",
    "    print(sys.getsizeof(a))"
   ]
  },
  {
   "cell_type": "markdown",
   "metadata": {
    "slideshow": {
     "slide_type": "slide"
    }
   },
   "source": [
    "### Dynamic Arrays performance\n",
    "\n",
    "Lets assume we start with a size of 1 and then double the size each time. It then takes $lg(n)$ doublings for the array to have n slots.\n",
    "\n",
    "The last n/2 numbers wouldnt move at all. The previous n/4 would have moved once, the previous n/8 twice, and so on\n",
    "\n",
    "Thus the total number of movements is \n",
    "\n",
    "$$ \\sum_{i=1}^{lg(n)} i*\\frac{n}{2^{i+1}} \\le \\frac{n}{2} \\sum_{i=1}^{\\infty} \\frac{i}{2^i} = n$$\n",
    "\n",
    "This is an amazing result. The work of reallocation is still $O(n)$ on the average, as if a single array had been allocated in advance! "
   ]
  },
  {
   "cell_type": "markdown",
   "metadata": {
    "slideshow": {
     "slide_type": "slide"
    }
   },
   "source": [
    "#### Dynamic Arrays in C\n",
    "\n",
    "Python Dynamic arrays are implemented in C.\n",
    "\n",
    "Let us make a toy implementation (based off an example from The Practice of Programming) which makes a dynamic array of integers. There is a canonical way to write such programs:\n",
    "\n",
    "- a \"header\" file (`dynamic_array.h`) which provides an interface\n",
    "- a \"c\" file (`dynamic_array.c`) which provides an implementation\n",
    "- a \"driver\" file, with a main function(`dademo.c`), that uses this implementation"
   ]
  },
  {
   "cell_type": "markdown",
   "metadata": {
    "slideshow": {
     "slide_type": "slide"
    }
   },
   "source": [
    "We first write a header file which talks about the interface we want to implement.\n",
    "\n",
    "- We construct a struct, with `upto` marking the index to which we have actual values\n",
    "- `size` marks the actual amount of space allocated for the integers\n",
    "- array is a pointer to an array of ints, allocated on the heap, that we use for our implementation\n",
    "- we allocate on the heap to persist our data thru multiple function allocations\n",
    "- `append` if the function on which reallocation will occur"
   ]
  },
  {
   "cell_type": "code",
   "execution_count": 69,
   "metadata": {
    "collapsed": false,
    "slideshow": {
     "slide_type": "slide"
    }
   },
   "outputs": [
    {
     "name": "stdout",
     "output_type": "stream",
     "text": [
      "Overwriting dynamic_array.h\n"
     ]
    }
   ],
   "source": [
    "%%file dynamic_array.h\n",
    "\n",
    "\n",
    "typedef struct DArray {\n",
    "    int upto;\n",
    "    int size;\n",
    "    int *array;\n",
    "} DArray;\n",
    "\n",
    "int DArray_init(DArray* arr);\n",
    "int append(DArray* arr, int i);\n",
    "int get(DArray* arr, int index);\n",
    "int get_index(DArray* arr, int value);\n",
    "int set(DArray* arr, int index, int value);\n",
    "int delete(DArray* arr, int value);\n",
    "void DArray_free(DArray* arr);"
   ]
  },
  {
   "cell_type": "code",
   "execution_count": 348,
   "metadata": {
    "collapsed": false,
    "slideshow": {
     "slide_type": "slide"
    }
   },
   "outputs": [
    {
     "name": "stdout",
     "output_type": "stream",
     "text": [
      "Overwriting dynamic_array.c\n"
     ]
    }
   ],
   "source": [
    "%%file dynamic_array.c\n",
    "\n",
    "\n",
    "#include <stdlib.h>\n",
    "#include <string.h>\n",
    "#include \"dynamic_array.h\"\n",
    "\n",
    "int CAPACITY_INIT = 1;\n",
    "int GROWTH_FACTOR = 2;\n",
    "\n",
    "int DArray_init(DArray* arr){\n",
    "    arr->array = (int *) malloc(CAPACITY_INIT*sizeof(int));\n",
    "    if (arr->array == NULL) {\n",
    "        return -1;\n",
    "    }\n",
    "    arr->upto = 0;\n",
    "    arr->size = CAPACITY_INIT;\n",
    "    return 1;\n",
    "}\n",
    "\n",
    "int append(DArray* arr, int i){\n",
    "    int *iptr;\n",
    "    if (arr->upto >= arr->size) {\n",
    "        /* tmp pointer needed below as if allocation failed, original array would be lost */\n",
    "        iptr = (int *) realloc(arr->array, arr->size*GROWTH_FACTOR*sizeof(int));\n",
    "        if (iptr == NULL) {\n",
    "            return -1;\n",
    "        }\n",
    "        arr->array = iptr;\n",
    "        arr->size *= GROWTH_FACTOR;\n",
    "    }\n",
    "    arr->array[arr->upto] = i;\n",
    "    return arr->upto++;\n",
    "    \n",
    "        \n",
    "}\n",
    "\n",
    "int get(DArray* arr, int index) {\n",
    "    if (index >= arr->upto || index < 0) {\n",
    "        return -1;\n",
    "    }\n",
    "    return arr->array[index];\n",
    "}\n",
    "\n",
    "int get_index(DArray* arr, int value) {\n",
    "    int i;\n",
    "    for (i=0; i< arr->upto; i++){\n",
    "        if (arr->array[i]==value) {\n",
    "            return i;\n",
    "        }\n",
    "    }\n",
    "    return -1;\n",
    "}\n",
    "\n",
    "void DArray_free(DArray *arr) {\n",
    "  free(arr->array);\n",
    "}"
   ]
  },
  {
   "cell_type": "code",
   "execution_count": 349,
   "metadata": {
    "collapsed": false,
    "slideshow": {
     "slide_type": "slide"
    }
   },
   "outputs": [
    {
     "name": "stdout",
     "output_type": "stream",
     "text": [
      "Overwriting dademo.c\n"
     ]
    }
   ],
   "source": [
    "%%file dademo.c\n",
    "\n",
    "#include <stdio.h>\n",
    "#include \"dynamic_array.h\"\n",
    "\n",
    "int main() {\n",
    "    DArray dynarray;\n",
    "    DArray_init(&dynarray);\n",
    "    printf(\"%d %d\\n\", dynarray.upto, dynarray.size);\n",
    "    int i;\n",
    "    for (i = 0; i < 200; i++) {\n",
    "        append(&dynarray, i);\n",
    "        printf(\"upto %d size %d val %d\\n\", dynarray.upto, dynarray.size, get(&dynarray, i));\n",
    "    }\n",
    "\n",
    "    for (i = 180; i < 195; i++) {\n",
    "        printf(\"val %d index %d\\n\", i, get_index(&dynarray, i));\n",
    "    }\n",
    "    DArray_free(&dynarray);\n",
    "}"
   ]
  },
  {
   "cell_type": "code",
   "execution_count": 350,
   "metadata": {
    "collapsed": false,
    "slideshow": {
     "slide_type": "slide"
    }
   },
   "outputs": [],
   "source": [
    "!gcc -o dademo dademo.c dynamic_array.c"
   ]
  },
  {
   "cell_type": "code",
   "execution_count": 351,
   "metadata": {
    "collapsed": false,
    "slideshow": {
     "slide_type": "fragment"
    }
   },
   "outputs": [
    {
     "name": "stdout",
     "output_type": "stream",
     "text": [
      "0 1\r\n",
      "upto 1 size 1 val 0\r\n",
      "upto 2 size 2 val 1\r\n",
      "upto 3 size 4 val 2\r\n",
      "upto 4 size 4 val 3\r\n",
      "upto 5 size 8 val 4\r\n",
      "upto 6 size 8 val 5\r\n",
      "upto 7 size 8 val 6\r\n",
      "upto 8 size 8 val 7\r\n",
      "upto 9 size 16 val 8\r\n",
      "upto 10 size 16 val 9\r\n",
      "upto 11 size 16 val 10\r\n",
      "upto 12 size 16 val 11\r\n",
      "upto 13 size 16 val 12\r\n",
      "upto 14 size 16 val 13\r\n",
      "upto 15 size 16 val 14\r\n",
      "upto 16 size 16 val 15\r\n",
      "upto 17 size 32 val 16\r\n",
      "upto 18 size 32 val 17\r\n",
      "upto 19 size 32 val 18\r\n",
      "upto 20 size 32 val 19\r\n",
      "upto 21 size 32 val 20\r\n",
      "upto 22 size 32 val 21\r\n",
      "upto 23 size 32 val 22\r\n",
      "upto 24 size 32 val 23\r\n",
      "upto 25 size 32 val 24\r\n",
      "upto 26 size 32 val 25\r\n",
      "upto 27 size 32 val 26\r\n",
      "upto 28 size 32 val 27\r\n",
      "upto 29 size 32 val 28\r\n",
      "upto 30 size 32 val 29\r\n",
      "upto 31 size 32 val 30\r\n",
      "upto 32 size 32 val 31\r\n",
      "upto 33 size 64 val 32\r\n",
      "upto 34 size 64 val 33\r\n",
      "upto 35 size 64 val 34\r\n",
      "upto 36 size 64 val 35\r\n",
      "upto 37 size 64 val 36\r\n",
      "upto 38 size 64 val 37\r\n",
      "upto 39 size 64 val 38\r\n",
      "upto 40 size 64 val 39\r\n",
      "upto 41 size 64 val 40\r\n",
      "upto 42 size 64 val 41\r\n",
      "upto 43 size 64 val 42\r\n",
      "upto 44 size 64 val 43\r\n",
      "upto 45 size 64 val 44\r\n",
      "upto 46 size 64 val 45\r\n",
      "upto 47 size 64 val 46\r\n",
      "upto 48 size 64 val 47\r\n",
      "upto 49 size 64 val 48\r\n",
      "upto 50 size 64 val 49\r\n",
      "upto 51 size 64 val 50\r\n",
      "upto 52 size 64 val 51\r\n",
      "upto 53 size 64 val 52\r\n",
      "upto 54 size 64 val 53\r\n",
      "upto 55 size 64 val 54\r\n",
      "upto 56 size 64 val 55\r\n",
      "upto 57 size 64 val 56\r\n",
      "upto 58 size 64 val 57\r\n",
      "upto 59 size 64 val 58\r\n",
      "upto 60 size 64 val 59\r\n",
      "upto 61 size 64 val 60\r\n",
      "upto 62 size 64 val 61\r\n",
      "upto 63 size 64 val 62\r\n",
      "upto 64 size 64 val 63\r\n",
      "upto 65 size 128 val 64\r\n",
      "upto 66 size 128 val 65\r\n",
      "upto 67 size 128 val 66\r\n",
      "upto 68 size 128 val 67\r\n",
      "upto 69 size 128 val 68\r\n",
      "upto 70 size 128 val 69\r\n",
      "upto 71 size 128 val 70\r\n",
      "upto 72 size 128 val 71\r\n",
      "upto 73 size 128 val 72\r\n",
      "upto 74 size 128 val 73\r\n",
      "upto 75 size 128 val 74\r\n",
      "upto 76 size 128 val 75\r\n",
      "upto 77 size 128 val 76\r\n",
      "upto 78 size 128 val 77\r\n",
      "upto 79 size 128 val 78\r\n",
      "upto 80 size 128 val 79\r\n",
      "upto 81 size 128 val 80\r\n",
      "upto 82 size 128 val 81\r\n",
      "upto 83 size 128 val 82\r\n",
      "upto 84 size 128 val 83\r\n",
      "upto 85 size 128 val 84\r\n",
      "upto 86 size 128 val 85\r\n",
      "upto 87 size 128 val 86\r\n",
      "upto 88 size 128 val 87\r\n",
      "upto 89 size 128 val 88\r\n",
      "upto 90 size 128 val 89\r\n",
      "upto 91 size 128 val 90\r\n",
      "upto 92 size 128 val 91\r\n",
      "upto 93 size 128 val 92\r\n",
      "upto 94 size 128 val 93\r\n",
      "upto 95 size 128 val 94\r\n",
      "upto 96 size 128 val 95\r\n",
      "upto 97 size 128 val 96\r\n",
      "upto 98 size 128 val 97\r\n",
      "upto 99 size 128 val 98\r\n",
      "upto 100 size 128 val 99\r\n",
      "upto 101 size 128 val 100\r\n",
      "upto 102 size 128 val 101\r\n",
      "upto 103 size 128 val 102\r\n",
      "upto 104 size 128 val 103\r\n",
      "upto 105 size 128 val 104\r\n",
      "upto 106 size 128 val 105\r\n",
      "upto 107 size 128 val 106\r\n",
      "upto 108 size 128 val 107\r\n",
      "upto 109 size 128 val 108\r\n",
      "upto 110 size 128 val 109\r\n",
      "upto 111 size 128 val 110\r\n",
      "upto 112 size 128 val 111\r\n",
      "upto 113 size 128 val 112\r\n",
      "upto 114 size 128 val 113\r\n",
      "upto 115 size 128 val 114\r\n",
      "upto 116 size 128 val 115\r\n",
      "upto 117 size 128 val 116\r\n",
      "upto 118 size 128 val 117\r\n",
      "upto 119 size 128 val 118\r\n",
      "upto 120 size 128 val 119\r\n",
      "upto 121 size 128 val 120\r\n",
      "upto 122 size 128 val 121\r\n",
      "upto 123 size 128 val 122\r\n",
      "upto 124 size 128 val 123\r\n",
      "upto 125 size 128 val 124\r\n",
      "upto 126 size 128 val 125\r\n",
      "upto 127 size 128 val 126\r\n",
      "upto 128 size 128 val 127\r\n",
      "upto 129 size 256 val 128\r\n",
      "upto 130 size 256 val 129\r\n",
      "upto 131 size 256 val 130\r\n",
      "upto 132 size 256 val 131\r\n",
      "upto 133 size 256 val 132\r\n",
      "upto 134 size 256 val 133\r\n",
      "upto 135 size 256 val 134\r\n",
      "upto 136 size 256 val 135\r\n",
      "upto 137 size 256 val 136\r\n",
      "upto 138 size 256 val 137\r\n",
      "upto 139 size 256 val 138\r\n",
      "upto 140 size 256 val 139\r\n",
      "upto 141 size 256 val 140\r\n",
      "upto 142 size 256 val 141\r\n",
      "upto 143 size 256 val 142\r\n",
      "upto 144 size 256 val 143\r\n",
      "upto 145 size 256 val 144\r\n",
      "upto 146 size 256 val 145\r\n",
      "upto 147 size 256 val 146\r\n",
      "upto 148 size 256 val 147\r\n",
      "upto 149 size 256 val 148\r\n",
      "upto 150 size 256 val 149\r\n",
      "upto 151 size 256 val 150\r\n",
      "upto 152 size 256 val 151\r\n",
      "upto 153 size 256 val 152\r\n",
      "upto 154 size 256 val 153\r\n",
      "upto 155 size 256 val 154\r\n",
      "upto 156 size 256 val 155\r\n",
      "upto 157 size 256 val 156\r\n",
      "upto 158 size 256 val 157\r\n",
      "upto 159 size 256 val 158\r\n",
      "upto 160 size 256 val 159\r\n",
      "upto 161 size 256 val 160\r\n",
      "upto 162 size 256 val 161\r\n",
      "upto 163 size 256 val 162\r\n",
      "upto 164 size 256 val 163\r\n",
      "upto 165 size 256 val 164\r\n",
      "upto 166 size 256 val 165\r\n",
      "upto 167 size 256 val 166\r\n",
      "upto 168 size 256 val 167\r\n",
      "upto 169 size 256 val 168\r\n",
      "upto 170 size 256 val 169\r\n",
      "upto 171 size 256 val 170\r\n",
      "upto 172 size 256 val 171\r\n",
      "upto 173 size 256 val 172\r\n",
      "upto 174 size 256 val 173\r\n",
      "upto 175 size 256 val 174\r\n",
      "upto 176 size 256 val 175\r\n",
      "upto 177 size 256 val 176\r\n",
      "upto 178 size 256 val 177\r\n",
      "upto 179 size 256 val 178\r\n",
      "upto 180 size 256 val 179\r\n",
      "upto 181 size 256 val 180\r\n",
      "upto 182 size 256 val 181\r\n",
      "upto 183 size 256 val 182\r\n",
      "upto 184 size 256 val 183\r\n",
      "upto 185 size 256 val 184\r\n",
      "upto 186 size 256 val 185\r\n",
      "upto 187 size 256 val 186\r\n",
      "upto 188 size 256 val 187\r\n",
      "upto 189 size 256 val 188\r\n",
      "upto 190 size 256 val 189\r\n",
      "upto 191 size 256 val 190\r\n",
      "upto 192 size 256 val 191\r\n",
      "upto 193 size 256 val 192\r\n",
      "upto 194 size 256 val 193\r\n",
      "upto 195 size 256 val 194\r\n",
      "upto 196 size 256 val 195\r\n",
      "upto 197 size 256 val 196\r\n",
      "upto 198 size 256 val 197\r\n",
      "upto 199 size 256 val 198\r\n",
      "upto 200 size 256 val 199\r\n",
      "val 180 index 180\r\n",
      "val 181 index 181\r\n",
      "val 182 index 182\r\n",
      "val 183 index 183\r\n",
      "val 184 index 184\r\n",
      "val 185 index 185\r\n",
      "val 186 index 186\r\n",
      "val 187 index 187\r\n",
      "val 188 index 188\r\n",
      "val 189 index 189\r\n",
      "val 190 index 190\r\n",
      "val 191 index 191\r\n",
      "val 192 index 192\r\n",
      "val 193 index 193\r\n",
      "val 194 index 194\r\n"
     ]
    }
   ],
   "source": [
    "!./dademo"
   ]
  },
  {
   "cell_type": "markdown",
   "metadata": {},
   "source": [
    "### Linked Lists\n",
    "\n",
    "Lets think of how a list with a pointer to its next element might be constructed in python\n",
    "\n",
    "#### Nested Pairs\n",
    "\n",
    "![](http://wla.berkeley.edu/~cs61a/fa11/lectures/img/pair.png)\n",
    "\n",
    "(from stanford cs61a, http://wla.berkeley.edu/~cs61a/fa11/lectures/objects.html#nested-pairs)\n",
    "\n",
    "This way to visualize a pair is called the **box and pointer** notation. It can be used to construct many abstractions, including trees.\n",
    "\n",
    "The diagram above can be represented in python as:"
   ]
  },
  {
   "cell_type": "code",
   "execution_count": null,
   "metadata": {
    "collapsed": true,
    "slideshow": {
     "slide_type": "slide"
    }
   },
   "outputs": [],
   "source": [
    "pair = (1,2)"
   ]
  },
  {
   "cell_type": "markdown",
   "metadata": {
    "slideshow": {
     "slide_type": "fragment"
    }
   },
   "source": [
    "This is actually not a bad representation of what happens in python as the integers are \"heap\" allocated, so it is some kind of pointing to the integer we need. But this representation lacks a certain power. What if we used this:"
   ]
  },
  {
   "cell_type": "code",
   "execution_count": 3,
   "metadata": {
    "collapsed": true,
    "slideshow": {
     "slide_type": "fragment"
    }
   },
   "outputs": [],
   "source": [
    "pair = (1, (2, None))"
   ]
  },
  {
   "cell_type": "markdown",
   "metadata": {
    "slideshow": {
     "slide_type": "slide"
    }
   },
   "source": [
    "Which can generalize to something which looks like this:\n",
    "\n",
    "![](http://wla.berkeley.edu/~cs61a/fa11/lectures/img/sequence.png)"
   ]
  },
  {
   "cell_type": "code",
   "execution_count": 4,
   "metadata": {
    "collapsed": true,
    "slideshow": {
     "slide_type": "fragment"
    }
   },
   "outputs": [],
   "source": [
    "linked_list = (1, (2, (3, (4, None))))"
   ]
  },
  {
   "cell_type": "code",
   "execution_count": 81,
   "metadata": {
    "collapsed": false,
    "slideshow": {
     "slide_type": "slide"
    }
   },
   "outputs": [
    {
     "data": {
      "text/html": [
       "<iframe width=\"1000\" height=\"800\" frameborder=\"0\" src=\"http://pythontutor.com/iframe-embed.html#code=linked_list+%3D+(1,+(2,+(3,+(4,+None%29%29%29%29&origin=opt-frontend.js&cumulative=false&heapPrimitives=true&textReferences=false&py=2&rawInputLstJSON=%5B%5D&curInstr=1&codeDivWidth=350&codeDivHeight=400\"> </iframe>"
      ],
      "text/plain": [
       "<IPython.core.display.HTML object>"
      ]
     },
     "execution_count": 81,
     "metadata": {},
     "output_type": "execute_result"
    }
   ],
   "source": [
    "from IPython.display import HTML\n",
    "HTML('<iframe width=\"1000\" height=\"800\" frameborder=\"0\" src=\"http://pythontutor.com/iframe-embed.html#code=linked_list+%3D+(1,+(2,+(3,+(4,+None%29%29%29%29&origin=opt-frontend.js&cumulative=false&heapPrimitives=true&textReferences=false&py=2&rawInputLstJSON=%5B%5D&curInstr=1&codeDivWidth=350&codeDivHeight=400\"> </iframe>')"
   ]
  },
  {
   "cell_type": "markdown",
   "metadata": {
    "slideshow": {
     "slide_type": "slide"
    }
   },
   "source": [
    "The ability for tuples to nest like so is called the *closure* property of tuples, not to be confused with the language construct closures. Closure property is key to representiang hierarchical data structures such as linked lists and trees, where the structures are made up of parts which are recursively composed of other parts. We will see such structures later, such as heaps, binary search trees, LSM-trees, and b-trees."
   ]
  },
  {
   "cell_type": "markdown",
   "metadata": {
    "slideshow": {
     "slide_type": "slide"
    }
   },
   "source": [
    "Why might you want to use a linked list like the example above?\n",
    "\n",
    "- you allocate memory only when you want to use it\n",
    "- inserting a new element is cheaper than in a fixed size array\n",
    "- python arrays allocate space in certain sizes, linked lists may or may not beat them for this depending on whether you are at a memory boundary and the size of your problem.\n",
    "- linked lists are useful in defining stacks, fifo's and queues (but so are regular srrays: once again this allows size mobility).\n",
    "\n",
    "But mostly for us, its our gateway drug to other \"pointer\"ish and hierarchical structures.\n"
   ]
  },
  {
   "cell_type": "markdown",
   "metadata": {
    "slideshow": {
     "slide_type": "slide"
    }
   },
   "source": [
    "#### quick linked list implementation\n",
    "\n",
    "We write a very quick and dirty implementation: it does not handle edge cases like no element, but serves to illustrate the idea."
   ]
  },
  {
   "cell_type": "code",
   "execution_count": 356,
   "metadata": {
    "collapsed": true,
    "slideshow": {
     "slide_type": "slide"
    }
   },
   "outputs": [],
   "source": [
    "emptyll = None\n",
    "\n",
    "def make_ll(first, rest):\n",
    "        return (first, rest)\n",
    "def first(ll):\n",
    "        return ll[0]\n",
    "def rest(ll):\n",
    "        return ll[1]"
   ]
  },
  {
   "cell_type": "code",
   "execution_count": 357,
   "metadata": {
    "collapsed": false,
    "slideshow": {
     "slide_type": "fragment"
    }
   },
   "outputs": [
    {
     "data": {
      "text/plain": [
       "(1, (2, (3, None)))"
      ]
     },
     "execution_count": 357,
     "metadata": {},
     "output_type": "execute_result"
    }
   ],
   "source": [
    "myll = make_ll(1,make_ll(2, make_ll(3,emptyll)))\n",
    "myll"
   ]
  },
  {
   "cell_type": "code",
   "execution_count": 358,
   "metadata": {
    "collapsed": false,
    "slideshow": {
     "slide_type": "fragment"
    }
   },
   "outputs": [
    {
     "name": "stdout",
     "output_type": "stream",
     "text": [
      "1 | (2, (3, None)) | 2\n"
     ]
    }
   ],
   "source": [
    "print(first(myll), \"|\", rest(myll), \"|\", first(rest(myll)))"
   ]
  },
  {
   "cell_type": "code",
   "execution_count": 359,
   "metadata": {
    "collapsed": false,
    "slideshow": {
     "slide_type": "slide"
    }
   },
   "outputs": [
    {
     "data": {
      "text/plain": [
       "3"
      ]
     },
     "execution_count": 359,
     "metadata": {},
     "output_type": "execute_result"
    }
   ],
   "source": [
    "def len_ll(ll):\n",
    "    count =0\n",
    "    curr_pointer=ll\n",
    "    while curr_pointer is not emptyll:\n",
    "        curr_pointer = rest(curr_pointer)\n",
    "        count = count +1\n",
    "    return count\n",
    "len_ll(myll)"
   ]
  },
  {
   "cell_type": "code",
   "execution_count": 362,
   "metadata": {
    "collapsed": false,
    "slideshow": {
     "slide_type": "slide"
    }
   },
   "outputs": [
    {
     "data": {
      "text/plain": [
       "3"
      ]
     },
     "execution_count": 362,
     "metadata": {},
     "output_type": "execute_result"
    }
   ],
   "source": [
    "def getitem_ll(ll, i):\n",
    "        while i > 0:\n",
    "            ll, i = rest(ll), i - 1\n",
    "        return first(ll)\n",
    "getitem_ll(myll,2)"
   ]
  },
  {
   "cell_type": "code",
   "execution_count": 361,
   "metadata": {
    "collapsed": false
   },
   "outputs": [
    {
     "data": {
      "text/plain": [
       "2"
      ]
     },
     "execution_count": 361,
     "metadata": {},
     "output_type": "execute_result"
    }
   ],
   "source": [
    "def getindex_ll(ll,v):\n",
    "    count =0\n",
    "    curr_pointer=ll\n",
    "    while curr_pointer is not emptyll:\n",
    "        if first(curr_pointer) == v:\n",
    "            return count\n",
    "        curr_pointer = rest(curr_pointer)\n",
    "        count = count +1\n",
    "    return count\n",
    "getindex_ll(myll, 3)"
   ]
  },
  {
   "cell_type": "markdown",
   "metadata": {
    "slideshow": {
     "slide_type": "slide"
    }
   },
   "source": [
    "### Linked List vs Array Complexities\n",
    "\n",
    "From this implementation we can see some things:\n",
    "\n",
    "- Insertion at the front of a linked list is O(1)(just wrap with one more `make_ll`. Insertion at the back is O(n). (because you must traverse through to find `emptyll`). Arrays or dynamic arrays cost O(n) (amortized for the latter to append to)\n",
    "- Searching a linked list(`getindex_ll`) is like linear search on an array: O(n)\n",
    "- What about deletion? See the lab.\n",
    "- What about indexing? Its O(1) for arrays (you just seek). But in linked lists its O(n) as you must follow the pointers (`getitem_ll`).\n",
    "- Setting a value (not implemented here) follows the indexing complexity.\n",
    "\n",
    "The space complexity of both arrays and lists is O(n)."
   ]
  },
  {
   "cell_type": "markdown",
   "metadata": {
    "slideshow": {
     "slide_type": "slide"
    }
   },
   "source": [
    "The Linked list has some pluses:\n",
    "\n",
    "- memory wont overflow, you just allocate more\n",
    "- insertion and deletion (especially at end) is rather simple, and dousent come with attendant resizing or unuse worries.\n",
    "- if the records (here ints) are themselves large (say they are heap allocated C structs or complex python objects), the memory impact could actually be lower\n",
    "\n",
    "But we have given up efficient random access and cache locality (for the smaller records anyways)."
   ]
  },
  {
   "cell_type": "markdown",
   "metadata": {
    "slideshow": {
     "slide_type": "slide"
    }
   },
   "source": [
    "## Abstract Data Types: Stacks and Queues\n",
    "\n",
    "Stacks (lifo) and Queues (fifo) are examples of Data Structures that can be defined on top of arrays or linked lists.  Here we'll briefly talk about stacks.\n",
    "\n",
    "Stacks and Queues are examples of Abstract Data Types. From [Wikipedia](https://www.google.com/url?sa=t&rct=j&q=&esrc=s&source=web&cd=2&ved=0ahUKEwjAtOrD19XKAhXDGR4KHcjiBjYQFggfMAE&url=https%3A%2F%2Fen.wikipedia.org%2Fwiki%2FAbstract_data_type&usg=AFQjCNHuRIHbjbVgiNkX9FswBAbI6gMxww&sig2=5eYQGrDu606gM-S-4ays5Q):\n",
    "\n",
    ">In computer science, an abstract data type (ADT) is a mathematical model for data types where a data type is defined by its behavior (semantics) from the point of view of a user of the data, specifically in terms of possible values, possible operations on data of this type, and the behavior of these operations."
   ]
  },
  {
   "cell_type": "markdown",
   "metadata": {
    "slideshow": {
     "slide_type": "slide"
    }
   },
   "source": [
    "For a Stack the two operations are\n",
    "- `push(s, item)`\n",
    "- `item = pop(s)`\n",
    "\n",
    "Sometimes we might want to support a `peek` operation: `peek(s)` which merely peeks at the top item on the stack rather than popping it.\n",
    "\n",
    "Stacks are useful in dealing with function calls, environment frames, parsing, and a whole nunch of other applications.\n",
    "\n",
    "One way to implement Stacks is to simply use Python lists. These, remember, are dynamic arrays, so we can support arbitrarily large stacks. Addition to the stack is an amortized O(n). Deletion is O(n) if we must move all things down by 1. Else just O(1) (one could use an inactive flag)."
   ]
  },
  {
   "cell_type": "code",
   "execution_count": 251,
   "metadata": {
    "collapsed": false,
    "slideshow": {
     "slide_type": "slide"
    }
   },
   "outputs": [
    {
     "data": {
      "text/plain": [
       "[1, 2, 4, 5, 9]"
      ]
     },
     "execution_count": 251,
     "metadata": {},
     "output_type": "execute_result"
    }
   ],
   "source": [
    "astack = [1,2,4,5]\n",
    "astack.append(9)\n",
    "astack"
   ]
  },
  {
   "cell_type": "code",
   "execution_count": 252,
   "metadata": {
    "collapsed": false,
    "slideshow": {
     "slide_type": "fragment"
    }
   },
   "outputs": [
    {
     "data": {
      "text/plain": [
       "9"
      ]
     },
     "execution_count": 252,
     "metadata": {},
     "output_type": "execute_result"
    }
   ],
   "source": [
    "astack.pop()"
   ]
  },
  {
   "cell_type": "code",
   "execution_count": 255,
   "metadata": {
    "collapsed": false,
    "slideshow": {
     "slide_type": "fragment"
    }
   },
   "outputs": [
    {
     "data": {
      "text/plain": [
       "[1, 2, 4, 5]"
      ]
     },
     "execution_count": 255,
     "metadata": {},
     "output_type": "execute_result"
    }
   ],
   "source": [
    "astack"
   ]
  },
  {
   "cell_type": "markdown",
   "metadata": {
    "slideshow": {
     "slide_type": "slide"
    }
   },
   "source": [
    "Another way to implement a stack is a linked list. You would \"push\" things onto the front in O(1) and pop them off in O(1) as well."
   ]
  },
  {
   "cell_type": "code",
   "execution_count": 371,
   "metadata": {
    "collapsed": false,
    "slideshow": {
     "slide_type": "fragment"
    }
   },
   "outputs": [],
   "source": [
    "import reprlib\n",
    "class Stack:\n",
    "    \n",
    "    def __init__(self, initvalue):\n",
    "        self._stack = make_ll(initvalue, emptyll)\n",
    "        \n",
    "    def __repr__(self):\n",
    "        return \"Stack(\"+reprlib.repr(self._stack)+\")\"\n",
    "    \n",
    "    def push(self, item):\n",
    "        self._stack = make_ll(item, self._stack)\n",
    "        \n",
    "    def pop(self):\n",
    "        popped = first(self._stack)\n",
    "        self._stack = rest(self._stack)\n",
    "        return popped\n",
    "        \n",
    "    def peek(self):\n",
    "        return first(self._stack)"
   ]
  },
  {
   "cell_type": "code",
   "execution_count": 372,
   "metadata": {
    "collapsed": true,
    "slideshow": {
     "slide_type": "slide"
    }
   },
   "outputs": [],
   "source": [
    "s = Stack(-1)# using -1 as a sentinel value"
   ]
  },
  {
   "cell_type": "code",
   "execution_count": 373,
   "metadata": {
    "collapsed": false,
    "slideshow": {
     "slide_type": "fragment"
    }
   },
   "outputs": [
    {
     "name": "stdout",
     "output_type": "stream",
     "text": [
      "Stack((2, (1, (-1, None))))\n"
     ]
    },
    {
     "data": {
      "text/plain": [
       "2"
      ]
     },
     "execution_count": 373,
     "metadata": {},
     "output_type": "execute_result"
    }
   ],
   "source": [
    "s.push(1)\n",
    "s.push(2)\n",
    "print(s)\n",
    "s.pop()"
   ]
  },
  {
   "cell_type": "code",
   "execution_count": 374,
   "metadata": {
    "collapsed": false,
    "slideshow": {
     "slide_type": "fragment"
    }
   },
   "outputs": [
    {
     "data": {
      "text/plain": [
       "Stack((1, (-1, None)))"
      ]
     },
     "execution_count": 374,
     "metadata": {},
     "output_type": "execute_result"
    }
   ],
   "source": [
    "s"
   ]
  },
  {
   "cell_type": "code",
   "execution_count": 375,
   "metadata": {
    "collapsed": false,
    "slideshow": {
     "slide_type": "fragment"
    }
   },
   "outputs": [
    {
     "data": {
      "text/plain": [
       "1"
      ]
     },
     "execution_count": 375,
     "metadata": {},
     "output_type": "execute_result"
    }
   ],
   "source": [
    "s.peek()"
   ]
  },
  {
   "cell_type": "markdown",
   "metadata": {
    "slideshow": {
     "slide_type": "slide"
    }
   },
   "source": [
    "For next time, think about what the advantages and tradeoof of using one implementation over another are."
   ]
  }
 ],
 "metadata": {
  "celltoolbar": "Slideshow",
  "kernelspec": {
   "display_name": "Python 3",
   "language": "python",
   "name": "python3"
  },
  "language_info": {
   "codemirror_mode": {
    "name": "ipython",
    "version": 3
   },
   "file_extension": ".py",
   "mimetype": "text/x-python",
   "name": "python",
   "nbconvert_exporter": "python",
   "pygments_lexer": "ipython3",
   "version": "3.5.1"
  }
 },
 "nbformat": 4,
 "nbformat_minor": 0
}
