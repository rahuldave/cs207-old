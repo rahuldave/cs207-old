{
 "cells": [
  {
   "cell_type": "code",
   "execution_count": 23,
   "metadata": {
    "collapsed": false
   },
   "outputs": [
    {
     "data": {
      "text/plain": [
       "{'start_slideshow_at': 'selected', 'theme': 'serif', 'transition': 'zoom'}"
      ]
     },
     "execution_count": 23,
     "metadata": {},
     "output_type": "execute_result"
    }
   ],
   "source": [
    "from notebook.services.config import ConfigManager\n",
    "cm = ConfigManager()\n",
    "cm.update('livereveal', {\n",
    "              'theme': 'serif',\n",
    "              'transition': 'zoom',\n",
    "              'start_slideshow_at': 'selected',\n",
    "})"
   ]
  },
  {
   "cell_type": "markdown",
   "metadata": {
    "slideshow": {
     "slide_type": "slide"
    }
   },
   "source": [
    "## Software design and Binary Search"
   ]
  },
  {
   "cell_type": "markdown",
   "metadata": {
    "slideshow": {
     "slide_type": "slide"
    }
   },
   "source": [
    "### Linear Search"
   ]
  },
  {
   "cell_type": "code",
   "execution_count": 1,
   "metadata": {
    "collapsed": true,
    "slideshow": {
     "slide_type": "fragment"
    }
   },
   "outputs": [],
   "source": [
    "def linear_search(da_array, needle):\n",
    "    for i, item in enumerate(da_array):\n",
    "        if item==needle:\n",
    "            return i\n",
    "    return -1"
   ]
  },
  {
   "cell_type": "code",
   "execution_count": 2,
   "metadata": {
    "collapsed": false,
    "slideshow": {
     "slide_type": "slide"
    }
   },
   "outputs": [
    {
     "name": "stdout",
     "output_type": "stream",
     "text": [
      "2\n",
      "-1\n"
     ]
    }
   ],
   "source": [
    "a=[1, 7, 4, 5, 63, 4, 35, 32, 21]\n",
    "print(linear_search(a, 4))\n",
    "print(linear_search(a, 6))"
   ]
  },
  {
   "cell_type": "markdown",
   "metadata": {
    "slideshow": {
     "slide_type": "fragment"
    }
   },
   "source": [
    "O(n) storage if u take the list into account, and O(n) time, as we saw last time.\n",
    "\n",
    "This is the algorithm that `list.index` uses."
   ]
  },
  {
   "cell_type": "code",
   "execution_count": 55,
   "metadata": {
    "collapsed": true,
    "slideshow": {
     "slide_type": "slide"
    }
   },
   "outputs": [],
   "source": [
    "l2 = range(10000000)"
   ]
  },
  {
   "cell_type": "code",
   "execution_count": 64,
   "metadata": {
    "collapsed": false,
    "slideshow": {
     "slide_type": "fragment"
    }
   },
   "outputs": [
    {
     "name": "stdout",
     "output_type": "stream",
     "text": [
      "CPU times: user 5 µs, sys: 1 µs, total: 6 µs\n",
      "Wall time: 8.11 µs\n"
     ]
    },
    {
     "data": {
      "text/plain": [
       "10"
      ]
     },
     "execution_count": 64,
     "metadata": {},
     "output_type": "execute_result"
    }
   ],
   "source": [
    "%%time\n",
    "linear_search(l2, 10)"
   ]
  },
  {
   "cell_type": "code",
   "execution_count": 65,
   "metadata": {
    "collapsed": false,
    "slideshow": {
     "slide_type": "fragment"
    }
   },
   "outputs": [
    {
     "name": "stdout",
     "output_type": "stream",
     "text": [
      "CPU times: user 96 µs, sys: 0 ns, total: 96 µs\n",
      "Wall time: 98.9 µs\n"
     ]
    },
    {
     "data": {
      "text/plain": [
       "1000"
      ]
     },
     "execution_count": 65,
     "metadata": {},
     "output_type": "execute_result"
    }
   ],
   "source": [
    "%%time\n",
    "linear_search(l2, 1000)"
   ]
  },
  {
   "cell_type": "code",
   "execution_count": 66,
   "metadata": {
    "collapsed": false,
    "slideshow": {
     "slide_type": "fragment"
    }
   },
   "outputs": [
    {
     "name": "stdout",
     "output_type": "stream",
     "text": [
      "CPU times: user 985 µs, sys: 0 ns, total: 985 µs\n",
      "Wall time: 989 µs\n"
     ]
    },
    {
     "data": {
      "text/plain": [
       "10000"
      ]
     },
     "execution_count": 66,
     "metadata": {},
     "output_type": "execute_result"
    }
   ],
   "source": [
    "%%time\n",
    "linear_search(l2, 10000)"
   ]
  },
  {
   "cell_type": "markdown",
   "metadata": {
    "slideshow": {
     "slide_type": "slide"
    }
   },
   "source": [
    "### Binary Search\n",
    "\n",
    "How can we increase this speed? If we are given sorted data we can use **binary search** to do this in O(lg(n)) time.\n",
    "\n",
    "The idea is simple: look at the middle of the list and compare with desired value. If value is higher its on the right side and we look there, and so on. This is an example of what is called a divide and conquer algorithm.\n",
    "\n",
    "Animation: http://www.cs.armstrong.edu/liang/animation/web/BinarySearch.html"
   ]
  },
  {
   "cell_type": "code",
   "execution_count": 1,
   "metadata": {
    "collapsed": true,
    "slideshow": {
     "slide_type": "slide"
    }
   },
   "outputs": [],
   "source": [
    "#there are problems in this code. But, later\n",
    "def binary_search_simple(da_array, needle):\n",
    "    rangemin = 0\n",
    "    rangemax = len(da_array) - 1\n",
    "    while True:\n",
    "        midpoint = (rangemin+rangemax)//2 #whats the problem with this\n",
    "        if da_array[midpoint] > needle:#lower part\n",
    "            rangemax = midpoint - 1\n",
    "        elif da_array[midpoint] < needle:\n",
    "            rangemin = midpoint + 1\n",
    "        else:\n",
    "            return midpoint"
   ]
  },
  {
   "cell_type": "code",
   "execution_count": 69,
   "metadata": {
    "collapsed": false,
    "slideshow": {
     "slide_type": "slide"
    }
   },
   "outputs": [
    {
     "name": "stdout",
     "output_type": "stream",
     "text": [
      "CPU times: user 12 µs, sys: 1 µs, total: 13 µs\n",
      "Wall time: 16 µs\n"
     ]
    },
    {
     "data": {
      "text/plain": [
       "10000"
      ]
     },
     "execution_count": 69,
     "metadata": {},
     "output_type": "execute_result"
    }
   ],
   "source": [
    "%%time\n",
    "binary_search_simple(l2, 10000)"
   ]
  },
  {
   "cell_type": "markdown",
   "metadata": {
    "slideshow": {
     "slide_type": "fragment"
    }
   },
   "source": [
    "Binary search order of operation can be understood by setting up a simple recurrence:\n",
    "\n",
    "T(n) = T(n/2) + c\n",
    "\n",
    "T(n) = lg(n)*c + d \n",
    "\n",
    "which means that Binary search is O(lg(n)) in time. What about space? Once the sorted array is allocated there is no more allocation needed...we just go down the array.\n",
    "\n",
    "The best case performance is O(1), if we were looking for the median or something close to it."
   ]
  },
  {
   "cell_type": "markdown",
   "metadata": {
    "slideshow": {
     "slide_type": "slide"
    }
   },
   "source": [
    "Binary search can be used in many different places. Examples:\n",
    "\n",
    "- square root finding bisection method, starting with l=1, and r = n\n",
    "- generalizes to finding roots of any equation, given a l,r where f(l) < 0 and f(r) > 0\n",
    "- we can use git bisect to find the commit that introduced a bug"
   ]
  },
  {
   "cell_type": "markdown",
   "metadata": {
    "slideshow": {
     "slide_type": "slide"
    }
   },
   "source": [
    "There are problems with the previous implementation. What if the value is not in the array you are searching for? How do we terminate"
   ]
  },
  {
   "cell_type": "code",
   "execution_count": 18,
   "metadata": {
    "collapsed": true,
    "slideshow": {
     "slide_type": "slide"
    }
   },
   "outputs": [],
   "source": [
    "#there are problems in this code, but later\n",
    "def binary_search(da_array, needle):\n",
    "    rangemin = 0\n",
    "    rangemax = len(da_array) - 1\n",
    "    tries=0\n",
    "    while True:\n",
    "        print(\"at top\", rangemin, rangemax)\n",
    "        if tries > len(da_array):\n",
    "            print(\"No Success\")\n",
    "            break\n",
    "        midpoint = (rangemin+rangemax)//2 #whats the problem with this\n",
    "        print(rangemin, midpoint, rangemax, \"|\", da_array[midpoint], needle)\n",
    "        if da_array[midpoint] > needle:#lower part\n",
    "            rangemax = midpoint - 1\n",
    "        elif da_array[midpoint] < needle:\n",
    "            rangemin = midpoint + 1\n",
    "        else:\n",
    "            return midpoint\n",
    "        tries += 1"
   ]
  },
  {
   "cell_type": "code",
   "execution_count": 19,
   "metadata": {
    "collapsed": false,
    "slideshow": {
     "slide_type": "slide"
    }
   },
   "outputs": [
    {
     "name": "stdout",
     "output_type": "stream",
     "text": [
      "at top 0 9\n",
      "0 4 9 | 4 4\n"
     ]
    },
    {
     "data": {
      "text/plain": [
       "4"
      ]
     },
     "execution_count": 19,
     "metadata": {},
     "output_type": "execute_result"
    }
   ],
   "source": [
    "input=list(range(10))\n",
    "binary_search(input,4)"
   ]
  },
  {
   "cell_type": "code",
   "execution_count": 20,
   "metadata": {
    "collapsed": false,
    "slideshow": {
     "slide_type": "fragment"
    }
   },
   "outputs": [
    {
     "name": "stdout",
     "output_type": "stream",
     "text": [
      "at top 0 9\n",
      "0 4 9 | 4 4.5\n",
      "at top 5 9\n",
      "5 7 9 | 7 4.5\n",
      "at top 5 6\n",
      "5 5 6 | 5 4.5\n",
      "at top 5 4\n",
      "5 4 4 | 4 4.5\n",
      "at top 5 4\n",
      "5 4 4 | 4 4.5\n",
      "at top 5 4\n",
      "5 4 4 | 4 4.5\n",
      "at top 5 4\n",
      "5 4 4 | 4 4.5\n",
      "at top 5 4\n",
      "5 4 4 | 4 4.5\n",
      "at top 5 4\n",
      "5 4 4 | 4 4.5\n",
      "at top 5 4\n",
      "5 4 4 | 4 4.5\n",
      "at top 5 4\n",
      "5 4 4 | 4 4.5\n",
      "at top 5 4\n",
      "No Success\n"
     ]
    }
   ],
   "source": [
    "binary_search(input,4.5)        "
   ]
  },
  {
   "cell_type": "code",
   "execution_count": 21,
   "metadata": {
    "collapsed": true,
    "slideshow": {
     "slide_type": "slide"
    }
   },
   "outputs": [],
   "source": [
    "def binary_search(da_array, needle):\n",
    "    rangemin = 0\n",
    "    rangemax = len(da_array) - 1\n",
    "    tries=0\n",
    "    while True:\n",
    "        print(\"at top\", rangemin, rangemax)\n",
    "        if tries > len(da_array):\n",
    "            print(\"No Success\")\n",
    "            break\n",
    "        if rangemin > rangemax:\n",
    "            return -1\n",
    "        midpoint = (rangemin+rangemax)//2 #whats the problem with this\n",
    "        print(rangemin, midpoint, rangemax, \"|\", da_array[midpoint], needle)\n",
    "        if da_array[midpoint] > needle:#lower part\n",
    "            rangemax = midpoint - 1\n",
    "        elif da_array[midpoint] < needle:\n",
    "            rangemin = midpoint + 1\n",
    "        else:\n",
    "            return midpoint\n",
    "        tries += 1"
   ]
  },
  {
   "cell_type": "code",
   "execution_count": 22,
   "metadata": {
    "collapsed": false,
    "slideshow": {
     "slide_type": "fragment"
    }
   },
   "outputs": [
    {
     "name": "stdout",
     "output_type": "stream",
     "text": [
      "at top 0 9\n",
      "0 4 9 | 4 4.5\n",
      "at top 5 9\n",
      "5 7 9 | 7 4.5\n",
      "at top 5 6\n",
      "5 5 6 | 5 4.5\n",
      "at top 5 4\n"
     ]
    },
    {
     "data": {
      "text/plain": [
       "-1"
      ]
     },
     "execution_count": 22,
     "metadata": {},
     "output_type": "execute_result"
    }
   ],
   "source": [
    "binary_search(input,4.5)        "
   ]
  },
  {
   "cell_type": "markdown",
   "metadata": {
    "slideshow": {
     "slide_type": "slide"
    }
   },
   "source": [
    "### Issues that the implementation raises\n",
    "\n",
    "- What if the value is not there?\n",
    "- What if rangemax is so high as to create overflow\n",
    "- What if the array is not sorted\n",
    "- what are we returning (why the -1)\n",
    "- are we consistent in our returning?\n",
    "- what if da_array was not an array?\n",
    "- what types are we supporting?\n",
    "- what happens if we have a NaN in our array? Infty?"
   ]
  },
  {
   "cell_type": "markdown",
   "metadata": {
    "slideshow": {
     "slide_type": "slide"
    }
   },
   "source": [
    "#### One should play with all of ones concerns\n",
    "\n",
    "Here is an example"
   ]
  },
  {
   "cell_type": "code",
   "execution_count": 43,
   "metadata": {
    "collapsed": false,
    "slideshow": {
     "slide_type": "fragment"
    }
   },
   "outputs": [
    {
     "data": {
      "text/plain": [
       "[(0, 1), (1, 7), (2, 4), (3, 5), (4, 63), (5, 4), (6, 35), (7, 32), (8, 21)]"
      ]
     },
     "execution_count": 43,
     "metadata": {},
     "output_type": "execute_result"
    }
   ],
   "source": [
    "list(enumerate(a))"
   ]
  },
  {
   "cell_type": "code",
   "execution_count": 44,
   "metadata": {
    "collapsed": false,
    "slideshow": {
     "slide_type": "fragment"
    }
   },
   "outputs": [
    {
     "name": "stdout",
     "output_type": "stream",
     "text": [
      "4 0 9\n",
      "2 0 4\n",
      "3 3 4\n"
     ]
    },
    {
     "data": {
      "text/plain": [
       "-1"
      ]
     },
     "execution_count": 44,
     "metadata": {},
     "output_type": "execute_result"
    }
   ],
   "source": [
    "binary_search(a, 32)#would go on infinitely but we have to terminate"
   ]
  },
  {
   "cell_type": "code",
   "execution_count": 45,
   "metadata": {
    "collapsed": false,
    "slideshow": {
     "slide_type": "slide"
    }
   },
   "outputs": [
    {
     "data": {
      "text/plain": [
       "[1, 4, 4, 5, 7, 21, 32, 35, 63]"
      ]
     },
     "execution_count": 45,
     "metadata": {},
     "output_type": "execute_result"
    }
   ],
   "source": [
    "a2=sorted(a)\n",
    "a2"
   ]
  },
  {
   "cell_type": "code",
   "execution_count": 46,
   "metadata": {
    "collapsed": false,
    "slideshow": {
     "slide_type": "fragment"
    }
   },
   "outputs": [
    {
     "name": "stdout",
     "output_type": "stream",
     "text": [
      "4 0 9\n",
      "7 5 9\n",
      "6 5 7\n"
     ]
    },
    {
     "data": {
      "text/plain": [
       "6"
      ]
     },
     "execution_count": 46,
     "metadata": {},
     "output_type": "execute_result"
    }
   ],
   "source": [
    "binary_search(a2,32)"
   ]
  },
  {
   "cell_type": "markdown",
   "metadata": {
    "slideshow": {
     "slide_type": "slide"
    }
   },
   "source": [
    "### Software Design\n",
    "\n",
    "Desirables:\n",
    "\n",
    "- Documentation\n",
    "    - names (understandable names)\n",
    "    - pre+post conditions or requirements\n",
    "    \n",
    "- Maintainability\n",
    "    - Extensibility\n",
    "    - Modularity and Encapsulation\n",
    "    \n",
    "- Portability\n",
    "- Installability\n",
    "\n",
    "- Generality\n",
    "    - Data Abstraction (change types, change data structures)\n",
    "    - Functional Abstraction (the object model, overloading)\n",
    "    - Robustness\n",
    "        - Provability: Invariants, preconditions, postconditions\n",
    "        - User Proofing, Adversarial Inputs\n",
    "        \n",
    "- Efficiency\n",
    "    - Use of appropriate algorithms and data structures\n",
    "    - Optimization (but no premature optimization)"
   ]
  },
  {
   "cell_type": "markdown",
   "metadata": {
    "slideshow": {
     "slide_type": "slide"
    }
   },
   "source": [
    "### A Document for binary search\n",
    "\n",
    "- That we are returning -1 when value is not in array (could have used None or False instead\n",
    "- That we are returning the index, not the values\n",
    "- precondition that we have a sorted array\n",
    "\n",
    "```\n",
    "@pre da_array is sorted\n",
    "@post for return value idx, da_array[idx]==needle if needle in da_array else -1\n",
    "```\n",
    "\n",
    "This means that whatever types you support in da_array must support < and ==.  But we can use it to write:\n",
    "\n",
    "```\n",
    "@pre if i < j then da_array[i] <= da_array[j] \n",
    "@post for return value idx, da_array[idx]==needle if needle in da_array else -1\n",
    "```"
   ]
  },
  {
   "cell_type": "markdown",
   "metadata": {
    "slideshow": {
     "slide_type": "subslide"
    }
   },
   "source": [
    "Pre-conditions and post-conditions are a contract: you dont violate the contract as a user of my search, i dont violate it as a library writer.\n",
    "\n",
    "**Documentation is a contract between a user (client) and an implementor (library writer).**"
   ]
  },
  {
   "cell_type": "markdown",
   "metadata": {
    "slideshow": {
     "slide_type": "slide"
    }
   },
   "source": [
    "#### Even Better Document\n",
    "\n",
    "We must make ascending order clear. And we also want a guarantee on the runtime (the implementor could have written a linear search):\n",
    "\n",
    "```\n",
    "Searches an immutable array for a value using binary search\n",
    "@param[in] da_array: The immutable array to search\n",
    "@param[in] needle: The value to search for\n",
    "@pre da_array: The array is sorted in ascending order: for all i,j if i<j, a[i]<=a[j]\n",
    "Operates in O(lg(n)) ops\n",
    "@returns idx such that da_array[idx]==needle or (idx==-1 and there is no i for all i such that da_array[i]==needle)\n",
    "```\n",
    "\n",
    "What happens if multiple elements in the array have value `needle` We could constrain this further, but wont. "
   ]
  },
  {
   "cell_type": "markdown",
   "metadata": {
    "slideshow": {
     "slide_type": "slide"
    }
   },
   "source": [
    "### Invariants\n",
    "\n",
    "An invariant is something that is true at some point in the code.\n",
    "\n",
    "Invariants and the contract are what we use to guide our implementation.\n",
    "\n",
    "Pre-conditions and post-conditions are special cases of invariants.\n",
    "\n",
    "**Pre's are true at function entry. They constrain the user.\n",
    "Post's are true at function exit. They constrain the implementation.**\n",
    "\n",
    "You can change implementations, stuff under the hood, etc, but once the software is in the wild **you cant change these**, since the client user is depending upon them.\n",
    "\n",
    "\n"
   ]
  },
  {
   "cell_type": "markdown",
   "metadata": {
    "slideshow": {
     "slide_type": "slide"
    }
   },
   "source": [
    "### Documentation\n",
    "\n",
    "But this is not written in any coherent way which might help a client of our code use it. For that we ought to be systematically documenting our code. You can choose any convention you like, but the important thing is to be consistent in your codebase with it. Lets see how to write `binary_search` in a well documented format, which makes these invariances, along wi\n",
    "th the inputs and outputs of the code clear.\n",
    "\n",
    "Here I'll use the numpy conventions: https://github.com/numpy/numpy/blob/master/doc/HOWTO_DOCUMENT.rst.txt .\n",
    "\n"
   ]
  },
  {
   "cell_type": "code",
   "execution_count": 1,
   "metadata": {
    "collapsed": true,
    "slideshow": {
     "slide_type": "slide"
    }
   },
   "outputs": [],
   "source": [
    "def binary_search(da_array: list, needle, left:int=0, right:int=-1) -> int:\n",
    "    \"\"\"\n",
    "    An algorithm that operates in O(lg(n)) to search for an element\n",
    "    in an array sorted in ascending order.\n",
    "    \n",
    "    Parameters\n",
    "    ----------\n",
    "    da_array : list\n",
    "        a list of items sorted in non-descending order\n",
    "    needle: an item to find in the array; it may or may not\n",
    "        be in the array\n",
    "    left: int, optional\n",
    "        the left index in the array to search from. Default 0\n",
    "    right: int, optional\n",
    "        the right index in the array to search to. Default is -1\n",
    "        in which case we will use the end of the array `len(da_array) - 1`\n",
    "        \n",
    "    Returns\n",
    "    -------\n",
    "    index: int\n",
    "        an integer representing the index of `needle` if found, and -1\n",
    "        otherwise\n",
    "        \n",
    "    Notes\n",
    "    -----\n",
    "    PRE: `da_array` is sorted in non-decreasing order\n",
    "    POST: \n",
    "        - `da_array` is not changed by this function\n",
    "        - returns `index`=-1 if `needle` is not in `da_array`\n",
    "        - returns an int `index ` in [0:len(da_array)] if\n",
    "          `index` is in `da_array`\n",
    "    INVARIANTS:\n",
    "        - If `needle` in `da_array`, needle in `da_array[rangemin:rangemax]`\n",
    "          is a loop invariant in the while loop below.\n",
    "    \n",
    "    WARNINGS:\n",
    "        - If you provide an unsorted array this function is not guaranteed to terminate\n",
    "        - for multiple copies of a value in the arrar secrched for, the one returned is not guaranteed\n",
    "        - to be the smallest one.\n",
    "    \"\"\"\n",
    "    if left==0:\n",
    "        rangemin = 0\n",
    "    else:\n",
    "        rangemin = left\n",
    "    if right==-1:\n",
    "        rangemax=len(da_array) - 1\n",
    "    else:\n",
    "        rangemax=right\n",
    "    while True:\n",
    "        \"needle in da_array => needle in da_array[rangemin:rangemax]\"   \n",
    "        if rangemin >= rangemax:\n",
    "            index = -1\n",
    "            return index\n",
    "        midpoint = rangemin + (rangemax - rangemin)//2 \n",
    "        if da_array[midpoint] > needle:#lower part\n",
    "            rangemax = midpoint - 1\n",
    "        elif da_array[midpoint] < needle:\n",
    "            rangemin = midpoint + 1\n",
    "        else:\n",
    "            index = midpoint\n",
    "            return index"
   ]
  },
  {
   "cell_type": "code",
   "execution_count": 2,
   "metadata": {
    "collapsed": false,
    "slideshow": {
     "slide_type": "slide"
    }
   },
   "outputs": [
    {
     "data": {
      "text/plain": [
       "{'da_array': list, 'left': int, 'return': int, 'right': int}"
      ]
     },
     "execution_count": 2,
     "metadata": {},
     "output_type": "execute_result"
    }
   ],
   "source": [
    "binary_search.__annotations__"
   ]
  },
  {
   "cell_type": "code",
   "execution_count": 6,
   "metadata": {
    "collapsed": true,
    "slideshow": {
     "slide_type": "fragment"
    }
   },
   "outputs": [],
   "source": [
    "from pydoc import doc as pydoc\n",
    "from doctest import run_docstring_examples as dtest"
   ]
  },
  {
   "cell_type": "code",
   "execution_count": 7,
   "metadata": {
    "collapsed": false,
    "slideshow": {
     "slide_type": "slide"
    }
   },
   "outputs": [
    {
     "name": "stdout",
     "output_type": "stream",
     "text": [
      "Python Library Documentation: function binary_search in module __main__\n",
      "\n",
      "binary_search(da_array:list, needle, left:int=0, right:int=-1) -> int\n",
      "    An algorithm that operates in O(lg(n)) to search for an element\n",
      "    in an array sorted in ascending order.\n",
      "    \n",
      "    Parameters\n",
      "    ----------\n",
      "    da_array : list\n",
      "        a list of items sorted in non-descending order\n",
      "    needle: an item to find in the array; it may or may not\n",
      "        be in the array\n",
      "    left: int, optional\n",
      "        the left index in the array to search from. Default 0\n",
      "    right: int, optional\n",
      "        the right index in the array to search to. Default is -1\n",
      "        in which case we will use the end of the array `len(da_array) - 1`\n",
      "        \n",
      "    Returns\n",
      "    -------\n",
      "    index: int\n",
      "        an integer representing the index of `needle` if found, and -1\n",
      "        otherwise\n",
      "        \n",
      "    Notes\n",
      "    -----\n",
      "    PRE: `da_array` is sorted in non-decreasing order\n",
      "    POST: \n",
      "        - `da_array` is not changed by this function\n",
      "        - returns `index`=-1 if `needle` is not in `da_array`\n",
      "        - returns an int `index ` in [0:len(da_array)] if\n",
      "          `index` is in `da_array`\n",
      "    INVARIANTS:\n",
      "        - If `needle` in `da_array`, needle in `da_array[rangemin:rangemax]`\n",
      "          is a loop invariant in the while loop below.\n",
      "    \n",
      "    WARNINGS:\n",
      "        - If you provide an unsorted array this function is not guaranteed to terminate\n",
      "        - for multiple copies of a value in the arrar secrched for, the one returned is not guaranteed\n",
      "        - to be the smallest one.\n"
     ]
    }
   ],
   "source": [
    "pydoc(binary_search)"
   ]
  },
  {
   "cell_type": "markdown",
   "metadata": {
    "slideshow": {
     "slide_type": "slide"
    }
   },
   "source": [
    "### Assertions"
   ]
  },
  {
   "cell_type": "code",
   "execution_count": 5,
   "metadata": {
    "collapsed": false,
    "slideshow": {
     "slide_type": "fragment"
    }
   },
   "outputs": [
    {
     "ename": "AssertionError",
     "evalue": "this is not true",
     "output_type": "error",
     "traceback": [
      "\u001b[0;31m---------------------------------------------------------------------------\u001b[0m",
      "\u001b[0;31mAssertionError\u001b[0m                            Traceback (most recent call last)",
      "\u001b[0;32m<ipython-input-5-b4d2ef0b435f>\u001b[0m in \u001b[0;36m<module>\u001b[0;34m()\u001b[0m\n\u001b[1;32m      1\u001b[0m \u001b[0mtest_list\u001b[0m\u001b[0;34m=\u001b[0m\u001b[0;34m[\u001b[0m\u001b[0;36m1\u001b[0m\u001b[0;34m,\u001b[0m\u001b[0;36m3\u001b[0m\u001b[0;34m,\u001b[0m\u001b[0;36m4\u001b[0m\u001b[0;34m,\u001b[0m\u001b[0;36m5\u001b[0m\u001b[0;34m,\u001b[0m\u001b[0;36m6\u001b[0m\u001b[0;34m,\u001b[0m\u001b[0;36m8\u001b[0m\u001b[0;34m,\u001b[0m\u001b[0;36m9\u001b[0m\u001b[0;34m]\u001b[0m\u001b[0;34m\u001b[0m\u001b[0m\n\u001b[0;32m----> 2\u001b[0;31m \u001b[0;32massert\u001b[0m \u001b[0mbinary_search\u001b[0m\u001b[0;34m(\u001b[0m\u001b[0mtest_list\u001b[0m\u001b[0;34m,\u001b[0m\u001b[0;36m4\u001b[0m\u001b[0;34m)\u001b[0m\u001b[0;34m==\u001b[0m\u001b[0;36m3\u001b[0m\u001b[0;34m,\u001b[0m \u001b[0;34m\"this is not true\"\u001b[0m\u001b[0;34m\u001b[0m\u001b[0m\n\u001b[0m",
      "\u001b[0;31mAssertionError\u001b[0m: this is not true"
     ]
    }
   ],
   "source": [
    "test_list=[1,3,4,5,6,8,9]\n",
    "assert binary_search(test_list,4)==3, \"this is not true\""
   ]
  },
  {
   "cell_type": "markdown",
   "metadata": {
    "slideshow": {
     "slide_type": "slide"
    }
   },
   "source": [
    "### Testing and Doctests\n",
    "\n",
    "While developing our algorithm, it is not a bad idea to use assert to make sure that our loop-invariant is true. Such asserts could help us catch bugs. But because the test for belonging is linear in the size of the array you will want to remove it afterwords.\n",
    "\n",
    "Similarly you might want to check that the sortedness precondition is met so that mistakes in testing data dont set your code into an infinite loop. Note that this changes the performance characteristics so this should not be in the final\n",
    "\n",
    "The post-conditions are what the clients of your code see. These are typically handled as **Unit Tests**, of which doctests are a special kind which document the interface of the function by example."
   ]
  },
  {
   "cell_type": "code",
   "execution_count": 9,
   "metadata": {
    "collapsed": true,
    "slideshow": {
     "slide_type": "slide"
    }
   },
   "outputs": [],
   "source": [
    "def binary_search(da_array: list, needle, left:int=0, right:int=-1) -> int:\n",
    "    \"\"\"\n",
    "    An algorithm that operates in O(lg(n)) to search for an element\n",
    "    in an array sorted in ascending order.\n",
    "    \n",
    "    Parameters\n",
    "    ----------\n",
    "    da_array : list\n",
    "        a list of \"comparable\"items sorted in non-descending order\n",
    "    needle: an item to find in the array; it may or may not\n",
    "        be in the array\n",
    "    left: int, optional\n",
    "        the left index in the array to search from. Default 0\n",
    "    right: int, optional\n",
    "        the right index in the array to search to. Default is -1\n",
    "        in which case we will use the end of the array `len(da_array) - 1`\n",
    "        \n",
    "    Returns\n",
    "    -------\n",
    "    index: int\n",
    "        an integer representing the index of `needle` if found, and -1\n",
    "        otherwise\n",
    "        \n",
    "    Notes\n",
    "    -----\n",
    "    PRE: `da_array` is sorted in non-decreasing order (thus items in\n",
    "        `da_array` must be comparable: implement < and ==)\n",
    "    POST: \n",
    "        - `da_array` is not changed by this function (immutable)\n",
    "        - returns `index`=-1 if `needle` is not in `da_array`\n",
    "        - returns an int `index ` in [0:len(da_array)] if\n",
    "          `index` is in `da_array`\n",
    "    INVARIANTS:\n",
    "        - If `needle` in `da_array`, needle in `da_array[rangemin:rangemax]`\n",
    "          is a loop invariant in the while loop below.\n",
    "    WARNINGS:\n",
    "        - If you provide an unsorted array this function is not guaranteed to terminate\n",
    "        - for multiple copies of a value in the arrar secrched for, the one returned is not guaranteed\n",
    "        - to be the smallest one.\n",
    "        \n",
    "    Examples\n",
    "    --------\n",
    "    >>> input = list(range(10))\n",
    "    >>> binary_search(input, 5)\n",
    "    5\n",
    "    >>> binary_search(input, 4.5)\n",
    "    -1\n",
    "    >>> binary_search(input, 10)\n",
    "    -1\n",
    "    >>> binary_search([5], 5)\n",
    "    0\n",
    "    >>> binary_search([5], 4)\n",
    "    -1\n",
    "    >>> import numpy as np\n",
    "    >>> binary_search([1,2,np.inf], 2)\n",
    "    1\n",
    "    >>> binary_search([1,2,np.inf], np.inf)\n",
    "    2\n",
    "    \"\"\"\n",
    "    if left==0:\n",
    "        rangemin = 0\n",
    "    else:\n",
    "        rangemin = left\n",
    "    if right==-1:\n",
    "        rangemax=len(da_array) - 1\n",
    "    else:\n",
    "        rangemax=right\n",
    "    while True:\n",
    "        \"needle in da_array => needle in da_array[rangemin:rangemax]\"   \n",
    "        if rangemin > rangemax:\n",
    "            index = -1\n",
    "            return index\n",
    "        #If rangemin and rangemax are both very high we do not want overflow,\n",
    "        #so get the midpoint like this:\n",
    "        midpoint = rangemin + (rangemax - rangemin)//2\n",
    "        if da_array[midpoint] > needle:#lower part\n",
    "            rangemax = midpoint - 1\n",
    "        elif da_array[midpoint] < needle:\n",
    "            rangemin = midpoint + 1\n",
    "        else:\n",
    "            index = midpoint\n",
    "            return index"
   ]
  },
  {
   "cell_type": "code",
   "execution_count": 10,
   "metadata": {
    "collapsed": false,
    "slideshow": {
     "slide_type": "slide"
    }
   },
   "outputs": [
    {
     "name": "stdout",
     "output_type": "stream",
     "text": [
      "Finding tests in NoName\n",
      "Trying:\n",
      "    input = list(range(10))\n",
      "Expecting nothing\n",
      "ok\n",
      "Trying:\n",
      "    binary_search(input, 5)\n",
      "Expecting:\n",
      "    5\n",
      "ok\n",
      "Trying:\n",
      "    binary_search(input, 4.5)\n",
      "Expecting:\n",
      "    -1\n",
      "ok\n",
      "Trying:\n",
      "    binary_search(input, 10)\n",
      "Expecting:\n",
      "    -1\n",
      "ok\n",
      "Trying:\n",
      "    binary_search([5], 5)\n",
      "Expecting:\n",
      "    0\n",
      "ok\n",
      "Trying:\n",
      "    binary_search([5], 4)\n",
      "Expecting:\n",
      "    -1\n",
      "ok\n",
      "Trying:\n",
      "    import numpy as np\n",
      "Expecting nothing\n",
      "ok\n",
      "Trying:\n",
      "    binary_search([1,2,np.inf], 2)\n",
      "Expecting:\n",
      "    1\n",
      "ok\n",
      "Trying:\n",
      "    binary_search([1,2,np.inf], np.inf)\n",
      "Expecting:\n",
      "    2\n",
      "ok\n"
     ]
    }
   ],
   "source": [
    "dtest(binary_search, globals(), verbose=True)"
   ]
  },
  {
   "cell_type": "markdown",
   "metadata": {
    "slideshow": {
     "slide_type": "slide"
    }
   },
   "source": [
    "### What's happened to our issues from before?\n",
    "\n",
    "- What if the value is not there in the array? What if it is there multiple times? what are we returning (why the -1). Are we consistent in our returning?\n",
    "\n",
    "We return -1 if the element is not in the array. If it is there multiple times, we will return one of them: it is not defined which. We are consistent by always returning an int, choosing one which cannot be an index.\n",
    "\n",
    "- What if rangemax is so high as to create overflow: \n",
    "\n",
    "We fixed it by using the difference and have documented it in the algorithm\n",
    "\n",
    "\n",
    "- what types are we supporting? . \n",
    "\n",
    "It seems that as long as we have a notion of equals `==`, and a notion of `<` to support sorting we are set. We should document this.\n",
    "\n",
    "- what happens if we have a NaN in our array? Infty?\n",
    "\n",
    "If our preconditions are violated by the user, we can do anything. Doing it nicely might be costly. so we wont.\n",
    "\n",
    "\n",
    "- what if da_array was not an array?\n",
    "\n",
    "The user violated the pre-conditions. Anything could happen. We could check for a list\n",
    "but yhen that would hurt a special class which implemented the python sequence protocol\n",
    "\n",
    "- What happens if array is not sorted: \n",
    "\n",
    "The user violated the pre-conditions. We could return an error, violate post conditions. If we sort it we'd violate the o(lg(n)) notion. (fixing it seems dubious). Can we check if its sorted? This is naively O(n) and breaks our performance specifications. We can create a guard to terminate the array at more than n iterations for the infinite case or let the user have enough rope to hang themselves\n",
    "\n",
    "\n"
   ]
  },
  {
   "cell_type": "code",
   "execution_count": 13,
   "metadata": {
    "collapsed": false,
    "slideshow": {
     "slide_type": "slide"
    }
   },
   "outputs": [
    {
     "name": "stdout",
     "output_type": "stream",
     "text": [
      "Writing binsearch.py\n"
     ]
    }
   ],
   "source": [
    "%%file binsearch.py\n",
    "def binary_search(da_array: list, needle, left:int=0, right:int=-1) -> int:\n",
    "    \"\"\"\n",
    "    An algorithm that operates in O(lg(n)) to search for an element\n",
    "    in an array sorted in ascending order.\n",
    "    \n",
    "    Parameters\n",
    "    ----------\n",
    "    da_array : list\n",
    "        a list of \"comparable\"items sorted in non-descending order\n",
    "    needle: an item to find in the array; it may or may not\n",
    "        be in the array\n",
    "    left: int, optional\n",
    "        the left index in the array to search from. Default 0\n",
    "    right: int, optional\n",
    "        the right index in the array to search to. Default is -1\n",
    "        in which case we will use the end of the array `len(da_array) - 1`\n",
    "        \n",
    "    Returns\n",
    "    -------\n",
    "    index: int\n",
    "        an integer representing the index of `needle` if found, and -1\n",
    "        otherwise\n",
    "        \n",
    "    Notes\n",
    "    -----\n",
    "    PRE: `da_array` is sorted in non-decreasing order (thus items in\n",
    "        `da_array` must be comparable: implement < and ==)\n",
    "    POST: \n",
    "        - `da_array` is not changed by this function (immutable)\n",
    "        - returns `index`=-1 if `needle` is not in `da_array`\n",
    "        - returns an int `index ` in [0:len(da_array)] if\n",
    "          `index` is in `da_array`\n",
    "    INVARIANTS:\n",
    "        - If `needle` in `da_array`, needle in `da_array[rangemin:rangemax]`\n",
    "          is a loop invariant in the while loop below.\n",
    "    WARNINGS:\n",
    "        - If you provide an unsorted array this function is not guaranteed to terminate\n",
    "        - for multiple copies of a value in the arrar secrched for, the one returned is not guaranteed\n",
    "        - to be the smallest one.\n",
    "        \n",
    "    Examples\n",
    "    --------\n",
    "    >>> input = list(range(10))\n",
    "    >>> binary_search(input, 5)\n",
    "    5\n",
    "    >>> binary_search(input, 4.5)\n",
    "    -1\n",
    "    >>> binary_search(input, 10)\n",
    "    -1\n",
    "    >>> binary_search([5], 5)\n",
    "    0\n",
    "    >>> binary_search([5], 4)\n",
    "    -1\n",
    "    >>> import numpy as np\n",
    "    >>> binary_search([1,2,np.inf], 2)\n",
    "    1\n",
    "    >>> binary_search([1,2,np.inf], np.inf)\n",
    "    2\n",
    "    >>> binary_search(input, 5, 1,3)\n",
    "    -1\n",
    "    >>> binary_search(input, 2, 1,3)\n",
    "    2\n",
    "    >>> binary_search(input, 2, 3, 1)\n",
    "    -1\n",
    "    >>> binary_search(input, 2, 2, 2)\n",
    "    2\n",
    "    >>> binary_search(input, 5, 2, 2)\n",
    "    -1\n",
    "    \"\"\"\n",
    "    if left==0:\n",
    "        rangemin = 0\n",
    "    else:\n",
    "        rangemin = left\n",
    "    if right==-1:\n",
    "        rangemax=len(da_array) - 1\n",
    "    else:\n",
    "        rangemax=right\n",
    "    while True:\n",
    "        \"needle in da_array => needle in da_array[rangemin:rangemax]\"   \n",
    "        if rangemin > rangemax:\n",
    "            index = -1\n",
    "            return index\n",
    "        #If rangemin and rangemax are both very high we do not want overflow,\n",
    "        #so get the midpoint like this:\n",
    "        midpoint = rangemin + (rangemax - rangemin)//2\n",
    "        if da_array[midpoint] > needle:#lower part\n",
    "            rangemax = midpoint - 1\n",
    "        elif da_array[midpoint] < needle:\n",
    "            rangemin = midpoint + 1\n",
    "        else:\n",
    "            index = midpoint\n",
    "            return index\n",
    "\n"
   ]
  },
  {
   "cell_type": "code",
   "execution_count": 14,
   "metadata": {
    "collapsed": false,
    "slideshow": {
     "slide_type": "slide"
    }
   },
   "outputs": [
    {
     "name": "stdout",
     "output_type": "stream",
     "text": [
      "Trying:\n",
      "    input = list(range(10))\n",
      "Expecting nothing\n",
      "ok\n",
      "Trying:\n",
      "    binary_search(input, 5)\n",
      "Expecting:\n",
      "    5\n",
      "ok\n",
      "Trying:\n",
      "    binary_search(input, 4.5)\n",
      "Expecting:\n",
      "    -1\n",
      "ok\n",
      "Trying:\n",
      "    binary_search(input, 10)\n",
      "Expecting:\n",
      "    -1\n",
      "ok\n",
      "Trying:\n",
      "    binary_search([5], 5)\n",
      "Expecting:\n",
      "    0\n",
      "ok\n",
      "Trying:\n",
      "    binary_search([5], 4)\n",
      "Expecting:\n",
      "    -1\n",
      "ok\n",
      "Trying:\n",
      "    import numpy as np\n",
      "Expecting nothing\n",
      "ok\n",
      "Trying:\n",
      "    binary_search([1,2,np.inf], 2)\n",
      "Expecting:\n",
      "    1\n",
      "ok\n",
      "Trying:\n",
      "    binary_search([1,2,np.inf], np.inf)\n",
      "Expecting:\n",
      "    2\n",
      "ok\n",
      "Trying:\n",
      "    binary_search(input, 5, 1,3)\n",
      "Expecting:\n",
      "    -1\n",
      "ok\n",
      "Trying:\n",
      "    binary_search(input, 2, 1,3)\n",
      "Expecting:\n",
      "    2\n",
      "ok\n",
      "Trying:\n",
      "    binary_search(input, 2, 3, 1)\n",
      "Expecting:\n",
      "    -1\n",
      "ok\n",
      "Trying:\n",
      "    binary_search(input, 2, 2, 2)\n",
      "Expecting:\n",
      "    2\n",
      "ok\n",
      "Trying:\n",
      "    binary_search(input, 5, 2, 2)\n",
      "Expecting:\n",
      "    -1\n",
      "ok\n",
      "1 items had no tests:\n",
      "    binsearch\n",
      "1 items passed all tests:\n",
      "  14 tests in binsearch.binary_search\n",
      "14 tests in 2 items.\n",
      "14 passed and 0 failed.\n",
      "Test passed.\n"
     ]
    }
   ],
   "source": [
    "!/anaconda/envs/py35/bin/python3 -m doctest -v binsearch.py"
   ]
  },
  {
   "cell_type": "code",
   "execution_count": 15,
   "metadata": {
    "collapsed": false,
    "slideshow": {
     "slide_type": "slide"
    }
   },
   "outputs": [
    {
     "name": "stdout",
     "output_type": "stream",
     "text": [
      "Help on module binsearch:\n",
      "\n",
      "N\bNA\bAM\bME\bE\n",
      "    binsearch\n",
      "\n",
      "F\bFU\bUN\bNC\bCT\bTI\bIO\bON\bNS\bS\n",
      "    b\bbi\bin\bna\bar\bry\by_\b_s\bse\bea\bar\brc\bch\bh(da_array:list, needle, left:int=0, right:int=-1) -> int\n",
      "        An algorithm that operates in O(lg(n)) to search for an element\n",
      "        in an array sorted in ascending order.\n",
      "        \n",
      "        Parameters\n",
      "        ----------\n",
      "        da_array : list\n",
      "            a list of \"comparable\"items sorted in non-descending order\n",
      "        needle: an item to find in the array; it may or may not\n",
      "            be in the array\n",
      "        left: int, optional\n",
      "            the left index in the array to search from. Default 0\n",
      "        right: int, optional\n",
      "            the right index in the array to search to. Default is -1\n",
      "            in which case we will use the end of the array `len(da_array) - 1`\n",
      "            \n",
      "        Returns\n",
      "        -------\n",
      "        index: int\n",
      "            an integer representing the index of `needle` if found, and -1\n",
      "            otherwise\n",
      "            \n",
      "        Notes\n",
      "        -----\n",
      "        PRE: `da_array` is sorted in non-decreasing order (thus items in\n",
      "            `da_array` must be comparable: implement < and ==)\n",
      "        POST: \n",
      "            - `da_array` is not changed by this function (immutable)\n",
      "            - returns `index`=-1 if `needle` is not in `da_array`\n",
      "            - returns an int `index ` in [0:len(da_array)] if\n",
      "              `index` is in `da_array`\n",
      "        INVARIANTS:\n",
      "            - If `needle` in `da_array`, needle in `da_array[rangemin:rangemax]`\n",
      "              is a loop invariant in the while loop below.\n",
      "        WARNINGS:\n",
      "            - If you provide an unsorted array this function is not guaranteed to terminate\n",
      "            - for multiple copies of a value in the arrar secrched for, the one returned is not guaranteed\n",
      "            - to be the smallest one.\n",
      "            \n",
      "        Examples\n",
      "        --------\n",
      "        >>> input = list(range(10))\n",
      "        >>> binary_search(input, 5)\n",
      "        5\n",
      "        >>> binary_search(input, 4.5)\n",
      "        -1\n",
      "        >>> binary_search(input, 10)\n",
      "        -1\n",
      "        >>> binary_search([5], 5)\n",
      "        0\n",
      "        >>> binary_search([5], 4)\n",
      "        -1\n",
      "        >>> import numpy as np\n",
      "        >>> binary_search([1,2,np.inf], 2)\n",
      "        1\n",
      "        >>> binary_search([1,2,np.inf], np.inf)\n",
      "        2\n",
      "        >>> binary_search(input, 5, 1,3)\n",
      "        -1\n",
      "        >>> binary_search(input, 2, 1,3)\n",
      "        2\n",
      "        >>> binary_search(input, 2, 3, 1)\n",
      "        -1\n",
      "        >>> binary_search(input, 2, 2, 2)\n",
      "        2\n",
      "        >>> binary_search(input, 5, 2, 2)\n",
      "        -1\n",
      "\n",
      "F\bFI\bIL\bLE\bE\n",
      "    /Users/rahul/Projects/cs109/notebooks/cs207/lecswithlabs/week3/binsearch.py\n",
      "\n",
      "\n"
     ]
    }
   ],
   "source": [
    "!/anaconda/envs/py35/bin/pydoc3 binsearch"
   ]
  }
 ],
 "metadata": {
  "celltoolbar": "Slideshow",
  "kernelspec": {
   "display_name": "Python 3",
   "language": "python",
   "name": "python3"
  },
  "language_info": {
   "codemirror_mode": {
    "name": "ipython",
    "version": 3
   },
   "file_extension": ".py",
   "mimetype": "text/x-python",
   "name": "python",
   "nbconvert_exporter": "python",
   "pygments_lexer": "ipython3",
   "version": "3.5.1"
  }
 },
 "nbformat": 4,
 "nbformat_minor": 0
}
