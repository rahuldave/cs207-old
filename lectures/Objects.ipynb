{
 "cells": [
  {
   "cell_type": "markdown",
   "metadata": {
    "slideshow": {
     "slide_type": "slide"
    }
   },
   "source": [
    "# Objects"
   ]
  },
  {
   "cell_type": "code",
   "execution_count": 2,
   "metadata": {
    "collapsed": true,
    "slideshow": {
     "slide_type": "skip"
    }
   },
   "outputs": [],
   "source": [
    "from IPython.display import HTML"
   ]
  },
  {
   "cell_type": "markdown",
   "metadata": {
    "slideshow": {
     "slide_type": "slide"
    }
   },
   "source": [
    "If we are talking about integers, then equality is simple. \n",
    "\n",
    "`3==3`."
   ]
  },
  {
   "cell_type": "code",
   "execution_count": 3,
   "metadata": {
    "collapsed": false,
    "slideshow": {
     "slide_type": "fragment"
    }
   },
   "outputs": [
    {
     "data": {
      "text/plain": [
       "True"
      ]
     },
     "execution_count": 3,
     "metadata": {},
     "output_type": "execute_result"
    }
   ],
   "source": [
    "[1,2,3,4]==[1,2,3,4]"
   ]
  },
  {
   "cell_type": "markdown",
   "metadata": {
    "slideshow": {
     "slide_type": "fragment"
    }
   },
   "source": [
    "We could even test lists item by item. But what if we have a \"Squirrel\". How would we define a squirrel?\n",
    "What does equality mean for two squirrels? \n",
    "\n",
    "The answer to these questions are *Classes* and the *Python Data or Object Model* respectively. \n"
   ]
  },
  {
   "cell_type": "markdown",
   "metadata": {
    "slideshow": {
     "slide_type": "slide"
    }
   },
   "source": [
    "A language has 3 parts:\n",
    "\n",
    "- expressions and statements: how to structure simple computations\n",
    "- means of combination: how to structure complex computations\n",
    "- means of abstraction: how to build complex units"
   ]
  },
  {
   "cell_type": "markdown",
   "metadata": {
    "slideshow": {
     "slide_type": "slide"
    }
   },
   "source": [
    "## Means of Abstraction: how to build complex units\n",
    "\n",
    "What we are trying to do, then, is to find a way to represent data in the context of our programming language. In particular, we are concerned with complex data, structured data. For example, to prepresent a location, we might want to associate a `name` with it, a `latitude`, and a `longitude`. Thus we would want to create a **compound data type** which carries this information. In C, this is a struct:\n",
    "\n",
    "```C\n",
    "struct location {\n",
    "    float longitude;\n",
    "    float latitude;\n",
    "}\n",
    "typedef struct location location;\n",
    "\n",
    "location* mylocation = (location *) malloc(sizeof(location));\n",
    "```"
   ]
  },
  {
   "cell_type": "markdown",
   "metadata": {
    "slideshow": {
     "slide_type": "slide"
    }
   },
   "source": [
    "Notice further, that when we write a function, we usually give it some sensible name which can then be used by a \"client\" programmer (we put this function into a \"library\"). We usually dont want to care about how this function is implemented, but rather, just want to know its signature (API) and use it.\n",
    "\n",
    "In a similar way, we want to *encapsulate* our data: we dont want to know how it is stored and all that, but rather, just be able to use it. This is one of the key ideas behind object oriented programming. \n",
    "\n",
    "To do this we right \"constructors\" that make objects, and other functions that access or change data on the object. These functions, along with functions providing other functionality from the object, are called the \"methods\" of the object, and are the way, the client programmer deals with the object."
   ]
  },
  {
   "cell_type": "markdown",
   "metadata": {
    "slideshow": {
     "slide_type": "slide"
    }
   },
   "source": [
    "### Objects thru tuples \n",
    "\n",
    "How might we implement such objects? First, lets think of tuples, for example. We'll implement an object for complex numbers"
   ]
  },
  {
   "cell_type": "code",
   "execution_count": 6,
   "metadata": {
    "collapsed": true,
    "slideshow": {
     "slide_type": "fragment"
    }
   },
   "outputs": [],
   "source": [
    "def Complex(a, b):\n",
    "    return (a,b)\n",
    "\n",
    "def real(c):\n",
    "    return c[0]\n",
    "\n",
    "def imag(c):\n",
    "    return c[1]\n",
    "\n",
    "def str_complex(c):\n",
    "    return \"{0}+{1}i\".format(c[0], c[1])"
   ]
  },
  {
   "cell_type": "code",
   "execution_count": 7,
   "metadata": {
    "collapsed": false,
    "slideshow": {
     "slide_type": "slide"
    }
   },
   "outputs": [
    {
     "data": {
      "text/plain": [
       "1"
      ]
     },
     "execution_count": 7,
     "metadata": {},
     "output_type": "execute_result"
    }
   ],
   "source": [
    "c1 = Complex(1,2)\n",
    "real(c1)"
   ]
  },
  {
   "cell_type": "code",
   "execution_count": 8,
   "metadata": {
    "collapsed": false,
    "slideshow": {
     "slide_type": "fragment"
    }
   },
   "outputs": [
    {
     "data": {
      "text/plain": [
       "'1+2i'"
      ]
     },
     "execution_count": 8,
     "metadata": {},
     "output_type": "execute_result"
    }
   ],
   "source": [
    "str_complex(c1)"
   ]
  },
  {
   "cell_type": "markdown",
   "metadata": {
    "slideshow": {
     "slide_type": "fragment"
    }
   },
   "source": [
    "But I can bust through the interface"
   ]
  },
  {
   "cell_type": "code",
   "execution_count": 9,
   "metadata": {
    "collapsed": false,
    "slideshow": {
     "slide_type": "fragment"
    }
   },
   "outputs": [
    {
     "data": {
      "text/plain": [
       "1"
      ]
     },
     "execution_count": 9,
     "metadata": {},
     "output_type": "execute_result"
    }
   ],
   "source": [
    "c1[0]"
   ]
  },
  {
   "cell_type": "markdown",
   "metadata": {
    "slideshow": {
     "slide_type": "slide"
    }
   },
   "source": [
    "Because I used a tuple, and a tuple is immutable, i cant change this complex number once created."
   ]
  },
  {
   "cell_type": "code",
   "execution_count": 10,
   "metadata": {
    "collapsed": false,
    "slideshow": {
     "slide_type": "fragment"
    }
   },
   "outputs": [
    {
     "ename": "TypeError",
     "evalue": "'tuple' object does not support item assignment",
     "output_type": "error",
     "traceback": [
      "\u001b[0;31m---------------------------------------------------------------------------\u001b[0m",
      "\u001b[0;31mTypeError\u001b[0m                                 Traceback (most recent call last)",
      "\u001b[0;32m<ipython-input-10-4a58229b27de>\u001b[0m in \u001b[0;36m<module>\u001b[0;34m()\u001b[0m\n\u001b[0;32m----> 1\u001b[0;31m \u001b[0mc1\u001b[0m\u001b[0;34m[\u001b[0m\u001b[0;36m0\u001b[0m\u001b[0;34m]\u001b[0m\u001b[0;34m=\u001b[0m\u001b[0;36m2\u001b[0m\u001b[0;34m\u001b[0m\u001b[0m\n\u001b[0m",
      "\u001b[0;31mTypeError\u001b[0m: 'tuple' object does not support item assignment"
     ]
    }
   ],
   "source": [
    "c1[0]=2"
   ]
  },
  {
   "cell_type": "markdown",
   "metadata": {
    "slideshow": {
     "slide_type": "slide"
    }
   },
   "source": [
    "### Objects thru closures\n",
    "\n",
    "So let me write another implementation, one that uses a closure to capture the value of arguments..."
   ]
  },
  {
   "cell_type": "code",
   "execution_count": 11,
   "metadata": {
    "collapsed": true,
    "slideshow": {
     "slide_type": "fragment"
    }
   },
   "outputs": [],
   "source": [
    "def Complex2(a, b):\n",
    "    def dispatch(message):\n",
    "        if message==\"real\":\n",
    "            return a\n",
    "        elif message=='imag':\n",
    "            return b\n",
    "        elif message==\"str\":\n",
    "            return \"{0}+{1}i\".format(a, b)\n",
    "    return dispatch"
   ]
  },
  {
   "cell_type": "code",
   "execution_count": 150,
   "metadata": {
    "collapsed": false,
    "slideshow": {
     "slide_type": "fragment"
    }
   },
   "outputs": [
    {
     "name": "stdout",
     "output_type": "stream",
     "text": [
      "1 2 1+2i\n"
     ]
    }
   ],
   "source": [
    "c2=Complex2(1,2)\n",
    "print(c2(\"real\"), c2(\"imag\"), c2(\"str\"))"
   ]
  },
  {
   "cell_type": "markdown",
   "metadata": {
    "slideshow": {
     "slide_type": "slide"
    }
   },
   "source": [
    "#### Objects with Setters\n",
    "\n",
    "I still dont have any setters....so, lets add them"
   ]
  },
  {
   "cell_type": "code",
   "execution_count": 151,
   "metadata": {
    "collapsed": true,
    "slideshow": {
     "slide_type": "fragment"
    }
   },
   "outputs": [],
   "source": [
    "def Complex3(a, b):\n",
    "    in_a=a\n",
    "    in_b=b\n",
    "    def dispatch(message, value=None):\n",
    "        nonlocal in_a, in_b\n",
    "        if message=='set_real' and value != None:\n",
    "            in_a = value\n",
    "        elif message=='set_imag' and value != None:\n",
    "            in_b = value\n",
    "        elif message==\"real\":\n",
    "            return in_a\n",
    "        elif message=='imag':\n",
    "            return in_b\n",
    "        elif message==\"str\":\n",
    "            return \"{0}+{1}i\".format(in_a, in_b)\n",
    "    return dispatch"
   ]
  },
  {
   "cell_type": "code",
   "execution_count": 152,
   "metadata": {
    "collapsed": false,
    "slideshow": {
     "slide_type": "slide"
    }
   },
   "outputs": [
    {
     "name": "stdout",
     "output_type": "stream",
     "text": [
      "1 2 1+2i\n"
     ]
    }
   ],
   "source": [
    "c3=Complex3(1,2)\n",
    "print(c3(\"real\"), c3(\"imag\"), c3(\"str\"))"
   ]
  },
  {
   "cell_type": "code",
   "execution_count": 118,
   "metadata": {
    "collapsed": true,
    "slideshow": {
     "slide_type": "fragment"
    }
   },
   "outputs": [],
   "source": [
    "c3('set_real', 2)"
   ]
  },
  {
   "cell_type": "code",
   "execution_count": 119,
   "metadata": {
    "collapsed": false,
    "slideshow": {
     "slide_type": "fragment"
    }
   },
   "outputs": [
    {
     "name": "stdout",
     "output_type": "stream",
     "text": [
      "2 2 2+2i\n"
     ]
    }
   ],
   "source": [
    "print(c3(\"real\"), c3(\"imag\"), c3(\"str\"))"
   ]
  },
  {
   "cell_type": "markdown",
   "metadata": {
    "slideshow": {
     "slide_type": "slide"
    }
   },
   "source": [
    "### Python Classes and instance variables\n",
    "\n",
    "Classes allow us to define our own *types* in the python type system. "
   ]
  },
  {
   "cell_type": "code",
   "execution_count": 189,
   "metadata": {
    "collapsed": true,
    "slideshow": {
     "slide_type": "fragment"
    }
   },
   "outputs": [],
   "source": [
    "class ComplexClass():\n",
    "    \n",
    "    def __init__(self, a, b):\n",
    "        self.real = a\n",
    "        self.imaginary = b\n"
   ]
  },
  {
   "cell_type": "code",
   "execution_count": 190,
   "metadata": {
    "collapsed": false,
    "slideshow": {
     "slide_type": "fragment"
    }
   },
   "outputs": [
    {
     "name": "stdout",
     "output_type": "stream",
     "text": [
      "<__main__.ComplexClass object at 0x105214320> 1\n"
     ]
    }
   ],
   "source": [
    "c1 = ComplexClass(1,2)\n",
    "print(c1, c1.real)"
   ]
  },
  {
   "cell_type": "code",
   "execution_count": 191,
   "metadata": {
    "collapsed": false,
    "slideshow": {
     "slide_type": "fragment"
    }
   },
   "outputs": [
    {
     "data": {
      "text/plain": [
       "{'imaginary': 2, 'real': 1}"
      ]
     },
     "execution_count": 191,
     "metadata": {},
     "output_type": "execute_result"
    }
   ],
   "source": [
    "vars(c1)"
   ]
  },
  {
   "cell_type": "code",
   "execution_count": 192,
   "metadata": {
    "collapsed": false,
    "slideshow": {
     "slide_type": "fragment"
    }
   },
   "outputs": [
    {
     "name": "stdout",
     "output_type": "stream",
     "text": [
      "<__main__.ComplexClass object at 0x105214320> 5 2\n"
     ]
    }
   ],
   "source": [
    "c1.real=5\n",
    "print(c1, c1.real, c1.imaginary)"
   ]
  },
  {
   "cell_type": "markdown",
   "metadata": {
    "slideshow": {
     "slide_type": "slide"
    }
   },
   "source": [
    "### Inheritance and Polymorphism\n",
    "\n",
    "**Inheritance** is the idea that a \"Cat\" is-a \"Animal\" and a \"Dog\" is-a \"Animal\". \"Animal\"s make sounds, but Cats Meow and Dogs Bark. Inheritance makes sure that *methods not defined in a child are found and used from a parent*.\n",
    "\n",
    "**Polymorphism** is the idea that an **interface** is specified (not necessarily implemented) by a superclass, and then its implemented in subclasses (differently). (In compiled languages, then, a superclass reference is used to call subclass methods.)"
   ]
  },
  {
   "cell_type": "code",
   "execution_count": 139,
   "metadata": {
    "collapsed": true,
    "slideshow": {
     "slide_type": "slide"
    }
   },
   "outputs": [],
   "source": [
    "class Animal():\n",
    "    \n",
    "    def __init__(self, name):\n",
    "        self.name = name\n",
    "        \n",
    "    def make_sound(self):\n",
    "        raise NotImplementedError\n",
    "    \n",
    "class Dog(Animal):\n",
    "    \n",
    "    def make_sound(self):\n",
    "        return \"Bark\"\n",
    "    \n",
    "class Cat(Animal):\n",
    "    \n",
    "    def __init__(self, name):\n",
    "        self.name = \"Best Animal %s\" % name\n",
    "        \n",
    "    def make_sound(self):\n",
    "        return \"Meow\"  "
   ]
  },
  {
   "cell_type": "code",
   "execution_count": 140,
   "metadata": {
    "collapsed": false,
    "slideshow": {
     "slide_type": "slide"
    }
   },
   "outputs": [
    {
     "name": "stdout",
     "output_type": "stream",
     "text": [
      "Rahul\n"
     ]
    },
    {
     "ename": "NotImplementedError",
     "evalue": "",
     "output_type": "error",
     "traceback": [
      "\u001b[0;31m---------------------------------------------------------------------------\u001b[0m",
      "\u001b[0;31mNotImplementedError\u001b[0m                       Traceback (most recent call last)",
      "\u001b[0;32m<ipython-input-140-18721729352b>\u001b[0m in \u001b[0;36m<module>\u001b[0;34m()\u001b[0m\n\u001b[1;32m      1\u001b[0m \u001b[0ma0\u001b[0m \u001b[0;34m=\u001b[0m \u001b[0mAnimal\u001b[0m\u001b[0;34m(\u001b[0m\u001b[0;34m\"Rahul\"\u001b[0m\u001b[0;34m)\u001b[0m\u001b[0;34m\u001b[0m\u001b[0m\n\u001b[1;32m      2\u001b[0m \u001b[0mprint\u001b[0m\u001b[0;34m(\u001b[0m\u001b[0ma0\u001b[0m\u001b[0;34m.\u001b[0m\u001b[0mname\u001b[0m\u001b[0;34m)\u001b[0m\u001b[0;34m\u001b[0m\u001b[0m\n\u001b[0;32m----> 3\u001b[0;31m \u001b[0ma0\u001b[0m\u001b[0;34m.\u001b[0m\u001b[0mmake_sound\u001b[0m\u001b[0;34m(\u001b[0m\u001b[0;34m)\u001b[0m\u001b[0;34m\u001b[0m\u001b[0m\n\u001b[0m",
      "\u001b[0;32m<ipython-input-139-bc3b1c8db26b>\u001b[0m in \u001b[0;36mmake_sound\u001b[0;34m(self)\u001b[0m\n\u001b[1;32m      5\u001b[0m \u001b[0;34m\u001b[0m\u001b[0m\n\u001b[1;32m      6\u001b[0m     \u001b[0;32mdef\u001b[0m \u001b[0mmake_sound\u001b[0m\u001b[0;34m(\u001b[0m\u001b[0mself\u001b[0m\u001b[0;34m)\u001b[0m\u001b[0;34m:\u001b[0m\u001b[0;34m\u001b[0m\u001b[0m\n\u001b[0;32m----> 7\u001b[0;31m         \u001b[0;32mraise\u001b[0m \u001b[0mNotImplementedError\u001b[0m\u001b[0;34m\u001b[0m\u001b[0m\n\u001b[0m\u001b[1;32m      8\u001b[0m \u001b[0;34m\u001b[0m\u001b[0m\n\u001b[1;32m      9\u001b[0m \u001b[0;32mclass\u001b[0m \u001b[0mDog\u001b[0m\u001b[0;34m(\u001b[0m\u001b[0mAnimal\u001b[0m\u001b[0;34m)\u001b[0m\u001b[0;34m:\u001b[0m\u001b[0;34m\u001b[0m\u001b[0m\n",
      "\u001b[0;31mNotImplementedError\u001b[0m: "
     ]
    }
   ],
   "source": [
    "a0 = Animal(\"Rahul\")\n",
    "print(a0.name)\n",
    "a0.make_sound()"
   ]
  },
  {
   "cell_type": "code",
   "execution_count": 141,
   "metadata": {
    "collapsed": false,
    "slideshow": {
     "slide_type": "slide"
    }
   },
   "outputs": [
    {
     "name": "stdout",
     "output_type": "stream",
     "text": [
      "Snoopy\n",
      "True\n",
      "Bark\n",
      "--------\n",
      "Best Animal Tom\n",
      "True\n",
      "Meow\n",
      "--------\n"
     ]
    }
   ],
   "source": [
    "a1 = Dog(\"Snoopy\")\n",
    "a2 = Cat(\"Tom\")\n",
    "animals = [a1, a2]\n",
    "for a in animals:\n",
    "    print(a.name)\n",
    "    print(isinstance(a, Animal))\n",
    "    print(a.make_sound())\n",
    "    print('--------')"
   ]
  },
  {
   "cell_type": "code",
   "execution_count": 159,
   "metadata": {
    "collapsed": false,
    "scrolled": false,
    "slideshow": {
     "slide_type": "slide"
    }
   },
   "outputs": [
    {
     "data": {
      "text/html": [
       "<iframe width=\"1000\" height=\"800\" frameborder=\"0\" src=\"http://pythontutor.com/iframe-embed.html#code=class+Animal(%29%3A%0A++++%0A++++def+__init__(self,+name%29%3A%0A++++++++self.name+%3D+name%0A++++++++%0A++++def+make_sound(self%29%3A%0A++++++++raise+NotImplementedError%0A++++%0Aclass+Dog(Animal%29%3A%0A++++%0A++++def+make_sound(self%29%3A%0A++++++++return+%22Bark%22%0A++++%0Aclass+Cat(Animal%29%3A%0A++++%0A++++def+__init__(self,+name%29%3A%0A++++++++self.name+%3D+%22Best+Animal+%25s%22+%25+name%0A++++++++%0A++++def+make_sound(self%29%3A%0A++++++++return+%22Meow%22++%0A++++++++%0Aa1+%3D+Dog(%22Snoopy%22%29%0Aa2+%3D+Cat(%22Tom%22%29%0Aanimals+%3D+%5Ba1,+a2%5D%0Afor+a+in+animals%3A%0A++++print(a.name%29%0A++++print(isinstance(a,+Animal%29%29%0A++++print(a.make_sound(%29%29%0A++++print(%22--------%22%29&origin=opt-frontend.js&cumulative=false&heapPrimitives=false&textReferences=false&py=3&rawInputLstJSON=%5B%5D&curInstr=0&codeDivWidth=350&codeDivHeight=400\"> </iframe>"
      ],
      "text/plain": [
       "<IPython.core.display.HTML object>"
      ]
     },
     "execution_count": 159,
     "metadata": {},
     "output_type": "execute_result"
    }
   ],
   "source": [
    "HTML('<iframe width=\"1000\" height=\"800\" frameborder=\"0\" src=\"http://pythontutor.com/iframe-embed.html#code=class+Animal(%29%3A%0A++++%0A++++def+__init__(self,+name%29%3A%0A++++++++self.name+%3D+name%0A++++++++%0A++++def+make_sound(self%29%3A%0A++++++++raise+NotImplementedError%0A++++%0Aclass+Dog(Animal%29%3A%0A++++%0A++++def+make_sound(self%29%3A%0A++++++++return+%22Bark%22%0A++++%0Aclass+Cat(Animal%29%3A%0A++++%0A++++def+__init__(self,+name%29%3A%0A++++++++self.name+%3D+%22Best+Animal+%25s%22+%25+name%0A++++++++%0A++++def+make_sound(self%29%3A%0A++++++++return+%22Meow%22++%0A++++++++%0Aa1+%3D+Dog(%22Snoopy%22%29%0Aa2+%3D+Cat(%22Tom%22%29%0Aanimals+%3D+%5Ba1,+a2%5D%0Afor+a+in+animals%3A%0A++++print(a.name%29%0A++++print(isinstance(a,+Animal%29%29%0A++++print(a.make_sound(%29%29%0A++++print(%22--------%22%29&origin=opt-frontend.js&cumulative=false&heapPrimitives=false&textReferences=false&py=3&rawInputLstJSON=%5B%5D&curInstr=0&codeDivWidth=350&codeDivHeight=400\"> </iframe>')"
   ]
  },
  {
   "cell_type": "markdown",
   "metadata": {
    "slideshow": {
     "slide_type": "slide"
    }
   },
   "source": [
    "### Calling a superclasses initializer\n",
    "\n",
    "Say we dont want to do all the work of setting the name variable in the subclasses. We can set this \"common\" work up in the superclass and use `super` to call the superclass'es initializer from the subclass (See https://rhettinger.wordpress.com/2011/05/26/super-considered-super/)"
   ]
  },
  {
   "cell_type": "code",
   "execution_count": 162,
   "metadata": {
    "collapsed": false,
    "slideshow": {
     "slide_type": "fragment"
    }
   },
   "outputs": [
    {
     "name": "stdout",
     "output_type": "stream",
     "text": [
      "Created Tom as prey\n",
      "{'animaltype': 'prey', 'name': 'Tom'}\n",
      "{'name': 'Jerry'}\n"
     ]
    }
   ],
   "source": [
    "class Animal():\n",
    "    \n",
    "    def __init__(self, name):\n",
    "        self.name=name\n",
    "        \n",
    "class Mouse(Animal):\n",
    "    def __init__(self, name):\n",
    "        self.animaltype=\"prey\"\n",
    "        super().__init__(name)\n",
    "        print(\"Created %s as %s\" % (self.name, self.animaltype))\n",
    "    \n",
    "class Cat(Animal):\n",
    "    pass\n",
    "\n",
    "a1 = Mouse(\"Tom\")\n",
    "print(vars(a1))\n",
    "a2 = Cat(\"Jerry\")\n",
    "print(vars(a2))"
   ]
  },
  {
   "cell_type": "code",
   "execution_count": 163,
   "metadata": {
    "collapsed": false,
    "slideshow": {
     "slide_type": "slide"
    }
   },
   "outputs": [
    {
     "data": {
      "text/html": [
       "<iframe width=\"800\" height=\"500\" frameborder=\"0\" src=\"http://pythontutor.com/iframe-embed.html#code=class+Animal(%29%3A%0A++++%0A++++def+__init__(self,+name%29%3A%0A++++++++self.name%3Dname%0A++++++++%0Aclass+Mouse(Animal%29%3A%0A++++def+__init__(self,+name%29%3A%0A++++++++self.animaltype%3D%22prey%22%0A++++++++super(%29.__init__(name%29%0A++++++++print(%22Created+%25s+as+%25s%22+%25+(self.name,+self.animaltype%29%29%0A++++%0Aclass+Cat(Animal%29%3A%0A++++pass%0A%0Aa1+%3D+Mouse(%22Tom%22%29%0Aa2+%3D+Cat(%22Jerry%22%29&origin=opt-frontend.js&cumulative=false&heapPrimitives=false&textReferences=false&py=3&rawInputLstJSON=%5B%5D&curInstr=0&codeDivWidth=350&codeDivHeight=400\"> </iframe>"
      ],
      "text/plain": [
       "<IPython.core.display.HTML object>"
      ]
     },
     "execution_count": 163,
     "metadata": {},
     "output_type": "execute_result"
    }
   ],
   "source": [
    "HTML('<iframe width=\"800\" height=\"500\" frameborder=\"0\" src=\"http://pythontutor.com/iframe-embed.html#code=class+Animal(%29%3A%0A++++%0A++++def+__init__(self,+name%29%3A%0A++++++++self.name%3Dname%0A++++++++%0Aclass+Mouse(Animal%29%3A%0A++++def+__init__(self,+name%29%3A%0A++++++++self.animaltype%3D%22prey%22%0A++++++++super(%29.__init__(name%29%0A++++++++print(%22Created+%25s+as+%25s%22+%25+(self.name,+self.animaltype%29%29%0A++++%0Aclass+Cat(Animal%29%3A%0A++++pass%0A%0Aa1+%3D+Mouse(%22Tom%22%29%0Aa2+%3D+Cat(%22Jerry%22%29&origin=opt-frontend.js&cumulative=false&heapPrimitives=false&textReferences=false&py=3&rawInputLstJSON=%5B%5D&curInstr=0&codeDivWidth=350&codeDivHeight=400\"> </iframe>')"
   ]
  },
  {
   "cell_type": "markdown",
   "metadata": {
    "slideshow": {
     "slide_type": "slide"
    }
   },
   "source": [
    "### Interfaces\n",
    "\n",
    "The above example shows inheritance and Polymorphism. But notice that we didnt actually need to set up the inheritance. We could have just defined 2 different classes and have them both `make_sound`, the same code would work. In java and C++ this is done more formally through Interfaces and  Abstract Base Classes respectively and inheritance, but in Python this agreement to define `make_sound` is called \"duck typing\""
   ]
  },
  {
   "cell_type": "code",
   "execution_count": 129,
   "metadata": {
    "collapsed": false,
    "slideshow": {
     "slide_type": "fragment"
    }
   },
   "outputs": [
    {
     "name": "stdout",
     "output_type": "stream",
     "text": [
      "False\n",
      "Bark\n",
      "False\n",
      "Meow\n"
     ]
    }
   ],
   "source": [
    "#both implement the \"Animal\" Protocol, which consists od the one make_sound function\n",
    "class Dog():\n",
    "    \n",
    "    def make_sound(self):\n",
    "        return \"Bark\"\n",
    "    \n",
    "class Cat():\n",
    "    \n",
    "    def make_sound(self):\n",
    "        return \"Meow\"  \n",
    "    \n",
    "a1 = Dog()\n",
    "a2 = Cat()\n",
    "animals = [a1, a2]\n",
    "for a in animals:\n",
    "    print(isinstance(a, Animal))\n",
    "    print(a.make_sound())"
   ]
  },
  {
   "cell_type": "markdown",
   "metadata": {
    "slideshow": {
     "slide_type": "slide"
    }
   },
   "source": [
    "### The Python Data Model\n",
    "\n",
    "- All python classes implicitly inherit from the root **object** class.\n",
    "- ABC's exist in python too and we'll talk about their use later. The allow for a much more formal definition of interfaces\n",
    "- The Pythonic way, is to just document your interface and implement it.\n",
    "\n",
    "This usage of common **interfaces** is pervasive in Python and is used in the *dunder* functions to comprise the python data model."
   ]
  },
  {
   "cell_type": "markdown",
   "metadata": {
    "slideshow": {
     "slide_type": "slide"
    }
   },
   "source": [
    "####   `__repr__`  \n",
    "\n",
    "The way printing works is that Python wants classes to implement a `__repr__` and a `__str__` method. It will use inheritance to give the built-in `object`s methods when these are not defined...but any class can define these. When an *instance* of such a class is interrogated with the `repr` or `str` function, then these underlying methods are called.\n",
    "\n",
    "We'll see `__repr__` here."
   ]
  },
  {
   "cell_type": "code",
   "execution_count": 164,
   "metadata": {
    "collapsed": true,
    "slideshow": {
     "slide_type": "fragment"
    }
   },
   "outputs": [],
   "source": [
    "class Animal():\n",
    "    \n",
    "    def __init__(self, name):\n",
    "        self.name=name\n",
    "        \n",
    "    def __repr__(self):\n",
    "        class_name = type(self).__name__\n",
    "        return \"%s(name=%r)\" % (class_name, self.name)"
   ]
  },
  {
   "cell_type": "code",
   "execution_count": 62,
   "metadata": {
    "collapsed": false,
    "slideshow": {
     "slide_type": "slide"
    }
   },
   "outputs": [
    {
     "data": {
      "text/plain": [
       "Animal(name='Rahul')"
      ]
     },
     "execution_count": 62,
     "metadata": {},
     "output_type": "execute_result"
    }
   ],
   "source": [
    "r = Animal(\"Rahul\")\n",
    "r"
   ]
  },
  {
   "cell_type": "code",
   "execution_count": 63,
   "metadata": {
    "collapsed": false,
    "slideshow": {
     "slide_type": "fragment"
    }
   },
   "outputs": [
    {
     "name": "stdout",
     "output_type": "stream",
     "text": [
      "Animal(name='Rahul')\n"
     ]
    }
   ],
   "source": [
    "print(r)"
   ]
  },
  {
   "cell_type": "code",
   "execution_count": 133,
   "metadata": {
    "collapsed": false,
    "slideshow": {
     "slide_type": "fragment"
    }
   },
   "outputs": [
    {
     "data": {
      "text/plain": [
       "\"Animal(name='Rahul')\""
      ]
     },
     "execution_count": 133,
     "metadata": {},
     "output_type": "execute_result"
    }
   ],
   "source": [
    "repr(r)"
   ]
  },
  {
   "cell_type": "markdown",
   "metadata": {
    "slideshow": {
     "slide_type": "slide"
    }
   },
   "source": [
    "#### The pattern with dunder methods\n",
    "\n",
    "In what is a pattern with dunder methods you will see quite often:\n",
    "\n",
    "there are methods without double-underscores that cause the methods with the double-underscores to be called.\n",
    "\n",
    "Thus `repr(an_object)` will cause `an_object.__repr__()` to be called. \n",
    "\n",
    "In user-level code, you SHOULD NEVER see the latter. In library level code, you might see the latter. The definition of the class is considered library level code."
   ]
  },
  {
   "cell_type": "markdown",
   "metadata": {
    "slideshow": {
     "slide_type": "slide"
    }
   },
   "source": [
    "#### Instance Equality via `__eq__`\n",
    "\n",
    "Now we are in a position to answer the initial question: what makes two squirrels equal!\n",
    "\n",
    "To do  this, we will add a new dunder method to the mix, the unimaginatively (thats a good thing) named `__eq__`."
   ]
  },
  {
   "cell_type": "code",
   "execution_count": 134,
   "metadata": {
    "collapsed": true,
    "slideshow": {
     "slide_type": "fragment"
    }
   },
   "outputs": [],
   "source": [
    "class Animal():\n",
    "    \n",
    "    def __init__(self, name):\n",
    "        self.name=name\n",
    "        \n",
    "    def __repr__(self):\n",
    "        class_name = type(self).__name__\n",
    "        return \"%s(name=%r)\" % (class_name, self.name)\n",
    "    \n",
    "    def __eq__(self, other):\n",
    "        return self.name==other.name"
   ]
  },
  {
   "cell_type": "code",
   "execution_count": 135,
   "metadata": {
    "collapsed": true,
    "slideshow": {
     "slide_type": "slide"
    }
   },
   "outputs": [],
   "source": [
    "A=Animal(\"Tom\")\n",
    "B=Animal(\"Jane\")\n",
    "C=Animal(\"Tom\")"
   ]
  },
  {
   "cell_type": "markdown",
   "metadata": {
    "slideshow": {
     "slide_type": "fragment"
    }
   },
   "source": [
    "Three separate object identities, but we made two of them equal!"
   ]
  },
  {
   "cell_type": "code",
   "execution_count": 157,
   "metadata": {
    "collapsed": false,
    "slideshow": {
     "slide_type": "fragment"
    }
   },
   "outputs": [
    {
     "name": "stdout",
     "output_type": "stream",
     "text": [
      "4380563776 4380561760 4380563832\n",
      "False False True\n"
     ]
    }
   ],
   "source": [
    "print(id(A), id(B), id(C))\n",
    "\n",
    "print(A==B, B==C, A==C)"
   ]
  },
  {
   "cell_type": "markdown",
   "metadata": {
    "slideshow": {
     "slide_type": "fragment"
    }
   },
   "source": [
    "This is critical because it gives us a say in what equality means"
   ]
  },
  {
   "cell_type": "markdown",
   "metadata": {
    "slideshow": {
     "slide_type": "slide"
    }
   },
   "source": [
    "### Python's power comes from the data model, composition, and delegation\n",
    "\n",
    "We've talked a bit about this data model or object model. We've seen it in the dinitions of  `__repr__` and `__eq__`.  What is it? Its the  (Fluent Python)\n",
    "\n",
    ">description of the interfaces of the building blocks of the language itself, such as sequences, iterators, functions, classes....\n",
    "\n",
    "The special \"dunder\" methods we talk about are invoked by the python interpreter to beform basic operations. For example, `__getitem__` gets an item in a sequence. This is used to do something like `a[3]`. `__len__` is used to say how long a sequence is. Its invoked by the `len` built in function. \n",
    "\n",
    "A sequence must implement `__len__` and `__getitem__`. Thats it.\n",
    "\n",
    "The original reference for this data mode is: https://docs.python.org/3/reference/datamodel.html ."
   ]
  },
  {
   "cell_type": "markdown",
   "metadata": {
    "slideshow": {
     "slide_type": "slide"
    }
   },
   "source": [
    "#### Tuple\n",
    "\n",
    "An example of a sequence in Python is the tuple. This means, that it must support indexing and be able to tell us its length."
   ]
  },
  {
   "cell_type": "code",
   "execution_count": 144,
   "metadata": {
    "collapsed": false,
    "slideshow": {
     "slide_type": "fragment"
    }
   },
   "outputs": [
    {
     "data": {
      "text/plain": [
       "1"
      ]
     },
     "execution_count": 144,
     "metadata": {},
     "output_type": "execute_result"
    }
   ],
   "source": [
    "a=(1,2)\n",
    "a[0]"
   ]
  },
  {
   "cell_type": "code",
   "execution_count": 145,
   "metadata": {
    "collapsed": false,
    "slideshow": {
     "slide_type": "fragment"
    }
   },
   "outputs": [
    {
     "data": {
      "text/plain": [
       "2"
      ]
     },
     "execution_count": 145,
     "metadata": {},
     "output_type": "execute_result"
    }
   ],
   "source": [
    "len(a)"
   ]
  },
  {
   "cell_type": "markdown",
   "metadata": {
    "slideshow": {
     "slide_type": "fragment"
    }
   },
   "source": [
    "Tuples also do double duty as records with no field names. Indeed, in the implementation of classes, which use dictionaries otherwise, one can set `__slots__` to have the class use tuples instead, thus saving the memory space of having many keys."
   ]
  },
  {
   "cell_type": "markdown",
   "metadata": {
    "slideshow": {
     "slide_type": "slide"
    }
   },
   "source": [
    "#### NamedTuples\n",
    "\n",
    "One can use the `collections.namedtuple` \"FACTORY\" function to produces subclasses of tuples enhanced with field names and a classed name.\n",
    "\n",
    "Consider, as an example (from Fluent Python):"
   ]
  },
  {
   "cell_type": "code",
   "execution_count": 147,
   "metadata": {
    "collapsed": true,
    "slideshow": {
     "slide_type": "fragment"
    }
   },
   "outputs": [],
   "source": [
    "import collections\n",
    "Card = collections.namedtuple('Card', ['rank', 'suit'])"
   ]
  },
  {
   "cell_type": "code",
   "execution_count": 148,
   "metadata": {
    "collapsed": false,
    "slideshow": {
     "slide_type": "fragment"
    }
   },
   "outputs": [
    {
     "data": {
      "text/plain": [
       "Card(rank='3', suit='diamond')"
      ]
     },
     "execution_count": 148,
     "metadata": {},
     "output_type": "execute_result"
    }
   ],
   "source": [
    "my_card = Card(rank='3', suit='diamond')\n",
    "my_card"
   ]
  },
  {
   "cell_type": "code",
   "execution_count": 149,
   "metadata": {
    "collapsed": false,
    "slideshow": {
     "slide_type": "fragment"
    }
   },
   "outputs": [
    {
     "data": {
      "text/plain": [
       "'3'"
      ]
     },
     "execution_count": 149,
     "metadata": {},
     "output_type": "execute_result"
    }
   ],
   "source": [
    "my_card.rank"
   ]
  },
  {
   "cell_type": "markdown",
   "metadata": {
    "slideshow": {
     "slide_type": "slide"
    }
   },
   "source": [
    "#### A Custom Sequence\n",
    "\n",
    "We now wish to create a `FrenchDeck` as an example of something that follows Python's Sequence protocol. Remember, the sequence protocol requires implementation of two methods: `__len__` and `__getitem__`. Thats it."
   ]
  },
  {
   "cell_type": "code",
   "execution_count": 166,
   "metadata": {
    "collapsed": true,
    "slideshow": {
     "slide_type": "fragment"
    }
   },
   "outputs": [],
   "source": [
    "class FrenchDeck:\n",
    "    ranks = [str(n) for n in range(2,11)] + list('JKQA')\n",
    "    suits=\"spade diamond club heart\".split()\n",
    "    \n",
    "    def __init__(self):\n",
    "        #composition: there are items IN this class that constutute its structure\n",
    "        #delegation: the storage for this class is DELEGATED to this list below\n",
    "        self._cards = [Card(rank, suit) for suit in self.suits for rank in self.ranks]\n",
    "        \n",
    "    def __len__(self):\n",
    "        return len(self._cards)\n",
    "    \n",
    "    def __getitem__(self, position):\n",
    "        return self._cards[position]"
   ]
  },
  {
   "cell_type": "code",
   "execution_count": 167,
   "metadata": {
    "collapsed": false,
    "slideshow": {
     "slide_type": "slide"
    }
   },
   "outputs": [
    {
     "data": {
      "text/plain": [
       "52"
      ]
     },
     "execution_count": 167,
     "metadata": {},
     "output_type": "execute_result"
    }
   ],
   "source": [
    "deck = FrenchDeck()\n",
    "len(deck)"
   ]
  },
  {
   "cell_type": "code",
   "execution_count": 168,
   "metadata": {
    "collapsed": false,
    "slideshow": {
     "slide_type": "slide"
    }
   },
   "outputs": [
    {
     "data": {
      "text/plain": [
       "(Card(rank='2', suit='spade'),\n",
       " Card(rank='A', suit='heart'),\n",
       " Card(rank='5', suit='spade'))"
      ]
     },
     "execution_count": 168,
     "metadata": {},
     "output_type": "execute_result"
    }
   ],
   "source": [
    "deck[0], deck[-1], deck[3]"
   ]
  },
  {
   "cell_type": "code",
   "execution_count": 169,
   "metadata": {
    "collapsed": false,
    "slideshow": {
     "slide_type": "slide"
    }
   },
   "outputs": [
    {
     "data": {
      "text/plain": [
       "[Card(rank='K', suit='spade'),\n",
       " Card(rank='Q', suit='spade'),\n",
       " Card(rank='A', suit='spade'),\n",
       " Card(rank='2', suit='diamond'),\n",
       " Card(rank='3', suit='diamond'),\n",
       " Card(rank='4', suit='diamond'),\n",
       " Card(rank='5', suit='diamond'),\n",
       " Card(rank='6', suit='diamond')]"
      ]
     },
     "execution_count": 169,
     "metadata": {},
     "output_type": "execute_result"
    }
   ],
   "source": [
    "deck[10:18]"
   ]
  },
  {
   "cell_type": "markdown",
   "metadata": {
    "slideshow": {
     "slide_type": "slide"
    }
   },
   "source": [
    "Because we support the sequence protocol, you can use, in python, dunctions like `random.choice` DIRECTLY on instances of `FrenchDeck`. This is the power of interfaces and the data model."
   ]
  },
  {
   "cell_type": "code",
   "execution_count": 36,
   "metadata": {
    "collapsed": false,
    "slideshow": {
     "slide_type": "fragment"
    }
   },
   "outputs": [
    {
     "data": {
      "text/plain": [
       "Card(rank='6', suit='diamond')"
      ]
     },
     "execution_count": 36,
     "metadata": {},
     "output_type": "execute_result"
    }
   ],
   "source": [
    "from random import choice\n",
    "choice(deck)"
   ]
  },
  {
   "cell_type": "markdown",
   "metadata": {
    "slideshow": {
     "slide_type": "slide"
    }
   },
   "source": [
    "### Building out our class: instances and classmethods"
   ]
  },
  {
   "cell_type": "code",
   "execution_count": 185,
   "metadata": {
    "collapsed": true,
    "slideshow": {
     "slide_type": "fragment"
    }
   },
   "outputs": [],
   "source": [
    "class ComplexClass():\n",
    "    def __init__(self, a, b):\n",
    "        self.real = a\n",
    "        self.imaginary = b\n",
    "        \n",
    "    @classmethod\n",
    "    def make_complex(cls, a, b):\n",
    "        return cls(a, b)\n",
    "        \n",
    "    def __repr__(self):\n",
    "        class_name = type(self).__name__\n",
    "        return \"%s(real=%r, imaginary=%r)\" % (class_name, self.real, self.imaginary)\n",
    "        \n",
    "    def __eq__(self, other):\n",
    "        return (self.real == other.real) and (self.imaginary == other.imaginary)"
   ]
  },
  {
   "cell_type": "code",
   "execution_count": 186,
   "metadata": {
    "collapsed": false,
    "slideshow": {
     "slide_type": "slide"
    }
   },
   "outputs": [
    {
     "data": {
      "text/plain": [
       "ComplexClass(real=1, imaginary=2)"
      ]
     },
     "execution_count": 186,
     "metadata": {},
     "output_type": "execute_result"
    }
   ],
   "source": [
    "c1 = ComplexClass(1,2)\n",
    "c1"
   ]
  },
  {
   "cell_type": "markdown",
   "metadata": {
    "slideshow": {
     "slide_type": "slide"
    }
   },
   "source": [
    "`make_complex` is a class method. See how its signature is different above. It is a factory to produce instances."
   ]
  },
  {
   "cell_type": "code",
   "execution_count": 187,
   "metadata": {
    "collapsed": false,
    "slideshow": {
     "slide_type": "fragment"
    }
   },
   "outputs": [
    {
     "data": {
      "text/plain": [
       "ComplexClass(real=1, imaginary=2)"
      ]
     },
     "execution_count": 187,
     "metadata": {},
     "output_type": "execute_result"
    }
   ],
   "source": [
    "c2 = ComplexClass.make_complex(1,2)\n",
    "c2"
   ]
  },
  {
   "cell_type": "code",
   "execution_count": 188,
   "metadata": {
    "collapsed": false,
    "slideshow": {
     "slide_type": "fragment"
    }
   },
   "outputs": [
    {
     "data": {
      "text/plain": [
       "True"
      ]
     },
     "execution_count": 188,
     "metadata": {},
     "output_type": "execute_result"
    }
   ],
   "source": [
    "c1 == c2"
   ]
  },
  {
   "cell_type": "markdown",
   "metadata": {
    "slideshow": {
     "slide_type": "fragment"
    }
   },
   "source": [
    "You can see where we are going with this. Wouldnt it be great to define adds, subtracts, etc? Later..."
   ]
  },
  {
   "cell_type": "markdown",
   "metadata": {
    "slideshow": {
     "slide_type": "slide"
    }
   },
   "source": [
    "### Static Methods, Class Methods, Instance Methods\n",
    "\n",
    "What's really going on under the hood here?"
   ]
  },
  {
   "cell_type": "code",
   "execution_count": 41,
   "metadata": {
    "collapsed": false,
    "slideshow": {
     "slide_type": "fragment"
    }
   },
   "outputs": [],
   "source": [
    "#from fluent python\n",
    "class Demo():\n",
    "    @classmethod\n",
    "    def klassmeth(*args):\n",
    "        return args\n",
    "    \n",
    "    @staticmethod\n",
    "    def statmeth(*args):\n",
    "        return args\n",
    "    \n",
    "    def instmeth(*args):\n",
    "        return args\n",
    "    "
   ]
  },
  {
   "cell_type": "code",
   "execution_count": 42,
   "metadata": {
    "collapsed": false,
    "slideshow": {
     "slide_type": "slide"
    }
   },
   "outputs": [
    {
     "data": {
      "text/plain": [
       "(1, 2)"
      ]
     },
     "execution_count": 42,
     "metadata": {},
     "output_type": "execute_result"
    }
   ],
   "source": [
    "Demo.statmeth(1,2)"
   ]
  },
  {
   "cell_type": "code",
   "execution_count": 43,
   "metadata": {
    "collapsed": false,
    "slideshow": {
     "slide_type": "fragment"
    }
   },
   "outputs": [
    {
     "data": {
      "text/plain": [
       "(__main__.Demo, 1, 2)"
      ]
     },
     "execution_count": 43,
     "metadata": {},
     "output_type": "execute_result"
    }
   ],
   "source": [
    "Demo.klassmeth(1,2)"
   ]
  },
  {
   "cell_type": "code",
   "execution_count": 176,
   "metadata": {
    "collapsed": false,
    "slideshow": {
     "slide_type": "fragment"
    }
   },
   "outputs": [
    {
     "data": {
      "text/plain": [
       "(<__main__.Demo at 0x1051f8dd8>, 1, 2)"
      ]
     },
     "execution_count": 176,
     "metadata": {},
     "output_type": "execute_result"
    }
   ],
   "source": [
    "ademo = Demo()\n",
    "Demo.instmeth(ademo, 1,2)"
   ]
  },
  {
   "cell_type": "code",
   "execution_count": 46,
   "metadata": {
    "collapsed": false,
    "slideshow": {
     "slide_type": "fragment"
    }
   },
   "outputs": [
    {
     "data": {
      "text/plain": [
       "(<__main__.Demo at 0x1051cc550>, 1, 2)"
      ]
     },
     "execution_count": 46,
     "metadata": {},
     "output_type": "execute_result"
    }
   ],
   "source": [
    "ademo.instmeth(1,2)"
   ]
  },
  {
   "cell_type": "code",
   "execution_count": 47,
   "metadata": {
    "collapsed": false,
    "slideshow": {
     "slide_type": "slide"
    }
   },
   "outputs": [
    {
     "data": {
      "text/html": [
       "<iframe width=\"800\" height=\"500\" frameborder=\"0\" src=\"http://pythontutor.com/iframe-embed.html#code=%23from+fluent+python%0Aclass+Demo(%29%3A%0A++++%40classmethod%0A++++def+klassmeth(*args%29%3A%0A++++++++return+args%0A++++%0A++++%40staticmethod%0A++++def+statmeth(*args%29%3A%0A++++++++return+args%0A++++%0A++++def+instmeth(*args%29%3A%0A++++++++return+args%0A++++%0Aprint(Demo.statmeth(1,2%29%29%0Aprint(Demo.klassmeth(1,2%29%29%0Aademo+%3D+Demo(%29%0Aprint(Demo.instmeth(ademo,+1,2%29%29%0Aprint(ademo.instmeth(1,2%29%29&origin=opt-frontend.js&cumulative=false&heapPrimitives=false&textReferences=false&py=3&rawInputLstJSON=%5B%5D&curInstr=0&codeDivWidth=350&codeDivHeight=400\"> </iframe>"
      ],
      "text/plain": [
       "<IPython.core.display.HTML object>"
      ]
     },
     "execution_count": 47,
     "metadata": {},
     "output_type": "execute_result"
    }
   ],
   "source": [
    "HTML('<iframe width=\"800\" height=\"500\" frameborder=\"0\" src=\"http://pythontutor.com/iframe-embed.html#code=%23from+fluent+python%0Aclass+Demo(%29%3A%0A++++%40classmethod%0A++++def+klassmeth(*args%29%3A%0A++++++++return+args%0A++++%0A++++%40staticmethod%0A++++def+statmeth(*args%29%3A%0A++++++++return+args%0A++++%0A++++def+instmeth(*args%29%3A%0A++++++++return+args%0A++++%0Aprint(Demo.statmeth(1,2%29%29%0Aprint(Demo.klassmeth(1,2%29%29%0Aademo+%3D+Demo(%29%0Aprint(Demo.instmeth(ademo,+1,2%29%29%0Aprint(ademo.instmeth(1,2%29%29&origin=opt-frontend.js&cumulative=false&heapPrimitives=false&textReferences=false&py=3&rawInputLstJSON=%5B%5D&curInstr=0&codeDivWidth=350&codeDivHeight=400\"> </iframe>')"
   ]
  },
  {
   "cell_type": "markdown",
   "metadata": {
    "slideshow": {
     "slide_type": "slide"
    }
   },
   "source": [
    "### Class variables and instance variables"
   ]
  },
  {
   "cell_type": "code",
   "execution_count": 48,
   "metadata": {
    "collapsed": false,
    "slideshow": {
     "slide_type": "fragment"
    }
   },
   "outputs": [
    {
     "name": "stdout",
     "output_type": "stream",
     "text": [
      "1 1\n",
      "1 2\n"
     ]
    }
   ],
   "source": [
    "class Demo2():\n",
    "    classvar=1\n",
    "      \n",
    "ademo2 = Demo2()\n",
    "print(Demo2.classvar, ademo2.classvar)\n",
    "ademo2.classvar=2\n",
    "print(Demo2.classvar, ademo2.classvar)"
   ]
  },
  {
   "cell_type": "code",
   "execution_count": 49,
   "metadata": {
    "collapsed": false,
    "slideshow": {
     "slide_type": "slide"
    }
   },
   "outputs": [
    {
     "data": {
      "text/html": [
       "<iframe width=\"800\" height=\"500\" frameborder=\"0\" src=\"http://pythontutor.com/iframe-embed.html#code=class+Demo2(%29%3A%0A++++classvar%3D1%0A++++++%0Aademo2+%3D+Demo2(%29%0Aprint(Demo2.classvar,+ademo2.classvar%29%0Aademo2.classvar%3D2%0Aprint(Demo2.classvar,+ademo2.classvar%29&origin=opt-frontend.js&cumulative=false&heapPrimitives=false&textReferences=false&py=3&rawInputLstJSON=%5B%5D&curInstr=0&codeDivWidth=350&codeDivHeight=400\"> </iframe>"
      ],
      "text/plain": [
       "<IPython.core.display.HTML object>"
      ]
     },
     "execution_count": 49,
     "metadata": {},
     "output_type": "execute_result"
    }
   ],
   "source": [
    "HTML('<iframe width=\"800\" height=\"500\" frameborder=\"0\" src=\"http://pythontutor.com/iframe-embed.html#code=class+Demo2(%29%3A%0A++++classvar%3D1%0A++++++%0Aademo2+%3D+Demo2(%29%0Aprint(Demo2.classvar,+ademo2.classvar%29%0Aademo2.classvar%3D2%0Aprint(Demo2.classvar,+ademo2.classvar%29&origin=opt-frontend.js&cumulative=false&heapPrimitives=false&textReferences=false&py=3&rawInputLstJSON=%5B%5D&curInstr=0&codeDivWidth=350&codeDivHeight=400\"> </iframe>')"
   ]
  }
 ],
 "metadata": {
  "celltoolbar": "Slideshow",
  "kernelspec": {
   "display_name": "Python 3",
   "language": "python",
   "name": "python3"
  },
  "language_info": {
   "codemirror_mode": {
    "name": "ipython",
    "version": 3
   },
   "file_extension": ".py",
   "mimetype": "text/x-python",
   "name": "python",
   "nbconvert_exporter": "python",
   "pygments_lexer": "ipython3",
   "version": "3.5.1"
  }
 },
 "nbformat": 4,
 "nbformat_minor": 0
}
