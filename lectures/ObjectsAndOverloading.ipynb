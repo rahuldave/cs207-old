{
 "cells": [
  {
   "cell_type": "markdown",
   "metadata": {},
   "source": [
    "## What is Polymorphism?\n",
    "\n",
    "Broadly, polymorphism is the ability to write code that looks similar, but operates on different types. In other words, a single interface serves entities of different types. \n",
    "\n",
    "In most classic dynamically typed languages, of which python is one, almost all code is polymorphic. The types of values are restricted only by explicit runtime checks or errors due to failed support for operations at run time. We shall see both.\n",
    "\n",
    "Python type system is strong and dynamic:\n",
    "\n",
    "- strong: everything has a well-defined type: `type()`, `isinstance`\n",
    "- dynamic: type is not explicitly declared, changes with content\n",
    "\n",
    "Polymorphism is often combined with inheritance, but does not need to be.\n",
    "\n",
    "One classification of Polymorphism (look up wikipedia) divides it on one axis into adhoc, parametric, and subtype based, and on another axis into dynamic(run time) and static(compile time).\n",
    "\n",
    "I find dynamic polymorphism easier to understand when i think about it via a table based dispatch: that there is, somewhere, atleast conceptually, a table of types, or a linkage of such tables created by inheritance, where implementations are looked up for types.\n",
    "\n",
    "In static polymorphism found in C++ for example, the binding to the appropriate class can be done at compile time."
   ]
  },
  {
   "cell_type": "markdown",
   "metadata": {},
   "source": [
    "### Ad-hoc polymorphism\n",
    "\n",
    "This is the notion that for a given function, a different function is called for args of different types. \n",
    "\n",
    "- This enables the Python Data model with the dunder methods. If you call `len(arg)` or `iter(arg)`, we delegate to `arg`'s `__len__` or `__iter__` by *looking them up in the table(class) corresponding to arg*. The net effect is that you get different behaviors for different objects. But you are not looking up a table for the operation, but rather a table for the object. You can think of this as *single dispatch*: the `len` is dispatched based on the type of the argument by looking up a table for the argument."
   ]
  },
  {
   "cell_type": "markdown",
   "metadata": {},
   "source": [
    "- We group together the notion that an object responds to such messages into a protocol, such as for example, the informal notion that something is a sequence. This is **Duck Typing**. Alex Martelli, the coiner of this word, says:\n",
    "\n",
    ">In Python, this mostly boils down to avoiding the use of isinstance to check the object’s type (not to mention the even worse approach of checking, for example, whether type(foo) is bar—which is rightly anathema as it inhibits even the simplest forms of inheritance!).\n",
    "\n",
    "Here is our old example from Fluent Python:"
   ]
  },
  {
   "cell_type": "code",
   "execution_count": 67,
   "metadata": {
    "collapsed": true
   },
   "outputs": [],
   "source": [
    "import collections\n",
    "Card = collections.namedtuple('Card', ['rank', 'suit'])"
   ]
  },
  {
   "cell_type": "code",
   "execution_count": 68,
   "metadata": {
    "collapsed": true
   },
   "outputs": [],
   "source": [
    "class FrenchDeck():\n",
    "    ranks = [str(n) for n in range(2, 11)] + list('JQKA') \n",
    "    suits = 'spades diamonds clubs hearts'.split()\n",
    "    \n",
    "    def __init__(self):\n",
    "        self._cards = [Card(rank, suit) for suit in self.suits for rank in self.ranks]\n",
    "                       \n",
    "    def __len__(self):\n",
    "        return len(self._cards)\n",
    "                       \n",
    "    def __getitem__(self, position): \n",
    "        return self._cards[position]\n"
   ]
  },
  {
   "cell_type": "code",
   "execution_count": 74,
   "metadata": {
    "collapsed": false
   },
   "outputs": [
    {
     "name": "stdout",
     "output_type": "stream",
     "text": [
      "52\n"
     ]
    },
    {
     "data": {
      "text/plain": [
       "[Card(rank='2', suit='spades'),\n",
       " Card(rank='3', suit='spades'),\n",
       " Card(rank='4', suit='spades'),\n",
       " Card(rank='5', suit='spades'),\n",
       " Card(rank='6', suit='spades'),\n",
       " Card(rank='7', suit='spades'),\n",
       " Card(rank='8', suit='spades'),\n",
       " Card(rank='9', suit='spades'),\n",
       " Card(rank='10', suit='spades'),\n",
       " Card(rank='J', suit='spades'),\n",
       " Card(rank='Q', suit='spades'),\n",
       " Card(rank='K', suit='spades'),\n",
       " Card(rank='A', suit='spades'),\n",
       " Card(rank='2', suit='diamonds'),\n",
       " Card(rank='3', suit='diamonds'),\n",
       " Card(rank='4', suit='diamonds'),\n",
       " Card(rank='5', suit='diamonds'),\n",
       " Card(rank='6', suit='diamonds'),\n",
       " Card(rank='7', suit='diamonds'),\n",
       " Card(rank='8', suit='diamonds'),\n",
       " Card(rank='9', suit='diamonds'),\n",
       " Card(rank='10', suit='diamonds'),\n",
       " Card(rank='J', suit='diamonds'),\n",
       " Card(rank='Q', suit='diamonds'),\n",
       " Card(rank='K', suit='diamonds'),\n",
       " Card(rank='A', suit='diamonds'),\n",
       " Card(rank='2', suit='clubs'),\n",
       " Card(rank='3', suit='clubs'),\n",
       " Card(rank='4', suit='clubs'),\n",
       " Card(rank='5', suit='clubs'),\n",
       " Card(rank='6', suit='clubs'),\n",
       " Card(rank='7', suit='clubs'),\n",
       " Card(rank='8', suit='clubs'),\n",
       " Card(rank='9', suit='clubs'),\n",
       " Card(rank='10', suit='clubs'),\n",
       " Card(rank='J', suit='clubs'),\n",
       " Card(rank='Q', suit='clubs'),\n",
       " Card(rank='K', suit='clubs'),\n",
       " Card(rank='A', suit='clubs'),\n",
       " Card(rank='2', suit='hearts'),\n",
       " Card(rank='3', suit='hearts'),\n",
       " Card(rank='4', suit='hearts'),\n",
       " Card(rank='5', suit='hearts'),\n",
       " Card(rank='6', suit='hearts'),\n",
       " Card(rank='7', suit='hearts'),\n",
       " Card(rank='8', suit='hearts'),\n",
       " Card(rank='9', suit='hearts'),\n",
       " Card(rank='10', suit='hearts'),\n",
       " Card(rank='J', suit='hearts'),\n",
       " Card(rank='Q', suit='hearts'),\n",
       " Card(rank='K', suit='hearts'),\n",
       " Card(rank='A', suit='hearts')]"
      ]
     },
     "execution_count": 74,
     "metadata": {},
     "output_type": "execute_result"
    }
   ],
   "source": [
    "afd = FrenchDeck()\n",
    "print(len(afd))\n",
    "list(afd)"
   ]
  },
  {
   "cell_type": "code",
   "execution_count": 80,
   "metadata": {
    "collapsed": false
   },
   "outputs": [
    {
     "data": {
      "text/plain": [
       "({'_cards': [Card(rank='2', suit='spades'),\n",
       "   Card(rank='3', suit='spades'),\n",
       "   Card(rank='4', suit='spades'),\n",
       "   Card(rank='5', suit='spades'),\n",
       "   Card(rank='6', suit='spades'),\n",
       "   Card(rank='7', suit='spades'),\n",
       "   Card(rank='8', suit='spades'),\n",
       "   Card(rank='9', suit='spades'),\n",
       "   Card(rank='10', suit='spades'),\n",
       "   Card(rank='J', suit='spades'),\n",
       "   Card(rank='Q', suit='spades'),\n",
       "   Card(rank='K', suit='spades'),\n",
       "   Card(rank='A', suit='spades'),\n",
       "   Card(rank='2', suit='diamonds'),\n",
       "   Card(rank='3', suit='diamonds'),\n",
       "   Card(rank='4', suit='diamonds'),\n",
       "   Card(rank='5', suit='diamonds'),\n",
       "   Card(rank='6', suit='diamonds'),\n",
       "   Card(rank='7', suit='diamonds'),\n",
       "   Card(rank='8', suit='diamonds'),\n",
       "   Card(rank='9', suit='diamonds'),\n",
       "   Card(rank='10', suit='diamonds'),\n",
       "   Card(rank='J', suit='diamonds'),\n",
       "   Card(rank='Q', suit='diamonds'),\n",
       "   Card(rank='K', suit='diamonds'),\n",
       "   Card(rank='A', suit='diamonds'),\n",
       "   Card(rank='2', suit='clubs'),\n",
       "   Card(rank='3', suit='clubs'),\n",
       "   Card(rank='4', suit='clubs'),\n",
       "   Card(rank='5', suit='clubs'),\n",
       "   Card(rank='6', suit='clubs'),\n",
       "   Card(rank='7', suit='clubs'),\n",
       "   Card(rank='8', suit='clubs'),\n",
       "   Card(rank='9', suit='clubs'),\n",
       "   Card(rank='10', suit='clubs'),\n",
       "   Card(rank='J', suit='clubs'),\n",
       "   Card(rank='Q', suit='clubs'),\n",
       "   Card(rank='K', suit='clubs'),\n",
       "   Card(rank='A', suit='clubs'),\n",
       "   Card(rank='2', suit='hearts'),\n",
       "   Card(rank='3', suit='hearts'),\n",
       "   Card(rank='4', suit='hearts'),\n",
       "   Card(rank='5', suit='hearts'),\n",
       "   Card(rank='6', suit='hearts'),\n",
       "   Card(rank='7', suit='hearts'),\n",
       "   Card(rank='8', suit='hearts'),\n",
       "   Card(rank='9', suit='hearts'),\n",
       "   Card(rank='10', suit='hearts'),\n",
       "   Card(rank='J', suit='hearts'),\n",
       "   Card(rank='Q', suit='hearts'),\n",
       "   Card(rank='K', suit='hearts'),\n",
       "   Card(rank='A', suit='hearts')]},\n",
       " mappingproxy({'__doc__': None, 'ranks': ['2', '3', '4', '5', '6', '7', '8', '9', '10', 'J', 'Q', 'K', 'A'], '__dict__': <attribute '__dict__' of 'FrenchDeck' objects>, '__len__': <function FrenchDeck.__len__ at 0x1073dcc80>, '__weakref__': <attribute '__weakref__' of 'FrenchDeck' objects>, '__getitem__': <function FrenchDeck.__getitem__ at 0x1073dc048>, '__module__': '__main__', 'suits': ['spades', 'diamonds', 'clubs', 'hearts'], '__init__': <function FrenchDeck.__init__ at 0x1073dcd08>}))"
      ]
     },
     "execution_count": 80,
     "metadata": {},
     "output_type": "execute_result"
    }
   ],
   "source": [
    "afd.__dict__, afd.__class__.__dict__"
   ]
  },
  {
   "cell_type": "markdown",
   "metadata": {},
   "source": [
    "- But, you can also dispatch a function based on its argument, with no lookup in that argument's table, but rather in a *table that is associated with the function*. This is also *single dispatch*, but from a different table. There is no built in support in Python for this, but you can write it on your own by associating a dictionary with multiple types. The functools module makes this easy for you by defining a @singledispatch decorator which maintains just such a dictionary (and takes care of inheritance based lookups for us...more on that in a bit).\n",
    "\n",
    "Here is an example taken from Fluent Python"
   ]
  },
  {
   "cell_type": "code",
   "execution_count": 32,
   "metadata": {
    "collapsed": false
   },
   "outputs": [],
   "source": [
    "from functools import singledispatch\n",
    "import collections\n",
    "import numbers\n",
    "import html\n",
    "\n",
    "@singledispatch\n",
    "def htmlize(obj):\n",
    "    content = html.escape(repr(obj)) \n",
    "    return '<pre>{}</pre>'.format(content)\n",
    "\n",
    "@htmlize.register(str) \n",
    "def _(text):\n",
    "    content = html.escape(text).replace('\\n', '<br>\\n') \n",
    "    return '<p>{0}</p>'.format(content)\n",
    "\n",
    "@htmlize.register(numbers.Integral) \n",
    "def _(n):\n",
    "    return '<pre>{0} (0x{0:x})</pre>'.format(n)\n",
    "\n",
    "@htmlize.register(tuple) \n",
    "@htmlize.register(collections.abc.Iterable) \n",
    "def _(seq):\n",
    "    inner = '</li>\\n<li>'.join(htmlize(item) for item in seq) \n",
    "    return '<ul>\\n<li>' + inner + '</li>\\n</ul>'"
   ]
  },
  {
   "cell_type": "code",
   "execution_count": 33,
   "metadata": {
    "collapsed": false
   },
   "outputs": [
    {
     "data": {
      "text/html": [
       "<ul>\n",
       "<li><pre>1 (0x1)</pre></li>\n",
       "<li><pre>2 (0x2)</pre></li>\n",
       "<li><pre>3 (0x3)</pre></li>\n",
       "<li><pre>4 (0x4)</pre></li>\n",
       "</ul>"
      ],
      "text/plain": [
       "<IPython.core.display.HTML object>"
      ]
     },
     "execution_count": 33,
     "metadata": {},
     "output_type": "execute_result"
    }
   ],
   "source": [
    "from IPython.display import HTML\n",
    "HTML(htmlize([1,2,3,4]))"
   ]
  },
  {
   "cell_type": "markdown",
   "metadata": {},
   "source": [
    "In some languages such as Julia, dispatch on the types of multiple arguments (multiple-dispatch) is also allowed; and indeed is key to the language specializing fast algorithms for specific numerical types. This too can be done in Python, but looks fairly un-natural."
   ]
  },
  {
   "cell_type": "markdown",
   "metadata": {},
   "source": [
    "### Parametric Polymorphism\n",
    "\n",
    "We wont go into great detail here, but the basic idea is to write functions (or types) that are **generic** \"over\" other types. This means, for example, a stack that can take either an int or a float or an animal. Notice that this is generally true in a dynamic language such as python where objects are allocated on the heap and its the references or labels or ids that are pushed onto the stack. (This also makes Python slower). In C++ this can be done using templates at compile time to optimize the allocation of space, for example.\n",
    "\n",
    "The key question to ask here is..does the Stack affect the behavior of an instance of type `T`, a real/integer/animal. If not, you want to use some sort of generic programming. In Python you dont even think about it...\n",
    "\n",
    "### Subtype Polymorphism\n",
    "\n",
    "This refers to the polymorphism that we encounter in situations where our language provides subclassing.\n",
    "\n",
    "In a language such as C++, this referes to the notion that a dog and a cat can make sounds through an animal pointer. In python there is no using a dog as an animal, though isinstance will be true for both, so we might as well use duck-typing. So subtype polymorphism is then just ad-hoc polymorphism plus a =an sugmented lookup in the inheritance hierarchy.\n",
    "\n",
    "We've actually encountered this in both our examples of ad-hoc polymorphism, where in the `@singledispatch` example, a simple dictionary lookup was augmented by an inheritance hierarchy lookup, and in our dunder methods, where the non-existence of a dunder method in a class would trigger a search in the inheritance hierarchy.\n",
    "\n",
    "Indeed, this is the spot where polymorphism of the single-dispatch type on the argument table interacts with inheritance."
   ]
  },
  {
   "cell_type": "markdown",
   "metadata": {},
   "source": [
    "What's this table we talk about? We hinted at it earlier when we did:"
   ]
  },
  {
   "cell_type": "code",
   "execution_count": 82,
   "metadata": {
    "collapsed": false
   },
   "outputs": [
    {
     "data": {
      "text/plain": [
       "mappingproxy({'__doc__': None, 'ranks': ['2', '3', '4', '5', '6', '7', '8', '9', '10', 'J', 'Q', 'K', 'A'], '__dict__': <attribute '__dict__' of 'FrenchDeck' objects>, '__len__': <function FrenchDeck.__len__ at 0x1073dcc80>, '__weakref__': <attribute '__weakref__' of 'FrenchDeck' objects>, '__getitem__': <function FrenchDeck.__getitem__ at 0x1073dc048>, '__module__': '__main__', 'suits': ['spades', 'diamonds', 'clubs', 'hearts'], '__init__': <function FrenchDeck.__init__ at 0x1073dcd08>})"
      ]
     },
     "execution_count": 82,
     "metadata": {},
     "output_type": "execute_result"
    }
   ],
   "source": [
    "afd.__class__.__dict__"
   ]
  },
  {
   "cell_type": "markdown",
   "metadata": {},
   "source": [
    "But What if we dont find a method here? Either this is a runtime error, or we search in the \"parent\" classes of this class. We can see all such attributes by using `dir`:"
   ]
  },
  {
   "cell_type": "code",
   "execution_count": 83,
   "metadata": {
    "collapsed": false
   },
   "outputs": [
    {
     "data": {
      "text/plain": [
       "['__class__',\n",
       " '__delattr__',\n",
       " '__dict__',\n",
       " '__dir__',\n",
       " '__doc__',\n",
       " '__eq__',\n",
       " '__format__',\n",
       " '__ge__',\n",
       " '__getattribute__',\n",
       " '__getitem__',\n",
       " '__gt__',\n",
       " '__hash__',\n",
       " '__init__',\n",
       " '__le__',\n",
       " '__len__',\n",
       " '__lt__',\n",
       " '__module__',\n",
       " '__ne__',\n",
       " '__new__',\n",
       " '__reduce__',\n",
       " '__reduce_ex__',\n",
       " '__repr__',\n",
       " '__setattr__',\n",
       " '__sizeof__',\n",
       " '__str__',\n",
       " '__subclasshook__',\n",
       " '__weakref__',\n",
       " '_cards',\n",
       " 'ranks',\n",
       " 'suits']"
      ]
     },
     "execution_count": 83,
     "metadata": {},
     "output_type": "execute_result"
    }
   ],
   "source": [
    "dir(afd)"
   ]
  },
  {
   "cell_type": "markdown",
   "metadata": {},
   "source": [
    "And thus notice that this works because it gets sent up:"
   ]
  },
  {
   "cell_type": "code",
   "execution_count": 84,
   "metadata": {
    "collapsed": false
   },
   "outputs": [
    {
     "data": {
      "text/plain": [
       "-9223372036578742433"
      ]
     },
     "execution_count": 84,
     "metadata": {},
     "output_type": "execute_result"
    }
   ],
   "source": [
    "hash(afd)"
   ]
  },
  {
   "cell_type": "markdown",
   "metadata": {},
   "source": [
    "You can see whats upward of the French Deck"
   ]
  },
  {
   "cell_type": "code",
   "execution_count": 88,
   "metadata": {
    "collapsed": false
   },
   "outputs": [
    {
     "data": {
      "text/plain": [
       "[__main__.FrenchDeck, object]"
      ]
     },
     "execution_count": 88,
     "metadata": {},
     "output_type": "execute_result"
    }
   ],
   "source": [
    "FrenchDeck.mro()"
   ]
  },
  {
   "cell_type": "markdown",
   "metadata": {},
   "source": [
    "Its Object, and when something like `__hash__` is not found in `FrenchDeck` its sent up to `object`.\n",
    "\n",
    "Thus, Subtype Polymorphism works by expanding the search from the current classes table to an augmented table formed by going up the inheritance hierarchy.\n",
    "\n",
    "### ABC's\n",
    "\n",
    "Last time we introduced ABCs. The basic idea was to use them as a vehicle to document interfaces. We saw that:\n",
    "\n",
    "- we could use the @abstractmethod without any implementation but with some documentation to communicate a protocol. These are the equivalent of pure virtual methods in C++.\n",
    "- we could not instantiate an ABC\n",
    "- an implementation could be registered, or a subclass-hook defined in an ABC which indicated that a protocol was satisfied. \n",
    "\n",
    "But dissapointingly, we found no checking that our implementation implemented our interface.\n",
    "\n",
    "#### Sleuthing an ABC\n",
    "\n",
    "Lets fix that. Back to our cards example from Fluent Python. "
   ]
  },
  {
   "cell_type": "code",
   "execution_count": 94,
   "metadata": {
    "collapsed": false
   },
   "outputs": [
    {
     "data": {
      "text/plain": [
       "False"
      ]
     },
     "execution_count": 94,
     "metadata": {},
     "output_type": "execute_result"
    }
   ],
   "source": [
    "issubclass(FrenchDeck, collections.abc.Sequence)"
   ]
  },
  {
   "cell_type": "markdown",
   "metadata": {},
   "source": [
    "Erm, but that does not work. Clearly, unlike `Sized`, there is not a subclass-hook defined there. We can go see the source code for the Sequence ABC at https://github.com/python/cpython/blob/master/Lib/_collections_abc.py#L797 .\n",
    "\n",
    "I reproduce it here:\n",
    "\n",
    "```python\n",
    "class Sequence(Sized, Iterable, Container):\n",
    "\n",
    "    \"\"\"All the operations on a read-only sequence.\n",
    "    Concrete subclasses must override __new__ or __init__,\n",
    "    __getitem__, and __len__.\n",
    "    \"\"\"\n",
    "\n",
    "    __slots__ = ()\n",
    "\n",
    "    @abstractmethod\n",
    "    def __getitem__(self, index):\n",
    "        raise IndexError\n",
    "\n",
    "    def __iter__(self):\n",
    "        i = 0\n",
    "        try:\n",
    "            while True:\n",
    "                v = self[i]\n",
    "                yield v\n",
    "                i += 1\n",
    "        except IndexError:\n",
    "            return\n",
    "\n",
    "    def __contains__(self, value):\n",
    "        for v in self:\n",
    "            if v == value:\n",
    "                return True\n",
    "        return False\n",
    "\n",
    "    def __reversed__(self):\n",
    "        for i in reversed(range(len(self))):\n",
    "            yield self[i]\n",
    "\n",
    "    def index(self, value, start=0, stop=None):\n",
    "        '''S.index(value, [start, [stop]]) -> integer -- return first index of value.\n",
    "           Raises ValueError if the value is not present.\n",
    "        '''\n",
    "        if start is not None and start < 0:\n",
    "            start = max(len(self) + start, 0)\n",
    "        if stop is not None and stop < 0:\n",
    "            stop += len(self)\n",
    "\n",
    "        i = start\n",
    "        while stop is None or i < stop:\n",
    "            try:\n",
    "                if self[i] == value:\n",
    "                    return i\n",
    "            except IndexError:\n",
    "                break\n",
    "            i += 1\n",
    "        raise ValueError\n",
    "\n",
    "    def count(self, value):\n",
    "        'S.count(value) -> integer -- return number of occurrences of value'\n",
    "        return sum(1 for v in self if v == value)\n",
    "```\n",
    "\n",
    "There are some salient points:\n",
    "\n",
    "- This seems to indicate that only `__getitem__` must be defined. But notice that we have `class Sequence(Sized, Iterable, Container)`. This is multiple Inheritance, where the other ABCs are being used to **Mixin** protocols that we want `Sequence` to support. So lets go digging:"
   ]
  },
  {
   "cell_type": "code",
   "execution_count": 97,
   "metadata": {
    "collapsed": false
   },
   "outputs": [
    {
     "name": "stdout",
     "output_type": "stream",
     "text": [
      "[<class 'collections.abc.Sequence'>, <class 'collections.abc.Sized'>, <class 'collections.abc.Iterable'>, <class 'collections.abc.Container'>, <class 'object'>]\n",
      "Sized [<class 'collections.abc.Sized'>, <class 'object'>]\n",
      "Iterable [<class 'collections.abc.Iterable'>, <class 'object'>]\n",
      "Container [<class 'collections.abc.Container'>, <class 'object'>]\n"
     ]
    },
    {
     "data": {
      "text/plain": [
       "{'__contains__', '__getitem__', '__iter__', '__len__'}"
      ]
     },
     "execution_count": 97,
     "metadata": {},
     "output_type": "execute_result"
    }
   ],
   "source": [
    "abms=set()\n",
    "abms = abms.union(collections.abc.Sequence.__abstractmethods__)\n",
    "print(collections.abc.Sequence.mro())\n",
    "for parent in collections.abc.Sequence.mro()[1:-1]:\n",
    "    print(parent.__name__, parent.mro())\n",
    "    abms=abms.union(parent.__abstractmethods__)\n",
    "abms"
   ]
  },
  {
   "cell_type": "markdown",
   "metadata": {},
   "source": [
    "#### Registration\n",
    "\n",
    "Ok, so that explains the comments above (contains can be done by having `__getitem__`. We can explicitly register to make sure all is good"
   ]
  },
  {
   "cell_type": "code",
   "execution_count": 98,
   "metadata": {
    "collapsed": false
   },
   "outputs": [
    {
     "data": {
      "text/plain": [
       "True"
      ]
     },
     "execution_count": 98,
     "metadata": {},
     "output_type": "execute_result"
    }
   ],
   "source": [
    "collections.abc.Sequence.register(FrenchDeck)\n",
    "deck = FrenchDeck()\n",
    "issubclass(FrenchDeck, collections.abc.Sequence)"
   ]
  },
  {
   "cell_type": "markdown",
   "metadata": {},
   "source": [
    "- But even with registration, nothing is inherited: see the mro"
   ]
  },
  {
   "cell_type": "code",
   "execution_count": 99,
   "metadata": {
    "collapsed": false
   },
   "outputs": [
    {
     "data": {
      "text/plain": [
       "[__main__.FrenchDeck, object]"
      ]
     },
     "execution_count": 99,
     "metadata": {},
     "output_type": "execute_result"
    }
   ],
   "source": [
    "FrenchDeck.mro()"
   ]
  },
  {
   "cell_type": "markdown",
   "metadata": {},
   "source": [
    "Such a class then is called a **virtual subclass**, and as we saw last time, it is not checked for ABC conformance.\n",
    "\n",
    "#### subclassing\n",
    "\n",
    "There is something about the ABC above which you might have found interesting.\n",
    "\n",
    "- Despite being an ABC, it had some method implementations. These are the analogs of C++'s impure virtual functions.\n",
    "\n",
    "This suggests that it might be worth inheriting from the ABC instead"
   ]
  },
  {
   "cell_type": "code",
   "execution_count": 100,
   "metadata": {
    "collapsed": true
   },
   "outputs": [],
   "source": [
    "class FrenchDeckTake2(collections.abc.Sequence):\n",
    "    ranks = [str(n) for n in range(2, 11)] + list('JQKA') \n",
    "    suits = 'spades diamonds clubs hearts'.split()\n",
    "    \n",
    "    def __init__(self):\n",
    "        self._cards = [Card(rank, suit) for suit in self.suits for rank in self.ranks]\n",
    "                       \n",
    "    def __len__(self):\n",
    "        return len(self._cards)\n",
    "                       \n",
    "#     def __getitem__(self, position): \n",
    "#         return self._cards[position]\n",
    "\n"
   ]
  },
  {
   "cell_type": "markdown",
   "metadata": {},
   "source": [
    "I purposely comment `__getitem__` out. See what happens:"
   ]
  },
  {
   "cell_type": "code",
   "execution_count": 101,
   "metadata": {
    "collapsed": false
   },
   "outputs": [
    {
     "ename": "TypeError",
     "evalue": "Can't instantiate abstract class FrenchDeckTake2 with abstract methods __getitem__",
     "output_type": "error",
     "traceback": [
      "\u001b[0;31m---------------------------------------------------------------------------\u001b[0m",
      "\u001b[0;31mTypeError\u001b[0m                                 Traceback (most recent call last)",
      "\u001b[0;32m<ipython-input-101-9c4030293ee2>\u001b[0m in \u001b[0;36m<module>\u001b[0;34m()\u001b[0m\n\u001b[0;32m----> 1\u001b[0;31m \u001b[0mdeck\u001b[0m \u001b[0;34m=\u001b[0m \u001b[0mFrenchDeckTake2\u001b[0m\u001b[0;34m(\u001b[0m\u001b[0;34m)\u001b[0m\u001b[0;34m\u001b[0m\u001b[0m\n\u001b[0m",
      "\u001b[0;31mTypeError\u001b[0m: Can't instantiate abstract class FrenchDeckTake2 with abstract methods __getitem__"
     ]
    }
   ],
   "source": [
    "deck = FrenchDeckTake2()"
   ]
  },
  {
   "cell_type": "markdown",
   "metadata": {},
   "source": [
    "We saw an error like this before where we couldnt instantiate an ABC. But now we see runtime checks: if my \"implementation\" does not fully implement my \"interface\", I am in trouble. This is the equivalent of: a concrete subclass of an ABC in C++ must implement the pure virtuals."
   ]
  },
  {
   "cell_type": "code",
   "execution_count": 104,
   "metadata": {
    "collapsed": false
   },
   "outputs": [],
   "source": [
    "class FrenchDeckTake3(collections.abc.Sequence):\n",
    "    ranks = [str(n) for n in range(2, 11)] + list('JQKA') \n",
    "    suits = 'spades diamonds clubs hearts'.split()\n",
    "    \n",
    "    def __init__(self):\n",
    "        self._cards = [Card(rank, suit) for suit in self.suits for rank in self.ranks]\n",
    "                       \n",
    "    def __len__(self):\n",
    "        return len(self._cards)\n",
    "                       \n",
    "    def __getitem__(self, position): \n",
    "        return self._cards[position]\n",
    "\n",
    "\n",
    "deck = FrenchDeckTake3()"
   ]
  },
  {
   "cell_type": "markdown",
   "metadata": {},
   "source": [
    "No problems now, and I seem to have picked up some methods to boot (the analogs of the impure virtuals or just plain methods). Notice that these must be defined in terms of the existing abstract and concrete methods and we will be good..."
   ]
  },
  {
   "cell_type": "code",
   "execution_count": 105,
   "metadata": {
    "collapsed": false
   },
   "outputs": [
    {
     "data": {
      "text/plain": [
       "[__main__.FrenchDeckTake3,\n",
       " collections.abc.Sequence,\n",
       " collections.abc.Sized,\n",
       " collections.abc.Iterable,\n",
       " collections.abc.Container,\n",
       " object]"
      ]
     },
     "execution_count": 105,
     "metadata": {},
     "output_type": "execute_result"
    }
   ],
   "source": [
    "FrenchDeckTake3.mro()"
   ]
  },
  {
   "cell_type": "code",
   "execution_count": 107,
   "metadata": {
    "collapsed": false
   },
   "outputs": [
    {
     "data": {
      "text/plain": [
       "5"
      ]
     },
     "execution_count": 107,
     "metadata": {},
     "output_type": "execute_result"
    }
   ],
   "source": [
    "deck.index(Card(rank='7', suit='spades'))"
   ]
  },
  {
   "cell_type": "markdown",
   "metadata": {},
   "source": [
    "As the coder of a concrete subclass, you can override methods inherited from ABCs with more efficient implementations. For example, __contains__ works by doing a linear search, but if you were using a sorted list or binary search tree, you could do a binary search using `bisect`.\n",
    "\n",
    "So implement a \"virtual subclass\" after registering if you dont want to use such methods...the ABC's wont be in the `mro()` and you might be implementing a completely \"pure\" ABC. To get runtime checks and utilize methods that might have been defined in the ABC, subclass."
   ]
  },
  {
   "cell_type": "markdown",
   "metadata": {},
   "source": [
    "#### Goosetyping\n",
    "\n",
    "So why do these ABC's in the first place. Last time we saw one reason: API documentation.  But there is a second reason, analogous to duck-typing, \n",
    "Alex Martelli, calls using ABC's goosetyping, where there are explicit `isinstance` checks against an ABC. We'll see how this goose typing can come useful in operator-overloading below.\n",
    "\n",
    "Alex, again:\n",
    "\n",
    ">What goose typing means is: `isinstance(obj, cls)` is now just fine... as long as cls is an abstract base class—in other words, cls’s metaclass is abc.ABCMeta.\n",
    "\n",
    ">So, here’s my valediction: whenever you’re implementing a class embodying any of the concepts represented in the ABCs in numbers, collections.abc, or other framework you may be using, be sure (if needed) to subclass it from, or register it into, the corre‐ sponding ABC. At the start of your programs using some library or framework defining classes which have omitted to do that, perform the registrations yourself; then, when you must check for (most typically) an argument being, e.g, “a sequence,” check whether: `isinstance(the_arg, collections.abc.Sequence)`\n",
    "\n",
    "Indeed, when we use `@singledispatch`, we should only be testing against ABC's. So, whenever we use adhoc polymorphism, we'll use goose typing against ABC's and no more.\n",
    "\n",
    "Fluent:\n",
    "\n",
    ">...it’s usually OK to perform an insinstance check against an ABC if you must enforce an API contract: “Dude, you have to implement this if you want to call me,” as technical reviewer Lennart Regebro put it. That’s particularly useful in sys‐ tems that have a plug-in architecture. Outside of frameworks, duck typing is often sim‐ pler and more flexible than type checks.\n",
    "\n",
    "Where else doesgoose-typing come useful?\n"
   ]
  },
  {
   "cell_type": "markdown",
   "metadata": {},
   "source": [
    "#### Common ABCs\n",
    "\n",
    "Diagram from Fluent:\n",
    "![](abcuml.png)\n",
    "\n",
    "Also, the `numbers` module defines the “numerical tower”:\n",
    "\n",
    "`Number < Complex < Real < Rational < Integral`"
   ]
  },
  {
   "cell_type": "markdown",
   "metadata": {},
   "source": [
    "All of this lays us squarely on the topic of inheritance.\n",
    "\n",
    "### Inheritance \n",
    "\n",
    "Python supports multiple inheritance, The `mro()` method tells us where an instance looks to find methods and properties."
   ]
  },
  {
   "cell_type": "code",
   "execution_count": 108,
   "metadata": {
    "collapsed": false
   },
   "outputs": [
    {
     "data": {
      "text/plain": [
       "(True, True)"
      ]
     },
     "execution_count": 108,
     "metadata": {},
     "output_type": "execute_result"
    }
   ],
   "source": [
    "isinstance(deck, FrenchDeckTake3), isinstance(deck, collections.abc.Sequence)"
   ]
  },
  {
   "cell_type": "markdown",
   "metadata": {},
   "source": [
    "The key notion here is that an instance of a subtype is also an instance of type and can be treated as such, as we can see above. This means that our method lookup table just expanded in a very controlled fashion.\n",
    "\n",
    "Subtype polymorphism now works by expanding the search from the current class to other classes in the MRO. The polymorphism is the notion that two sibling classes may have he same method. The subtype or inheritance part is that these both might have been looked up elsewhere in the MRO.\n",
    "\n",
    "Here are some useful tips:\n",
    "\n",
    "- do not subclass built in types: there be demons\n",
    "\n",
    "- make sure that inheritance only does **is-a**. Anything else and you have polluted your child classes.\n",
    "\n",
    "- Distinguish Interface Inheritance from Implementation Inheritance\n",
    "\n",
    "Inheritance for code reuse is an implementation detail. Often it can be replaced by composition and delegation. Indeed, last time, the environment \"had-a\" linked list, and was not supposed to inherit from it. But there are cases where its useful, as in non-abstract methods in an ABC which provide default implementations we can use or replace.\n",
    "\n",
    "- Favor Object Composition **has-a** Over Class Inheritance.\n",
    "\n",
    "as described above...\n",
    "\n",
    "- Make Interfaces Explicit with ABCs\n",
    "\n",
    "If a class is designed to define an interface/API, use a ABC\n",
    "\n",
    "- Use Mixins for Code Reuse or protocol mixing\n",
    "\n",
    "- Don’t Subclass from More Than One Concrete Class"
   ]
  },
  {
   "cell_type": "markdown",
   "metadata": {
    "collapsed": true
   },
   "source": [
    "### OperatorOverloading\n",
    "\n",
    "The Python object model has dunder types such as `__len__`. But it also defines one-argument dunders such as `__add__`, which take an \"object-to-add\" as an argument. \n",
    "\n",
    "Lets first take the implicit first argument `self`, which is also there in dunders like `__len__`. As we mentioned earlier, by defining the same method on multiple classes, the correct one is picked up by seeing the class's lookup table, in a form of ad-hoc polymorphism augmented by inheritance. \n",
    "\n",
    "Then there is a possible second argument, and we might want to dispatch based on different types of this second argument..here we can use explicit single dispatch through a \"operator\" specific lookup table, or even more simply throush if/elif checks against ABCs...the goose typing we taked about earlier. In each of these cases our lookup is now implicitly method based.\n",
    "\n",
    "So operator overloading in a dynamic language such as python is just ad-hoc polymorphism augmented by inheritance.\n",
    "\n",
    "Fluent:\n",
    ">Operator overloading allows user-defined objects to interoperate with infix operators such as + and * or unary operators like - and ~. More generally, function invocation ((), `__call__`), attribute access (., `__getattr__`), and item access/slicing ([], `__getitem__`) are also operators in Python....\n",
    "\n",
    ">Python strikes a good balance between flexibility, usability, and safety by imposing some limitations:\n",
    "• We cannot overload operators for the built-in types.\n",
    "• We cannot create new operators, only overload existing ones.\n",
    "• A few operators can’t be overloaded: is, and, or, not (but the bitwise &, |, ~, can).\n",
    "\n",
    "Gosling, quoted in Fluent, explaining why java does not have operator overloading:\n",
    ">Then there’s a community of about 10 percent that have actually used operator over‐ loading appropriately and who really care about it, and for whom it’s actually really important; this is almost exclusively people who do numerical work, where the notation is very important to appealing to people’s intuition, because they come into it with an intuition about what the + means, and the ability to say “a + b” where a and b are complex numbers or matrices or something really does make sense.\n",
    "\n",
    "Here is an example. We have added unary - and +"
   ]
  },
  {
   "cell_type": "code",
   "execution_count": 137,
   "metadata": {
    "collapsed": false
   },
   "outputs": [],
   "source": [
    "#example from Fluent\n",
    "from array import array \n",
    "import reprlib\n",
    "import math\n",
    "import numbers\n",
    "import functools\n",
    "import operator\n",
    "import itertools\n",
    "\n",
    "class Vector:\n",
    "    typecode = 'd'\n",
    "    \n",
    "    def __init__(self, components):\n",
    "        self._components = array(self.typecode, components)\n",
    "        \n",
    "    def __iter__(self):\n",
    "        return iter(self._components)\n",
    "    \n",
    "    def __repr__(self):\n",
    "        components = reprlib.repr(self._components) \n",
    "        components = components[components.find('['):-1] \n",
    "        return 'Vector({})'.format(components)\n",
    "    \n",
    "    def __eq__(self, other):\n",
    "        return (len(self) == len(other) and\n",
    "            all(a == b for a, b in zip(self, other)))\n",
    "    \n",
    "    def __abs__(self):\n",
    "        return math.sqrt(sum(x * x for x in self))\n",
    "    \n",
    "    def __bool__(self): \n",
    "        return bool(abs(self))\n",
    "    \n",
    "    def __len__(self):\n",
    "        return len(self._components)\n",
    "    \n",
    "    def __getitem__(self, index): \n",
    "        cls = type(self)\n",
    "        \n",
    "        if isinstance(index, slice):\n",
    "            return cls(self._components[index])\n",
    "        elif isinstance(index, numbers.Integral): \n",
    "            return self._components[index]\n",
    "        else:\n",
    "            msg = '{.__name__} indices must be integers' \n",
    "            raise TypeError(msg.format(cls))\n",
    "            \n",
    "    def __neg__(self):\n",
    "        return Vector(-x for x in self) \n",
    "    \n",
    "    def __pos__(self):\n",
    "        return Vector(self)"
   ]
  },
  {
   "cell_type": "code",
   "execution_count": 138,
   "metadata": {
    "collapsed": false
   },
   "outputs": [
    {
     "data": {
      "text/plain": [
       "(False, True, [3.0, 4.0], Vector([3.0, 4.0]))"
      ]
     },
     "execution_count": 138,
     "metadata": {},
     "output_type": "execute_result"
    }
   ],
   "source": [
    "v1 = Vector([3, 4])\n",
    "v2 = Vector([3.1, 4.2])\n",
    "v3 = Vector([3, 4, 5])\n",
    "v4 = Vector([3, 4])\n",
    "v1==v2, v1==v4, list(v1), v1"
   ]
  },
  {
   "cell_type": "code",
   "execution_count": 139,
   "metadata": {
    "collapsed": false
   },
   "outputs": [
    {
     "data": {
      "text/plain": [
       "(Vector([3.0, 4.0]), Vector([-3.0, -4.0]))"
      ]
     },
     "execution_count": 139,
     "metadata": {},
     "output_type": "execute_result"
    }
   ],
   "source": [
    "+v1, -v1"
   ]
  },
  {
   "cell_type": "markdown",
   "metadata": {},
   "source": [
    "Also, dunders are great!"
   ]
  },
  {
   "cell_type": "code",
   "execution_count": 140,
   "metadata": {
    "collapsed": false
   },
   "outputs": [
    {
     "data": {
      "image/png": "[encoded data removed]",
      "text/plain": [
       "<matplotlib.figure.Figure at 0x1086f7160>"
      ]
     },
     "metadata": {},
     "output_type": "display_data"
    }
   ],
   "source": [
    "%matplotlib inline\n",
    "import matplotlib.pyplot as plt\n",
    "plt.plot(v1,'o-')\n",
    "plt.plot(v2,'s-');"
   ]
  },
  {
   "cell_type": "markdown",
   "metadata": {},
   "source": [
    "Notice we return new Vectors. \n",
    "\n",
    "**Unary or Infix operations should never change arguments**\n",
    "\n",
    "What happens on addition?"
   ]
  },
  {
   "cell_type": "code",
   "execution_count": 141,
   "metadata": {
    "collapsed": false
   },
   "outputs": [
    {
     "ename": "TypeError",
     "evalue": "unsupported operand type(s) for +: 'Vector' and 'Vector'",
     "output_type": "error",
     "traceback": [
      "\u001b[0;31m---------------------------------------------------------------------------\u001b[0m",
      "\u001b[0;31mTypeError\u001b[0m                                 Traceback (most recent call last)",
      "\u001b[0;32m<ipython-input-141-ad09627a2a12>\u001b[0m in \u001b[0;36m<module>\u001b[0;34m()\u001b[0m\n\u001b[0;32m----> 1\u001b[0;31m \u001b[0mv1\u001b[0m\u001b[0;34m+\u001b[0m \u001b[0mv2\u001b[0m\u001b[0;34m\u001b[0m\u001b[0m\n\u001b[0m",
      "\u001b[0;31mTypeError\u001b[0m: unsupported operand type(s) for +: 'Vector' and 'Vector'"
     ]
    }
   ],
   "source": [
    "v1+ v2"
   ]
  },
  {
   "cell_type": "code",
   "execution_count": 142,
   "metadata": {
    "collapsed": false
   },
   "outputs": [
    {
     "ename": "TypeError",
     "evalue": "unsupported operand type(s) for +: 'Vector' and 'list'",
     "output_type": "error",
     "traceback": [
      "\u001b[0;31m---------------------------------------------------------------------------\u001b[0m",
      "\u001b[0;31mTypeError\u001b[0m                                 Traceback (most recent call last)",
      "\u001b[0;32m<ipython-input-142-f736510cc1b8>\u001b[0m in \u001b[0;36m<module>\u001b[0;34m()\u001b[0m\n\u001b[0;32m----> 1\u001b[0;31m \u001b[0mv1\u001b[0m \u001b[0;34m+\u001b[0m \u001b[0;34m[\u001b[0m\u001b[0;36m1\u001b[0m\u001b[0;34m,\u001b[0m\u001b[0;36m2\u001b[0m\u001b[0;34m]\u001b[0m\u001b[0;34m\u001b[0m\u001b[0m\n\u001b[0m",
      "\u001b[0;31mTypeError\u001b[0m: unsupported operand type(s) for +: 'Vector' and 'list'"
     ]
    }
   ],
   "source": [
    "v1 + [1,2]"
   ]
  },
  {
   "cell_type": "markdown",
   "metadata": {},
   "source": [
    "Ok, so lets add that!"
   ]
  },
  {
   "cell_type": "code",
   "execution_count": 127,
   "metadata": {
    "collapsed": false
   },
   "outputs": [],
   "source": [
    "#example from Fluent\n",
    "from array import array \n",
    "import reprlib\n",
    "import math\n",
    "import numbers\n",
    "import functools\n",
    "import operator\n",
    "import itertools\n",
    "\n",
    "class Vector:\n",
    "    typecode = 'd'\n",
    "    \n",
    "    def __init__(self, components):\n",
    "        self._components = array(self.typecode, components)\n",
    "        \n",
    "    def __iter__(self):\n",
    "        return iter(self._components)\n",
    "    \n",
    "    def __repr__(self):\n",
    "        components = reprlib.repr(self._components) \n",
    "        components = components[components.find('['):-1] \n",
    "        return 'Vector({})'.format(components)\n",
    "    \n",
    "    def __eq__(self, other):\n",
    "        return (len(self) == len(other) and\n",
    "            all(a == b for a, b in zip(self, other)))\n",
    "    \n",
    "    def __abs__(self):\n",
    "        return math.sqrt(sum(x * x for x in self))\n",
    "    \n",
    "    def __bool__(self): \n",
    "        return bool(abs(self))\n",
    "    \n",
    "    def __len__(self):\n",
    "        return len(self._components)\n",
    "    \n",
    "    def __getitem__(self, index): \n",
    "        cls = type(self)\n",
    "        \n",
    "        if isinstance(index, slice):\n",
    "            return cls(self._components[index])\n",
    "        elif isinstance(index, numbers.Integral): \n",
    "            return self._components[index]\n",
    "        else:\n",
    "            msg = '{.__name__} indices must be integers' \n",
    "            raise TypeError(msg.format(cls))\n",
    "            \n",
    "    def __neg__(self):\n",
    "        return Vector(-x for x in self) \n",
    "    \n",
    "    def __pos__(self):\n",
    "        return Vector(self)\n",
    "    \n",
    "    def _check_length(function):\n",
    "        def _check_length_helper(self , rhs):\n",
    "            if not len(self)==len(rhs):\n",
    "                raise ValueError(str(self)+' and '+str(rhs)+' must have the same length')\n",
    "            return function(self,rhs)\n",
    "        return _check_length_helper\n",
    "    \n",
    "    @_check_length\n",
    "    def __add__(self, rhs):\n",
    "        pairs = zip(self, rhs)\n",
    "        return Vector(a + b for a, b in pairs)"
   ]
  },
  {
   "cell_type": "code",
   "execution_count": 128,
   "metadata": {
    "collapsed": false
   },
   "outputs": [
    {
     "data": {
      "text/plain": [
       "Vector([6.1, 8.2])"
      ]
     },
     "execution_count": 128,
     "metadata": {},
     "output_type": "execute_result"
    }
   ],
   "source": [
    "v1 = Vector([3, 4])\n",
    "v2 = Vector([3.1, 4.2])\n",
    "v3 = Vector([3, 4, 5])\n",
    "v4 = Vector([3, 4])\n",
    "v1 + v2"
   ]
  },
  {
   "cell_type": "code",
   "execution_count": 129,
   "metadata": {
    "collapsed": false
   },
   "outputs": [
    {
     "ename": "TypeError",
     "evalue": "object of type 'int' has no len()",
     "output_type": "error",
     "traceback": [
      "\u001b[0;31m---------------------------------------------------------------------------\u001b[0m",
      "\u001b[0;31mTypeError\u001b[0m                                 Traceback (most recent call last)",
      "\u001b[0;32m<ipython-input-129-4352aa0cda8c>\u001b[0m in \u001b[0;36m<module>\u001b[0;34m()\u001b[0m\n\u001b[0;32m----> 1\u001b[0;31m \u001b[0mv1\u001b[0m \u001b[0;34m+\u001b[0m \u001b[0;36m5\u001b[0m\u001b[0;34m\u001b[0m\u001b[0m\n\u001b[0m",
      "\u001b[0;32m<ipython-input-127-467809c07389>\u001b[0m in \u001b[0;36m_check_length_helper\u001b[0;34m(self, rhs)\u001b[0m\n\u001b[1;32m     54\u001b[0m     \u001b[0;32mdef\u001b[0m \u001b[0m_check_length\u001b[0m\u001b[0;34m(\u001b[0m\u001b[0mfunction\u001b[0m\u001b[0;34m)\u001b[0m\u001b[0;34m:\u001b[0m\u001b[0;34m\u001b[0m\u001b[0m\n\u001b[1;32m     55\u001b[0m         \u001b[0;32mdef\u001b[0m \u001b[0m_check_length_helper\u001b[0m\u001b[0;34m(\u001b[0m\u001b[0mself\u001b[0m \u001b[0;34m,\u001b[0m \u001b[0mrhs\u001b[0m\u001b[0;34m)\u001b[0m\u001b[0;34m:\u001b[0m\u001b[0;34m\u001b[0m\u001b[0m\n\u001b[0;32m---> 56\u001b[0;31m             \u001b[0;32mif\u001b[0m \u001b[0;32mnot\u001b[0m \u001b[0mlen\u001b[0m\u001b[0;34m(\u001b[0m\u001b[0mself\u001b[0m\u001b[0;34m)\u001b[0m\u001b[0;34m==\u001b[0m\u001b[0mlen\u001b[0m\u001b[0;34m(\u001b[0m\u001b[0mrhs\u001b[0m\u001b[0;34m)\u001b[0m\u001b[0;34m:\u001b[0m\u001b[0;34m\u001b[0m\u001b[0m\n\u001b[0m\u001b[1;32m     57\u001b[0m                 \u001b[0;32mraise\u001b[0m \u001b[0mValueError\u001b[0m\u001b[0;34m(\u001b[0m\u001b[0mstr\u001b[0m\u001b[0;34m(\u001b[0m\u001b[0mself\u001b[0m\u001b[0;34m)\u001b[0m\u001b[0;34m+\u001b[0m\u001b[0;34m' and '\u001b[0m\u001b[0;34m+\u001b[0m\u001b[0mstr\u001b[0m\u001b[0;34m(\u001b[0m\u001b[0mrhs\u001b[0m\u001b[0;34m)\u001b[0m\u001b[0;34m+\u001b[0m\u001b[0;34m' must have the same length'\u001b[0m\u001b[0;34m)\u001b[0m\u001b[0;34m\u001b[0m\u001b[0m\n\u001b[1;32m     58\u001b[0m             \u001b[0;32mreturn\u001b[0m \u001b[0mfunction\u001b[0m\u001b[0;34m(\u001b[0m\u001b[0mself\u001b[0m\u001b[0;34m,\u001b[0m\u001b[0mrhs\u001b[0m\u001b[0;34m)\u001b[0m\u001b[0;34m\u001b[0m\u001b[0m\n",
      "\u001b[0;31mTypeError\u001b[0m: object of type 'int' has no len()"
     ]
    }
   ],
   "source": [
    "v1 + 5"
   ]
  },
  {
   "cell_type": "code",
   "execution_count": 130,
   "metadata": {
    "collapsed": false
   },
   "outputs": [
    {
     "data": {
      "text/plain": [
       "Vector([4.0, 6.0])"
      ]
     },
     "execution_count": 130,
     "metadata": {},
     "output_type": "execute_result"
    }
   ],
   "source": [
    "v1 + [1,2]"
   ]
  },
  {
   "cell_type": "markdown",
   "metadata": {},
   "source": [
    "???? What happened here???????\n",
    "\n",
    "`other` implements the iterator protocol and everything just works.\n",
    "\n",
    "But:"
   ]
  },
  {
   "cell_type": "markdown",
   "metadata": {},
   "source": [
    "#### How overloading is done?"
   ]
  },
  {
   "cell_type": "markdown",
   "metadata": {},
   "source": [
    "The process for infix ops is this (from Fluent):\n",
    "\n",
    "\n",
    "1. If a has `__add__`, call a.`__add__`(b) and return result unless it’s NotImplemented. \n",
    "2. If a doesn’t have `__add__`, or calling it returns NotImplemented, check if b has `__radd__`, then call `b.__radd__(a)` and return result unless it’s NotImplemented. \n",
    "3. If b doesn’t have `__radd__`, or calling it returns NotImplemented, raise TypeError with an unsupported operand types message."
   ]
  },
  {
   "cell_type": "code",
   "execution_count": 136,
   "metadata": {
    "collapsed": false
   },
   "outputs": [
    {
     "ename": "TypeError",
     "evalue": "can only concatenate list (not \"Vector\") to list",
     "output_type": "error",
     "traceback": [
      "\u001b[0;31m---------------------------------------------------------------------------\u001b[0m",
      "\u001b[0;31mTypeError\u001b[0m                                 Traceback (most recent call last)",
      "\u001b[0;32m<ipython-input-136-4c468b9a640b>\u001b[0m in \u001b[0;36m<module>\u001b[0;34m()\u001b[0m\n\u001b[0;32m----> 1\u001b[0;31m \u001b[0;34m[\u001b[0m\u001b[0;36m1\u001b[0m\u001b[0;34m,\u001b[0m\u001b[0;36m2\u001b[0m\u001b[0;34m]\u001b[0m \u001b[0;34m+\u001b[0m \u001b[0mv1\u001b[0m\u001b[0;34m\u001b[0m\u001b[0m\n\u001b[0m",
      "\u001b[0;31mTypeError\u001b[0m: can only concatenate list (not \"Vector\") to list"
     ]
    }
   ],
   "source": [
    "[1,2] + v1"
   ]
  },
  {
   "cell_type": "markdown",
   "metadata": {},
   "source": [
    "#### ..the \"right\" methods\n",
    "\n",
    "`__radd__` method is called the “right” version of `__add__`. \n",
    "To make the mixed-types addition  work, we need to also implement the `__radd__` which Python calls if and only if:\n",
    "- the left operand does not implement `__add__ ` : here it does but because its a list it thinks we want to concatenate\n",
    "- or if the left-hand operand does but returns `NotImplemented` \n",
    "\n",
    "From Fluent\n",
    "\n",
    ">if an operator special method cannot return a valid result because of type incom‐ patibility, it should return NotImplemented and not raise TypeError. By returning NotImplemented, you leave the door open for the implementer of the other operand type to perform the operation when Python tries the reversed method call.\n",
    "\n",
    "We'll use duck-typing here and just catch exceptions, returning `NotImplemented`, thus enabling the reverse lookup. If the reverse (in step 2. above also retuens `NotImplemented`, a `TypeError` is thrown. Best for \n"
   ]
  },
  {
   "cell_type": "code",
   "execution_count": 156,
   "metadata": {
    "collapsed": true
   },
   "outputs": [],
   "source": [
    "#example from Fluent\n",
    "from array import array \n",
    "import reprlib\n",
    "import math\n",
    "import numbers\n",
    "import functools\n",
    "import operator\n",
    "import itertools\n",
    "\n",
    "class Vector:\n",
    "    typecode = 'd'\n",
    "    \n",
    "    def __init__(self, components):\n",
    "        self._components = array(self.typecode, components)\n",
    "        \n",
    "    def __iter__(self):\n",
    "        return iter(self._components)\n",
    "    \n",
    "    def __repr__(self):\n",
    "        components = reprlib.repr(self._components) \n",
    "        components = components[components.find('['):-1] \n",
    "        return 'Vector({})'.format(components)\n",
    "    \n",
    "    def __eq__(self, other):\n",
    "        return (len(self) == len(other) and\n",
    "            all(a == b for a, b in zip(self, other)))\n",
    "    \n",
    "    def __abs__(self):\n",
    "        return math.sqrt(sum(x * x for x in self))\n",
    "    \n",
    "    def __bool__(self): \n",
    "        return bool(abs(self))\n",
    "    \n",
    "    def __len__(self):\n",
    "        return len(self._components)\n",
    "    \n",
    "    def __getitem__(self, index): \n",
    "        cls = type(self)\n",
    "        \n",
    "        if isinstance(index, slice):\n",
    "            return cls(self._components[index])\n",
    "        elif isinstance(index, numbers.Integral): \n",
    "            return self._components[index]\n",
    "        else:\n",
    "            msg = '{.__name__} indices must be integers' \n",
    "            raise TypeError(msg.format(cls))\n",
    "            \n",
    "    def __neg__(self):\n",
    "        return Vector(-x for x in self) \n",
    "    \n",
    "    def __pos__(self):\n",
    "        return Vector(self)\n",
    "    \n",
    "    def _check_length_helper(self , rhs):\n",
    "        if not len(self)==len(rhs):\n",
    "            raise ValueError(str(self)+' and '+str(rhs)+' must have the same length')\n",
    "    \n",
    "    def __add__(self, rhs):\n",
    "        try:\n",
    "            self._check_length_helper(rhs)\n",
    "            pairs = zip(self, rhs)\n",
    "            return Vector(a + b for a, b in pairs)\n",
    "        except TypeError:\n",
    "            return NotImplemented\n",
    "    \n",
    "    def __radd__(self, other): # other + self delegates to __add__\n",
    "        return self + other"
   ]
  },
  {
   "cell_type": "code",
   "execution_count": 157,
   "metadata": {
    "collapsed": false
   },
   "outputs": [
    {
     "data": {
      "text/plain": [
       "Vector([4.0, 6.0])"
      ]
     },
     "execution_count": 157,
     "metadata": {},
     "output_type": "execute_result"
    }
   ],
   "source": [
    "v1 = Vector([3, 4])\n",
    "v1 + [1,2]"
   ]
  },
  {
   "cell_type": "code",
   "execution_count": 158,
   "metadata": {
    "collapsed": false
   },
   "outputs": [
    {
     "data": {
      "text/plain": [
       "Vector([4.0, 6.0])"
      ]
     },
     "execution_count": 158,
     "metadata": {},
     "output_type": "execute_result"
    }
   ],
   "source": [
    "[1,2]+v1"
   ]
  },
  {
   "cell_type": "markdown",
   "metadata": {},
   "source": [
    "Ok, but:"
   ]
  },
  {
   "cell_type": "code",
   "execution_count": 159,
   "metadata": {
    "collapsed": false
   },
   "outputs": [
    {
     "ename": "TypeError",
     "evalue": "unsupported operand type(s) for +: 'Vector' and 'int'",
     "output_type": "error",
     "traceback": [
      "\u001b[0;31m---------------------------------------------------------------------------\u001b[0m",
      "\u001b[0;31mTypeError\u001b[0m                                 Traceback (most recent call last)",
      "\u001b[0;32m<ipython-input-159-a9eae6084516>\u001b[0m in \u001b[0;36m<module>\u001b[0;34m()\u001b[0m\n\u001b[0;32m----> 1\u001b[0;31m \u001b[0mv1\u001b[0m\u001b[0;34m+\u001b[0m\u001b[0;36m4\u001b[0m\u001b[0;34m\u001b[0m\u001b[0m\n\u001b[0m",
      "\u001b[0;31mTypeError\u001b[0m: unsupported operand type(s) for +: 'Vector' and 'int'"
     ]
    }
   ],
   "source": [
    "v1+4"
   ]
  },
  {
   "cell_type": "code",
   "execution_count": 160,
   "metadata": {
    "collapsed": false
   },
   "outputs": [
    {
     "ename": "TypeError",
     "evalue": "unsupported operand type(s) for +: 'Vector' and 'int'",
     "output_type": "error",
     "traceback": [
      "\u001b[0;31m---------------------------------------------------------------------------\u001b[0m",
      "\u001b[0;31mTypeError\u001b[0m                                 Traceback (most recent call last)",
      "\u001b[0;32m<ipython-input-160-14d69638623e>\u001b[0m in \u001b[0;36m<module>\u001b[0;34m()\u001b[0m\n\u001b[0;32m----> 1\u001b[0;31m \u001b[0;36m4\u001b[0m \u001b[0;34m+\u001b[0m \u001b[0mv1\u001b[0m\u001b[0;34m\u001b[0m\u001b[0m\n\u001b[0m",
      "\u001b[0;32m<ipython-input-156-fc6879727763>\u001b[0m in \u001b[0;36m__radd__\u001b[0;34m(self, other)\u001b[0m\n\u001b[1;32m     65\u001b[0m \u001b[0;34m\u001b[0m\u001b[0m\n\u001b[1;32m     66\u001b[0m     \u001b[0;32mdef\u001b[0m \u001b[0m__radd__\u001b[0m\u001b[0;34m(\u001b[0m\u001b[0mself\u001b[0m\u001b[0;34m,\u001b[0m \u001b[0mother\u001b[0m\u001b[0;34m)\u001b[0m\u001b[0;34m:\u001b[0m \u001b[0;31m# other + self delegates to __add__\u001b[0m\u001b[0;34m\u001b[0m\u001b[0m\n\u001b[0;32m---> 67\u001b[0;31m         \u001b[0;32mreturn\u001b[0m \u001b[0mself\u001b[0m \u001b[0;34m+\u001b[0m \u001b[0mother\u001b[0m\u001b[0;34m\u001b[0m\u001b[0m\n\u001b[0m",
      "\u001b[0;31mTypeError\u001b[0m: unsupported operand type(s) for +: 'Vector' and 'int'"
     ]
    }
   ],
   "source": [
    "4 + v1"
   ]
  },
  {
   "cell_type": "markdown",
   "metadata": {},
   "source": [
    "We should support this. What should be our semantics? I think it should add a constant to every item, like in numpy. Thiusis where goose-typing comes in with case or dispatch based dealing with other types\n",
    "\n"
   ]
  },
  {
   "cell_type": "code",
   "execution_count": 161,
   "metadata": {
    "collapsed": true
   },
   "outputs": [],
   "source": [
    "#example from Fluent\n",
    "from array import array \n",
    "import reprlib\n",
    "import math\n",
    "import numbers\n",
    "import functools\n",
    "import operator\n",
    "import itertools\n",
    "\n",
    "class Vector:\n",
    "    typecode = 'd'\n",
    "    \n",
    "    def __init__(self, components):\n",
    "        self._components = array(self.typecode, components)\n",
    "        \n",
    "    def __iter__(self):\n",
    "        return iter(self._components)\n",
    "    \n",
    "    def __repr__(self):\n",
    "        components = reprlib.repr(self._components) \n",
    "        components = components[components.find('['):-1] \n",
    "        return 'Vector({})'.format(components)\n",
    "    \n",
    "    def __eq__(self, other):\n",
    "        if isinstance(other, Vector):\n",
    "            return (len(self) == len(other) and\n",
    "                all(a == b for a, b in zip(self, other)))\n",
    "        else:\n",
    "            return NotImplemented\n",
    "    \n",
    "    def __abs__(self):\n",
    "        return math.sqrt(sum(x * x for x in self))\n",
    "    \n",
    "    def __bool__(self): \n",
    "        return bool(abs(self))\n",
    "    \n",
    "    def __len__(self):\n",
    "        return len(self._components)\n",
    "    \n",
    "    def __getitem__(self, index): \n",
    "        cls = type(self)\n",
    "        \n",
    "        if isinstance(index, slice):\n",
    "            return cls(self._components[index])\n",
    "        elif isinstance(index, numbers.Integral): \n",
    "            return self._components[index]\n",
    "        else:\n",
    "            msg = '{.__name__} indices must be integers' \n",
    "            raise TypeError(msg.format(cls))\n",
    "            \n",
    "    def __neg__(self):\n",
    "        return Vector(-x for x in self) \n",
    "    \n",
    "    def __pos__(self):\n",
    "        return Vector(self)\n",
    "    \n",
    "    def _check_length_helper(self , rhs):\n",
    "        if not len(self)==len(rhs):\n",
    "            raise ValueError(str(self)+' and '+str(rhs)+' must have the same length')\n",
    "    \n",
    "    def __add__(self, rhs):\n",
    "        try:\n",
    "            if isinstance(rhs, numbers.Real):\n",
    "                return Vector(a + rhs for a in self) \n",
    "            else: #\n",
    "                self._check_length_helper(rhs)\n",
    "                pairs = zip(self, rhs)\n",
    "                return Vector(a + b for a, b in pairs)\n",
    "        except TypeError:\n",
    "            raise NotImplemented\n",
    "    \n",
    "    def __radd__(self, other): # other + self delegates to __add__\n",
    "        return self + other"
   ]
  },
  {
   "cell_type": "code",
   "execution_count": 162,
   "metadata": {
    "collapsed": false
   },
   "outputs": [
    {
     "data": {
      "text/plain": [
       "(Vector([4.0, 6.0]), Vector([4.0, 6.0]))"
      ]
     },
     "execution_count": 162,
     "metadata": {},
     "output_type": "execute_result"
    }
   ],
   "source": [
    "v1 = Vector([3, 4])\n",
    "v1 + [1,2], [1,2] + v1"
   ]
  },
  {
   "cell_type": "code",
   "execution_count": 163,
   "metadata": {
    "collapsed": false
   },
   "outputs": [
    {
     "data": {
      "text/plain": [
       "(Vector([6.0, 7.0]), Vector([6.0, 7.0]))"
      ]
     },
     "execution_count": 163,
     "metadata": {},
     "output_type": "execute_result"
    }
   ],
   "source": [
    "v1 + 3, 3 + v1"
   ]
  },
  {
   "cell_type": "markdown",
   "metadata": {},
   "source": [
    "Out-of-place augmented addition comed for free. If you want in-place, implement `__iadd__`. Why ought you not do it here?"
   ]
  },
  {
   "cell_type": "code",
   "execution_count": 164,
   "metadata": {
    "collapsed": false
   },
   "outputs": [
    {
     "data": {
      "text/plain": [
       "Vector([6.0, 7.0])"
      ]
     },
     "execution_count": 164,
     "metadata": {},
     "output_type": "execute_result"
    }
   ],
   "source": [
    "v1 += 3\n",
    "v1"
   ]
  },
  {
   "cell_type": "code",
   "execution_count": 165,
   "metadata": {
    "collapsed": false
   },
   "outputs": [
    {
     "data": {
      "text/plain": [
       "Vector([9.0, 10.0])"
      ]
     },
     "execution_count": 165,
     "metadata": {},
     "output_type": "execute_result"
    }
   ],
   "source": [
    "v1 += 3\n",
    "v1"
   ]
  },
  {
   "cell_type": "markdown",
   "metadata": {},
   "source": [
    "This covers unary, infix, comparison-infix."
   ]
  },
  {
   "cell_type": "markdown",
   "metadata": {},
   "source": [
    "### No leakage and ease of use\n",
    "\n",
    "- Our TS class shouldnt be any harder to use than `array`\n",
    "- The array.array internal implementation should not leak out, even in errors...(we talked about this last time in the interface-implementation separation as well...\n",
    "\n"
   ]
  },
  {
   "cell_type": "code",
   "execution_count": 55,
   "metadata": {
    "collapsed": false
   },
   "outputs": [
    {
     "name": "stdout",
     "output_type": "stream",
     "text": [
      "<class 'pandas.core.series.Series'>\n"
     ]
    },
    {
     "data": {
      "text/plain": [
       "array([  2.71828183,   7.3890561 ,  20.08553692])"
      ]
     },
     "execution_count": 55,
     "metadata": {},
     "output_type": "execute_result"
    }
   ],
   "source": [
    "import numpy as np\n",
    "1 < np.array([1,2])\n",
    "import pandas as pd\n",
    "p=pd.Series([1,2,3])\n",
    "print(type(p))\n",
    "p2=np.exp(p)\n",
    "p2, type(p2)\n",
    "np.exp([1,2,3])"
   ]
  }
 ],
 "metadata": {
  "kernelspec": {
   "display_name": "Python 3",
   "language": "python",
   "name": "python3"
  },
  "language_info": {
   "codemirror_mode": {
    "name": "ipython",
    "version": 3
   },
   "file_extension": ".py",
   "mimetype": "text/x-python",
   "name": "python",
   "nbconvert_exporter": "python",
   "pygments_lexer": "ipython3",
   "version": "3.5.1"
  }
 },
 "nbformat": 4,
 "nbformat_minor": 0
}
