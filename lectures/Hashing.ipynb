{
 "cells": [
  {
   "cell_type": "markdown",
   "metadata": {
    "slideshow": {
     "slide_type": "slide"
    }
   },
   "source": [
    "# Hashing\n",
    "\n",
    "----\n",
    "\n",
    "Contents\n",
    " - [Hash table basics](#Hash-table-basics)\n",
    " - [Hashing in Python](#Hashing-in-Python})\n",
    "  - [Dictionaries](#dictionaries)\n",
    "  - [Dictionary keys](#dictionary-keys)\n",
    "\n",
    "----"
   ]
  },
  {
   "cell_type": "code",
   "execution_count": 52,
   "metadata": {
    "collapsed": true
   },
   "outputs": [],
   "source": [
    "import numpy as np"
   ]
  },
  {
   "cell_type": "markdown",
   "metadata": {
    "slideshow": {
     "slide_type": "slide"
    }
   },
   "source": [
    "## Hash table basics\n",
    "\n",
    "You're probably already familiar with hash tables, but for completeness' sake, let's review the basics.\n",
    "\n",
    "Hash tables consist of four parts:\n",
    "1. Keys\n",
    "2. Values\n",
    "3. A hash function\n",
    "4. A storage array\n",
    "\n",
    "![Hash Table Diagram](hash_overview.png)\n",
    "\n",
    "The basic idea is that a hash function provides a constant-time approximation of where to find or store a particular key-value pair. In the common case, the key-value pair can be found or stored at that location. In the uncommon case, the function returned the same value for some other key, so some other location must be searched or used to complete the operation. When a hash function returns the same value for two distinct keys, it is called a collision, and the mechanism to recover is called collision resolution."
   ]
  },
  {
   "cell_type": "markdown",
   "metadata": {
    "collapsed": true,
    "slideshow": {
     "slide_type": "slide"
    }
   },
   "source": [
    "## Python dictionaries\n",
    "\n",
    "Python `dict`s are hash tables. We're going to understand how they operate internally.\n",
    "\n",
    "As we've already discussed, Python data structures are largely defined by the interfaces they present. There are two interfaces we care about here:\n",
    "\n",
    " - Objects that act like dictionaries\n",
    " - Objects that can act as key for dictionaries"
   ]
  },
  {
   "cell_type": "markdown",
   "metadata": {
    "slideshow": {
     "slide_type": "slide"
    }
   },
   "source": [
    "### Dictionaries\n",
    "\n",
    "Python dictionaries map keys to values.\n",
    "\n",
    "Just like sequences and iterables, the interface for Python dictionaries can be described by a small set of special methods. The easiest way to understand this is to match Python statements involving dictionaries with the special methods they call."
   ]
  },
  {
   "cell_type": "code",
   "execution_count": 181,
   "metadata": {
    "collapsed": false,
    "slideshow": {
     "slide_type": "slide"
    }
   },
   "outputs": [],
   "source": [
    "dictionary = {}\n",
    "### All of these pairs of statements are equivalent.\n",
    "\n",
    "# Setting an item\n",
    "dictionary['key1'] = 'value1'\n",
    "dictionary.__setitem__('key2', 'value2')\n",
    "\n",
    "# Getting an item\n",
    "x = dictionary['key1']\n",
    "x = dictionary.__getitem__('key2')\n",
    "\n",
    "# Get the size of an item\n",
    "len(dictionary)\n",
    "dictionary.__len__()\n",
    "\n",
    "# Iterating over a dictionary\n",
    "[key for key in dictionary]\n",
    "[key for key in dictionary.__iter__()]\n",
    "\n",
    "# Deleting an item\n",
    "del dictionary['key1']\n",
    "dictionary.__delitem__('key2')\n",
    "\n",
    "# Checking at item (OPTIONAL)\n",
    "'key1' in dictionary\n",
    "dictionary.__contains__('key2')\n",
    "for key in dictionary: # Fallback behavior, if __contains__ is not defiend\n",
    "    if key=='key1':\n",
    "        True\n",
    "else: # You can have else blocks on for-loops in Python\n",
    "    False\n",
    "\n",
    "# Default values (OPTIONAL)\n",
    "# Normal dicts do not implement this feature\n",
    "# x = dictionary['missing-key']\n",
    "# x = dictionary.__missing__('missing-key')"
   ]
  },
  {
   "cell_type": "markdown",
   "metadata": {
    "slideshow": {
     "slide_type": "slide"
    }
   },
   "source": [
    "**Dictionaries that are not dictionaries**\n",
    "\n",
    "One side-effect of duck-typed interfaces is that *anything* can be a duck, so long as it quacks.\n",
    "\n",
    "As an example, let's abuse this interface to create a dictionary which never contains more than 10 values."
   ]
  },
  {
   "cell_type": "code",
   "execution_count": 215,
   "metadata": {
    "collapsed": true,
    "slideshow": {
     "slide_type": "slide"
    }
   },
   "outputs": [],
   "source": [
    "class ForgetfulDict(dict):\n",
    "    def __init__(self, *args, **kwargs):\n",
    "        super().__init__(*args, **kwargs)\n",
    "        self._memory = [None]*10\n",
    "        [self.__setitem__(k,v) for (k,v) in self.items()]\n",
    "    # Inherit __getitem__, __iter__, __contains__, and __len__\n",
    "    def __setitem__(self, key, value):\n",
    "        if key is None:\n",
    "            return None # disallow None\n",
    "        elif key in self._memory:\n",
    "            super().__setitem__(key, value)\n",
    "        else:\n",
    "            lostkey = self._memory.pop(-1)\n",
    "            self._memory.insert(0, key)\n",
    "            super().__setitem__(key,value)\n",
    "            if lostkey is not None:\n",
    "                print('What was \"'+str(lostkey)+'\" again?')\n",
    "                super().__delitem__(lostkey)\n",
    "    def __delitem__(self, key):\n",
    "        if key in self._memory:\n",
    "            self._memory.remove(key)\n",
    "            self._memory.append(None)\n",
    "            super().__delitem__(key)\n",
    "        else:\n",
    "            self.__missing__(key)\n",
    "    def __missing__(self, key):\n",
    "        print('Did I forget something?')\n",
    "        return None"
   ]
  },
  {
   "cell_type": "code",
   "execution_count": 222,
   "metadata": {
    "collapsed": false,
    "slideshow": {
     "slide_type": "slide"
    }
   },
   "outputs": [
    {
     "name": "stdout",
     "output_type": "stream",
     "text": [
      "10 {'a': 0, 'i': 8, 'h': 7, 'c': 2, 'e': 4, 'b': 1, 'g': 6, 'd': 3, 'j': 9, 'f': 5}\n",
      "a is 0\n",
      "What was \"a\" again?\n",
      "What was \"i\" again?\n",
      "10 {'g': 6, 'd': 3, 'f': 5, 'y': -2, 'z': -1, 'h': 7, 'c': 2, 'e': 4, 'b': 1, 'j': 9}\n",
      "Did I forget something?\n",
      "a is None\n"
     ]
    }
   ],
   "source": [
    "forgetful = ForgetfulDict(zip('abcdefghij',range(0,10)))\n",
    "print(len(forgetful),forgetful)\n",
    "print('a is',forgetful['a'])\n",
    "\n",
    "forgetful['z'] = -1\n",
    "forgetful['y'] = -2\n",
    "print(len(forgetful),forgetful)\n",
    "print('a is',forgetful['a'])"
   ]
  },
  {
   "cell_type": "markdown",
   "metadata": {},
   "source": [
    "While the utility of a forgetful dictionary is questionable, the ability to manipulate the interface in this way is pretty powerful."
   ]
  },
  {
   "cell_type": "markdown",
   "metadata": {
    "slideshow": {
     "slide_type": "slide"
    }
   },
   "source": [
    "### Dictionary keys\n",
    "\n",
    "Dictionary keys in Python can be any object that satisfies the interface convention.\n",
    "\n",
    "A common misconception is that dictionary keys must be immutable.\n",
    "\n",
    "In actuality, Python dicts define an interface just like everything else. There are two relavent special methods:\n",
    "\n",
    "1. `__hash__`: returns an integer. This will eventually get converted by Python to an index.\n",
    "2. `__eq__`: compares two objects for equality. This is how collisions are detected.\n",
    "\n",
    "In general, immutable built-in types (like numbers and tuples) have `__hash__` methods defined, and built-in mutable types (like lists and dicts) have `__hash__` set to `None`.\n",
    "\n",
    "Let's see some examples."
   ]
  },
  {
   "cell_type": "code",
   "execution_count": 170,
   "metadata": {
    "collapsed": false,
    "slideshow": {
     "slide_type": "slide"
    }
   },
   "outputs": [
    {
     "data": {
      "text/plain": [
       "[0, 3713081631934410656, -5968570388787316237, -1903593707857203530, 2000007]"
      ]
     },
     "execution_count": 170,
     "metadata": {},
     "output_type": "execute_result"
    }
   ],
   "source": [
    "# VALID KEYS\n",
    "\n",
    "valid = {\n",
    "    0: 'numbers',\n",
    "    'abc': 'strings',\n",
    "    (1,2): 'tuples',\n",
    "    complex(1,2): 'certain classes',\n",
    "    (1,('a','b'),((),(),),): 'ridiculous combinations of the above',\n",
    "}\n",
    "\n",
    "[hash(k) for k in valid.keys()]"
   ]
  },
  {
   "cell_type": "code",
   "execution_count": 81,
   "metadata": {
    "collapsed": false,
    "slideshow": {
     "slide_type": "slide"
    }
   },
   "outputs": [
    {
     "name": "stdout",
     "output_type": "stream",
     "text": [
      "lists are mutable\n",
      "dicts are mutable, so no recursive dicts\n",
      "None\n",
      "None\n"
     ]
    }
   ],
   "source": [
    "# INVALID KEYS\n",
    "\n",
    "try:\n",
    "    invalid = { [1,2,3]: 'lists' }\n",
    "except:\n",
    "    print('lists are mutable')\n",
    "\n",
    "try:\n",
    "    invalid = { {1:2}: 'other dicts' }\n",
    "except:\n",
    "    print('dicts are mutable, so no recursive dicts')\n",
    "\n",
    "print( getattr( [1,2], '__hash__') )\n",
    "print( getattr( {1:2}, '__hash__') )"
   ]
  },
  {
   "cell_type": "markdown",
   "metadata": {
    "collapsed": false,
    "slideshow": {
     "slide_type": "slide"
    }
   },
   "source": [
    "Perhaps surprisingly to some of you, you can *absolutely* have mutable keys."
   ]
  },
  {
   "cell_type": "code",
   "execution_count": 89,
   "metadata": {
    "collapsed": false,
    "slideshow": {
     "slide_type": "fragment"
    }
   },
   "outputs": [
    {
     "name": "stdout",
     "output_type": "stream",
     "text": [
      "{<MutableClass: 0>: 'value'} value\n",
      "{<MutableClass: -1>: 'value'} value\n"
     ]
    }
   ],
   "source": [
    "class MutableClass:\n",
    "    def __init__(self, init):\n",
    "        self.v = init\n",
    "    def set(self, new):\n",
    "        self.v = new\n",
    "    def __repr__(self):\n",
    "        return '<MutableClass: '+str(self.v)+'>'\n",
    "\n",
    "m = MutableClass(0)\n",
    "dictionary = { m: 'value' }\n",
    "print(dictionary, dictionary[m])\n",
    "\n",
    "m.set(-1)\n",
    "print(dictionary, dictionary[m])"
   ]
  },
  {
   "cell_type": "markdown",
   "metadata": {
    "slideshow": {
     "slide_type": "slide"
    }
   },
   "source": [
    "So what's going on here? Two things:\n",
    "\n",
    " - User-defined classes inherit a `__hash__` from `object` which returns a hash based on the identity of the object.\n",
    " - The implementation of `__eq__` inherited from `object` compares the identity of two objects."
   ]
  },
  {
   "cell_type": "code",
   "execution_count": 106,
   "metadata": {
    "collapsed": false
   },
   "outputs": [
    {
     "name": "stdout",
     "output_type": "stream",
     "text": [
      "[<MutableClass: 0>, <MutableClass: 0>, <MutableClass: 0>]\n",
      "[-9223372036579556110, 275219709, 275219709]\n",
      "False True\n",
      "[<MutableClass: 0>, <MutableClass: 1>, <MutableClass: 1>]\n",
      "[-9223372036579556110, 275219709, 275219709]\n",
      "False True\n"
     ]
    }
   ],
   "source": [
    "A = MutableClass(0)\n",
    "B = MutableClass(0)\n",
    "C = B\n",
    "print([A,B,C])\n",
    "print([hash(o) for o in [A,B,C]])\n",
    "print(A==B, B==C)\n",
    "\n",
    "C.set(1)\n",
    "print([A,B,C])\n",
    "print([hash(o) for o in [A,B,C]])\n",
    "print(A==B, B==C)"
   ]
  },
  {
   "cell_type": "markdown",
   "metadata": {
    "slideshow": {
     "slide_type": "slide"
    }
   },
   "source": [
    "Now in general, these two functions should behave rationally:\n",
    "\n",
    " - `hash(A)==hash(A)`\n",
    " - Normally, `hash(A)!=hash(B)` if `A!=B`\n",
    " - `A==B` implies `hash(A)==hash(B)`\n",
    " \n",
    "But we're in Python, so we can happily break any or all of these to see what happens."
   ]
  },
  {
   "cell_type": "code",
   "execution_count": 124,
   "metadata": {
    "collapsed": true
   },
   "outputs": [],
   "source": [
    "class UtilityMethods(): \n",
    "    def __init__(self, v):\n",
    "        self.set(v)\n",
    "    def set(self, v):\n",
    "        self.v = v\n",
    "    def __repr__(self):\n",
    "        return '<OBJ|id:'+str(id(self))+'|v:'+str(self.v)+'>'"
   ]
  },
  {
   "cell_type": "markdown",
   "metadata": {
    "slideshow": {
     "slide_type": "slide"
    }
   },
   "source": [
    "First up, `hash(A)==hash(A)`. Hashes should be consistent."
   ]
  },
  {
   "cell_type": "code",
   "execution_count": 142,
   "metadata": {
    "collapsed": true
   },
   "outputs": [],
   "source": [
    "import random\n",
    "class InconsistentHashable(UtilityMethods):\n",
    "    def __hash__(self):\n",
    "        return random.randint(0,1000)"
   ]
  },
  {
   "cell_type": "code",
   "execution_count": 143,
   "metadata": {
    "collapsed": false
   },
   "outputs": [
    {
     "name": "stdout",
     "output_type": "stream",
     "text": [
      "<OBJ|id:4411763904|v:0>\n",
      "705 773 241\n",
      "{<OBJ|id:4411763904|v:0>: 'z', <OBJ|id:4411763904|v:0>: 'y'}\n",
      "True\n"
     ]
    }
   ],
   "source": [
    "A = InconsistentHashable(v=0)\n",
    "print(A)\n",
    "print(hash(A), hash(A), hash(A))\n",
    "\n",
    "dictionary = {}\n",
    "dictionary[A] = 'x'\n",
    "dictionary[A] = 'y'\n",
    "dictionary[A] = 'z'\n",
    "print(dictionary)\n",
    "print( A in dictionary )"
   ]
  },
  {
   "cell_type": "markdown",
   "metadata": {},
   "source": [
    "Fun. Reassigning `A` has the effect of adding multiple copies, and lookup is effectively broken."
   ]
  },
  {
   "cell_type": "markdown",
   "metadata": {
    "slideshow": {
     "slide_type": "slide"
    }
   },
   "source": [
    "Next: Normally, `hash(A)!=hash(B)` if `A!=B`. We normally want to *avoid* collisions in hash tables."
   ]
  },
  {
   "cell_type": "code",
   "execution_count": 148,
   "metadata": {
    "collapsed": true
   },
   "outputs": [],
   "source": [
    "class NormalHashable(UtilityMethods):\n",
    "    def __hash__(self):\n",
    "        return hash(id(self))\n",
    "    def __eq__(self, other):\n",
    "        return self.v==other.v\n",
    "class SlowHashable(UtilityMethods):\n",
    "    def __hash__(self):\n",
    "        return 0\n",
    "    def __eq__(self, other):\n",
    "        return self.v==other.v"
   ]
  },
  {
   "cell_type": "code",
   "execution_count": 151,
   "metadata": {
    "collapsed": false,
    "slideshow": {
     "slide_type": "slide"
    }
   },
   "outputs": [
    {
     "name": "stdout",
     "output_type": "stream",
     "text": [
      "1000 loops, best of 3: 965 µs per loop\n"
     ]
    }
   ],
   "source": [
    "%%timeit\n",
    "dictionary = {}\n",
    "for i in range(1000):\n",
    "    A = NormalHashable(i)\n",
    "    dictionary[A] = i"
   ]
  },
  {
   "cell_type": "code",
   "execution_count": 152,
   "metadata": {
    "collapsed": false
   },
   "outputs": [
    {
     "name": "stdout",
     "output_type": "stream",
     "text": [
      "10 loops, best of 3: 127 ms per loop\n"
     ]
    }
   ],
   "source": [
    "%%timeit\n",
    "dictionary = {}\n",
    "for i in range(1000):\n",
    "    A = SlowHashable(i)\n",
    "    dictionary[A] = i"
   ]
  },
  {
   "cell_type": "markdown",
   "metadata": {},
   "source": [
    "Constantly causing collisions *really* slows things down."
   ]
  },
  {
   "cell_type": "markdown",
   "metadata": {
    "collapsed": false,
    "slideshow": {
     "slide_type": "slide"
    }
   },
   "source": [
    "Finally, the strange one: \"`A==B` implies `hash(A)==hash(B)`. If two objects are equal, they should always hash to the same value."
   ]
  },
  {
   "cell_type": "code",
   "execution_count": 122,
   "metadata": {
    "collapsed": true
   },
   "outputs": [],
   "source": [
    "class StrangeHashable(UtilityMethods):\n",
    "    def __hash__(self):\n",
    "        return id(self)%10\n",
    "    def __eq__(self, other):\n",
    "        return self.v==other.v"
   ]
  },
  {
   "cell_type": "code",
   "execution_count": 169,
   "metadata": {
    "collapsed": false
   },
   "outputs": [
    {
     "name": "stdout",
     "output_type": "stream",
     "text": [
      "<OBJ|id:4415029600|v:0> <OBJ|id:4415029880|v:0> <OBJ|id:4415030832|v:0>\n",
      "(A==B) True  (hash(A)==hash(B)) True\n",
      "(B==C) True  (hash(B)==hash(C)) False\n",
      "{<OBJ|id:4415029600|v:0>: 'a'}\n",
      "{<OBJ|id:4415029600|v:0>: 'b'}\n",
      "{<OBJ|id:4415029600|v:0>: 'b', <OBJ|id:4415030832|v:0>: 'c'}\n"
     ]
    }
   ],
   "source": [
    "A = [A for A in [StrangeHashable(v=0) for _ in range(0,50)] if hash(A)==0][0] # Find an instance which hashes to 0\n",
    "B = [B for B in [StrangeHashable(v=0) for _ in range(0,50)] if hash(B)==0][0] # Find an instance which hashes to 0\n",
    "C = [C for C in [StrangeHashable(v=0) for _ in range(0,50)] if hash(C)==2][0] # Find an instance which hashes to 2\n",
    "\n",
    "print(A, B, C)\n",
    "print('(A==B)',A==B, ' (hash(A)==hash(B))',hash(A)==hash(B))\n",
    "print('(B==C)',B==C, ' (hash(B)==hash(C))',hash(B)==hash(C))\n",
    "\n",
    "dictionary = {}\n",
    "dictionary[A] = 'a'\n",
    "print(dictionary)\n",
    "dictionary[B] = 'b'\n",
    "print(dictionary)\n",
    "dictionary[C] = 'c'\n",
    "print(dictionary)\n"
   ]
  },
  {
   "cell_type": "markdown",
   "metadata": {},
   "source": [
    "If equality doesn't necessarily imply hash equality, then correct lookup behavior will depend entirely on random collisions in the hash space. Yuck."
   ]
  },
  {
   "cell_type": "markdown",
   "metadata": {
    "slideshow": {
     "slide_type": "slide"
    }
   },
   "source": [
    "** TL;DR: **\n",
    "\n",
    " - `__hash__` and `__eq__` govern `dict` behavior in Python.\n",
    " - If you're going to implement a class which can act like a dictionary key:\n",
    "  - `hash(A)==hash(A)`\n",
    "  - Normally, `hash(A)!=hash(B)` if `A!=B`\n",
    "  - `A==B` implies `hash(A)==hash(B)`"
   ]
  }
 ],
 "metadata": {
  "kernelspec": {
   "display_name": "Python 3",
   "language": "python",
   "name": "python3"
  },
  "language_info": {
   "codemirror_mode": {
    "name": "ipython",
    "version": 3
   },
   "file_extension": ".py",
   "mimetype": "text/x-python",
   "name": "python",
   "nbconvert_exporter": "python",
   "pygments_lexer": "ipython3",
   "version": "3.5.1"
  }
 },
 "nbformat": 4,
 "nbformat_minor": 0
}
