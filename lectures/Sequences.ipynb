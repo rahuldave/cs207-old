{
 "cells": [
  {
   "cell_type": "markdown",
   "metadata": {},
   "source": [
    "## Sequences and their Abstractions"
   ]
  },
  {
   "cell_type": "markdown",
   "metadata": {},
   "source": [
    "### What is a sequence?\n",
    "\n",
    "In python a sequence is something that follows the sequence protocol. an example of this is a list. This entails defining the `__len__` and `__getitem__` methods. "
   ]
  },
  {
   "cell_type": "code",
   "execution_count": 9,
   "metadata": {
    "collapsed": false
   },
   "outputs": [
    {
     "data": {
      "text/plain": [
       "4"
      ]
     },
     "execution_count": 9,
     "metadata": {},
     "output_type": "execute_result"
    }
   ],
   "source": [
    "alist=[1,2,3,4]\n",
    "len(alist)#calls alist.__len__"
   ]
  },
  {
   "cell_type": "code",
   "execution_count": 11,
   "metadata": {
    "collapsed": false
   },
   "outputs": [
    {
     "data": {
      "text/plain": [
       "3"
      ]
     },
     "execution_count": 11,
     "metadata": {},
     "output_type": "execute_result"
    }
   ],
   "source": [
    "alist[2]#calls alist.__getitem__(2)"
   ]
  },
  {
   "cell_type": "markdown",
   "metadata": {},
   "source": [
    "Lists also support slicing. How does this work?"
   ]
  },
  {
   "cell_type": "code",
   "execution_count": 12,
   "metadata": {
    "collapsed": false
   },
   "outputs": [
    {
     "data": {
      "text/plain": [
       "[3, 4]"
      ]
     },
     "execution_count": 12,
     "metadata": {},
     "output_type": "execute_result"
    }
   ],
   "source": [
    "alist[2:4]"
   ]
  },
  {
   "cell_type": "markdown",
   "metadata": {},
   "source": [
    "To see this lets create a dummy sequence which shows us what happens. This sequence does not create any storage, it just implements the protocol"
   ]
  },
  {
   "cell_type": "code",
   "execution_count": 14,
   "metadata": {
    "collapsed": false
   },
   "outputs": [],
   "source": [
    "class DummySeq:\n",
    "    \n",
    "    def __len__(self):\n",
    "        return 42\n",
    "    \n",
    "    def __getitem__(self, index):\n",
    "        return index"
   ]
  },
  {
   "cell_type": "code",
   "execution_count": 15,
   "metadata": {
    "collapsed": false
   },
   "outputs": [
    {
     "data": {
      "text/plain": [
       "42"
      ]
     },
     "execution_count": 15,
     "metadata": {},
     "output_type": "execute_result"
    }
   ],
   "source": [
    "d = DummySeq()\n",
    "len(d)"
   ]
  },
  {
   "cell_type": "code",
   "execution_count": 16,
   "metadata": {
    "collapsed": false
   },
   "outputs": [
    {
     "data": {
      "text/plain": [
       "5"
      ]
     },
     "execution_count": 16,
     "metadata": {},
     "output_type": "execute_result"
    }
   ],
   "source": [
    "d[5]"
   ]
  },
  {
   "cell_type": "code",
   "execution_count": 17,
   "metadata": {
    "collapsed": false
   },
   "outputs": [
    {
     "data": {
      "text/plain": [
       "slice(67, 98, None)"
      ]
     },
     "execution_count": 17,
     "metadata": {},
     "output_type": "execute_result"
    }
   ],
   "source": [
    "d[67:98]"
   ]
  },
  {
   "cell_type": "markdown",
   "metadata": {},
   "source": [
    "Aha, this is interesting. Slicing creates a `slice object` for us of the form `slice(start, stop, step)` and then python calls `seq.__getitem__(slice(start, stop, step))`.\n",
    "\n",
    "What about two dimensional indexing, if we wanted to create a two dimensional structure?"
   ]
  },
  {
   "cell_type": "code",
   "execution_count": 18,
   "metadata": {
    "collapsed": false
   },
   "outputs": [
    {
     "data": {
      "text/plain": [
       "(slice(67, 98, 2), 1)"
      ]
     },
     "execution_count": 18,
     "metadata": {},
     "output_type": "execute_result"
    }
   ],
   "source": [
    "d[67:98:2,1]"
   ]
  },
  {
   "cell_type": "code",
   "execution_count": 19,
   "metadata": {
    "collapsed": false
   },
   "outputs": [
    {
     "data": {
      "text/plain": [
       "(slice(67, 98, 2), slice(1, 10, None))"
      ]
     },
     "execution_count": 19,
     "metadata": {},
     "output_type": "execute_result"
    }
   ],
   "source": [
    "d[67:98:2,1:10]"
   ]
  },
  {
   "cell_type": "markdown",
   "metadata": {},
   "source": [
    "As sequence writers, our job is to interpret these in `__getitem__`"
   ]
  },
  {
   "cell_type": "code",
   "execution_count": 21,
   "metadata": {
    "collapsed": false
   },
   "outputs": [
    {
     "data": {
      "text/plain": [
       "['__class__',\n",
       " '__delattr__',\n",
       " '__dir__',\n",
       " '__doc__',\n",
       " '__eq__',\n",
       " '__format__',\n",
       " '__ge__',\n",
       " '__getattribute__',\n",
       " '__gt__',\n",
       " '__hash__',\n",
       " '__init__',\n",
       " '__le__',\n",
       " '__lt__',\n",
       " '__ne__',\n",
       " '__new__',\n",
       " '__reduce__',\n",
       " '__reduce_ex__',\n",
       " '__repr__',\n",
       " '__setattr__',\n",
       " '__sizeof__',\n",
       " '__str__',\n",
       " '__subclasshook__',\n",
       " 'indices',\n",
       " 'start',\n",
       " 'step',\n",
       " 'stop']"
      ]
     },
     "execution_count": 21,
     "metadata": {},
     "output_type": "execute_result"
    }
   ],
   "source": [
    "dir(slice)#introspect the slice class"
   ]
  },
  {
   "cell_type": "markdown",
   "metadata": {},
   "source": [
    "Let us build out our Dummy a bit more now"
   ]
  },
  {
   "cell_type": "code",
   "execution_count": 1,
   "metadata": {
    "collapsed": true
   },
   "outputs": [],
   "source": [
    "#taken from Fluent Python\n",
    "import numbers, reprlib\n",
    "\n",
    "class NotSoDummySeq:    \n",
    "    def __init__(self, iterator):\n",
    "        self._storage=list(iterator)\n",
    "        \n",
    "    def __repr__(self):\n",
    "        components = reprlib.repr(self._storage)\n",
    "        components = components[components.find('['):]\n",
    "        return 'NotSoDummySeq({})'.format(components)\n",
    "    \n",
    "    def __len__(self):\n",
    "        return len(self._storage)\n",
    "    \n",
    "    def __getitem__(self, index):\n",
    "        cls = type(self)\n",
    "        if isinstance(index, slice):\n",
    "            return cls(self._storage[index])\n",
    "        elif isinstance(index, numbers.Integral): \n",
    "            return self._storage[index]\n",
    "        else:\n",
    "            msg = '{cls.__name__} indices must be integers' \n",
    "            raise TypeError(msg.format(cls=cls))\n"
   ]
  },
  {
   "cell_type": "code",
   "execution_count": 2,
   "metadata": {
    "collapsed": false
   },
   "outputs": [
    {
     "data": {
      "text/plain": [
       "10"
      ]
     },
     "execution_count": 2,
     "metadata": {},
     "output_type": "execute_result"
    }
   ],
   "source": [
    "d2 = NotSoDummySeq(range(10))\n",
    "len(d2)"
   ]
  },
  {
   "cell_type": "code",
   "execution_count": 3,
   "metadata": {
    "collapsed": false
   },
   "outputs": [
    {
     "data": {
      "text/plain": [
       "NotSoDummySeq([0, 1, 2, 3, 4, 5, ...])"
      ]
     },
     "execution_count": 3,
     "metadata": {},
     "output_type": "execute_result"
    }
   ],
   "source": [
    "d2"
   ]
  },
  {
   "cell_type": "code",
   "execution_count": 60,
   "metadata": {
    "collapsed": false
   },
   "outputs": [
    {
     "data": {
      "text/plain": [
       "4"
      ]
     },
     "execution_count": 60,
     "metadata": {},
     "output_type": "execute_result"
    }
   ],
   "source": [
    "d[4]"
   ]
  },
  {
   "cell_type": "code",
   "execution_count": 61,
   "metadata": {
    "collapsed": false
   },
   "outputs": [
    {
     "data": {
      "text/plain": [
       "'[1, 2, 3]'"
      ]
     },
     "execution_count": 61,
     "metadata": {},
     "output_type": "execute_result"
    }
   ],
   "source": [
    "reprlib.repr([1,2,3])"
   ]
  },
  {
   "cell_type": "code",
   "execution_count": 62,
   "metadata": {
    "collapsed": false
   },
   "outputs": [
    {
     "data": {
      "text/plain": [
       "NotSoDummySeq([2, 3])"
      ]
     },
     "execution_count": 62,
     "metadata": {},
     "output_type": "execute_result"
    }
   ],
   "source": [
    "d2[2:4]"
   ]
  },
  {
   "cell_type": "code",
   "execution_count": 63,
   "metadata": {
    "collapsed": false
   },
   "outputs": [
    {
     "ename": "TypeError",
     "evalue": "NotSoDummySeq indices must be integers",
     "output_type": "error",
     "traceback": [
      "\u001b[0;31m---------------------------------------------------------------------------\u001b[0m",
      "\u001b[0;31mTypeError\u001b[0m                                 Traceback (most recent call last)",
      "\u001b[0;32m<ipython-input-63-ae2b261447b5>\u001b[0m in \u001b[0;36m<module>\u001b[0;34m()\u001b[0m\n\u001b[0;32m----> 1\u001b[0;31m \u001b[0md2\u001b[0m\u001b[0;34m[\u001b[0m\u001b[0;36m1\u001b[0m\u001b[0;34m,\u001b[0m\u001b[0;36m4\u001b[0m\u001b[0;34m]\u001b[0m\u001b[0;34m\u001b[0m\u001b[0m\n\u001b[0m",
      "\u001b[0;32m<ipython-input-58-bae9aa90bd14>\u001b[0m in \u001b[0;36m__getitem__\u001b[0;34m(self, index)\u001b[0m\n\u001b[1;32m     22\u001b[0m         \u001b[0;32melse\u001b[0m\u001b[0;34m:\u001b[0m\u001b[0;34m\u001b[0m\u001b[0m\n\u001b[1;32m     23\u001b[0m             \u001b[0mmsg\u001b[0m \u001b[0;34m=\u001b[0m \u001b[0;34m'{cls.__name__} indices must be integers'\u001b[0m\u001b[0;34m\u001b[0m\u001b[0m\n\u001b[0;32m---> 24\u001b[0;31m             \u001b[0;32mraise\u001b[0m \u001b[0mTypeError\u001b[0m\u001b[0;34m(\u001b[0m\u001b[0mmsg\u001b[0m\u001b[0;34m.\u001b[0m\u001b[0mformat\u001b[0m\u001b[0;34m(\u001b[0m\u001b[0mcls\u001b[0m\u001b[0;34m=\u001b[0m\u001b[0mcls\u001b[0m\u001b[0;34m)\u001b[0m\u001b[0;34m)\u001b[0m\u001b[0;34m\u001b[0m\u001b[0m\n\u001b[0m",
      "\u001b[0;31mTypeError\u001b[0m: NotSoDummySeq indices must be integers"
     ]
    }
   ],
   "source": [
    "d2[1,4]"
   ]
  },
  {
   "cell_type": "markdown",
   "metadata": {},
   "source": [
    "It might seem that slices are only useful in writing dunder methods like `__getitem__`, but this is not the case. Imagine you are writing code to parse a file:"
   ]
  },
  {
   "cell_type": "code",
   "execution_count": 69,
   "metadata": {
    "collapsed": false
   },
   "outputs": [
    {
     "name": "stdout",
     "output_type": "stream",
     "text": [
      "Ralph 1 2\n",
      "Midge 3 4\n"
     ]
    }
   ],
   "source": [
    "mystring=\"\"\"\n",
    "Ralph 1 2\n",
    "Midge 3 4\n",
    "\"\"\"\n",
    "name = slice(0,5)\n",
    "weight =  slice(5,7)\n",
    "height =  slice(7,9)\n",
    "for line in mystring.split('\\n')[1:-1]:\n",
    "    print(line[name], line[weight].strip(), line[height].strip())"
   ]
  },
  {
   "cell_type": "markdown",
   "metadata": {},
   "source": [
    "### Linked Lists\n",
    "\n",
    "Lets think of how a list with a pointer to its next element might be constructed in python\n",
    "\n",
    "#### Nested Pairs\n",
    "\n",
    "![](http://wla.berkeley.edu/~cs61a/fa11/lectures/img/pair.png)\n",
    "\n",
    "(from stanford cs61a, http://wla.berkeley.edu/~cs61a/fa11/lectures/objects.html#nested-pairs)\n",
    "\n",
    "This way to visualize a pair is called the **box and pointer** notation. It can be used to construct many abstractions, including trees.\n",
    "\n",
    "Which can generalize to something which looks like this:\n",
    "\n",
    "![](http://wla.berkeley.edu/~cs61a/fa11/lectures/img/sequence.png)"
   ]
  },
  {
   "cell_type": "code",
   "execution_count": 100,
   "metadata": {
    "collapsed": false
   },
   "outputs": [
    {
     "name": "stdout",
     "output_type": "stream",
     "text": [
      "Overwriting linked_list.c\n"
     ]
    }
   ],
   "source": [
    "%%file linked_list.c\n",
    "\n",
    "#include <stdlib.h>\n",
    "#include <stdio.h>\n",
    "\n",
    "typedef struct item {\n",
    "    int value;\n",
    "    struct item* rest;\n",
    "} Item;\n",
    "\n",
    "Item* new_item(int value){\n",
    "    Item* newitem = (Item *) malloc(sizeof(Item));\n",
    "    newitem->value = value;\n",
    "    newitem->rest = NULL;\n",
    "    return newitem;\n",
    "}\n",
    "\n",
    "Item* insert_front(Item* listptr, int value){\n",
    "    Item* newitem = new_item(value);\n",
    "    newitem->rest = listptr;\n",
    "    return newitem;\n",
    "}\n",
    "\n",
    "\n",
    "int get(Item* listptr, int index){\n",
    "    int ctr = 0;\n",
    "    Item* p;\n",
    "    for(p = listptr; p!= NULL; p = p->rest){\n",
    "        if (ctr==index){\n",
    "            return p->value;\n",
    "        }\n",
    "        ctr++;\n",
    "    }\n",
    "    return -1;\n",
    "}\n",
    "\n",
    "int find_min_index(Item* listptr){\n",
    "    int ctr = 0;\n",
    "    int minctr = 0;\n",
    "    Item* p;\n",
    "    int min = listptr -> value;\n",
    "    for(p = listptr; p!= NULL; p = p->rest){\n",
    "        if (p->value <= min) {\n",
    "            min = p->value;\n",
    "            minctr = ctr;\n",
    "        }\n",
    "        ctr++;\n",
    "    }\n",
    "    return minctr;\n",
    "}\n",
    "\n",
    "void free_all(Item* listptr) {\n",
    "    Item *p;\n",
    "    Item *next;\n",
    "    for(p = listptr; p!= NULL; p = next){\n",
    "        next = p->rest;\n",
    "        free(p);\n",
    "    }\n",
    "}\n",
    "\n",
    "int main(){\n",
    "    Item* listptr;\n",
    "    int i;\n",
    "    int minidx;\n",
    "    listptr = new_item(0);\n",
    "    for (i=1; i < 6; i++){\n",
    "        listptr=insert_front(listptr, 10*i - 5);\n",
    "    }\n",
    "    for (i=0; i < 6; i++){\n",
    "        printf(\"i %d Item %d\\n\", i, get(listptr, i));\n",
    "    }\n",
    "    minidx = find_min_index(listptr);\n",
    "    printf(\"min index %d min value %d\\n\", minidx, get(listptr, minidx) );\n",
    "    free_all(listptr);\n",
    "}"
   ]
  },
  {
   "cell_type": "code",
   "execution_count": 101,
   "metadata": {
    "collapsed": false
   },
   "outputs": [],
   "source": [
    "!gcc -o linked_list -g linked_list.c"
   ]
  },
  {
   "cell_type": "code",
   "execution_count": 102,
   "metadata": {
    "collapsed": false
   },
   "outputs": [
    {
     "name": "stdout",
     "output_type": "stream",
     "text": [
      "i 0 Item 45\r\n",
      "i 1 Item 35\r\n",
      "i 2 Item 25\r\n",
      "i 3 Item 15\r\n",
      "i 4 Item 5\r\n",
      "i 5 Item 0\r\n",
      "min index 5 min value 0\r\n"
     ]
    }
   ],
   "source": [
    "!./linked_list"
   ]
  },
  {
   "cell_type": "markdown",
   "metadata": {},
   "source": [
    "### Linked List vs Array Complexities\n",
    "\n",
    "From this implementation we can see some things:\n",
    "\n",
    "- Insertion at the front of a linked list is O(1)(just wrap with one more `make_ll`. Insertion at the back is O(n). (because you must traverse through to find `emptyll`). Arrays or dynamic arrays cost O(n) (amortized for the latter to append to)\n",
    "- Searching a linked list(`getindex_ll`) is like linear search on an array: O(n)\n",
    "- What about deletion? See the lab.\n",
    "- What about indexing? Its O(1) for arrays (you just seek). But in linked lists its O(n) as you must follow the pointers (`getitem_ll`).\n",
    "- Setting a value (not implemented here) follows the indexing complexity.\n",
    "\n",
    "The space complexity of both arrays and lists is O(n)."
   ]
  },
  {
   "cell_type": "markdown",
   "metadata": {},
   "source": [
    "The Linked list has some pluses:\n",
    "\n",
    "- memory wont overflow, you just allocate more\n",
    "- insertion and deletion (especially at end) is rather simple, and dousent come with attendant resizing or unuse worries.\n",
    "- if the records (here ints) are themselves large (say they are heap allocated C structs or complex python objects), the memory impact could actually be lower\n",
    "\n",
    "But we have given up efficient random access and cache locality (for the smaller records anyways)."
   ]
  },
  {
   "cell_type": "markdown",
   "metadata": {},
   "source": [
    "### A Python Implementation"
   ]
  },
  {
   "cell_type": "code",
   "execution_count": 77,
   "metadata": {
    "collapsed": true
   },
   "outputs": [],
   "source": [
    "#todo: make a copy instead????\n",
    "from doctest import run_docstring_examples as dtest\n",
    "import numbers\n",
    "import reprlib\n",
    "class LL:\n",
    "    \"\"\"\n",
    "    >>> A = LL()  \n",
    "    >>> A[0]\n",
    "    Traceback (most recent call last):\n",
    "        ...\n",
    "    IndexError: trying to index an empty LL\n",
    "    >>> A.insert_front(1)\n",
    "    >>> A[0]\n",
    "    1\n",
    "    >>> A.insert_back(2)\n",
    "    >>> A[1]\n",
    "    2\n",
    "    >>> A\n",
    "    LL([1,...])\n",
    "    >>> myll = LL.from_components([1,2])\n",
    "    >>> myll[1]\n",
    "    1\n",
    "    >>> len(myll)\n",
    "    2\n",
    "    >>> myll[2]\n",
    "    Traceback (most recent call last):\n",
    "        ...\n",
    "    IndexError: LL index out of range\n",
    "    >>> myll[0:1]\n",
    "    Traceback (most recent call last):\n",
    "        ...\n",
    "    TypeError: LL indices must be integers\n",
    "    \"\"\"\n",
    "    @classmethod\n",
    "    def from_components(cls, components):\n",
    "        inst = cls(components[0])\n",
    "        for c in components[1:]:\n",
    "            inst.insert_front(c)\n",
    "        return inst\n",
    "        \n",
    "    def __init__(self, head=None):\n",
    "        if head is None:\n",
    "            self._headNode = None\n",
    "        else:\n",
    "            self._headNode = [head, None]\n",
    "            \n",
    "    def insert_front(self, element):\n",
    "        new_node = [element, None]\n",
    "        new_node[1] = self._headNode\n",
    "        self._headNode = new_node\n",
    "        \n",
    "    def insert_back(self, element):\n",
    "        new_node = [element, None]\n",
    "        curr_ptr = self._headNode\n",
    "        while curr_ptr[1] is not None:\n",
    "            curr_ptr = curr_ptr[1]\n",
    "        curr_ptr[1]= new_node\n",
    "        \n",
    "    def __repr__(self):\n",
    "        class_name = type(self).__name__\n",
    "        if len(self)==0:\n",
    "            components=\"\"\n",
    "        else:\n",
    "            components = reprlib.repr(self[0])\n",
    "        return '{}([{},...])'.format(class_name,components)\n",
    "\n",
    "\n",
    "    def __len__(self):\n",
    "        curr_ptr = self._headNode\n",
    "        count = 0\n",
    "        if curr_ptr==None:\n",
    "            return 0\n",
    "        while 1:\n",
    "            count = count + 1\n",
    "            if curr_ptr[1] is None:\n",
    "                break\n",
    "            curr_ptr = curr_ptr[1]\n",
    "        return count    \n",
    "    \n",
    "    def __getitem__(self, index):\n",
    "        class_name = type(self).__name__\n",
    "        if isinstance(index, numbers.Integral): \n",
    "            curr_ptr = self._headNode\n",
    "            if curr_ptr==None:\n",
    "                msg = 'trying to index an empty {class_name}' \n",
    "                raise IndexError(msg.format(class_name=class_name))\n",
    "            next_ptr = self._headNode[1]\n",
    "            count = 0\n",
    "            while 1:\n",
    "                if index == count:\n",
    "                    return curr_ptr[0]\n",
    "                if curr_ptr[1] is None:\n",
    "                    msg = '{class_name} index out of range' \n",
    "                    raise IndexError(msg.format(class_name=class_name))       \n",
    "                count += 1\n",
    "                curr_ptr = curr_ptr[1]\n",
    "        else:\n",
    "            msg = '{class_name} indices must be integers' \n",
    "            raise TypeError(msg.format(class_name=class_name))"
   ]
  },
  {
   "cell_type": "code",
   "execution_count": 78,
   "metadata": {
    "collapsed": false
   },
   "outputs": [
    {
     "name": "stdout",
     "output_type": "stream",
     "text": [
      "Finding tests in NoName\n",
      "Trying:\n",
      "    A = LL()  \n",
      "Expecting nothing\n",
      "ok\n",
      "Trying:\n",
      "    A[0]\n",
      "Expecting:\n",
      "    Traceback (most recent call last):\n",
      "        ...\n",
      "    IndexError: trying to index an empty LL\n",
      "ok\n",
      "Trying:\n",
      "    A.insert_front(1)\n",
      "Expecting nothing\n",
      "ok\n",
      "Trying:\n",
      "    A[0]\n",
      "Expecting:\n",
      "    1\n",
      "ok\n",
      "Trying:\n",
      "    A.insert_back(2)\n",
      "Expecting nothing\n",
      "ok\n",
      "Trying:\n",
      "    A[1]\n",
      "Expecting:\n",
      "    2\n",
      "ok\n",
      "Trying:\n",
      "    A\n",
      "Expecting:\n",
      "    LL([1,...])\n",
      "ok\n",
      "Trying:\n",
      "    myll = LL.from_components([1,2])\n",
      "Expecting nothing\n",
      "ok\n",
      "Trying:\n",
      "    myll[1]\n",
      "Expecting:\n",
      "    1\n",
      "ok\n",
      "Trying:\n",
      "    len(myll)\n",
      "Expecting:\n",
      "    2\n",
      "ok\n",
      "Trying:\n",
      "    myll[2]\n",
      "Expecting:\n",
      "    Traceback (most recent call last):\n",
      "        ...\n",
      "    IndexError: LL index out of range\n",
      "ok\n",
      "Trying:\n",
      "    myll[0:1]\n",
      "Expecting:\n",
      "    Traceback (most recent call last):\n",
      "        ...\n",
      "    TypeError: LL indices must be integers\n",
      "ok\n"
     ]
    }
   ],
   "source": [
    "from doctest import run_docstring_examples as dtest\n",
    "dtest(LL, globals(), verbose = True)"
   ]
  },
  {
   "cell_type": "code",
   "execution_count": 81,
   "metadata": {
    "collapsed": false
   },
   "outputs": [
    {
     "data": {
      "text/plain": [
       "LL([5,...])"
      ]
     },
     "execution_count": 81,
     "metadata": {},
     "output_type": "execute_result"
    }
   ],
   "source": [
    "myll=LL.from_components([1,2,32,-4,5])\n",
    "myll"
   ]
  },
  {
   "cell_type": "code",
   "execution_count": 83,
   "metadata": {
    "collapsed": false
   },
   "outputs": [
    {
     "data": {
      "text/plain": [
       "(-4, 32)"
      ]
     },
     "execution_count": 83,
     "metadata": {},
     "output_type": "execute_result"
    }
   ],
   "source": [
    "min(myll), max(myll)"
   ]
  },
  {
   "cell_type": "code",
   "execution_count": 85,
   "metadata": {
    "collapsed": false
   },
   "outputs": [
    {
     "data": {
      "text/plain": [
       "(-4, 32)"
      ]
     },
     "execution_count": 85,
     "metadata": {},
     "output_type": "execute_result"
    }
   ],
   "source": [
    "min([1,2,32,-4,5]),max([1,2,32,-4,5])"
   ]
  },
  {
   "cell_type": "markdown",
   "metadata": {},
   "source": [
    "### From pointers to Iterators"
   ]
  },
  {
   "cell_type": "code",
   "execution_count": 114,
   "metadata": {
    "collapsed": false
   },
   "outputs": [
    {
     "name": "stdout",
     "output_type": "stream",
     "text": [
      "Overwriting simplelist.c\n"
     ]
    }
   ],
   "source": [
    "%%file simplelist.c\n",
    "#include <stdlib.h>\n",
    "#include <stdio.h>\n",
    "\n",
    "int find_min(int* alist, int size){\n",
    "    int minctr = 0;\n",
    "    int min = *alist;\n",
    "    for(int i =0; i < size; i++){\n",
    "        if (*(alist+i) <= min) {\n",
    "            min = *(alist+i);\n",
    "            minctr=i;\n",
    "        }\n",
    "    }\n",
    "    return minctr;\n",
    "}\n",
    "\n",
    "int main() {\n",
    "    int alist[10];\n",
    "    int i;\n",
    "    int minctr;\n",
    "    \n",
    "    for (i = 0; i < 10; i++) {\n",
    "        alist[i] =-10*i+5;\n",
    "        printf(\"alist %d :  %d\\n\", i, alist[i]);\n",
    "    }\n",
    "    for (i = 0; i < 10; i++) {\n",
    "        printf(\"alist %d :  %d\\n\", i, *(alist + i));\n",
    "    }\n",
    "    minctr = find_min(alist, 10);\n",
    "    printf(\"min index %d value %d\\n\", minctr, alist[minctr] );\n",
    "}"
   ]
  },
  {
   "cell_type": "markdown",
   "metadata": {},
   "source": [
    "So we can do mins on both linked lists and arrays,"
   ]
  },
  {
   "cell_type": "code",
   "execution_count": 115,
   "metadata": {
    "collapsed": false
   },
   "outputs": [],
   "source": [
    "!gcc -o simplelist simplelist.c"
   ]
  },
  {
   "cell_type": "code",
   "execution_count": 116,
   "metadata": {
    "collapsed": false
   },
   "outputs": [
    {
     "name": "stdout",
     "output_type": "stream",
     "text": [
      "alist 0 :  5\r\n",
      "alist 1 :  -5\r\n",
      "alist 2 :  -15\r\n",
      "alist 3 :  -25\r\n",
      "alist 4 :  -35\r\n",
      "alist 5 :  -45\r\n",
      "alist 6 :  -55\r\n",
      "alist 7 :  -65\r\n",
      "alist 8 :  -75\r\n",
      "alist 9 :  -85\r\n",
      "alist 0 :  5\r\n",
      "alist 1 :  -5\r\n",
      "alist 2 :  -15\r\n",
      "alist 3 :  -25\r\n",
      "alist 4 :  -35\r\n",
      "alist 5 :  -45\r\n",
      "alist 6 :  -55\r\n",
      "alist 7 :  -65\r\n",
      "alist 8 :  -75\r\n",
      "alist 9 :  -85\r\n",
      "min index 9 value -85\r\n"
     ]
    }
   ],
   "source": [
    "!./simplelist"
   ]
  },
  {
   "cell_type": "markdown",
   "metadata": {},
   "source": [
    "Notice that you can access elements in the C array, one by one, by **POSITION**, simply by pointer arithmetic, without ever indexing. In a similar but not-identical fashion, one can simply follow the `next` pointers to the next **POSITION** in a linked list. This suggests an abstraction of the **position** or pointer to an **iterator**, an abstraction which allows us to treat arrays and linked lists with an identical interface. The salient points of this abstraction are:\n",
    "\n",
    "- the notion of a `next` abstracting away the actual gymnastics of where to go next in a storage system\n",
    "- the notion of a `first` to a `last` that `next` takes us on a journey from and to respectively\n",
    "\n",
    "This is not to say we havent already abstracted a linked list to a sequence by implementing the sequence protocol, but to suggest an additional abstraction that is more fundamental than the notion of a sequence: the **iterator**."
   ]
  },
  {
   "cell_type": "markdown",
   "metadata": {},
   "source": [
    "### Iterators in python\n",
    "\n",
    "Iteration in python is even more simple. Just as a sequence is something implementing `__getitem__` and `__len__`, an **Iterable** is something implementing `__iter__`. `__len__` is not needed and indeed may not make sense. Instead of `__iter__` an iterator might implement `__getitem__`; these are looked up one after the other.\n",
    "\n",
    "The following example is taken from Fluent Python"
   ]
  },
  {
   "cell_type": "code",
   "execution_count": 33,
   "metadata": {
    "collapsed": true
   },
   "outputs": [],
   "source": [
    "import reprlib\n",
    "class Sentence:\n",
    "    def __init__(self, text): \n",
    "        self.text = text\n",
    "        self.words = text.split()\n",
    "        \n",
    "    def __getitem__(self, index):\n",
    "        return self.words[index] \n",
    "    \n",
    "    def __len__(self):\n",
    "        #completes sequence protocol, but not needed for iterable\n",
    "        return len(self.words) \n",
    "    \n",
    "    def __repr__(self):\n",
    "        return 'Sentence(%s)' % reprlib.repr(self.text)"
   ]
  },
  {
   "cell_type": "code",
   "execution_count": 34,
   "metadata": {
    "collapsed": false
   },
   "outputs": [
    {
     "data": {
      "text/plain": [
       "(11, 'little', Sentence('Mary had a l...hite as snow.'))"
      ]
     },
     "execution_count": 34,
     "metadata": {},
     "output_type": "execute_result"
    }
   ],
   "source": [
    "#sequence'\n",
    "a= Sentence(\"Mary had a little lamb whose fleece was white as snow.\")\n",
    "len(a), a[3], a"
   ]
  },
  {
   "cell_type": "code",
   "execution_count": 35,
   "metadata": {
    "collapsed": false
   },
   "outputs": [
    {
     "data": {
      "text/plain": [
       "['Mary',\n",
       " 'had',\n",
       " 'a',\n",
       " 'little',\n",
       " 'lamb',\n",
       " 'whose',\n",
       " 'fleece',\n",
       " 'was',\n",
       " 'white',\n",
       " 'as',\n",
       " 'snow.']"
      ]
     },
     "execution_count": 35,
     "metadata": {},
     "output_type": "execute_result"
    }
   ],
   "source": [
    "list(a)"
   ]
  },
  {
   "cell_type": "markdown",
   "metadata": {},
   "source": [
    "To iterate over an object x, python automatically calls `iter(x)`. An iterable is something which, when `iter` is called on it, returns an iterator.\n",
    "\n",
    "(1) if `__iter__` is defined, calls that to implement an iterator.\n",
    "\n",
    "(2) if not  `__getitem__` starting from index 0\n",
    "\n",
    "(3) otherwise raise TypeError\n",
    "\n",
    "Any Python sequence is iterable because they implement `__getitem__`. The standard sequences also implement `__iter__`; for future proofing you should too because  (2) might be deprecated in a future version of python.\n",
    "\n",
    "This:"
   ]
  },
  {
   "cell_type": "code",
   "execution_count": 38,
   "metadata": {
    "collapsed": false
   },
   "outputs": [
    {
     "name": "stdout",
     "output_type": "stream",
     "text": [
      "Mary\n",
      "had\n",
      "a\n",
      "little\n",
      "lamb\n",
      "whose\n",
      "fleece\n",
      "was\n",
      "white\n",
      "as\n",
      "snow.\n"
     ]
    }
   ],
   "source": [
    "for i in a:\n",
    "    print(i)"
   ]
  },
  {
   "cell_type": "markdown",
   "metadata": {},
   "source": [
    "is implemented something like this:"
   ]
  },
  {
   "cell_type": "code",
   "execution_count": 39,
   "metadata": {
    "collapsed": false
   },
   "outputs": [
    {
     "name": "stdout",
     "output_type": "stream",
     "text": [
      "Mary\n",
      "had\n",
      "a\n",
      "little\n",
      "lamb\n",
      "whose\n",
      "fleece\n",
      "was\n",
      "white\n",
      "as\n",
      "snow.\n"
     ]
    }
   ],
   "source": [
    "it = iter(a)\n",
    "while True:\n",
    "    try:\n",
    "        nextval = next(it)\n",
    "        print(nextval)\n",
    "    except StopIteration:\n",
    "        del it\n",
    "        break"
   ]
  },
  {
   "cell_type": "markdown",
   "metadata": {},
   "source": [
    "`it` is an iterator. An iterator defines both `__iter__` and a `__next__` (the first one is only required to make sure an *iterator* IS an *iterable*. Notice that calling `next` on an iterator will trigger the calling of `__next__`."
   ]
  },
  {
   "cell_type": "code",
   "execution_count": 41,
   "metadata": {
    "collapsed": false
   },
   "outputs": [
    {
     "name": "stdout",
     "output_type": "stream",
     "text": [
      "Mary\n",
      "had\n",
      "a\n",
      "little\n",
      "lamb\n",
      "whose\n",
      "fleece\n",
      "was\n",
      "white\n",
      "as\n",
      "snow.\n"
     ]
    }
   ],
   "source": [
    "it=iter(a)#an iterator defines `__iter__` and can thus be used as an iterable\n",
    "for i in it:\n",
    "    print(i)"
   ]
  },
  {
   "cell_type": "code",
   "execution_count": 42,
   "metadata": {
    "collapsed": false
   },
   "outputs": [
    {
     "data": {
      "text/plain": [
       "('Mary', 'had', 'a')"
      ]
     },
     "execution_count": 42,
     "metadata": {},
     "output_type": "execute_result"
    }
   ],
   "source": [
    "it = iter(a)\n",
    "next(it), next(it), next(it)"
   ]
  },
  {
   "cell_type": "markdown",
   "metadata": {},
   "source": [
    "So now we can completely abstract away a sequence in favor an iterable (ie we dont need to support indexing anymore). From Fluent:"
   ]
  },
  {
   "cell_type": "code",
   "execution_count": 90,
   "metadata": {
    "collapsed": true
   },
   "outputs": [],
   "source": [
    "class SentenceIterator:\n",
    "    def __init__(self, words): \n",
    "        self.words = words \n",
    "        self.index = 0\n",
    "        \n",
    "    def __next__(self): \n",
    "        try:\n",
    "            word = self.words[self.index] \n",
    "        except IndexError:\n",
    "            raise StopIteration() \n",
    "        self.index += 1\n",
    "        return word \n",
    "\n",
    "    def __iter__(self):\n",
    "        return self\n",
    "    \n",
    "class Sentence:#an iterable\n",
    "    def __init__(self, text): \n",
    "        self.text = text\n",
    "        self.words = text.split()\n",
    "        \n",
    "    def __iter__(self):\n",
    "        return SentenceIterator(self.words)\n",
    "    \n",
    "    def __repr__(self):\n",
    "        return 'Sentence(%s)' % reprlib.repr(self.text)"
   ]
  },
  {
   "cell_type": "code",
   "execution_count": 91,
   "metadata": {
    "collapsed": true
   },
   "outputs": [],
   "source": [
    "s2 = Sentence(\"While we could have implemented `__next__` in Sentence itself, making it an iterator, we will run into the problem of 'exhausting an iterator'.\")"
   ]
  },
  {
   "cell_type": "code",
   "execution_count": 92,
   "metadata": {
    "collapsed": false
   },
   "outputs": [
    {
     "ename": "TypeError",
     "evalue": "object of type 'Sentence' has no len()",
     "output_type": "error",
     "traceback": [
      "\u001b[0;31m---------------------------------------------------------------------------\u001b[0m",
      "\u001b[0;31mTypeError\u001b[0m                                 Traceback (most recent call last)",
      "\u001b[0;32m<ipython-input-92-4b382c72e9ab>\u001b[0m in \u001b[0;36m<module>\u001b[0;34m()\u001b[0m\n\u001b[0;32m----> 1\u001b[0;31m \u001b[0mlen\u001b[0m\u001b[0;34m(\u001b[0m\u001b[0ms2\u001b[0m\u001b[0;34m)\u001b[0m\u001b[0;34m\u001b[0m\u001b[0m\n\u001b[0m",
      "\u001b[0;31mTypeError\u001b[0m: object of type 'Sentence' has no len()"
     ]
    }
   ],
   "source": [
    "len(s2)"
   ]
  },
  {
   "cell_type": "code",
   "execution_count": 93,
   "metadata": {
    "collapsed": false
   },
   "outputs": [
    {
     "name": "stdout",
     "output_type": "stream",
     "text": [
      "While\n",
      "we\n",
      "could\n",
      "have\n",
      "implemented\n",
      "`__next__`\n",
      "in\n",
      "Sentence\n",
      "itself,\n",
      "making\n",
      "it\n",
      "an\n",
      "iterator,\n",
      "we\n",
      "will\n",
      "run\n",
      "into\n",
      "the\n",
      "problem\n",
      "of\n",
      "'exhausting\n",
      "an\n",
      "iterator'.\n"
     ]
    }
   ],
   "source": [
    "for i in s2:\n",
    "    print(i)"
   ]
  },
  {
   "cell_type": "code",
   "execution_count": 95,
   "metadata": {
    "collapsed": false
   },
   "outputs": [
    {
     "name": "stdout",
     "output_type": "stream",
     "text": [
      "While\n"
     ]
    },
    {
     "data": {
      "text/plain": [
       "('we', 'While')"
      ]
     },
     "execution_count": 95,
     "metadata": {},
     "output_type": "execute_result"
    }
   ],
   "source": [
    "s2it=iter(s2)\n",
    "print(next(s2it))\n",
    "s2it2=iter(s2)\n",
    "next(s2it),next(s2it2)"
   ]
  },
  {
   "cell_type": "markdown",
   "metadata": {},
   "source": [
    "While we could have implemented `__next__` in Sentence itself, making it an iterator, we will run into the problem of \"exhausting an iterator\". The iterator above keeps state in `self.index` and we must be able to start anew by creating a new instance if we want to re-iterate. Thus the `__iter__` in the iterable, simply returns the `SentenceIterator`."
   ]
  },
  {
   "cell_type": "code",
   "execution_count": 97,
   "metadata": {
    "collapsed": false
   },
   "outputs": [
    {
     "data": {
      "text/plain": [
       "(\"'exhausting\", 'will')"
      ]
     },
     "execution_count": 97,
     "metadata": {},
     "output_type": "execute_result"
    }
   ],
   "source": [
    "min(s2), max(s2)"
   ]
  },
  {
   "cell_type": "markdown",
   "metadata": {},
   "source": [
    "Note that min and max will work even though we now DO NOT satisfy the sequence protocol, but rather the ITERABLE protocol, as its a pairwise comparison. The take home message is that in programming with these iterators, these generlization of pointers, we dont need either the length or indexing to work to implement many algorithms: we have abstracted these away."
   ]
  },
  {
   "cell_type": "markdown",
   "metadata": {},
   "source": [
    "### Back to Containers  vs Flats"
   ]
  },
  {
   "cell_type": "markdown",
   "metadata": {},
   "source": [
    "Last time we saw how Python lists contained references to integer (\"digit\")+metdata based structs on the heap. And above we just saw linked lists.\n",
    "\n",
    "We call sequences that hold such \"references\" to objects on the heap **Container Sequences**. Examples of such container sequences are `list, tuple, collections.deque`.\n",
    "\n",
    "There are collections in python which contain contiguous memory (which itself is allocated on the heap). We call these **Flat Sequences**. In such containers, the iteration, and acccess to elelemnts is done at the C level, not at the python level, for reasons that will become clearer below. Such containers in python 3 are:\n",
    "\n",
    "`str, bytes, bytearray, memoryview, array.array`\n",
    "\n",
    "You have probably extensively used one of these which is not mentioned yet. This is numpy's ndarray: `np.array`.\n",
    "\n",
    "From Fluent Python:\n",
    "> Container sequences hold references to the objects they contain, which may be of any type, while flat sequences physically store the value of each item within its own memory space, and not as distinct objects. Thus, flat sequences are more compact, but they are limited to holding primitive values like characters, bytes, and numbers.\n",
    "\n",
    "This is also a more general way of thinking about data structures. \n",
    "\n",
    ">**Contiguously-allocated** structures are composed of single slabs of memory, and include arrays, matrices, heaps, and hash tables.\n",
    "\n",
    ">**Linked** data structures are composed of distinct chunks of memory bound together by pointers, and include lists, trees, and graph adjacency lists.\n",
    "\n",
    "(Steven S Skiena. The Algorithm Design Manual)\n",
    "\n",
    "A critical advantake of something like a contiguous memory array is that indexing is a constant time operation, as opposed to worst-case O(n), as we saw in linked lists. Other benefits include a tighter size and a locality of memory which benefits cache and general memory transport."
   ]
  },
  {
   "cell_type": "markdown",
   "metadata": {},
   "source": [
    "### Mutable vs Immutable"
   ]
  },
  {
   "cell_type": "markdown",
   "metadata": {},
   "source": [
    "A recurrent theme in this course is that of the mutability of objects. One can also study containers based on their mutability. **Mutable Sequences** in python 3 are:\n",
    "\n",
    "`list, bytearray, array.array, collections.deque, memoryview`\n",
    "\n",
    "whereas immutable seuqnces in Python 3 are\n",
    "\n",
    "`tuple, str, bytes`\n",
    "\n",
    "Lets learn about some of these collections in python."
   ]
  },
  {
   "cell_type": "markdown",
   "metadata": {},
   "source": [
    "### array.array\n",
    "\n",
    "The list type is nice and very flexible, but if you need to store many many (millions) of floating point variables, array.array is a better option. It stores just the bytes representing the type, so its just like a contiguous C array of things in RAM, and also just like a numpy array. \n",
    "\n",
    "`array.array` IS mutable, and you dont need to allocate ahead of time (reallocation will be done).\n",
    "\n",
    "The constructor is: \n",
    "\n",
    "`array(typecode [, initializer]) -- create a new array`\n"
   ]
  },
  {
   "cell_type": "code",
   "execution_count": 71,
   "metadata": {
    "collapsed": false
   },
   "outputs": [],
   "source": [
    "from array import array\n",
    "from random import random\n",
    "#generator expression instead of list comprehension\n",
    "floats_aa=array('d', (random() for i in range(10**8)))"
   ]
  },
  {
   "cell_type": "code",
   "execution_count": 79,
   "metadata": {
    "collapsed": false
   },
   "outputs": [
    {
     "data": {
      "text/plain": [
       "8"
      ]
     },
     "execution_count": 79,
     "metadata": {},
     "output_type": "execute_result"
    }
   ],
   "source": [
    "floats_aa.itemsize"
   ]
  },
  {
   "cell_type": "code",
   "execution_count": 72,
   "metadata": {
    "collapsed": false
   },
   "outputs": [
    {
     "data": {
      "text/plain": [
       "array.array"
      ]
     },
     "execution_count": 72,
     "metadata": {},
     "output_type": "execute_result"
    }
   ],
   "source": [
    "type(floats_aa)"
   ]
  },
  {
   "cell_type": "code",
   "execution_count": 73,
   "metadata": {
    "collapsed": false
   },
   "outputs": [
    {
     "data": {
      "text/plain": [
       "0.2788214037543454"
      ]
     },
     "execution_count": 73,
     "metadata": {},
     "output_type": "execute_result"
    }
   ],
   "source": [
    "floats_aa[5]"
   ]
  },
  {
   "cell_type": "code",
   "execution_count": 74,
   "metadata": {
    "collapsed": true
   },
   "outputs": [],
   "source": [
    "floats_list=[random() for i in range(10**8)]"
   ]
  },
  {
   "cell_type": "markdown",
   "metadata": {},
   "source": [
    "Some behavior that you see might be unexpected"
   ]
  },
  {
   "cell_type": "code",
   "execution_count": 75,
   "metadata": {
    "collapsed": false
   },
   "outputs": [
    {
     "name": "stdout",
     "output_type": "stream",
     "text": [
      "CPU times: user 3.68 s, sys: 435 ms, total: 4.12 s\n",
      "Wall time: 4.19 s\n"
     ]
    }
   ],
   "source": [
    "%%time\n",
    "for f in floats_aa:\n",
    "    pass"
   ]
  },
  {
   "cell_type": "code",
   "execution_count": 76,
   "metadata": {
    "collapsed": false
   },
   "outputs": [
    {
     "name": "stdout",
     "output_type": "stream",
     "text": [
      "CPU times: user 4.05 s, sys: 3.61 s, total: 7.66 s\n",
      "Wall time: 10.2 s\n"
     ]
    }
   ],
   "source": [
    "%%time\n",
    "for f in floats_list:\n",
    "    pass"
   ]
  },
  {
   "cell_type": "markdown",
   "metadata": {},
   "source": [
    "Ok, so a regular python list on 100 million floats only costs double. Why would you use `array.array` then? And Why is accessing floats in an `array.array` so slow. The answer to the latter is that in using the standard python access, like in a `for` loop each float is **boxed** by the python runtime. What does this mean? \n",
    "\n",
    "Remember the int based structs we had earlier? In an `array.array` or in `numpy` for that matter, when you \"iterate\" over the array, and use the ints you get, what python does is to take that 32 bits or 64 bits from memory, warap it up into one of these structs, and hand it to you.\n",
    "\n",
    "What it also means is that ops on `array.array` which can be done with C are fast, but access into python is slow. But none of the `array.array` functionality is exposed with any complex operations under the hood, so its current use remains limited to reading really big pieces of data, and then being ok with slower access to them (its frugal). In numpy, instead, stuff defined at the `C` level is exposed is fast (like dot products in numpy). "
   ]
  },
  {
   "cell_type": "code",
   "execution_count": 77,
   "metadata": {
    "collapsed": false
   },
   "outputs": [
    {
     "name": "stdout",
     "output_type": "stream",
     "text": [
      "CPU times: user 4 µs, sys: 4 µs, total: 8 µs\n",
      "Wall time: 36 µs\n"
     ]
    },
    {
     "data": {
      "text/plain": [
       "0.9597984913557022"
      ]
     },
     "execution_count": 77,
     "metadata": {},
     "output_type": "execute_result"
    }
   ],
   "source": [
    "%%time\n",
    "floats_aa[1000000]"
   ]
  },
  {
   "cell_type": "code",
   "execution_count": 78,
   "metadata": {
    "collapsed": false
   },
   "outputs": [
    {
     "name": "stdout",
     "output_type": "stream",
     "text": [
      "CPU times: user 5 µs, sys: 15 µs, total: 20 µs\n",
      "Wall time: 21.9 µs\n"
     ]
    },
    {
     "data": {
      "text/plain": [
       "0.6974724338617144"
      ]
     },
     "execution_count": 78,
     "metadata": {},
     "output_type": "execute_result"
    }
   ],
   "source": [
    "%%time\n",
    "floats_list[1000000]"
   ]
  },
  {
   "cell_type": "markdown",
   "metadata": {},
   "source": [
    "If you want to use numerical stuff, use `numpy` arrays. But `array.array`s are still useful when a buffer needs to be shlepped between Python and C, for quick access to things. If you are using legacy code in C which ops on these lists, this is the way to do it fast. Indeed, otherwise lists can be faster because of this \"boxing\" penalty. (see https://www.python.org/doc/essays/list2str/)"
   ]
  },
  {
   "cell_type": "markdown",
   "metadata": {},
   "source": [
    "### Boxing and unboxing (or why is python slow)\n",
    "\n",
    "(based off jakedevp's blog)\n"
   ]
  },
  {
   "cell_type": "code",
   "execution_count": 99,
   "metadata": {
    "collapsed": true
   },
   "outputs": [],
   "source": [
    "import ctypes\n",
    "class IntStruct(ctypes.Structure):\n",
    "    _fields_ = [(\"ob_refcnt\", ctypes.c_long),\n",
    "                           (\"ob_type\", ctypes.c_void_p),\n",
    "                           (\"ob_size\", ctypes.c_ulong),\n",
    "                           (\"ob_digit\", ctypes.c_long)]\n",
    "    def __repr__(self):\n",
    "        return (\"IntStruct(ob_digit={self.ob_digit}, \"\n",
    "                           \"refcount={self.ob_refcnt})\").format(self=self)"
   ]
  },
  {
   "cell_type": "code",
   "execution_count": 100,
   "metadata": {
    "collapsed": false
   },
   "outputs": [
    {
     "data": {
      "text/plain": [
       "IntStruct(ob_digit=42, refcount=52)"
      ]
     },
     "execution_count": 100,
     "metadata": {},
     "output_type": "execute_result"
    }
   ],
   "source": [
    "num = 42\n",
    "IntStruct.from_address(id(42))"
   ]
  },
  {
   "cell_type": "code",
   "execution_count": 12,
   "metadata": {
    "collapsed": true
   },
   "outputs": [],
   "source": [
    "def test_add():\n",
    "    a=1\n",
    "    b=2\n",
    "    c = a+b\n",
    "    return c"
   ]
  },
  {
   "cell_type": "code",
   "execution_count": 98,
   "metadata": {
    "collapsed": false
   },
   "outputs": [
    {
     "name": "stdout",
     "output_type": "stream",
     "text": [
      "  2           0 LOAD_CONST               1 (1)\n",
      "              3 STORE_FAST               0 (a)\n",
      "\n",
      "  3           6 LOAD_CONST               2 (3)\n",
      "              9 STORE_FAST               1 (b)\n",
      "\n",
      "  4          12 LOAD_FAST                0 (a)\n",
      "             15 LOAD_FAST                1 (b)\n",
      "             18 BINARY_ADD\n",
      "             19 STORE_FAST               2 (c)\n",
      "\n",
      "  5          22 LOAD_FAST                2 (c)\n",
      "             25 RETURN_VALUE\n"
     ]
    }
   ],
   "source": [
    "import dis\n",
    "dis.dis(test_add)"
   ]
  },
  {
   "cell_type": "markdown",
   "metadata": {},
   "source": [
    "Python Addition\n",
    "\n",
    "1. Assign 1 to a\n",
    "    - 1a. Set a->PyObject_HEAD->typecode to integer\n",
    "    - 1b. Set a->val = 1\n",
    "2. Assign 2 to b\n",
    "    - 2a. Set b->PyObject_HEAD->typecode to integer \n",
    "    - 2b. Set b->val = 2\n",
    "3. call binary_add(a,b)\n",
    "    - 3a. find typecode in a->PyObject_HEAD\n",
    "    - 3b. a is an integer; value is a->val\n",
    "    - 3c. find typecode in b->PyObject_HEAD\n",
    "    - 3d. b is an integer; value is b->val\n",
    "    - 3e. call `binary_add<int, int>(a->val, b->val)` \n",
    "    - 3f. result of this is result, and is an integer.\n",
    "4. Create a Python object c\n",
    "    - 4a. set c->PyObject_HEAD->typecode to integer\n",
    "    - 4b. set c->val to result\n",
    "    \n",
    "So its never a simple addition...there is all this machinery around it. And this is to add two ints where `binary_add` is optimized in C. If these were user defined classes, there would be additional overhead from dunder methods for addition that we will talk about later."
   ]
  }
 ],
 "metadata": {
  "kernelspec": {
   "display_name": "Python 3",
   "language": "python",
   "name": "python3"
  },
  "language_info": {
   "codemirror_mode": {
    "name": "ipython",
    "version": 3
   },
   "file_extension": ".py",
   "mimetype": "text/x-python",
   "name": "python",
   "nbconvert_exporter": "python",
   "pygments_lexer": "ipython3",
   "version": "3.5.1"
  }
 },
 "nbformat": 4,
 "nbformat_minor": 0
}
