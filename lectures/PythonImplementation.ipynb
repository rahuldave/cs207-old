{
 "cells": [
  {
   "cell_type": "markdown",
   "metadata": {},
   "source": [
    "## How is Python Implemented?\n",
    "\n",
    "Upto now, we have learnt about environments, nested environments, and executing using bindings defined in these environments. However, to do the actual execution, we have relied on the python runtime to do our work.\n",
    "\n",
    "Much earlier in the course, when we introduced the python stack and the C stack, and showed all the pretty pictures of frames from pythontutor.com, we alluded to the stack-based execution model of Python. Now we'll get into much more detail about this, and see how python works, and how some of its features are implemented"
   ]
  },
  {
   "cell_type": "markdown",
   "metadata": {},
   "source": [
    "### The virtual machine\n",
    "\n",
    "Python runs on a virtual machine. \n",
    "\n",
    "A **virtual machine** is a software implementation of a real machine. As such, it will implement registers and stacks and other such constructs, along with an \"assembly\" language to program it.\n",
    "\n",
    "We are interested here in a \"process virtual machine\".\n",
    "\n",
    "Wikipedia:\n",
    ">A process VM, sometimes called an application virtual machine, or Managed Runtime Environment (MRE), runs as a normal application inside a host OS and supports a single process. It is created when that process is started and destroyed when it exits. Its purpose is to provide a platform-independent programming environment that abstracts away details of the underlying hardware or operating system, and allows a program to execute in the same way on any platform.\n",
    "\n",
    "Perhaps the best known example of a process virtual machine is the JVM. But python has one too, and indeed, python is compiled to an assembly like **bytecode**. This bytecode is then \"interpreted\" by the machine: you can think of this bytecode as the machine code for the Python Virtual Machine.\n",
    "\n",
    "The compiler also emits some other fields, which are needed to run the interpreter. The bytecode and this additional information is stored in a `code` object."
   ]
  },
  {
   "cell_type": "markdown",
   "metadata": {},
   "source": [
    "### The stack and frames\n",
    "\n",
    "(for how the C stack works, see http://duartes.org/gustavo/blog/post/journey-to-the-stack/ and http://duartes.org/gustavo/blog/post/epilogues-canaries-buffer-overflows/ )\n",
    "\n",
    "![](http://aosabook.org/en/500L/interpreter-images/interpreter-callstack.png)\n",
    "\n",
    "There are three stacks alive during the running of a python program. Since we run on a virtual machine, the call stack and stack frames are dependent on the virtual machine, rather than the real machine your code runs on. This is the critical difference between `stupidlang` and what we are doing now.\n",
    "\n",
    "- the first is the **call stack**. This is the stack of environments you are familiar with. Often its not explicitly represented as a stack, but a recursive lookup of environments. Or, as in the C case, offsets into memory.\n",
    "- the second is the **data stack or the value stack**. There is one of these per environment frame, and is used to run code in the context of that environment. This is where data-manupulating opcodes like `BINARY_ADD` run, in conjunction with namespace related opcodes such as `STORE_FAST` and `LOAD_FAST`, seen above.\n",
    "- there is a third stack to handle compund statements: statements that contain other statements. This stack is known as the **block stack**.\n",
    "\n",
    "All of these are put together in the frame structure:\n",
    "\n",
    "```c\n",
    "\n",
    "typedef struct _frame {\n",
    "   PyObject_VAR_HEAD\n",
    "   struct _frame *f_back;   /* previous frame, or NULL */\n",
    "   PyCodeObject *f_code;    /* code segment */\n",
    "   PyObject *f_builtins;    /* builtin symbol table */\n",
    "   PyObject *f_globals;     /* global symbol table */\n",
    "   PyObject *f_locals;      /* local symbol table */\n",
    "   PyObject **f_valuestack; /* points after the last local */\n",
    "   PyObject **f_stacktop;   /* current top of valuestack */\n",
    "   PyObject *f_trace;       /* trace function */\n",
    " \n",
    "   /* used for swapping generator exceptions */\n",
    "   PyObject *f_exc_type, *f_exc_value, *f_exc_traceback;\n",
    " \n",
    "   PyThreadState *f_tstate; /* call stack's thread state */\n",
    "   int f_lasti;             /* last instruction if called */\n",
    "   int f_lineno;            /* current line # (if tracing) */\n",
    "   int f_iblock;            /* index in f_blockstack */\n",
    " \n",
    "   /* for try and loop blocks */\n",
    "   PyTryBlock f_blockstack[CO_MAXBLOCKS];\n",
    " \n",
    "   /* dynamically: locals, free vars, cells and valuestack */\n",
    "   PyObject *f_localsplus[1]; /* dynamic portion */\n",
    "} PyFrameObject;\n",
    "```\n",
    "\n"
   ]
  },
  {
   "cell_type": "markdown",
   "metadata": {},
   "source": [
    "### Code Objects\n",
    "\n",
    "Code objects are created whenever a **block** of python code is compiled. Here a **block** is defined as (from the manual):\n",
    "\n",
    ">a piece of Python program text that is executed as a unit. The following are blocks: a module, a function body, and a class definition.\n",
    "\n",
    "Also treated as blocks are:\n",
    "- every line in a repl\n",
    "- strings passed to `python -c`\n",
    "\n",
    "The text is transformed into an AST, and then `PyAST_Compile` is called on it, to produce code objects.\n",
    "\n",
    "Code objects are immutable."
   ]
  },
  {
   "cell_type": "code",
   "execution_count": 1,
   "metadata": {
    "collapsed": true
   },
   "outputs": [],
   "source": [
    "def f(x):\n",
    "    a=1\n",
    "    y = a+x\n",
    "    return y"
   ]
  },
  {
   "cell_type": "code",
   "execution_count": 2,
   "metadata": {
    "collapsed": false
   },
   "outputs": [
    {
     "data": {
      "text/plain": [
       "code"
      ]
     },
     "execution_count": 2,
     "metadata": {},
     "output_type": "execute_result"
    }
   ],
   "source": [
    "fcode = f.__code__\n",
    "type(fcode)"
   ]
  },
  {
   "cell_type": "code",
   "execution_count": 3,
   "metadata": {
    "collapsed": false
   },
   "outputs": [],
   "source": [
    "def print_code(c):\n",
    "    for x in dir(c):\n",
    "        if x.startswith('co'):\n",
    "            print(x, '=', getattr(c, x))"
   ]
  },
  {
   "cell_type": "code",
   "execution_count": 4,
   "metadata": {
    "collapsed": false
   },
   "outputs": [
    {
     "name": "stdout",
     "output_type": "stream",
     "text": [
      "co_argcount = 1\n",
      "co_cellvars = ()\n",
      "co_code = b'd\\x01\\x00}\\x01\\x00|\\x01\\x00|\\x00\\x00\\x17}\\x02\\x00|\\x02\\x00S'\n",
      "co_consts = (None, 1)\n",
      "co_filename = <ipython-input-1-587cb7262809>\n",
      "co_firstlineno = 1\n",
      "co_flags = 67\n",
      "co_freevars = ()\n",
      "co_kwonlyargcount = 0\n",
      "co_lnotab = b'\\x00\\x01\\x06\\x01\\n\\x01'\n",
      "co_name = f\n",
      "co_names = ()\n",
      "co_nlocals = 3\n",
      "co_stacksize = 2\n",
      "co_varnames = ('x', 'a', 'y')\n"
     ]
    }
   ],
   "source": [
    "print_code(fcode)"
   ]
  },
  {
   "cell_type": "code",
   "execution_count": 5,
   "metadata": {
    "collapsed": false
   },
   "outputs": [
    {
     "data": {
      "text/plain": [
       "[100, 1, 0, 125, 1, 0, 124, 1, 0, 124, 0, 0, 23, 125, 2, 0, 124, 2, 0, 83]"
      ]
     },
     "execution_count": 5,
     "metadata": {},
     "output_type": "execute_result"
    }
   ],
   "source": [
    "list(fcode.co_code)"
   ]
  },
  {
   "cell_type": "markdown",
   "metadata": {},
   "source": [
    "#### The `dis` machinery"
   ]
  },
  {
   "cell_type": "code",
   "execution_count": 9,
   "metadata": {
    "collapsed": false
   },
   "outputs": [
    {
     "data": {
      "text/plain": [
       "('LOAD_CONST', 'STORE_FAST', 'LOAD_FAST')"
      ]
     },
     "execution_count": 9,
     "metadata": {},
     "output_type": "execute_result"
    }
   ],
   "source": [
    "import dis\n",
    "dis.opname[100], dis.opname[125], dis.opname[124] #see dis docs for all"
   ]
  },
  {
   "cell_type": "code",
   "execution_count": 10,
   "metadata": {
    "collapsed": false
   },
   "outputs": [
    {
     "name": "stdout",
     "output_type": "stream",
     "text": [
      "  2           0 LOAD_CONST               1 (1)\n",
      "              3 STORE_FAST               1 (a)\n",
      "\n",
      "  3           6 LOAD_FAST                1 (a)\n",
      "              9 LOAD_FAST                0 (x)\n",
      "             12 BINARY_ADD\n",
      "             13 STORE_FAST               2 (y)\n",
      "\n",
      "  4          16 LOAD_FAST                2 (y)\n",
      "             19 RETURN_VALUE\n"
     ]
    }
   ],
   "source": [
    "dis.dis(f)"
   ]
  },
  {
   "cell_type": "markdown",
   "metadata": {},
   "source": [
    "Columns:\n",
    "\n",
    "1. line number\n",
    "2. index into the bytecode string\n",
    "3. instruction\n",
    "4. argument to the instruction\n",
    "5. what the argument means\n"
   ]
  },
  {
   "cell_type": "code",
   "execution_count": 11,
   "metadata": {
    "collapsed": false
   },
   "outputs": [
    {
     "name": "stdout",
     "output_type": "stream",
     "text": [
      "Name:              f\n",
      "Filename:          <ipython-input-1-587cb7262809>\n",
      "Argument count:    1\n",
      "Kw-only arguments: 0\n",
      "Number of locals:  3\n",
      "Stack size:        2\n",
      "Flags:             OPTIMIZED, NEWLOCALS, NOFREE\n",
      "Constants:\n",
      "   0: None\n",
      "   1: 1\n",
      "Variable names:\n",
      "   0: x\n",
      "   1: a\n",
      "   2: y\n"
     ]
    }
   ],
   "source": [
    "dis.show_code(f)"
   ]
  },
  {
   "cell_type": "code",
   "execution_count": 13,
   "metadata": {
    "collapsed": true
   },
   "outputs": [],
   "source": [
    "#from https://bitbucket.org/yaniv_aknin/pynards/src/c4b61c7a1798766affb49bfba86e485012af6d16/common/blog.py?at=default&fileviewer=file-view-default\n",
    "import dis\n",
    "import types\n",
    "\n",
    "def get_code_object(obj, compilation_mode=\"exec\"):\n",
    "    if isinstance(obj, types.CodeType):\n",
    "        return obj\n",
    "    elif isinstance(obj, types.FrameType):\n",
    "        return obj.f_code\n",
    "    elif isinstance(obj, types.FunctionType):\n",
    "        return obj.__code__\n",
    "    elif isinstance(obj, str):\n",
    "        try:\n",
    "            return compile(obj, \"<string>\", compilation_mode)\n",
    "        except SyntaxError as error:\n",
    "            raise ValueError(\"syntax error in passed string\") from error\n",
    "    else:\n",
    "        raise TypeError(\"get_code_object() can not handle '%s' objects\" %\n",
    "                        (type(obj).__name__,))\n",
    "\n",
    "def diss(obj, mode=\"exec\", recurse=False):\n",
    "    _visit(obj, dis.dis, mode, recurse)\n",
    "\n",
    "def ssc(obj, mode=\"exec\", recurse=False):\n",
    "    _visit(obj, dis.show_code, mode, recurse)\n",
    "\n",
    "def _visit(obj, visitor, mode=\"exec\", recurse=False):\n",
    "    obj = get_code_object(obj, mode)\n",
    "    visitor(obj)\n",
    "    if recurse:\n",
    "        for constant in obj.co_consts:\n",
    "            if type(constant) is type(obj):\n",
    "                print()\n",
    "                print('recursing into %r:' % (constant,))\n",
    "                _visit(constant, visitor, mode, recurse)\n"
   ]
  },
  {
   "cell_type": "code",
   "execution_count": 14,
   "metadata": {
    "collapsed": false
   },
   "outputs": [
    {
     "name": "stdout",
     "output_type": "stream",
     "text": [
      "  2           0 LOAD_CONST               1 (1)\n",
      "              3 STORE_FAST               1 (a)\n",
      "\n",
      "  3           6 LOAD_FAST                1 (a)\n",
      "              9 LOAD_FAST                0 (x)\n",
      "             12 BINARY_ADD\n",
      "             13 STORE_FAST               2 (y)\n",
      "\n",
      "  4          16 LOAD_FAST                2 (y)\n",
      "             19 RETURN_VALUE\n"
     ]
    }
   ],
   "source": [
    "diss(f)"
   ]
  },
  {
   "cell_type": "code",
   "execution_count": 15,
   "metadata": {
    "collapsed": false
   },
   "outputs": [
    {
     "name": "stdout",
     "output_type": "stream",
     "text": [
      "Name:              f\n",
      "Filename:          <ipython-input-1-587cb7262809>\n",
      "Argument count:    1\n",
      "Kw-only arguments: 0\n",
      "Number of locals:  3\n",
      "Stack size:        2\n",
      "Flags:             OPTIMIZED, NEWLOCALS, NOFREE\n",
      "Constants:\n",
      "   0: None\n",
      "   1: 1\n",
      "Variable names:\n",
      "   0: x\n",
      "   1: a\n",
      "   2: y\n"
     ]
    }
   ],
   "source": [
    "ssc(f)"
   ]
  },
  {
   "cell_type": "markdown",
   "metadata": {},
   "source": [
    "What happens when `BINARY_ADD` opcode is run? Look here, in `ceval.c`: https://github.com/python/cpython/blob/master/Python/ceval.c#L1559 .\n",
    "    \n",
    "Wierd, huh, we run `PyNumber_Add`. How does operator overloading work then? See later..."
   ]
  },
  {
   "cell_type": "markdown",
   "metadata": {},
   "source": [
    "Lets see a built-in function call:\n"
   ]
  },
  {
   "cell_type": "code",
   "execution_count": 16,
   "metadata": {
    "collapsed": false
   },
   "outputs": [
    {
     "name": "stdout",
     "output_type": "stream",
     "text": [
      "  2           0 LOAD_GLOBAL              0 (abs)\n",
      "              3 LOAD_FAST                0 (a)\n",
      "              6 CALL_FUNCTION            1 (1 positional, 0 keyword pair)\n",
      "              9 STORE_FAST               1 (b)\n",
      "\n",
      "  3          12 LOAD_FAST                1 (b)\n",
      "             15 RETURN_VALUE\n"
     ]
    }
   ],
   "source": [
    "def fprint(a):\n",
    "    b=abs(a)\n",
    "    return b\n",
    "diss(fprint)"
   ]
  },
  {
   "cell_type": "markdown",
   "metadata": {},
   "source": [
    "and a conditional (there is a problem in this code only to be caught at runtime):"
   ]
  },
  {
   "cell_type": "code",
   "execution_count": 18,
   "metadata": {
    "collapsed": false
   },
   "outputs": [
    {
     "name": "stdout",
     "output_type": "stream",
     "text": [
      "  2           0 LOAD_FAST                0 (a)\n",
      "              3 LOAD_CONST               1 (0)\n",
      "              6 COMPARE_OP               0 (<)\n",
      "              9 POP_JUMP_IF_FALSE       24\n",
      "\n",
      "  3          12 LOAD_GLOBAL              0 (abs)\n",
      "             15 LOAD_FAST                0 (a)\n",
      "             18 CALL_FUNCTION            1 (1 positional, 0 keyword pair)\n",
      "             21 STORE_FAST               1 (b)\n",
      "\n",
      "  4     >>   24 LOAD_FAST                1 (b)\n",
      "             27 RETURN_VALUE\n"
     ]
    }
   ],
   "source": [
    "def fcond(a):\n",
    "    if a < 0:\n",
    "        b=abs(a)\n",
    "    return b\n",
    "diss(fcond)"
   ]
  },
  {
   "cell_type": "code",
   "execution_count": 20,
   "metadata": {
    "collapsed": false
   },
   "outputs": [
    {
     "name": "stdout",
     "output_type": "stream",
     "text": [
      "Name:              fcond\n",
      "Filename:          <ipython-input-18-3259e3577241>\n",
      "Argument count:    1\n",
      "Kw-only arguments: 0\n",
      "Number of locals:  2\n",
      "Stack size:        2\n",
      "Flags:             OPTIMIZED, NEWLOCALS, NOFREE\n",
      "Constants:\n",
      "   0: None\n",
      "   1: 0\n",
      "Names:\n",
      "   0: abs\n",
      "Variable names:\n",
      "   0: a\n",
      "   1: b\n"
     ]
    }
   ],
   "source": [
    "ssc(fcond)"
   ]
  },
  {
   "cell_type": "code",
   "execution_count": 23,
   "metadata": {
    "collapsed": false
   },
   "outputs": [
    {
     "name": "stdout",
     "output_type": "stream",
     "text": [
      "co_argcount = 1\n",
      "co_cellvars = ()\n",
      "co_code = b'|\\x00\\x00d\\x01\\x00k\\x00\\x00r\\x18\\x00t\\x00\\x00|\\x00\\x00\\x83\\x01\\x00}\\x01\\x00|\\x01\\x00S'\n",
      "co_consts = (None, 0)\n",
      "co_filename = <ipython-input-18-3259e3577241>\n",
      "co_firstlineno = 1\n",
      "co_flags = 67\n",
      "co_freevars = ()\n",
      "co_kwonlyargcount = 0\n",
      "co_lnotab = b'\\x00\\x01\\x0c\\x01\\x0c\\x01'\n",
      "co_name = fcond\n",
      "co_names = ('abs',)\n",
      "co_nlocals = 2\n",
      "co_stacksize = 2\n",
      "co_varnames = ('a', 'b')\n"
     ]
    }
   ],
   "source": [
    "print_code(fcond.__code__)"
   ]
  },
  {
   "cell_type": "markdown",
   "metadata": {},
   "source": [
    "#### Inside a code object\n",
    "\n",
    "- `co_name` : name of code object\n",
    "- `co_filename` : The filename from which the code was compiled. If not a file a name is/can be assigned\n",
    "- `co_varnames` : names of the local variables (including arguments). look at `co_argcount`, `co_kwonlyargcount` and `co_flags` as well\n",
    "- `co_cellvars` : local variables stored in `cells` We'll see this soon, they are used to implement closures\n",
    "- `co_freevars` : names of free variables (variables referenced but not defined).\n",
    "- `co_names` : other names, including function attributes\n",
    "- `co_argcount` : number of positional arguments\n",
    "- `co_kwonlyargcount` : number of keyword arguments\n",
    "- `co_nlocals` : number of local variables used in code object (including arguments).\n",
    "- `co_firstlineno` : line offset for code object’s source code began, relative to the module it was defined in, starting from one. \n",
    "- `co_stacksize` : maximum size required of the value stack when running this object, statically computed by the compiler"
   ]
  },
  {
   "cell_type": "code",
   "execution_count": 12,
   "metadata": {
    "collapsed": false
   },
   "outputs": [
    {
     "name": "stdout",
     "output_type": "stream",
     "text": [
      "co_argcount = 1\n",
      "co_cellvars = ()\n",
      "co_code = b'd\\x01\\x00}\\x01\\x00|\\x01\\x00|\\x00\\x00\\x17}\\x02\\x00|\\x02\\x00S'\n",
      "co_consts = (None, 1)\n",
      "co_filename = <ipython-input-1-587cb7262809>\n",
      "co_firstlineno = 1\n",
      "co_flags = 67\n",
      "co_freevars = ()\n",
      "co_kwonlyargcount = 0\n",
      "co_lnotab = b'\\x00\\x01\\x06\\x01\\n\\x01'\n",
      "co_name = f\n",
      "co_names = ()\n",
      "co_nlocals = 3\n",
      "co_stacksize = 2\n",
      "co_varnames = ('x', 'a', 'y')\n",
      "  2           0 LOAD_CONST               1 (1)\n",
      "              3 STORE_FAST               1 (a)\n",
      "\n",
      "  3           6 LOAD_FAST                1 (a)\n",
      "              9 LOAD_FAST                0 (x)\n",
      "             12 BINARY_ADD\n",
      "             13 STORE_FAST               2 (y)\n",
      "\n",
      "  4          16 LOAD_FAST                2 (y)\n",
      "             19 RETURN_VALUE\n"
     ]
    }
   ],
   "source": [
    "print_code(f.__code__)\n",
    "diss(f)"
   ]
  },
  {
   "cell_type": "markdown",
   "metadata": {},
   "source": [
    "- `co_code` : A string representing the sequence of bytecode instructions, contains a stream of opcodes and their operands (or rather, indexes which are used with other code object fields to represent their operands, as we saw above).\n",
    "- `co_consts` : literals used by the bytecode. Remember everything in a code object must be immutable, running diss and ssc on the code snippets a=(1,2,3) versus [1,2,3] and yet again versus a=(1,2,3,[4,5,6]) recommended to dig this field."
   ]
  },
  {
   "cell_type": "code",
   "execution_count": 34,
   "metadata": {
    "collapsed": false
   },
   "outputs": [
    {
     "name": "stdout",
     "output_type": "stream",
     "text": [
      "Name:              <module>\n",
      "Filename:          <string>\n",
      "Argument count:    0\n",
      "Kw-only arguments: 0\n",
      "Number of locals:  0\n",
      "Stack size:        6\n",
      "Flags:             NOFREE\n",
      "Constants:\n",
      "   0: 1\n",
      "   1: 2\n",
      "   2: 3\n",
      "   3: 4\n",
      "   4: 5\n",
      "   5: 6\n",
      "   6: None\n",
      "Names:\n",
      "   0: a\n",
      "--------------\n",
      "Name:              <module>\n",
      "Filename:          <string>\n",
      "Argument count:    0\n",
      "Kw-only arguments: 0\n",
      "Number of locals:  0\n",
      "Stack size:        3\n",
      "Flags:             NOFREE\n",
      "Constants:\n",
      "   0: 1\n",
      "   1: 2\n",
      "   2: 3\n",
      "   3: None\n",
      "   4: (1, 2, 3)\n",
      "Names:\n",
      "   0: a\n"
     ]
    }
   ],
   "source": [
    "ssc('a=(1,2, 3, [4,5,6])')\n",
    "print('--------------')\n",
    "ssc('a=(1,2, 3)')\n"
   ]
  },
  {
   "cell_type": "markdown",
   "metadata": {},
   "source": [
    "- `co_lnotab` :  bytecode offsets to line numbers mapping\n",
    "- `co_flags` : integer encoding flags about this code object was created \n",
    "- `co_zombieframe` : an optimization of stack frame allocation: not exposed."
   ]
  },
  {
   "cell_type": "code",
   "execution_count": 15,
   "metadata": {
    "collapsed": true
   },
   "outputs": [],
   "source": [
    "class A():\n",
    "    \n",
    "    def __init__(self, a):\n",
    "        self.a = a"
   ]
  },
  {
   "cell_type": "code",
   "execution_count": 16,
   "metadata": {
    "collapsed": false
   },
   "outputs": [
    {
     "name": "stdout",
     "output_type": "stream",
     "text": [
      "Disassembly of __init__:\n",
      "  4           0 LOAD_FAST                1 (a)\n",
      "              3 LOAD_FAST                0 (self)\n",
      "              6 STORE_ATTR               0 (a)\n",
      "              9 LOAD_CONST               0 (None)\n",
      "             12 RETURN_VALUE\n",
      "\n"
     ]
    }
   ],
   "source": [
    "dis.dis(A)"
   ]
  },
  {
   "cell_type": "code",
   "execution_count": 17,
   "metadata": {
    "collapsed": false
   },
   "outputs": [
    {
     "name": "stdout",
     "output_type": "stream",
     "text": [
      "Name:              __init__\n",
      "Filename:          <ipython-input-15-65a79aa58fbc>\n",
      "Argument count:    2\n",
      "Kw-only arguments: 0\n",
      "Number of locals:  2\n",
      "Stack size:        2\n",
      "Flags:             OPTIMIZED, NEWLOCALS, NOFREE\n",
      "Constants:\n",
      "   0: None\n",
      "Names:\n",
      "   0: a\n",
      "Variable names:\n",
      "   0: self\n",
      "   1: a\n"
     ]
    }
   ],
   "source": [
    "dis.show_code(A.__init__)"
   ]
  },
  {
   "cell_type": "markdown",
   "metadata": {},
   "source": [
    "### Various situations"
   ]
  },
  {
   "cell_type": "markdown",
   "metadata": {},
   "source": [
    "With this technology in hand, lets see how a whole bunch of situations are implemented"
   ]
  },
  {
   "cell_type": "markdown",
   "metadata": {},
   "source": [
    "#### Global variables"
   ]
  },
  {
   "cell_type": "code",
   "execution_count": 21,
   "metadata": {
    "collapsed": false
   },
   "outputs": [
    {
     "name": "stdout",
     "output_type": "stream",
     "text": [
      "  4           0 LOAD_CONST               1 (2)\n",
      "              3 STORE_FAST               0 (y)\n",
      "\n",
      "  5           6 LOAD_CONST               2 (3)\n",
      "              9 STORE_GLOBAL             0 (xxx)\n",
      "\n",
      "  6          12 LOAD_GLOBAL              1 (aaa)\n",
      "             15 LOAD_CONST               3 (1)\n",
      "             18 INPLACE_ADD\n",
      "             19 STORE_GLOBAL             1 (aaa)\n",
      "             22 LOAD_CONST               0 (None)\n",
      "             25 RETURN_VALUE\n"
     ]
    }
   ],
   "source": [
    "def fglb():\n",
    "    global xxx\n",
    "    global aaa\n",
    "    y = 2\n",
    "    xxx=3\n",
    "    aaa += 1\n",
    "diss(fglb)"
   ]
  },
  {
   "cell_type": "markdown",
   "metadata": {},
   "source": [
    "`STORE_GLOBAL` performs a binding or re-binding in the global namespace while `LOAD_GLOBAL` is generated when the compiler realizes that the variable is referenced in the function's body but never bound there. Here `aaa` may not be defined outside and could lead to a runtime erroe, but this is perfectly legal code from the perspective of the function.\n",
    "\n",
    "The `*_FAST` opcodes are used when the compiler can infer that the variables are defined in the local namespace. There are optimized versions of `*_NAME` opcodes"
   ]
  },
  {
   "cell_type": "code",
   "execution_count": 24,
   "metadata": {
    "collapsed": false
   },
   "outputs": [
    {
     "name": "stdout",
     "output_type": "stream",
     "text": [
      "  1           0 LOAD_NAME                0 (dd)\n",
      "              3 LOAD_CONST               0 (1)\n",
      "              6 BINARY_SUBTRACT\n",
      "              7 STORE_NAME               1 (cc)\n",
      "             10 LOAD_CONST               1 (None)\n",
      "             13 RETURN_VALUE\n"
     ]
    }
   ],
   "source": [
    "diss('cc = dd -1')"
   ]
  },
  {
   "cell_type": "code",
   "execution_count": 35,
   "metadata": {
    "collapsed": false
   },
   "outputs": [
    {
     "name": "stdout",
     "output_type": "stream",
     "text": [
      "Name:              <module>\n",
      "Filename:          <string>\n",
      "Argument count:    0\n",
      "Kw-only arguments: 0\n",
      "Number of locals:  0\n",
      "Stack size:        2\n",
      "Flags:             NOFREE\n",
      "Constants:\n",
      "   0: 1\n",
      "   1: None\n",
      "Names:\n",
      "   0: dd\n",
      "   1: cc\n"
     ]
    }
   ],
   "source": [
    "ssc('cc = dd -1')"
   ]
  },
  {
   "cell_type": "markdown",
   "metadata": {},
   "source": [
    "### Closures\n",
    "\n",
    "The compiler will treat variables defined in outer functions  that will be used in an inner lexical scope different:"
   ]
  },
  {
   "cell_type": "code",
   "execution_count": 36,
   "metadata": {
    "collapsed": false
   },
   "outputs": [
    {
     "name": "stdout",
     "output_type": "stream",
     "text": [
      "  2           0 LOAD_CONST               1 (1)\n",
      "              3 STORE_DEREF              0 (a)\n",
      "\n",
      "  3           6 LOAD_CONST               2 (2)\n",
      "              9 STORE_FAST               0 (b)\n",
      "\n",
      "  4          12 LOAD_CLOSURE             0 (a)\n",
      "             15 BUILD_TUPLE              1\n",
      "             18 LOAD_CONST               3 (<code object h at 0x104d62390, file \"<ipython-input-36-5b074cc104ce>\", line 4>)\n",
      "             21 LOAD_CONST               4 ('g.<locals>.h')\n",
      "             24 MAKE_CLOSURE             0\n",
      "             27 STORE_FAST               1 (h)\n",
      "\n",
      "  7          30 LOAD_FAST                1 (h)\n",
      "             33 RETURN_VALUE\n",
      "\n",
      "recursing into <code object h at 0x104d62390, file \"<ipython-input-36-5b074cc104ce>\", line 4>:\n",
      "  5           0 LOAD_DEREF               0 (a)\n",
      "              3 STORE_FAST               0 (b)\n",
      "\n",
      "  6           6 LOAD_CONST               1 (5)\n",
      "              9 STORE_FAST               1 (c)\n",
      "             12 LOAD_CONST               0 (None)\n",
      "             15 RETURN_VALUE\n"
     ]
    }
   ],
   "source": [
    "def g():\n",
    "    a = 1\n",
    "    b = 2\n",
    "    def h():\n",
    "        b=a#b is a local in this context\n",
    "        c=5\n",
    "    return h\n",
    "diss(g, recurse=True)"
   ]
  },
  {
   "cell_type": "markdown",
   "metadata": {},
   "source": [
    "`a`, as opposed to `b` is both loaded and stored using `*_DEREF` in both the outer and inner scope. The variable is stored using a \"cell\". And as the cell is only accessed after the outer has finished (it is created at that time), you can even define the inner before you store `a`. Notice the \"cell\" in the outer and the \"free\" in the inner below."
   ]
  },
  {
   "cell_type": "code",
   "execution_count": 37,
   "metadata": {
    "collapsed": false
   },
   "outputs": [
    {
     "name": "stdout",
     "output_type": "stream",
     "text": [
      "Name:              g\n",
      "Filename:          <ipython-input-36-5b074cc104ce>\n",
      "Argument count:    0\n",
      "Kw-only arguments: 0\n",
      "Number of locals:  2\n",
      "Stack size:        3\n",
      "Flags:             OPTIMIZED, NEWLOCALS\n",
      "Constants:\n",
      "   0: None\n",
      "   1: 1\n",
      "   2: 2\n",
      "   3: <code object h at 0x104d62390, file \"<ipython-input-36-5b074cc104ce>\", line 4>\n",
      "   4: 'g.<locals>.h'\n",
      "Variable names:\n",
      "   0: b\n",
      "   1: h\n",
      "Cell variables:\n",
      "   0: a\n",
      "\n",
      "recursing into <code object h at 0x104d62390, file \"<ipython-input-36-5b074cc104ce>\", line 4>:\n",
      "Name:              h\n",
      "Filename:          <ipython-input-36-5b074cc104ce>\n",
      "Argument count:    0\n",
      "Kw-only arguments: 0\n",
      "Number of locals:  2\n",
      "Stack size:        1\n",
      "Flags:             OPTIMIZED, NEWLOCALS, NESTED\n",
      "Constants:\n",
      "   0: None\n",
      "   1: 5\n",
      "Variable names:\n",
      "   0: b\n",
      "   1: c\n",
      "Free variables:\n",
      "   0: a\n"
     ]
    }
   ],
   "source": [
    "ssc(g, recurse=True)"
   ]
  },
  {
   "cell_type": "markdown",
   "metadata": {},
   "source": [
    "What is a cell? Its a special place the \"DEREF\"s are stored. When a closure is created, the variables bound in an outer scope are copied to a \"cell: area, and when the function is run, they are copied into the \"fast\" area of the function.\n",
    "\n",
    "#### nonlocal\n",
    "\n",
    "Now we can understand why we need `nonlocal` in some situations."
   ]
  },
  {
   "cell_type": "code",
   "execution_count": 38,
   "metadata": {
    "collapsed": false
   },
   "outputs": [
    {
     "data": {
      "text/plain": [
       "('a',)"
      ]
     },
     "execution_count": 38,
     "metadata": {},
     "output_type": "execute_result"
    }
   ],
   "source": [
    "g.__code__.co_cellvars"
   ]
  },
  {
   "cell_type": "code",
   "execution_count": 39,
   "metadata": {
    "collapsed": false
   },
   "outputs": [
    {
     "name": "stdout",
     "output_type": "stream",
     "text": [
      "  2           0 LOAD_CONST               1 (1)\n",
      "              3 STORE_DEREF              0 (a)\n",
      "\n",
      "  3           6 LOAD_CONST               2 (2)\n",
      "              9 STORE_FAST               0 (b)\n",
      "\n",
      "  4          12 LOAD_CLOSURE             0 (a)\n",
      "             15 BUILD_TUPLE              1\n",
      "             18 LOAD_CONST               3 (<code object h at 0x104d625d0, file \"<ipython-input-39-87717a4edf23>\", line 4>)\n",
      "             21 LOAD_CONST               4 ('g2.<locals>.h')\n",
      "             24 MAKE_CLOSURE             0\n",
      "             27 STORE_FAST               1 (h)\n",
      "\n",
      "  7          30 LOAD_FAST                1 (h)\n",
      "             33 RETURN_VALUE\n",
      "\n",
      "recursing into <code object h at 0x104d625d0, file \"<ipython-input-39-87717a4edf23>\", line 4>:\n",
      "  5           0 LOAD_FAST                0 (b)\n",
      "              3 STORE_FAST               1 (c)\n",
      "\n",
      "  6           6 LOAD_DEREF               0 (a)\n",
      "              9 STORE_FAST               0 (b)\n",
      "             12 LOAD_CONST               0 (None)\n",
      "             15 RETURN_VALUE\n"
     ]
    }
   ],
   "source": [
    "def g2():\n",
    "    a = 1\n",
    "    b = 2\n",
    "    def h():\n",
    "        c=b#here we refer to b from g2 but h thinks its local\n",
    "        b=a\n",
    "    return h\n",
    "diss(g2, recurse=True)"
   ]
  },
  {
   "cell_type": "code",
   "execution_count": 40,
   "metadata": {
    "collapsed": false
   },
   "outputs": [
    {
     "ename": "UnboundLocalError",
     "evalue": "local variable 'b' referenced before assignment",
     "output_type": "error",
     "traceback": [
      "\u001b[0;31m---------------------------------------------------------------------------\u001b[0m",
      "\u001b[0;31mUnboundLocalError\u001b[0m                         Traceback (most recent call last)",
      "\u001b[0;32m<ipython-input-40-1714c19d5bc2>\u001b[0m in \u001b[0;36m<module>\u001b[0;34m()\u001b[0m\n\u001b[1;32m      1\u001b[0m \u001b[0mg2sh\u001b[0m\u001b[0;34m=\u001b[0m\u001b[0mg2\u001b[0m\u001b[0;34m(\u001b[0m\u001b[0;34m)\u001b[0m\u001b[0;34m\u001b[0m\u001b[0m\n\u001b[0;32m----> 2\u001b[0;31m \u001b[0mg2sh\u001b[0m\u001b[0;34m(\u001b[0m\u001b[0;34m)\u001b[0m\u001b[0;34m\u001b[0m\u001b[0m\n\u001b[0m",
      "\u001b[0;32m<ipython-input-39-87717a4edf23>\u001b[0m in \u001b[0;36mh\u001b[0;34m()\u001b[0m\n\u001b[1;32m      3\u001b[0m     \u001b[0mb\u001b[0m \u001b[0;34m=\u001b[0m \u001b[0;36m2\u001b[0m\u001b[0;34m\u001b[0m\u001b[0m\n\u001b[1;32m      4\u001b[0m     \u001b[0;32mdef\u001b[0m \u001b[0mh\u001b[0m\u001b[0;34m(\u001b[0m\u001b[0;34m)\u001b[0m\u001b[0;34m:\u001b[0m\u001b[0;34m\u001b[0m\u001b[0m\n\u001b[0;32m----> 5\u001b[0;31m         \u001b[0mc\u001b[0m\u001b[0;34m=\u001b[0m\u001b[0mb\u001b[0m\u001b[0;31m#here we refer to b from g2 but h thinks its local\u001b[0m\u001b[0;34m\u001b[0m\u001b[0m\n\u001b[0m\u001b[1;32m      6\u001b[0m         \u001b[0mb\u001b[0m\u001b[0;34m=\u001b[0m\u001b[0ma\u001b[0m\u001b[0;34m\u001b[0m\u001b[0m\n\u001b[1;32m      7\u001b[0m     \u001b[0;32mreturn\u001b[0m \u001b[0mh\u001b[0m\u001b[0;34m\u001b[0m\u001b[0m\n",
      "\u001b[0;31mUnboundLocalError\u001b[0m: local variable 'b' referenced before assignment"
     ]
    }
   ],
   "source": [
    "g2sh=g2()\n",
    "g2sh()"
   ]
  },
  {
   "cell_type": "markdown",
   "metadata": {},
   "source": [
    "We can fix this by using `nonlocal`, but its illegal to this outside a inner lexical scope."
   ]
  },
  {
   "cell_type": "code",
   "execution_count": 41,
   "metadata": {
    "collapsed": false
   },
   "outputs": [
    {
     "name": "stdout",
     "output_type": "stream",
     "text": [
      "  2           0 LOAD_CONST               1 (1)\n",
      "              3 STORE_DEREF              0 (a)\n",
      "\n",
      "  3           6 LOAD_CONST               2 (2)\n",
      "              9 STORE_DEREF              1 (b)\n",
      "\n",
      "  4          12 LOAD_CLOSURE             0 (a)\n",
      "             15 LOAD_CLOSURE             1 (b)\n",
      "             18 BUILD_TUPLE              2\n",
      "             21 LOAD_CONST               3 (<code object h at 0x104d62420, file \"<ipython-input-41-601bed7b46b6>\", line 4>)\n",
      "             24 LOAD_CONST               4 ('g2.<locals>.h')\n",
      "             27 MAKE_CLOSURE             0\n",
      "             30 STORE_FAST               0 (h)\n",
      "\n",
      "  8          33 LOAD_FAST                0 (h)\n",
      "             36 RETURN_VALUE\n",
      "\n",
      "recursing into <code object h at 0x104d62420, file \"<ipython-input-41-601bed7b46b6>\", line 4>:\n",
      "  6           0 LOAD_DEREF               1 (b)\n",
      "              3 STORE_FAST               0 (c)\n",
      "\n",
      "  7           6 LOAD_DEREF               0 (a)\n",
      "              9 STORE_DEREF              1 (b)\n",
      "             12 LOAD_CONST               0 (None)\n",
      "             15 RETURN_VALUE\n"
     ]
    }
   ],
   "source": [
    "def g2():\n",
    "    a = 1\n",
    "    b = 2\n",
    "    def h():\n",
    "        nonlocal b\n",
    "        c=b#here we refer to b from g2 but h thinks its local\n",
    "        b=a\n",
    "    return h\n",
    "diss(g2, recurse=True)"
   ]
  },
  {
   "cell_type": "code",
   "execution_count": 42,
   "metadata": {
    "collapsed": false
   },
   "outputs": [
    {
     "name": "stdout",
     "output_type": "stream",
     "text": [
      "Name:              g2\n",
      "Filename:          <ipython-input-41-601bed7b46b6>\n",
      "Argument count:    0\n",
      "Kw-only arguments: 0\n",
      "Number of locals:  1\n",
      "Stack size:        3\n",
      "Flags:             OPTIMIZED, NEWLOCALS\n",
      "Constants:\n",
      "   0: None\n",
      "   1: 1\n",
      "   2: 2\n",
      "   3: <code object h at 0x104d62420, file \"<ipython-input-41-601bed7b46b6>\", line 4>\n",
      "   4: 'g2.<locals>.h'\n",
      "Variable names:\n",
      "   0: h\n",
      "Cell variables:\n",
      "   0: a\n",
      "   1: b\n",
      "\n",
      "recursing into <code object h at 0x104d62420, file \"<ipython-input-41-601bed7b46b6>\", line 4>:\n",
      "Name:              h\n",
      "Filename:          <ipython-input-41-601bed7b46b6>\n",
      "Argument count:    0\n",
      "Kw-only arguments: 0\n",
      "Number of locals:  1\n",
      "Stack size:        1\n",
      "Flags:             OPTIMIZED, NEWLOCALS, NESTED\n",
      "Constants:\n",
      "   0: None\n",
      "Variable names:\n",
      "   0: c\n",
      "Free variables:\n",
      "   0: a\n",
      "   1: b\n"
     ]
    }
   ],
   "source": [
    "ssc(g2, recurse=True)"
   ]
  },
  {
   "cell_type": "code",
   "execution_count": 31,
   "metadata": {
    "collapsed": true
   },
   "outputs": [],
   "source": [
    "g2sh=g2()\n",
    "g2sh()"
   ]
  },
  {
   "cell_type": "markdown",
   "metadata": {},
   "source": [
    "Notice we have not talked anything about frames yet. Thats because, so far, we have only defined functions. Lets see what happens when we execute them.\n",
    "\n",
    "### Execution and Binding lookup\n",
    "\n",
    "Frame creation occurs in when a code object needs to be evaulated:\n",
    "\n",
    "- when a function is called\n",
    "- when a module is imported (top-level code is executed)\n",
    "- when a class is defined\n",
    "- every  command in the repl\n",
    "- when eval or exec are used\n",
    "- when the -c switch is used \n",
    "\n",
    "Let's go back to our frame structure in CPython:\n",
    "\n",
    "```c\n",
    "\n",
    "typedef struct _frame {\n",
    "   PyObject_VAR_HEAD\n",
    "   struct _frame *f_back;   /* previous frame, or NULL */\n",
    "   PyCodeObject *f_code;    /* code segment */\n",
    "   PyObject *f_builtins;    /* builtin symbol table */\n",
    "   PyObject *f_globals;     /* global symbol table */\n",
    "   PyObject *f_locals;      /* local symbol table */\n",
    "   PyObject **f_valuestack; /* points after the last local */\n",
    "   PyObject **f_stacktop;   /* current top of valuestack */\n",
    "   PyObject *f_trace;       /* trace function */\n",
    " \n",
    "   /* used for swapping generator exceptions */\n",
    "   PyObject *f_exc_type, *f_exc_value, *f_exc_traceback;\n",
    " \n",
    "   PyThreadState *f_tstate; /* call stack's thread state */\n",
    "   int f_lasti;             /* last instruction if called */\n",
    "   int f_lineno;            /* current line # (if tracing) */\n",
    "   int f_iblock;            /* index in f_blockstack */\n",
    " \n",
    "   /* for try and loop blocks */\n",
    "   PyTryBlock f_blockstack[CO_MAXBLOCKS];\n",
    " \n",
    "   /* dynamically: locals, free vars, cells and valuestack */\n",
    "   PyObject *f_localsplus[1]; /* dynamic portion */\n",
    "} PyFrameObject;\n",
    "```"
   ]
  },
  {
   "cell_type": "markdown",
   "metadata": {},
   "source": [
    "- `f_code` points to precisely one code object per frame. So when we have a call stack of frames, this corresponds to call stack of code objects.\n",
    "- when python code is evaluated, it is done so in 3 namespaces corresponding to three symbol tables: `f_builtins`, `f_globals`, and `f_locals`. A name will first be resolved in the local scope, then in the global scope, and then in the builtin scope. For nested scopes like in closures, we'll first search the local scopes of the outer functions and only then go to the global and the builtin scope. This rule can be thought of as **LEGB**.\n",
    "- a frame is a variable sized object as seen in `f_localsplus` "
   ]
  },
  {
   "cell_type": "markdown",
   "metadata": {},
   "source": [
    "Remember how we had `co_nlocals, co_cellvars, co_freevars and co_stacksize` when we created code objects? At that point, nothing was run, so these parts of the code object were dead. Now, when we run the function, these parts come alive in the `f_localsplus` space: this is the local-variables + cells + free variables + value(data) stack. We can inspect the stacks, but not everytning in the C implementation is introspecte into python\n",
    "\n",
    "\n",
    "#### closures at runtime\n",
    "\n",
    "Lets now see how closures work at runtime."
   ]
  },
  {
   "cell_type": "code",
   "execution_count": 77,
   "metadata": {
    "collapsed": false
   },
   "outputs": [],
   "source": [
    "import inspect\n",
    "\n",
    "def g():\n",
    "    a = 1\n",
    "    b = 2\n",
    "    outerf = inspect.currentframe()\n",
    "    print(outerf,outerf.f_locals, \"p\",outerf.f_back, \"pp\", outerf.f_back.f_back)\n",
    "    def m():\n",
    "        z=3\n",
    "        print(a)\n",
    "        print(\"in m\")\n",
    "        innerf = inspect.currentframe()\n",
    "        print(innerf,innerf.f_locals)\n",
    "        print('--------------')\n",
    "        print(\"p\", innerf.f_back, innerf.f_back.f_locals)\n",
    "    m()\n",
    "    def h():\n",
    "        b=a#b is a local in this context\n",
    "        c=5\n",
    "        innerf = inspect.currentframe()\n",
    "        print(\"in h\")\n",
    "        print(innerf,innerf.f_locals)\n",
    "        print('--------------')\n",
    "        print(\"p\",innerf.f_back)\n",
    "    return h"
   ]
  },
  {
   "cell_type": "code",
   "execution_count": 78,
   "metadata": {
    "collapsed": false
   },
   "outputs": [
    {
     "name": "stdout",
     "output_type": "stream",
     "text": [
      "<frame object at 0x100986618> {'a': 1, 'outerf': <frame object at 0x100986618>, 'b': 2} p <frame object at 0x1006ad118> pp <frame object at 0x1011b1818>\n",
      "1\n",
      "in m\n",
      "<frame object at 0x1006ae628> {'z': 3, 'a': 1, 'innerf': <frame object at 0x1006ae628>}\n",
      "--------------\n",
      "p <frame object at 0x100986618> {'a': 1, 'outerf': <frame object at 0x100986618>, 'm': <function g.<locals>.m at 0x104d67488>, 'b': 2}\n"
     ]
    }
   ],
   "source": [
    "gh=g()#notice the parents. i got tripped by this."
   ]
  },
  {
   "cell_type": "code",
   "execution_count": 79,
   "metadata": {
    "collapsed": false
   },
   "outputs": [
    {
     "data": {
      "text/plain": [
       "(None, (<cell at 0x103b6ac78: int object at 0x10026dfa0>,))"
      ]
     },
     "execution_count": 79,
     "metadata": {},
     "output_type": "execute_result"
    }
   ],
   "source": [
    "g.__closure__, gh.__closure__"
   ]
  },
  {
   "cell_type": "code",
   "execution_count": 80,
   "metadata": {
    "collapsed": false
   },
   "outputs": [
    {
     "name": "stdout",
     "output_type": "stream",
     "text": [
      "in h\n",
      "<frame object at 0x103512bb8> {'a': 1, 'innerf': <frame object at 0x103512bb8>, 'b': 1, 'c': 5}\n",
      "--------------\n",
      "p <frame object at 0x104d63240>\n"
     ]
    }
   ],
   "source": [
    "gh()#on running, the cells in closure are copied into localvars"
   ]
  },
  {
   "cell_type": "markdown",
   "metadata": {},
   "source": [
    "From http://stupidpythonideas.blogspot.com/2015/12/how-lookup-works.html\n",
    "\n",
    ">When you construct a nested function at runtime, there's zero or more LOAD_CLOSURE bytecodes to push the current frame's cells onto the stack, then a MAKE_CLOSURE instead of MAKE_FUNCTION, which does the extra step of popping those cells off and stashing them in the function's `__closure__` attribute. And when you call a function, its `__closure__` cells get copied into the `f_localsplus` array.\n",
    "\n",
    "Why so? `f_localsplus` is an array and access is really fast. This is also where `LOAD_FAST` and `STORE_FAST` work from! See the above link for a lots of details."
   ]
  },
  {
   "cell_type": "markdown",
   "metadata": {},
   "source": [
    "### The block stack\n",
    "\n",
    "compound statements require some internal state to be evaluated. In a loop, there might be a break or continue, and we need to know then where to go. When we handle exceptions, we need to know what the innermost exception handler is. All of this is done by using the block stack."
   ]
  },
  {
   "cell_type": "code",
   "execution_count": 38,
   "metadata": {
    "collapsed": false
   },
   "outputs": [
    {
     "name": "stdout",
     "output_type": "stream",
     "text": [
      "  2           0 SETUP_LOOP              33 (to 36)\n",
      "              3 LOAD_CONST               1 (1)\n",
      "              6 LOAD_CONST               2 (2)\n",
      "              9 LOAD_CONST               3 (3)\n",
      "             12 BUILD_LIST               3\n",
      "             15 GET_ITER\n",
      "        >>   16 FOR_ITER                16 (to 35)\n",
      "             19 STORE_FAST               0 (i)\n",
      "\n",
      "  3          22 LOAD_GLOBAL              0 (print)\n",
      "             25 LOAD_FAST                0 (i)\n",
      "             28 CALL_FUNCTION            1 (1 positional, 0 keyword pair)\n",
      "             31 POP_TOP\n",
      "             32 JUMP_ABSOLUTE           16\n",
      "        >>   35 POP_BLOCK\n",
      "        >>   36 LOAD_CONST               0 (None)\n",
      "             39 RETURN_VALUE\n"
     ]
    }
   ],
   "source": [
    "def l():\n",
    "    for i in [1,2,3]:\n",
    "        print(i)\n",
    "diss(l)"
   ]
  },
  {
   "cell_type": "markdown",
   "metadata": {},
   "source": [
    "`f_blockstack` in the frame is a fixed size stack. `f_iblock` is an offset  into the stack (we store `PyTryBlock`s in the stack). `SETUP_LOOP` above now pushes a new try-block onto the stack (more precisely it just updates the index in memory). Then the instructions go in there, finally to be popped after the list is done."
   ]
  },
  {
   "cell_type": "markdown",
   "metadata": {},
   "source": [
    "A `break` pops the block stack and find where in the bytecode we should go to resume by looking at the popped `PyTryBlock`. (Here the inner block with the `BREAK_LOOP` opcode.)"
   ]
  },
  {
   "cell_type": "code",
   "execution_count": 39,
   "metadata": {
    "collapsed": false
   },
   "outputs": [
    {
     "name": "stdout",
     "output_type": "stream",
     "text": [
      "  2           0 SETUP_LOOP              76 (to 79)\n",
      "              3 LOAD_CONST               1 (1)\n",
      "              6 LOAD_CONST               2 (2)\n",
      "              9 LOAD_CONST               3 (3)\n",
      "             12 BUILD_LIST               3\n",
      "             15 GET_ITER\n",
      "        >>   16 FOR_ITER                59 (to 78)\n",
      "             19 STORE_FAST               0 (i)\n",
      "\n",
      "  3          22 SETUP_LOOP              40 (to 65)\n",
      "             25 LOAD_GLOBAL              0 (range)\n",
      "             28 LOAD_FAST                0 (i)\n",
      "             31 LOAD_FAST                0 (i)\n",
      "             34 LOAD_CONST               2 (2)\n",
      "             37 BINARY_ADD\n",
      "             38 CALL_FUNCTION            2 (2 positional, 0 keyword pair)\n",
      "             41 GET_ITER\n",
      "        >>   42 FOR_ITER                19 (to 64)\n",
      "             45 STORE_FAST               1 (j)\n",
      "\n",
      "  4          48 LOAD_FAST                1 (j)\n",
      "             51 LOAD_CONST               4 (4)\n",
      "             54 COMPARE_OP               2 (==)\n",
      "             57 POP_JUMP_IF_FALSE       42\n",
      "\n",
      "  5          60 BREAK_LOOP\n",
      "             61 JUMP_ABSOLUTE           42\n",
      "        >>   64 POP_BLOCK\n",
      "\n",
      "  6     >>   65 LOAD_GLOBAL              1 (print)\n",
      "             68 LOAD_FAST                0 (i)\n",
      "             71 CALL_FUNCTION            1 (1 positional, 0 keyword pair)\n",
      "             74 POP_TOP\n",
      "             75 JUMP_ABSOLUTE           16\n",
      "        >>   78 POP_BLOCK\n",
      "        >>   79 LOAD_CONST               0 (None)\n",
      "             82 RETURN_VALUE\n"
     ]
    }
   ],
   "source": [
    "def l():\n",
    "    for i in [1,2,3]:\n",
    "        for j in range(i, i+2):\n",
    "            if j==4:\n",
    "                break\n",
    "        print(i)\n",
    "diss(l)"
   ]
  },
  {
   "cell_type": "markdown",
   "metadata": {},
   "source": [
    "You can imagine that exception handling is similar"
   ]
  },
  {
   "cell_type": "code",
   "execution_count": 40,
   "metadata": {
    "collapsed": false
   },
   "outputs": [
    {
     "name": "stdout",
     "output_type": "stream",
     "text": [
      "  2           0 SETUP_EXCEPT            14 (to 17)\n",
      "\n",
      "  3           3 LOAD_FAST                0 (a)\n",
      "              6 LOAD_FAST                1 (b)\n",
      "              9 BINARY_TRUE_DIVIDE\n",
      "             10 STORE_FAST               2 (c)\n",
      "             13 POP_BLOCK\n",
      "             14 JUMP_FORWARD            22 (to 39)\n",
      "\n",
      "  4     >>   17 DUP_TOP\n",
      "             18 LOAD_GLOBAL              0 (ZeroDivisionError)\n",
      "             21 COMPARE_OP              10 (exception match)\n",
      "             24 POP_JUMP_IF_FALSE       38\n",
      "             27 POP_TOP\n",
      "             28 POP_TOP\n",
      "             29 POP_TOP\n",
      "\n",
      "  5          30 LOAD_CONST               0 (None)\n",
      "             33 RETURN_VALUE\n",
      "             34 POP_EXCEPT\n",
      "             35 JUMP_FORWARD             1 (to 39)\n",
      "        >>   38 END_FINALLY\n",
      "\n",
      "  6     >>   39 LOAD_FAST                2 (c)\n",
      "             42 RETURN_VALUE\n"
     ]
    }
   ],
   "source": [
    "def divide(a,b):\n",
    "    try:\n",
    "        c = a /b\n",
    "    except ZeroDivisionError:\n",
    "        return None\n",
    "    return c\n",
    "diss(divide)"
   ]
  },
  {
   "cell_type": "markdown",
   "metadata": {},
   "source": [
    "Its beyond our scope to go into details, but please see the implementation in `byterun` if you are interested in understanding how this works.\n",
    "\n",
    "What about generators? This is a topic for next time."
   ]
  },
  {
   "cell_type": "code",
   "execution_count": 41,
   "metadata": {
    "collapsed": true
   },
   "outputs": [],
   "source": [
    "#debugging? bit more on exceptions? bit more on objects"
   ]
  },
  {
   "cell_type": "markdown",
   "metadata": {},
   "source": [
    "### Objects and operator overloading\n",
    "\n",
    "Everything in python is an object. Even stack frames and code objects. The following must be defined for something to be an object:\n",
    "\n",
    "```c\n",
    "typedef struct _object {\n",
    "    Py_ssize_t ob_refcnt;\n",
    "    struct _typeobject *ob_type;\n",
    "} PyObject;\n",
    "```\n",
    "\n",
    "Most objects have at-least this, with other fields thrown in depending upon what objects these are. And type and class are one and the same thing.\n",
    "\n",
    "Now when we invoke `BINARY_ADD`, and thus `PyNumber_Add`, what happens is this:\n",
    "\n",
    "A type object, either for a number, or something else we define by making a class, has a slot which holds the 'addition' operation for that type. Yes this is what gets dispatched too when we call `__add__`, and thse slots are defined in `C` for the built-in types so that things are fast. We could too, if we wanted fast objects: numpy does this. \n",
    "\n",
    "See https://github.com/python/cpython/blob/1364858e6ec7abfe04d92b7796ae8431eda87a7a/Objects/abstract.c#L892 for `PyNumber_Add` and follow the rabbithole down from it: the slot in question is `nb_add`. For user defined classes, see here: https://github.com/python/cpython/blob/16f526e7cb0b5d81de47f513ad112cda61574331/Objects/typeobject.c#L2269 and `fixup_slot_dispatchers` referenced therein.\n",
    "\n",
    "We wont say much about classes here: to do so would require going into descriptors, and the order of attribute lookup and such, which we havent done yet (and wont do in this class). If you are interested you should read the meta-programming chapter in Fluent Python and the class lookup section here: http://stupidpythonideas.blogspot.com/2015/12/how-lookup-works.html ."
   ]
  },
  {
   "cell_type": "markdown",
   "metadata": {},
   "source": [
    "### Putting it together\n",
    "\n",
    "Lets put it all together now to get a picture of how the python interpreter runs.\n",
    "\n",
    "#### The startup\n",
    "\n",
    "1. `-c` to execute a string, `-m` to execute a module as a script, or execute a file or run a REPL.\n",
    "2. standard c-library initialization happens for python executable. Then `Modules/python.c`: `main`, which soon calls `Modules/main.c`: `Py_Main` and then `Python/pythonrun.c`: `Py_Initialize` is called. It creates the *interpreter state* and *thread state*, sets up `sys` and the builtins\n",
    "3. code is transformed into a CST and from there to an AST and finally compiled into a code object using `Python/ast.c`: `PyAST_FromNode`. We are ready now to interpret the machine code with the \"virtual machine\" interpreter.\n",
    "4. Now `Python/pythonrun.c`: `PyEval_EvalCode` is run, with the code object and a namespace (currently both the `__main__`). Each Python thread; here the main one; has a thread state pointing to the call stack of currently executing frames. Now out `__main__` namespace is the one frame at the top of this stack and its byte-code is evaluated one by on by `PyEval_EvalFrameEx` in `ceval.c`\n",
    "\n",
    "#### The thread-state\n",
    "\n",
    "Running python code in a thread means evaluating frames or more precisely the opcodes in the code object associated a frame usuing bindings from the frame and using the call stack to find enclosed scopes before we look at globals and builtins. There is one call stack per frame, and this bookkeeping of frames is done by `Include/pystate.h`: `PyThreadState`.\n",
    "\n",
    "```c\n",
    "typedef struct _ts {\n",
    " struct _ts *next;\n",
    " PyInterpreterState *interp;\n",
    " struct _frame *frame;\n",
    " int recursion_depth;\n",
    " int tracing;\n",
    " int use_tracing;\n",
    " Py_tracefunc c_profilefunc;\n",
    " Py_tracefunc c_tracefunc;\n",
    " PyObject *c_profileobj;\n",
    " PyObject *c_traceobj;\n",
    " PyObject *curexc_type;\n",
    " PyObject *curexc_value;\n",
    " PyObject *curexc_traceback;\n",
    " PyObject *exc_type;\n",
    " PyObject *exc_value;\n",
    " PyObject *exc_traceback;\n",
    " PyObject *dict;\n",
    " int tick_counter;\n",
    " int gilstate_counter;\n",
    " PyObject *async_exc;\n",
    " long thread_id;\n",
    "} PyThreadState;\n",
    "```\n",
    "\n",
    "#### The interpreter state\n",
    "\n",
    "This is at `Include/pystate.h`: `PyInterpreterState` and is created on `PyInitialize` or `Py_NewInterpreter` (for multiple-interpreter processes), along with an corresponding `PyThreadState`.\n",
    "\n",
    "```c\n",
    "typedef struct _is {\n",
    "\n",
    "    struct _is *next;\n",
    "    struct _ts *tstate_head;\n",
    "\n",
    "    PyObject *modules;\n",
    "    PyObject *sysdict;\n",
    "    PyObject *builtins;\n",
    "    PyObject *modules_reloading;\n",
    "\n",
    "    PyObject *codec_search_path;\n",
    "    PyObject *codec_search_cache;\n",
    "    PyObject *codec_error_registry;\n",
    "\n",
    "#ifdef HAVE_DLOPEN\n",
    "    int dlopenflags;\n",
    "#endif\n",
    "#ifdef WITH_TSC\n",
    "    int tscdump;\n",
    "#endif\n",
    "\n",
    "} PyInterpreterState;\n",
    "```\n",
    "\n",
    "Thus we now have:\n",
    "- opcodes belonging to a code object \n",
    "- which belongs to a currently evaluating frame (in a stack of frames)\n",
    "- which belongs to a thread (in a bunch os threads)\n",
    "- which belongs to an interpreter (possibly in a bunch of interpreters)\n",
    "- in a process\n",
    "\n",
    "(from niltowrite)\n",
    "![](https://niltowrite.files.wordpress.com/2010/05/states4.png)"
   ]
  },
  {
   "cell_type": "markdown",
   "metadata": {},
   "source": [
    "#### the famous GIL\n",
    "\n",
    "Notice that the IS has only one TS, and a TS can belong to only one IS. The former observation is the observation of the GIL: only one thread can be executing python code at a time. This is a synchronization problem, and can be bypassed by running IO code or code in an extension module written in C (numpy for example). \n",
    "\n",
    "Why the GIL? The short answer is that it makes single-threaded code faster and allows for easy integration on non thread-safe C libs. See http://programmers.stackexchange.com/questions/186889/why-was-python-written-with-the-gil for more details. \n",
    "\n",
    "Thread safety: https://en.wikipedia.org/wiki/Thread_safety (re-entrancy: https://www.quora.com/When-is-a-function-reentrant-How-does-that-relate-to-it-being-thread-safe)\n",
    "\n",
    "We'll have more to say about concurrency and parallelism in the next few...\n",
    "\n",
    "#### The evaluation of opcodes\n",
    "\n",
    "Whenever a thread is running it holds the GIL, and gives it up when in a C extension module or doing IO. So there is a kind of co-operative multitasking going on. If we are completely CPU bound, then a check is made every 100 ticks, where a tick is roughly correspondent to an opcode execution.\n"
   ]
  }
 ],
 "metadata": {
  "kernelspec": {
   "display_name": "Python 3",
   "language": "python",
   "name": "python3"
  },
  "language_info": {
   "codemirror_mode": {
    "name": "ipython",
    "version": 3
   },
   "file_extension": ".py",
   "mimetype": "text/x-python",
   "name": "python",
   "nbconvert_exporter": "python",
   "pygments_lexer": "ipython3",
   "version": "3.5.1"
  }
 },
 "nbformat": 4,
 "nbformat_minor": 0
}
