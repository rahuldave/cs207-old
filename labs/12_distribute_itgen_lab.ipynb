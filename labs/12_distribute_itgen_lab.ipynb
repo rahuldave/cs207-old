{
  "metadata": {
    "kernelspec": {
      "display_name": "Python 3", 
      "name": "python3", 
      "language": "python"
    }, 
    "language_info": {
      "mimetype": "text/x-python", 
      "nbconvert_exporter": "python", 
      "name": "python", 
      "file_extension": ".py", 
      "version": "3.5.1", 
      "pygments_lexer": "ipython3", 
      "codemirror_mode": {
        "version": 3, 
        "name": "ipython"
      }
    }
  }, 
  "nbformat": 4, 
  "nbformat_minor": 0, 
  "cells": [
    {
      "source": [
        "## Q1.\n", 
        "\n", 
        "Add methods `__iter__` to your project Time Series class to iterate over values, a method `itertimes` to iterate over times, a method `itervalues` to iterate over values, and a method `iteritems` to iterate over time-value pairs. (This is a similar interface to python dictionaries). To test these, check both the types of the results and the answers you expect."
      ], 
      "cell_type": "markdown", 
      "metadata": {
        "collapsed": true
      }
    }, 
    {
      "execution_count": 1, 
      "cell_type": "code", 
      "source": [
        "#your code here\n"
      ], 
      "outputs": [], 
      "metadata": {
        "collapsed": true
      }
    }, 
    {
      "source": [
        "## Q2.\n", 
        "\n", 
        "An online mean and standard deviation algorithm.\n", 
        "\n", 
        "Below is a function to generate a potentially infinite stream of 1-D data."
      ], 
      "cell_type": "markdown", 
      "metadata": {}
    }, 
    {
      "execution_count": 50, 
      "cell_type": "code", 
      "source": [
        "from random import normalvariate, random\n", 
        "from itertools import count\n", 
        "def make_data(m, stop=None):\n", 
        "    for _ in count():\n", 
        "        if stop and _ > stop:\n", 
        "            break\n", 
        "        yield 1.0e09 + normalvariate(0, m*random() )\n", 
        "        "
      ], 
      "outputs": [], 
      "metadata": {
        "collapsed": false
      }
    }, 
    {
      "source": [
        "Here is an implementation of an online mean algorithm..see http://www.johndcook.com/blog/standard_deviation/ and the link to http://www.johndcook.com/blog/2008/09/26/comparing-three-methods-of-computing-standard-deviation/ in-between. (Convince yourselves of the formulas...)"
      ], 
      "cell_type": "markdown", 
      "metadata": {}
    }, 
    {
      "execution_count": 157, 
      "cell_type": "code", 
      "source": [
        "def online_mean(iterator):\n", 
        "    n = 0\n", 
        "    mu = 0\n", 
        "    for value in iterator:\n", 
        "        n += 1\n", 
        "        delta = value - mu\n", 
        "        mu = mu + delta/n\n", 
        "        yield mu"
      ], 
      "outputs": [], 
      "metadata": {
        "collapsed": true
      }
    }, 
    {
      "source": [
        "We use out generator functions to implement iterators:"
      ], 
      "cell_type": "markdown", 
      "metadata": {}
    }, 
    {
      "execution_count": 161, 
      "cell_type": "code", 
      "source": [
        "g = make_data(5, 10)\n", 
        "list(g)"
      ], 
      "outputs": [], 
      "metadata": {
        "collapsed": false
      }
    }, 
    {
      "execution_count": 159, 
      "cell_type": "code", 
      "source": [
        "g = online_mean(make_data(5, 100))\n", 
        "print(type(g))\n", 
        "list(g)"
      ], 
      "outputs": [], 
      "metadata": {
        "collapsed": false
      }
    }, 
    {
      "source": [
        "### 2.1\n", 
        "\n", 
        "Implement the standard deviation algorithm as a generator function as\n", 
        "\n", 
        "```python\n", 
        "def online_mean_dev(iterator):\n", 
        "    BLA BLA\n", 
        "    if n > 1:\n", 
        "        stddev = math.sqrt(dev_accum/(n-1))\n", 
        "        yield (n, value, mu, stddev)\n", 
        "```"
      ], 
      "cell_type": "markdown", 
      "metadata": {}
    }, 
    {
      "execution_count": 54, 
      "cell_type": "code", 
      "source": [
        "# your code here\n"
      ], 
      "outputs": [], 
      "metadata": {
        "collapsed": false
      }
    }, 
    {
      "source": [
        "Here we make 100000 element data, and run this iterator on it (imagine running this on a time-series being slowly read from disk"
      ], 
      "cell_type": "markdown", 
      "metadata": {}
    }, 
    {
      "execution_count": 162, 
      "cell_type": "code", 
      "source": [
        "data_with_stats = online_mean_dev(make_data(5, 100000))"
      ], 
      "outputs": [], 
      "metadata": {
        "collapsed": true
      }
    }, 
    {
      "source": [
        "## Q3.\n", 
        "\n", 
        "Let's do Anomaly detection. Write a routine `is_ok`:\n", 
        "\n", 
        "```python\n", 
        "def is_ok(level, t)\n", 
        "```\n", 
        "\n", 
        "which takes a tuple like the one yielded by your code above and returns True if the value is inbetween `level`-$\\sigma$ of the mean."
      ], 
      "cell_type": "markdown", 
      "metadata": {}
    }, 
    {
      "execution_count": 91, 
      "cell_type": "code", 
      "source": [
        "#your code here\n"
      ], 
      "outputs": [], 
      "metadata": {
        "collapsed": true
      }
    }, 
    {
      "source": [
        "We use this function to create a predicate passed through to `itertools.filterfalse` which is then used to obtain an iterator on the anomalies."
      ], 
      "cell_type": "markdown", 
      "metadata": {}
    }, 
    {
      "execution_count": 163, 
      "cell_type": "code", 
      "source": [
        "from itertools import filterfalse\n", 
        "pred = lambda t: is_ok(5, t)\n", 
        "anomalies = filterfalse(pred, data_with_stats)"
      ], 
      "outputs": [], 
      "metadata": {
        "collapsed": true
      }
    }, 
    {
      "source": [
        "We materialize the anomalies..."
      ], 
      "cell_type": "markdown", 
      "metadata": {}
    }, 
    {
      "execution_count": 164, 
      "cell_type": "code", 
      "source": [
        "list(anomalies)#materialize"
      ], 
      "outputs": [], 
      "metadata": {
        "collapsed": false
      }
    }, 
    {
      "source": [
        "## To think of, but not hand in\n", 
        "\n", 
        "What kinds of anomalies will this algorithm pick up? What kinds would a shorter \"window\" of anomaly detection, like 100 points around the time in question pick? How might you create an algorithm which does window based averaging? (hint: the window size is small compared to the time series size). \n", 
        "\n", 
        "Finally think a bit of how you might implement all of this in a production environment..remember that data streaming in might get backed up when you handle an anomaly.\n", 
        "\n", 
        "(Some inspiration might accrue if you look at the docs for `collections.deque`)."
      ], 
      "cell_type": "markdown", 
      "metadata": {}
    }, 
    {
      "execution_count": null, 
      "cell_type": "code", 
      "source": [], 
      "outputs": [], 
      "metadata": {
        "collapsed": true
      }
    }
  ]
}