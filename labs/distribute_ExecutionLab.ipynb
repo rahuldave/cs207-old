{
  "metadata": {
    "kernelspec": {
      "display_name": "Python 3", 
      "name": "python3", 
      "language": "python"
    }, 
    "language_info": {
      "mimetype": "text/x-python", 
      "nbconvert_exporter": "python", 
      "name": "python", 
      "file_extension": ".py", 
      "version": "3.5.1", 
      "pygments_lexer": "ipython3", 
      "codemirror_mode": {
        "version": 3, 
        "name": "ipython"
      }
    }
  }, 
  "nbformat": 4, 
  "nbformat_minor": 0, 
  "cells": [
    {
      "execution_count": 1, 
      "cell_type": "code", 
      "source": [
        "from IPython.display import HTML"
      ], 
      "outputs": [], 
      "metadata": {
        "collapsed": true
      }
    }, 
    {
      "source": [
        "### Q1. \n", 
        "\n", 
        "What is happening here? Hazard a guess as to why these id's are the same."
      ], 
      "cell_type": "markdown", 
      "metadata": {}
    }, 
    {
      "execution_count": 2, 
      "cell_type": "code", 
      "source": [
        "e=[1,2,3,4]\n", 
        "d=1\n", 
        "id(e[0]), id(d)"
      ], 
      "outputs": [], 
      "metadata": {
        "collapsed": false
      }
    }, 
    {
      "source": [
        "*your answer here*\n"
      ], 
      "cell_type": "markdown", 
      "metadata": {}
    }, 
    {
      "execution_count": 3, 
      "cell_type": "code", 
      "source": [
        "HTML('<iframe width=\"800\" height=\"500\" frameborder=\"0\" src=\"http://pythontutor.com/iframe-embed.html#code=e%3D%5B1,2,3,4%5D%0Aprint(%22e%22,e%29&origin=opt-frontend.js&cumulative=false&heapPrimitives=true&textReferences=false&py=3&rawInputLstJSON=%5B%5D&curInstr=0&codeDivWidth=350&codeDivHeight=400\"> </iframe>')"
      ], 
      "outputs": [], 
      "metadata": {
        "collapsed": false
      }
    }, 
    {
      "source": [
        "### Q2.\n", 
        "\n", 
        "Here we work through an example taken from SICP, in which we try and write a bank account withdrawal system"
      ], 
      "cell_type": "markdown", 
      "metadata": {}
    }, 
    {
      "execution_count": 4, 
      "cell_type": "code", 
      "source": [
        "def make_withdraw1(balance):\n", 
        "    \"\"\"Return a withdraw function that draws down balance with each call.\"\"\"\n", 
        "    def withdraw(amount):#you are ok if you use balance as a read-only property\n", 
        "        if amount > balance:\n", 
        "            return 'Insufficient funds'\n", 
        "        return balance - amount\n", 
        "    return withdraw"
      ], 
      "outputs": [], 
      "metadata": {
        "collapsed": true
      }
    }, 
    {
      "source": [
        "Lets make a 5 buck withdrawal"
      ], 
      "cell_type": "markdown", 
      "metadata": {}
    }, 
    {
      "execution_count": 5, 
      "cell_type": "code", 
      "source": [
        "wdfrom20=make_withdraw1(20)\n", 
        "wdfrom20(5)"
      ], 
      "outputs": [], 
      "metadata": {
        "collapsed": false
      }
    }, 
    {
      "source": [
        "Lets do it again"
      ], 
      "cell_type": "markdown", 
      "metadata": {}
    }, 
    {
      "execution_count": 6, 
      "cell_type": "code", 
      "source": [
        "wdfrom20(5)"
      ], 
      "outputs": [], 
      "metadata": {
        "collapsed": false
      }
    }, 
    {
      "source": [
        "This is not quite what we want. We'd want it to go down to 10 on a repeated withdrawal. Remember, writing it like this, we have no access to `balance` directly. In other words, we want `balance` that was captured from the enclosing frame to be *changeable*, not unchangeable. "
      ], 
      "cell_type": "markdown", 
      "metadata": {}
    }, 
    {
      "source": [
        "Lets try something simple. Even though `balance` was captured from the enclosing frame, lets try reassigning it in `withdraw`. So, write a new `make_withdraw2` in which `withdraw` has this re-assignment. What happens when you do this?"
      ], 
      "cell_type": "markdown", 
      "metadata": {}
    }, 
    {
      "execution_count": 7, 
      "cell_type": "code", 
      "source": [
        "#your code here\n"
      ], 
      "outputs": [], 
      "metadata": {
        "collapsed": true
      }
    }, 
    {
      "execution_count": 8, 
      "cell_type": "code", 
      "source": [
        "wdfrom20_2=make_withdraw2(20)\n", 
        "wdfrom20_2(5)"
      ], 
      "outputs": [], 
      "metadata": {
        "collapsed": false
      }
    }, 
    {
      "source": [
        "If you did it right, you should have got an error. As the Python Execution Model says:\n", 
        "\n", 
        "> If a name binding operation occurs anywhere within a code block, all uses of the name within the block are treated as references to the current block. This can lead to errors when a name is used within a block before it is bound. This rule is subtle. Python lacks declarations and allows name binding operations to occur anywhere within a code block. The local variables of a code block can be determined by scanning the entire text of the block for name binding operations.\n", 
        "\n", 
        "What has happened is that `balance` is now being treated as a local variable in `withdraw`, since the assignment has created a \"name\" for it. And then it does not have a value."
      ], 
      "cell_type": "markdown", 
      "metadata": {}
    }, 
    {
      "source": [
        "### Q3.\n", 
        "\n", 
        "We need to somehow tell Python that `balance` is NOT a local variable. The way to do this is the `nonlocal` keyword. Write a function `make_withdraw` using  \n", 
        "\n", 
        "`nonlocal balance` \n", 
        "\n", 
        "as the first line of the inner `withdraw` function. "
      ], 
      "cell_type": "markdown", 
      "metadata": {}
    }, 
    {
      "execution_count": 9, 
      "cell_type": "code", 
      "source": [
        "#your code here\n"
      ], 
      "outputs": [], 
      "metadata": {
        "collapsed": false
      }
    }, 
    {
      "execution_count": 11, 
      "cell_type": "code", 
      "source": [
        "from20_correct = make_withdraw(20)\n", 
        "from20_correct(5)"
      ], 
      "outputs": [], 
      "metadata": {
        "collapsed": false
      }
    }, 
    {
      "execution_count": 12, 
      "cell_type": "code", 
      "source": [
        "from20_correct(5)"
      ], 
      "outputs": [], 
      "metadata": {
        "collapsed": false
      }
    }, 
    {
      "source": [
        "### Q4.\n", 
        "\n", 
        "Go to http://pythontutor.com/index.html, choose Python 3.3 as the language, and visualize your code. Embed the code from above in there. Pay attention to the variable `balance` in `f1: make_withdraw`."
      ], 
      "cell_type": "markdown", 
      "metadata": {}
    }, 
    {
      "execution_count": 13, 
      "cell_type": "code", 
      "source": [
        "#your code here\n"
      ], 
      "outputs": [], 
      "metadata": {
        "collapsed": false
      }
    }, 
    {
      "source": [
        "Notice that using the \"constructor\" `make_withdraw` twice creates two different \"objects\"."
      ], 
      "cell_type": "markdown", 
      "metadata": {}
    }, 
    {
      "execution_count": 15, 
      "cell_type": "code", 
      "source": [
        "wd=make_withdraw(20)\n", 
        "print(wd(5))\n", 
        "wd2=make_withdraw(100)\n", 
        "print(wd2(5))"
      ], 
      "outputs": [], 
      "metadata": {
        "collapsed": false
      }
    }, 
    {
      "execution_count": 16, 
      "cell_type": "code", 
      "source": [
        "id(wd),id(wd2)"
      ], 
      "outputs": [], 
      "metadata": {
        "collapsed": false
      }
    }, 
    {
      "source": [
        "Futhermore, notice that even though we cant access `balance` directly, we can change its value using the \"created\". So we now have a way to create state, as well as a way to change it. This is a very simple object system."
      ], 
      "cell_type": "markdown", 
      "metadata": {}
    }, 
    {
      "source": [
        "### Q5.\n", 
        "\n", 
        "Use the decorator `timer` which we developed in the lecture to time how long it takes a function to run. Use this timer to plot a graph of the amount of time it takes to fill multiple arrays of size 100, 1000, 10000, 100000, 1000000, 10000000 with integers upto and not including that number."
      ], 
      "cell_type": "markdown", 
      "metadata": {}
    }, 
    {
      "execution_count": 33, 
      "cell_type": "code", 
      "source": [
        "#the decorator, slightly modified\n", 
        "import time\n", 
        "def time_returner(f):\n", 
        "    def inner(*args):\n", 
        "        t0 = time.time()\n", 
        "        f(*args)\n", 
        "        elapsed = time.time() - t0\n", 
        "        return elapsed\n", 
        "    return inner"
      ], 
      "outputs": [], 
      "metadata": {
        "collapsed": true
      }
    }, 
    {
      "execution_count": 34, 
      "cell_type": "code", 
      "source": [
        "#your code here\n"
      ], 
      "outputs": [], 
      "metadata": {
        "collapsed": true
      }
    }, 
    {
      "execution_count": 35, 
      "cell_type": "code", 
      "source": [
        "#your code here\n"
      ], 
      "outputs": [], 
      "metadata": {
        "collapsed": false
      }
    }, 
    {
      "source": [
        "### Q6.\n", 
        "\n", 
        "A decorator can have arguments.\n", 
        "\n", 
        "If you want to create a decorator with arguments, such as for example, a state that is global such as a counter, what you need to do is to capture the state variable as a closure inside the decorating function.\n", 
        "\n", 
        "Here is the skeleton for that:\n", 
        "\n", 
        "```python\n", 
        "def call_to_create_a_decorator(state_arguments):\n", 
        "    def this_is_the_decorator_function(user_function):\n", 
        "        def inner_function(*args):\n", 
        "            #wrapping stuff here\n", 
        "            output = user_function(*args)\n", 
        "            #pehaps more wrapping here\n", 
        "            return output # or something else\n", 
        "        return inner_function\n", 
        "    return this_is_the_decorator_function\n", 
        "```"
      ], 
      "cell_type": "markdown", 
      "metadata": {}
    }, 
    {
      "execution_count": 43, 
      "cell_type": "code", 
      "source": [
        "def call_counter(count_dictionary):\n", 
        "    def call_counter_decorator(func):\n", 
        "        def inner(*args, **kwargs):\n", 
        "            n = func.__name__\n", 
        "            #your code here\n"
      ], 
      "outputs": [], 
      "metadata": {
        "collapsed": true
      }
    }, 
    {
      "execution_count": 44, 
      "cell_type": "code", 
      "source": [
        "storage={}"
      ], 
      "outputs": [], 
      "metadata": {
        "collapsed": true
      }
    }, 
    {
      "execution_count": 45, 
      "cell_type": "code", 
      "source": [
        "@call_counter(storage)\n", 
        "def fib_recursive(n):\n", 
        "    if n == 1:\n", 
        "        return 0\n", 
        "    if n == 2:\n", 
        "        return 1\n", 
        "    return fib_recursive(n-2) + fib_recursive(n-1)"
      ], 
      "outputs": [], 
      "metadata": {
        "collapsed": true
      }
    }, 
    {
      "execution_count": 46, 
      "cell_type": "code", 
      "source": [
        "@call_counter(storage)\n", 
        "def fact(n):\n", 
        "    if n<=1:\n", 
        "        return 1\n", 
        "    else:\n", 
        "        return n*fact(n-1)"
      ], 
      "outputs": [], 
      "metadata": {
        "collapsed": true
      }
    }, 
    {
      "source": [
        "Run the following code:\n", 
        "\n", 
        "```python\n", 
        "for i in [7, 13, 29]:\n", 
        "    fib_recursive(i)\n", 
        "    fact(i)\n", 
        "    print(i, storage['fib_recursive'], storage['fact'])\n", 
        "```"
      ], 
      "cell_type": "markdown", 
      "metadata": {}
    }, 
    {
      "execution_count": 49, 
      "cell_type": "code", 
      "source": [
        "# your code here\n"
      ], 
      "outputs": [], 
      "metadata": {
        "collapsed": false
      }
    }, 
    {
      "source": [
        "Enter the last two numbers (as below) in the google form http://goo.gl/forms/Fyv2PLiJdw."
      ], 
      "cell_type": "markdown", 
      "metadata": {}
    }, 
    {
      "execution_count": 51, 
      "cell_type": "code", 
      "source": [
        "print(storage['fib_recursive'], storage['fact'])"
      ], 
      "outputs": [], 
      "metadata": {
        "collapsed": false
      }
    }
  ]
}