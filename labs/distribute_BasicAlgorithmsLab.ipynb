{
  "metadata": {
    "kernelspec": {
      "display_name": "Python 3", 
      "name": "python3", 
      "language": "python"
    }, 
    "language_info": {
      "mimetype": "text/x-python", 
      "nbconvert_exporter": "python", 
      "name": "python", 
      "file_extension": ".py", 
      "version": "3.5.1", 
      "pygments_lexer": "ipython3", 
      "codemirror_mode": {
        "version": 3, 
        "name": "ipython"
      }
    }
  }, 
  "nbformat": 4, 
  "nbformat_minor": 0, 
  "cells": [
    {
      "source": [
        "## Basic Algorithms Lab: Fibonacci and Insertion Sort\n", 
        "\n", 
        "\n", 
        "Another form of recursion is tree recursion. Consider computing a fibonacci sequence, in which each number is the sum of the previous two, with the first two taken to be 0 and 1."
      ], 
      "cell_type": "markdown", 
      "metadata": {}
    }, 
    {
      "source": [
        "### Recursive Fibonacci. \n", 
        "\n", 
        "\n", 
        "We write Fibonacci recursively with the first two numbers as base cases. (as in the last lab)\n", 
        "\n", 
        "![](https://mitpress.mit.edu/sicp/full-text/book/ch1-Z-G-13.gif)\n", 
        "\n", 
        "(from SICP)\n", 
        "\n", 
        "Signature: `def fib_recursive(n)`"
      ], 
      "cell_type": "markdown", 
      "metadata": {}
    }, 
    {
      "execution_count": 100, 
      "cell_type": "code", 
      "source": [
        "def fib_recursive(n):\n", 
        "    if n == 1:\n", 
        "        return 0\n", 
        "    if n == 2:\n", 
        "        return 1\n", 
        "    return fib_recursive(n-1) + fib_recursive(n-2)\n", 
        "\n", 
        "for i in [1, 2, 7, 13, 29, 33]:\n", 
        "    print(fib_recursive(i))"
      ], 
      "outputs": [], 
      "metadata": {
        "collapsed": false
      }
    }, 
    {
      "source": [
        "### Q1. \n", 
        "\n", 
        "What are the space and time complexities of this implementation? Is this implementation tail-recursive?"
      ], 
      "cell_type": "markdown", 
      "metadata": {}
    }, 
    {
      "source": [
        "*your answer here*\n"
      ], 
      "cell_type": "markdown", 
      "metadata": {}
    }, 
    {
      "source": [
        "### Dynamic Programming and Iteration\n", 
        "\n", 
        "From Skiena\n", 
        ">..**dynamic programming**, which typically removes one element from the problem, solves the smaller problem, and then uses the solution to this smaller problem to add back the element in the proper way. **Divide-and-conquer** instead splits the problem in (say) halves, solves each half, then stitches the pieces back together to form a full solution.\n", 
        "\n", 
        ">Dynamic programming is a technique for efficiently implementing a recursive algorithm by storing partial results. The trick is seeing whether the naive recursive algorithm computes the same subproblems over and over and over again. If so, storing the answer for each subproblems in a table to look up instead of recompute can lead to an efficient algorithm. Start with a recursive algorithm or definition. Only once we have a correct recursive algorithm do we worry about speeding it up by using a results matrix. Dynamic programming is generally the right method for optimization problems on combinatorial objects that have an inherent left to right order among components. nents. Left-to-right objects includes: character strings, rooted trees, polygons, and integer sequences."
      ], 
      "cell_type": "markdown", 
      "metadata": {}
    }, 
    {
      "source": [
        "### Q2.\n", 
        "\n", 
        "Here is an implementation of Fibonacci using dynamic programming: they key is to notice that the recurrence we used can be put into an iterative form and just stored in an everr increasing array. What is the space and time complexity here?"
      ], 
      "cell_type": "markdown", 
      "metadata": {}
    }, 
    {
      "execution_count": 92, 
      "cell_type": "code", 
      "source": [
        "def fib_iterative(n):\n", 
        "    fibs=[]\n", 
        "    fibs.append(0)\n", 
        "    fibs.append(1)\n", 
        "    for i in range(2, n):\n", 
        "         fibs.append(fibs[i-1]+fibs[i-2])\n", 
        "    return fibs[n-1]"
      ], 
      "outputs": [], 
      "metadata": {
        "collapsed": true
      }
    }, 
    {
      "execution_count": 98, 
      "cell_type": "code", 
      "source": [
        "for i in [1, 2, 7,13,29,33]:\n", 
        "    print(fib_iterative(i))"
      ], 
      "outputs": [], 
      "metadata": {
        "collapsed": false
      }
    }, 
    {
      "source": [
        "*your answer here*\n"
      ], 
      "cell_type": "markdown", 
      "metadata": {}
    }, 
    {
      "source": [
        "### Recursive Fibonacci with cacheing"
      ], 
      "cell_type": "markdown", 
      "metadata": {}
    }, 
    {
      "execution_count": 84, 
      "cell_type": "code", 
      "source": [
        "def cache(f):\n", 
        "    \"\"\"a single argument function whose values may be cached\"\"\"\n", 
        "    cache = {}\n", 
        "    def memoized_func(x):\n", 
        "        if x not in cache:\n", 
        "            cache[x] = f(x)\n", 
        "        return cache[x]\n", 
        "    memoized_func.__name__ = f.__name__\n", 
        "    return memoized_func\n", 
        "    "
      ], 
      "outputs": [], 
      "metadata": {
        "collapsed": true
      }
    }, 
    {
      "execution_count": 85, 
      "cell_type": "code", 
      "source": [
        "def call_counter(count_dictionary):\n", 
        "    def call_counter_decorator(func):\n", 
        "        def inner(*args, **kwargs):\n", 
        "            n = func.__name__\n", 
        "            #your code here\n"
      ], 
      "outputs": [], 
      "metadata": {
        "collapsed": true
      }
    }, 
    {
      "source": [
        "### Q3. \n", 
        "\n", 
        "Use `cache` and `call_counter` as a decorator on `fib_recursive` and print the fibonacci numbers for 7,13,29, 33 as per last time. What order should these decorators be called to make sure `call_counter` gets the actual number of calls to `fib_recursive`?"
      ], 
      "cell_type": "markdown", 
      "metadata": {}
    }, 
    {
      "execution_count": 86, 
      "cell_type": "code", 
      "source": [
        "#your code here\n"
      ], 
      "outputs": [], 
      "metadata": {
        "collapsed": false
      }
    }, 
    {
      "source": [
        "### Q4.\n", 
        "\n", 
        "What is the time and space complexity of the the memoized Fibonacci? HINT: assume evaluation happens left to right on sub-expressions, so that `fib_recursive(n-1)` side of the tree is evaluated first, and thus the tree is evaluated depth first, from left to right. What kind of pruning happens in the tree?"
      ], 
      "cell_type": "markdown", 
      "metadata": {}
    }, 
    {
      "source": [
        "*your answer here*\n"
      ], 
      "cell_type": "markdown", 
      "metadata": {}
    }, 
    {
      "source": [
        "### Q5.\n", 
        "\n", 
        "Do you really need to store the entire array in the dynamic programming implementation? Isnt it enough to have only saved the previous two Fibonacci numbers? Implement such an algorithm in `fib_iterative2(n)`. What is its space and time complexity?"
      ], 
      "cell_type": "markdown", 
      "metadata": {}
    }, 
    {
      "execution_count": 87, 
      "cell_type": "code", 
      "source": [
        "#your code here\n"
      ], 
      "outputs": [], 
      "metadata": {
        "collapsed": true
      }
    }, 
    {
      "execution_count": 97, 
      "cell_type": "code", 
      "source": [
        "#your code here\n"
      ], 
      "outputs": [], 
      "metadata": {
        "collapsed": false
      }
    }, 
    {
      "source": [
        "*your answer here*\n"
      ], 
      "cell_type": "markdown", 
      "metadata": {}
    }, 
    {
      "source": [
        "### Q6.\n", 
        "\n", 
        "Write an algorithm for insertion sort. \n", 
        "\n", 
        "![](https://upload.wikimedia.org/wikipedia/commons/0/0f/Insertion-sort-example-300px.gif)\n", 
        "\n", 
        "(from wikipedia)\n", 
        "\n", 
        "The algorithm is also illustrated here: http://cs.armstrong.edu/liang/animation/web/InsertionSort.html and may be described thus\n", 
        "\n", 
        "insertion sort is a method for sorting that starts with a single element (thus forming a trivially sorted list) and then incrementally inserts the remaining elements so that the list stays sorted.\n", 
        "\n", 
        "Talk about the best, worst and average complexity of insertion sort. Use the same list A from the lecture\n", 
        "`A=[5,2,1,3,8,6,9]`"
      ], 
      "cell_type": "markdown", 
      "metadata": {}
    }, 
    {
      "execution_count": 12, 
      "cell_type": "code", 
      "source": [
        "#your code here\n"
      ], 
      "outputs": [], 
      "metadata": {
        "collapsed": true
      }
    }, 
    {
      "execution_count": 13, 
      "cell_type": "code", 
      "source": [
        "#your code here\n"
      ], 
      "outputs": [], 
      "metadata": {
        "collapsed": false
      }
    }, 
    {
      "source": [
        "*your answer here*\n"
      ], 
      "cell_type": "markdown", 
      "metadata": {
        "collapsed": true
      }
    }
  ]
}