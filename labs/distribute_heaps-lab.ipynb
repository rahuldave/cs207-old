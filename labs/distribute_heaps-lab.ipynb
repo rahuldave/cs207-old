{
  "metadata": {
    "kernelspec": {
      "display_name": "Python 3", 
      "name": "python3", 
      "language": "python"
    }, 
    "language_info": {
      "mimetype": "text/x-python", 
      "nbconvert_exporter": "python", 
      "name": "python", 
      "file_extension": ".py", 
      "version": "3.5.1", 
      "pygments_lexer": "ipython3", 
      "codemirror_mode": {
        "version": 3, 
        "name": "ipython"
      }
    }
  }, 
  "nbformat": 4, 
  "nbformat_minor": 0, 
  "cells": [
    {
      "source": [
        "## Q1.  Max heap\n", 
        "\n", 
        "Implement a max heap instead of a min heap, by having the constructor explicitly pass the \"comparison\" operator in. Replace `min` and `del_min` by `dominant` and `del_dominant` methods. Change the classmethods to also take in the operator."
      ], 
      "cell_type": "markdown", 
      "metadata": {
        "collapsed": true
      }
    }, 
    {
      "execution_count": 20, 
      "cell_type": "code", 
      "source": [
        "#your code here\n"
      ], 
      "outputs": [], 
      "metadata": {
        "collapsed": true
      }
    }, 
    {
      "source": [
        "Lets use your code to find the minimum as well as the maximum of the old array. Run the code in the following cells and make sure you did it right..."
      ], 
      "cell_type": "markdown", 
      "metadata": {}
    }, 
    {
      "execution_count": 30, 
      "cell_type": "code", 
      "source": [
        "data = [1,8,5,9,23,2,45,6,7,99,-5]"
      ], 
      "outputs": [], 
      "metadata": {
        "collapsed": true
      }
    }, 
    {
      "execution_count": 31, 
      "cell_type": "code", 
      "source": [
        "from operator import gt, lt\n", 
        "bh = BinaryHeap.heapify(data, lt)\n", 
        "print(bh.storage)\n", 
        "bh.dominant()"
      ], 
      "outputs": [], 
      "metadata": {
        "collapsed": false
      }
    }, 
    {
      "execution_count": 32, 
      "cell_type": "code", 
      "source": [
        "bh = BinaryHeap.heapify(data, gt)\n", 
        "print(bh.storage)\n", 
        "bh.dominant()"
      ], 
      "outputs": [], 
      "metadata": {
        "collapsed": false
      }
    }, 
    {
      "source": [
        "## Q2. Heapsort\n", 
        "\n", 
        "Heapsort is an algorithm that takes the idea of the selection sort algorithm and replces the inner loop by the use of a max-heap."
      ], 
      "cell_type": "markdown", 
      "metadata": {}
    }, 
    {
      "execution_count": 33, 
      "cell_type": "code", 
      "source": [
        "def selection_sort(A):\n", 
        "    for i in range(len(A)):\n", 
        "        print(\"<<<\",A)\n", 
        "        min_index = i\n", 
        "        for j in range(i+1, len(A)):\n", 
        "            if A[j] < A[min_index]:\n", 
        "                min_index = j\n", 
        "        A[i], A[min_index] = A[min_index], A[i]\n", 
        "        print(\">>>\",A)"
      ], 
      "outputs": [], 
      "metadata": {
        "collapsed": true
      }
    }, 
    {
      "execution_count": 34, 
      "cell_type": "code", 
      "source": [
        "selection_sort(data)"
      ], 
      "outputs": [], 
      "metadata": {
        "collapsed": false
      }
    }, 
    {
      "source": [
        "The basic idea is this. First heapify the entire array. The max should then be the 1st element (save our placeholder None) of the heap's storage. Swap this max with the last element to store the maximum at the end. Now you've put in some new wierd value at the top of the heap and have lost the heap property. You have an additional element at the end.\n", 
        "\n", 
        "In-place in the array, without making any additional allocations, consider all but the last element to be the new \"heap\". What method in the heap class must we use to restore the heap property?\n", 
        "\n", 
        "Use this method to sort the array. Print the before and after for each iteration of the outer loop as above. What is the $O(n)$ for this method?"
      ], 
      "cell_type": "markdown", 
      "metadata": {}
    }, 
    {
      "execution_count": 35, 
      "cell_type": "code", 
      "source": [
        "#your code here\n"
      ], 
      "outputs": [], 
      "metadata": {
        "collapsed": false
      }
    }, 
    {
      "execution_count": 36, 
      "cell_type": "code", 
      "source": [
        "heap_sort(data)"
      ], 
      "outputs": [], 
      "metadata": {
        "collapsed": false
      }
    }, 
    {
      "source": [
        "*your answer here*\n"
      ], 
      "cell_type": "markdown", 
      "metadata": {}
    }, 
    {
      "source": [
        "## Q3. Median maintenance\n", 
        "\n", 
        "Median maintenance is a very cool algorithm to find an online median. \n", 
        "\n", 
        "We create two arrays to test our implementation, using `np.median` to compute our answer..."
      ], 
      "cell_type": "markdown", 
      "metadata": {}
    }, 
    {
      "execution_count": 42, 
      "cell_type": "code", 
      "source": [
        "import random\n", 
        "import numpy as np"
      ], 
      "outputs": [], 
      "metadata": {
        "collapsed": false
      }
    }, 
    {
      "execution_count": 51, 
      "cell_type": "code", 
      "source": [
        "l = [random.randint(1,1000) for _ in range(150)]\n", 
        "print(len(l), np.median(l))\n", 
        "l2 = l + [random.randint(1,1000)]\n", 
        "print(len(l2), np.median(l2))"
      ], 
      "outputs": [], 
      "metadata": {
        "collapsed": false
      }
    }, 
    {
      "source": [
        "You will implement `def online_median(iterator)` which is a generaor yielding successive values of your online median. \n", 
        "\n", 
        "The algorithm is as follows:\n", 
        "\n", 
        "We'll use 2 heaps, a max heap for the lower half of the data, and a min-heap for the upper half. We take the first 2values in our data and assign the smaller value to the max heap, while the larger value goes to the min-heap. Then, as we \"insert\" subsequent values in one of the two heaps, the following holds: if we keep the number of elements in both heaps equal (for the even case) or at-most differing by one, the median is respectively the average of the two dominants or the dominant in the heap with one xtra item.\n", 
        "\n", 
        "What then is our strategy for this balanced insertion? Quite simple really: if a new value is not as dominant as the dominant value, add it to that heap. If it is more dominant, add it to the other. If two items in a row get added to the same heap, the heaps will be out of balance by more than one. In this case, take the dominant element from the larger heap and simply add it to the smaller one."
      ], 
      "cell_type": "markdown", 
      "metadata": {}
    }, 
    {
      "execution_count": 56, 
      "cell_type": "code", 
      "source": [
        "#your code here\n"
      ], 
      "outputs": [], 
      "metadata": {
        "collapsed": false
      }
    }, 
    {
      "source": [
        "Do your answers match?"
      ], 
      "cell_type": "markdown", 
      "metadata": {}
    }, 
    {
      "execution_count": 63, 
      "cell_type": "code", 
      "source": [
        "%matplotlib inline\n", 
        "import matplotlib.pyplot as plt\n", 
        "medians = list(online_median(iter(l)))\n", 
        "print(medians[-1])\n", 
        "plt.plot(medians)"
      ], 
      "outputs": [], 
      "metadata": {
        "collapsed": false
      }
    }, 
    {
      "execution_count": 64, 
      "cell_type": "code", 
      "source": [
        "list(online_median(iter(l2)))[-1]"
      ], 
      "outputs": [], 
      "metadata": {
        "collapsed": false
      }
    }, 
    {
      "source": [
        "What is the $O(n)$ behavior of this median maintenance algorithm?"
      ], 
      "cell_type": "markdown", 
      "metadata": {}
    }, 
    {
      "source": [
        "*your answer here*\n"
      ], 
      "cell_type": "markdown", 
      "metadata": {}
    }, 
    {
      "source": [
        "Lastly, lets repeat the analysis we did last time on the randomly generated data."
      ], 
      "cell_type": "markdown", 
      "metadata": {}
    }, 
    {
      "execution_count": 66, 
      "cell_type": "code", 
      "source": [
        "from random import normalvariate, random\n", 
        "from itertools import count\n", 
        "def make_data(m, stop=None):\n", 
        "    for _ in count():\n", 
        "        if stop and _ > stop:\n", 
        "            break\n", 
        "        yield 1.0e09 + normalvariate(0, m*random() )"
      ], 
      "outputs": [], 
      "metadata": {
        "collapsed": true
      }
    }, 
    {
      "execution_count": 68, 
      "cell_type": "code", 
      "source": [
        "g = online_median(make_data(5, 100))\n", 
        "print(type(g))\n", 
        "out = list(g)\n", 
        "out[-10:]"
      ], 
      "outputs": [], 
      "metadata": {
        "collapsed": false
      }
    }, 
    {
      "execution_count": 69, 
      "cell_type": "code", 
      "source": [
        "plt.plot(out)"
      ], 
      "outputs": [], 
      "metadata": {
        "collapsed": false
      }
    }
  ]
}