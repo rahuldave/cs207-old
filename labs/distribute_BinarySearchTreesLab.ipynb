{
  "metadata": {
    "kernelspec": {
      "display_name": "Python 3", 
      "name": "python3", 
      "language": "python"
    }, 
    "language_info": {
      "mimetype": "text/x-python", 
      "nbconvert_exporter": "python", 
      "name": "python", 
      "file_extension": ".py", 
      "version": "3.5.1", 
      "pygments_lexer": "ipython3", 
      "codemirror_mode": {
        "version": 3, 
        "name": "ipython"
      }
    }
  }, 
  "nbformat": 4, 
  "nbformat_minor": 0, 
  "cells": [
    {
      "execution_count": 4, 
      "cell_type": "code", 
      "source": [
        "import uuid\n", 
        "class BinaryTree:\n", 
        "    def __init__(self, data, parent=None):\n", 
        "        self.data = data\n", 
        "        self.parent = parent\n", 
        "        self.uuid= uuid.uuid4()\n", 
        "        self.left = None\n", 
        "        self.right = None    \n", 
        "            \n", 
        "    def addLeftChild(self, data): \n", 
        "        n = self.__class__(data, self)\n", 
        "        self.left = n\n", 
        "        return n\n", 
        "        \n", 
        "    def addRightChild(self, data):\n", 
        "        n = self.__class__(data, self)\n", 
        "        self.right = n\n", 
        "        return n\n", 
        "        \n", 
        "    def hasLeftChild(self):\n", 
        "        return self.left is not None\n", 
        "\n", 
        "    def hasRightChild(self):\n", 
        "        return self.right is not None\n", 
        "\n", 
        "    def hasAnyChild(self):\n", 
        "        return self.hasRightChild() or self.hasLeftChild()\n", 
        "\n", 
        "    def hasBothChildren(self):\n", 
        "        return self.hasRightChild() and self.hasLeftChild()\n", 
        "    \n", 
        "    def hasNoChildren(self):\n", 
        "        return not self.hasRightChild() and not self.hasLeftChild()\n", 
        "    \n", 
        "    def isLeftChild(self):\n", 
        "        return self.parent and self.parent.left == self\n", 
        "\n", 
        "    def isRightChild(self):\n", 
        "        return self.parent and self.parent.right == self\n", 
        "\n", 
        "    def isRoot(self):\n", 
        "        return not self.parent\n", 
        "\n", 
        "    def isLeaf(self):\n", 
        "        return not (self.right or self.left)\n", 
        "    \n", 
        "            \n", 
        "    def preorder(self):\n", 
        "        if self.isLeftChild():\n", 
        "            yield (self.parent, self, \"left\")\n", 
        "        elif self.isRightChild():\n", 
        "            yield (self.parent, self, \"right\")\n", 
        "        if self.hasLeftChild():\n", 
        "            for v in self.left.preorder():\n", 
        "                yield v\n", 
        "        if self.hasRightChild():\n", 
        "            for v in self.right.preorder():\n", 
        "                yield v\n"
      ], 
      "outputs": [], 
      "metadata": {
        "collapsed": true
      }
    }, 
    {
      "execution_count": 5, 
      "cell_type": "code", 
      "source": [
        "class BinarySearchTree(BinaryTree):\n", 
        "        \n", 
        "    def __init__(self, data, parent=None):\n", 
        "        super().__init__(data, parent)\n", 
        "        self.count = 1\n", 
        "\n", 
        "    def _insert_hook(self):\n", 
        "        pass\n", 
        "            \n", 
        "    def insert(self, data):\n", 
        "        if data < self.data:\n", 
        "            if self.hasLeftChild():\n", 
        "                self.left.insert(data)\n", 
        "            else:\n", 
        "                self.addLeftChild(data)\n", 
        "                self._insert_hook()\n", 
        "        elif data > self.data:\n", 
        "            if self.hasRightChild():\n", 
        "                self.right.insert(data)\n", 
        "            else:\n", 
        "                self.addRightChild(data)\n", 
        "                self._insert_hook()\n", 
        "        else: #duplicate value\n", 
        "            self.count += 1\n", 
        "            self._insert_hook()\n", 
        "            \n", 
        "    def search(self, data):\n", 
        "        if self.data == data:\n", 
        "            return self\n", 
        "        elif data < self.data and self.left:\n", 
        "            return self.left.search(data)\n", 
        "        elif data > self.data and self.right:\n", 
        "            return self.right.search(data)\n", 
        "        else:\n", 
        "            return None\n", 
        "        \n", 
        "    def delete(self, data):        \n", 
        "        if self.isRoot() and self.hasNoChildren() and self.data==data:#deleting the whole tree\n", 
        "            self.root=None#todo call a destructor that signals GC it can reap\n", 
        "            #self._update_sizes(up=False) #really tree is gone\n", 
        "            self._remove_hook()\n", 
        "        elif self.hasAnyChild():\n", 
        "            noder = self.search(data)\n", 
        "            if noder:\n", 
        "                self._remove(noder)\n", 
        "            else:\n", 
        "                raise ValueError(\"No such data {} in tree\".format(data))\n", 
        "        else:\n", 
        "            raise ValueError(\"No such data {} in tree\".format(data))\n", 
        "\n", 
        "    def _remove_hook(self, up=False, by=1):\n", 
        "        pass\n", 
        "    \n", 
        "    def _remove(self, node):\n", 
        "        if node.isLeaf():\n", 
        "            if node.isLeftChild():\n", 
        "                node.parent.left = None\n", 
        "            else:\n", 
        "                node.parent.right = None\n", 
        "            #node._update_sizes(up=False, by=node.count)\n", 
        "            node._remove_hook(by=node.count)\n", 
        "            del node\n", 
        "        elif node.hasBothChildren():\n", 
        "            s = node.successor()\n", 
        "            #successor is guaranteed to have right child only\n", 
        "            s.spliceOut()\n", 
        "            #s._update_sizes(up=False, by=s.count)\n", 
        "            s._remove_hook(by=s.count)\n", 
        "            #handled more generally above\n", 
        "            #s.right.parent = s.parent\n", 
        "            #s.parent.left = s.right\n", 
        "            node.data = s.data\n", 
        "            #diff = s.count - node.count            \n", 
        "            #node._update_sizes(by=diff)\n", 
        "            node._remove_hook(up=True, by = s.count - node.count)\n", 
        "            node.count = s.count\n", 
        "            del s #the node became the successor\n", 
        "        else: # one child case\n", 
        "            if node.hasLeftChild():\n", 
        "                if node.isLeftChild():\n", 
        "                    node.left.parent = node.parent\n", 
        "                    node.parent.left = node.left\n", 
        "                elif node.isRightChild():\n", 
        "                    node.left.parent = node.parent\n", 
        "                    node.parent.right = node.left\n", 
        "                else: #root\n", 
        "                    self.root = node.left\n", 
        "                #node._update_sizes(up=False, by=node.count)\n", 
        "                node._remove_hook(by=node.count)\n", 
        "                del node\n", 
        "            else:\n", 
        "                if node.isLeftChild():\n", 
        "                    node.right.parent = node.parent\n", 
        "                    node.parent.left = node.right\n", 
        "                elif node.isRightChild():\n", 
        "                    node.right.parent = node.parent\n", 
        "                    node.parent.right = node.right\n", 
        "                else: #root\n", 
        "                    self.root = node.right\n", 
        "                #node._update_sizes(up=False, by=node.count)\n", 
        "                node._remove_hook(by=node.count)\n", 
        "                del node\n", 
        "                    \n", 
        "    def findMin(self):\n", 
        "        minnode = self\n", 
        "        while minnode.hasLeftChild():\n", 
        "            minnode = minnode.left\n", 
        "        return minnode\n", 
        "    \n", 
        "    def findMax(self):\n", 
        "        maxnode = self\n", 
        "        while maxnode.hasRightChild():\n", 
        "            maxnode = maxnode.right\n", 
        "        return maxnode\n", 
        "    \n", 
        "    def successor(self):\n", 
        "        s = None\n", 
        "        if self.hasRightChild():\n", 
        "            s = self.right.findMin()\n", 
        "        else:\n", 
        "            if self.parent:\n", 
        "                if self.isLeftChild():\n", 
        "                    s = self.parent\n", 
        "                else:\n", 
        "                    self.parent.right=None\n", 
        "                    s = self.parent.successor()\n", 
        "                    self.parent.right=self\n", 
        "        return s\n", 
        "    \n", 
        "    def predecessor(self):\n", 
        "        p=None\n", 
        "        if self.hasLeftChild():\n", 
        "            p = self.left.findMax()\n", 
        "        else:\n", 
        "            if self.parent:\n", 
        "                if self.isRightChild():\n", 
        "                    p = self.parent\n", 
        "                else:\n", 
        "                    self.parent.left = None\n", 
        "                    p = self.parent.predecessor()\n", 
        "                    self.parent.left = self\n", 
        "        return p\n", 
        "            \n", 
        "    def spliceOut(self):\n", 
        "        if self.isLeaf():\n", 
        "            if self.isLeftChild():\n", 
        "                self.parent.left = None\n", 
        "            else:\n", 
        "                self.parent.right = None\n", 
        "        elif self.hasAnyChild():\n", 
        "            if self.hasLeftChild():\n", 
        "                if self.isLeftChild():\n", 
        "                    self.parent.left = self.left\n", 
        "                else:\n", 
        "                    self.parent.right = self.left\n", 
        "                self.left.parent = self.parent\n", 
        "            else:\n", 
        "                if self.isLeftChild():\n", 
        "                    self.parent.left = self.right\n", 
        "                else:\n", 
        "                    self.parent.right = self.right\n", 
        "                self.right.parent = self.parent\n", 
        "       \n", 
        "\n", 
        "    #now implement various pythonic things\n", 
        "    \n", 
        "    def __iter__(self):\n", 
        "        if self is not None:\n", 
        "            if self.hasLeftChild():\n", 
        "                for node in self.left:\n", 
        "                    yield node\n", 
        "            for _ in range(self.count):\n", 
        "                yield self\n", 
        "            if self.hasRightChild():\n", 
        "                for node in self.right:\n", 
        "                    yield node\n", 
        "                    \n", 
        "    def __len__(self):#expensive O(n) version\n", 
        "        start=0\n", 
        "        for node in self:\n", 
        "            start += 1\n", 
        "        return start\n", 
        "    \n", 
        "    def __getitem__(self, i):\n", 
        "        return self.ithorder(i+1)\n", 
        "    \n", 
        "    def __contains__(self, data):\n", 
        "        return self.search(data) is not None"
      ], 
      "outputs": [], 
      "metadata": {
        "collapsed": true
      }
    }, 
    {
      "source": [
        "## Q1.\n", 
        "\n", 
        "Rank in an Augmented BST.\n", 
        "\n", 
        "Given a key, what is its rank?\n", 
        "\n", 
        "Write this in a method:\n", 
        "\n", 
        "`def rankof(self, data):` which returns a list of the ranks for this key. Hint: it might be easy to get the largest rank for a key first, and then using the count for that key, return the list. Its possible to this in one traversal."
      ], 
      "cell_type": "markdown", 
      "metadata": {}
    }, 
    {
      "execution_count": 6, 
      "cell_type": "code", 
      "source": [
        "class AugmentedBinarySearchTree(BinarySearchTree):\n", 
        "        \n", 
        "    def __init__(self, data, parent=None):\n", 
        "        super().__init__(data, parent)\n", 
        "        self.size = 1\n", 
        "        \n", 
        "    def _update_sizes(self, up=True, by=1):\n", 
        "        if up:\n", 
        "            inc = by\n", 
        "        else:\n", 
        "            inc = -by\n", 
        "        self.size += inc\n", 
        "        curr = self\n", 
        "        while curr.parent is not None:\n", 
        "            curr.parent.size += inc\n", 
        "            curr = curr.parent\n", 
        "       \n", 
        "    def _insert_hook(self):#insert up, by 1\n", 
        "        self._update_sizes()\n", 
        "            \n", 
        "    def _remove_hook(self, up=False, by=1):\n", 
        "        self._update_sizes(up, by)\n", 
        "        \n", 
        "    \n", 
        "    def ithorder(self, i): #starts from 1\n", 
        "        if self.hasLeftChild():\n", 
        "            a = self.left.size\n", 
        "        else:\n", 
        "            a = 0\n", 
        "        dupes = self.count - 1\n", 
        "        if  a+1 <= i  < a+1 + dupes:\n", 
        "            return self\n", 
        "        if i < a + 1 : #wont go here for size 0 on left\n", 
        "            return self.left.ithorder(i)\n", 
        "        elif  a+1 <= i  <= a+1 + dupes:\n", 
        "            return self\n", 
        "        else:#ok to have self.right here and not check right child\n", 
        "            return self.right.ithorder(i - a -1 -dupes)\n", 
        "       \n", 
        "    #now implement various pythonic things\n", 
        "    \n", 
        "    def __len__(self):\n", 
        "        return self.size\n", 
        "\n", 
        "    \n", 
        "    def __getitem__(self, i):\n", 
        "        return self.ithorder(i+1)\n", 
        "    \n", 
        "    #your code here\n"
      ], 
      "outputs": [], 
      "metadata": {
        "collapsed": true
      }
    }, 
    {
      "source": [
        "Check that you get the currect answer for both lists from the lecture"
      ], 
      "cell_type": "markdown", 
      "metadata": {}
    }, 
    {
      "execution_count": 12, 
      "cell_type": "code", 
      "source": [
        "ourlist=[17,5,35,2,11,29,38,9,16,7,8]\n", 
        "duplist=[17,5,35,2,11,29,38,9,16,7,8,7,35,5,16,9,5]\n", 
        "def btree_fromlist(inputlist, cls=BinarySearchTree):\n", 
        "    start=inputlist[0]\n", 
        "    rest=inputlist[1:]\n", 
        "    btree = cls(start)\n", 
        "    for item in rest:\n", 
        "        btree.insert(item)\n", 
        "    return btree"
      ], 
      "outputs": [], 
      "metadata": {
        "collapsed": true
      }
    }, 
    {
      "execution_count": 13, 
      "cell_type": "code", 
      "source": [
        "btree = btree_fromlist(ourlist, AugmentedBinarySearchTree)\n", 
        "print([e.data for e in btree], len(btree))"
      ], 
      "outputs": [], 
      "metadata": {
        "collapsed": false
      }
    }, 
    {
      "execution_count": 18, 
      "cell_type": "code", 
      "source": [
        "plotbtree(btree, 'oninsertsaug', augmented=True, redo=False)"
      ], 
      "outputs": [], 
      "metadata": {
        "collapsed": false
      }
    }, 
    {
      "execution_count": 19, 
      "cell_type": "code", 
      "source": [
        "btreedup = btree_fromlist(duplist, AugmentedBinarySearchTree)\n", 
        "print([e.data for e in btreedup], len(btreedup), len(duplist))"
      ], 
      "outputs": [], 
      "metadata": {
        "collapsed": false
      }
    }, 
    {
      "execution_count": 16, 
      "cell_type": "code", 
      "source": [
        "plotbtree(btreedup, 'oninsertsdupaug', augmented=True, redo=False)"
      ], 
      "outputs": [], 
      "metadata": {
        "collapsed": false
      }
    }, 
    {
      "execution_count": 10, 
      "cell_type": "code", 
      "source": [
        "for v in ourlist:\n", 
        "    print(v, btree.rankof(v))"
      ], 
      "outputs": [], 
      "metadata": {
        "collapsed": false
      }
    }, 
    {
      "execution_count": 11, 
      "cell_type": "code", 
      "source": [
        "for v in duplist:\n", 
        "    print(v, btreedup.rankof(v))"
      ], 
      "outputs": [], 
      "metadata": {
        "collapsed": false
      }
    }, 
    {
      "source": [
        "## Q2.\n", 
        "\n", 
        "Implement a Key-Value Search true, which allows no duplicates, but rather, updates the value associated with the key. This will change how `insert` works. Inherit from the augmented tree:\n", 
        "\n", 
        "`class KeyValueBinarySearchTree(AugmentedBinarySearchTree):`\n", 
        "\n", 
        "- The constructor should look like this: `def __init__(self, key_value_tuple, parent=None):`. Pick the key and value out separately in the constructor, and initialize the super with just the key, setting an instance variable `self.value` to the value.\n", 
        "- insert wont duplicate any more, and `addLeftChild` and `addRightChild` will need to take the tuple in as they call the constructor for us.\n", 
        "- implement a `__getitem__`, `__setitem__`, and `__delitem__` so that you can use code like:\n", 
        "\n", 
        "`btreekv['f']` for searching\n", 
        "\n", 
        "`btreekv['f']=10` for inserting"
      ], 
      "cell_type": "markdown", 
      "metadata": {}
    }, 
    {
      "execution_count": 20, 
      "cell_type": "code", 
      "source": [
        "#your code here\n"
      ], 
      "outputs": [], 
      "metadata": {
        "collapsed": true
      }
    }, 
    {
      "execution_count": 21, 
      "cell_type": "code", 
      "source": [
        "btreekv = KeyValueBinarySearchTree(('f', 3))"
      ], 
      "outputs": [], 
      "metadata": {
        "collapsed": true
      }
    }, 
    {
      "execution_count": 22, 
      "cell_type": "code", 
      "source": [
        "kvdata=zip(list('jeihrifhkdfks'), range(13))"
      ], 
      "outputs": [], 
      "metadata": {
        "collapsed": true
      }
    }, 
    {
      "execution_count": 23, 
      "cell_type": "code", 
      "source": [
        "for k,v in kvdata:\n", 
        "    btreekv[k]=v"
      ], 
      "outputs": [], 
      "metadata": {
        "collapsed": true
      }
    }, 
    {
      "execution_count": 24, 
      "cell_type": "code", 
      "source": [
        "[(e.data, e.value) for e in list(btreekv)]"
      ], 
      "outputs": [], 
      "metadata": {
        "collapsed": false
      }
    }, 
    {
      "execution_count": 25, 
      "cell_type": "code", 
      "source": [
        "btreekv['f']"
      ], 
      "outputs": [], 
      "metadata": {
        "collapsed": false
      }
    }, 
    {
      "execution_count": 26, 
      "cell_type": "code", 
      "source": [
        "plotbtree(btreekv, 'oninsertsdupaugkv', augmented=True, redo=False)"
      ], 
      "outputs": [], 
      "metadata": {
        "collapsed": false
      }
    }, 
    {
      "source": [
        "## Q3.\n", 
        "\n", 
        "Use your code to make a third implementation of the `SimpleSet` interface from Monday."
      ], 
      "cell_type": "markdown", 
      "metadata": {}
    }
  ]
}