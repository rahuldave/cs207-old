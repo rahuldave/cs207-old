{
  "metadata": {
    "kernelspec": {
      "display_name": "Python 3", 
      "name": "python3", 
      "language": "python"
    }, 
    "language_info": {
      "mimetype": "text/x-python", 
      "nbconvert_exporter": "python", 
      "name": "python", 
      "file_extension": ".py", 
      "version": "3.5.1", 
      "pygments_lexer": "ipython3", 
      "codemirror_mode": {
        "version": 3, 
        "name": "ipython"
      }
    }
  }, 
  "nbformat": 4, 
  "nbformat_minor": 0, 
  "cells": [
    {
      "source": [
        "# The Objects Lab"
      ], 
      "cell_type": "markdown", 
      "metadata": {}
    }, 
    {
      "source": [
        "###   `__repr__`  vs  `__str__`\n", 
        "\n", 
        "The way printing works is that Python wants classes to implement a `__repr__` and a `__str__` method. It will use inheritance to give the built-in `object`'s methods when these are not defined...but any class can define these. When an *instance* of such a class is interrogated with the `repr` or `str` function, then these underlying methods are called.\n", 
        "\n", 
        "Rules used (see http://stackoverflow.com/questions/1436703/difference-between-str-and-repr-in-python):\n", 
        "\n", 
        "- if you override `__repr__`, that's ALSO used for `__str__`, but not vice versa\n", 
        "- `__str__` on a built-on container uses the contained objects `__repr__`\n", 
        "\n", 
        "Some advice on thisI found useful:\n", 
        "\n", 
        "- From Alex Martelli: \n", 
        ">So, my advice: focus on making __str__ reasonably human-readable, and __repr__ as unambiguous as you possibly can.\n", 
        "\n", 
        "From SO:\n", 
        ">This means, in simple terms: almost every object you implement should have a functional __repr__ that\u2019s usable for understanding the object. Implementing __str__ is optional: do that if you need a \u201cpretty print\u201d functionality\n", 
        "\n", 
        "Usually people will have the repr print out a constructor form. Ned Batchelder:\n", 
        ">My rule of thumb:  __repr__ is for developers, __str__ is for customers.\n", 
        "\n"
      ], 
      "cell_type": "markdown", 
      "metadata": {}
    }, 
    {
      "source": [
        "### 1. `__str__`\n", 
        "\n", 
        "Implement `__str__` for `class Animal` below to simply print \"Animal Jane\" for an Animal with name Jane. Keep your code as general as possible."
      ], 
      "cell_type": "markdown", 
      "metadata": {}
    }, 
    {
      "execution_count": 94, 
      "cell_type": "code", 
      "source": [
        "class Animal():\n", 
        "    \n", 
        "    def __init__(self, name):\n", 
        "        self.name=name\n", 
        "\n", 
        "    def __repr__(self):\n", 
        "        class_name = type(self).__name__\n", 
        "        return \"%s(name=%r)\" % (class_name, self.name)\n", 
        "    \n", 
        "    #your code here\n"
      ], 
      "outputs": [], 
      "metadata": {
        "collapsed": true
      }
    }, 
    {
      "execution_count": 95, 
      "cell_type": "code", 
      "source": [
        "A=Animal(\"Tom\")\n", 
        "B=Animal(\"Jane\")"
      ], 
      "outputs": [], 
      "metadata": {
        "collapsed": true
      }
    }, 
    {
      "execution_count": 96, 
      "cell_type": "code", 
      "source": [
        "B#the ipython REPL uses __repr__ even if __str__ is defined"
      ], 
      "outputs": [], 
      "metadata": {
        "collapsed": false
      }
    }, 
    {
      "execution_count": 97, 
      "cell_type": "code", 
      "source": [
        "print(B)#printing uses __str__"
      ], 
      "outputs": [], 
      "metadata": {
        "collapsed": false
      }
    }, 
    {
      "execution_count": 98, 
      "cell_type": "code", 
      "source": [
        "print(str(B)) # uses __str__\n", 
        "print(repr(B)) # uses __repr__"
      ], 
      "outputs": [], 
      "metadata": {
        "collapsed": false
      }
    }, 
    {
      "source": [
        "Notice that printing things in a list uses the item's `__repr__`:"
      ], 
      "cell_type": "markdown", 
      "metadata": {}
    }, 
    {
      "execution_count": 99, 
      "cell_type": "code", 
      "source": [
        "print([A, B])"
      ], 
      "outputs": [], 
      "metadata": {
        "collapsed": false
      }
    }, 
    {
      "execution_count": 100, 
      "cell_type": "code", 
      "source": [
        "import reprlib #reprlib.repr provides small size representations of object strings"
      ], 
      "outputs": [], 
      "metadata": {
        "collapsed": true
      }
    }, 
    {
      "execution_count": 103, 
      "cell_type": "code", 
      "source": [
        "reprlib.repr([A]*50)"
      ], 
      "outputs": [], 
      "metadata": {
        "collapsed": false
      }
    }, 
    {
      "source": [
        "### Properties, Descriptors, and Setters\n", 
        "\n", 
        "Our earlier `ComplexClass` gave direct access to both the `real` and `imaginary` parts of the complex number. But lets say we wanted to build a strange complex number which did not allow you to change the imaginary part of a complex number. We then use properties to \"encapsulate\" the actual values of the complex number. There is a `@property` decorator that does this for us. Its actually instantiates a class for us which is something called a `descriptor`, but that too is a story for later. Currently we just treat it as a black box."
      ], 
      "cell_type": "markdown", 
      "metadata": {}
    }, 
    {
      "execution_count": 91, 
      "cell_type": "code", 
      "source": [
        "class ComplexClass():\n", 
        "    \n", 
        "    def __init__(self, a, b):\n", 
        "        self.__real = a\n", 
        "        self.__imaginary = b\n", 
        "    \n", 
        "    def __repr__(self):\n", 
        "        class_name = type(self).__name__\n", 
        "        return \"%s(real=%r, imaginary=%r)\" % (class_name, self.__real, self.__imaginary)\n", 
        "        \n", 
        "    @property\n", 
        "    def real(self):\n", 
        "        return self.__real\n", 
        "    \n", 
        "    @real.setter\n", 
        "    def real(self, value=None):\n", 
        "        if value:\n", 
        "            self.__real=value\n", 
        "            \n", 
        "    @property\n", 
        "    def imaginary(self):\n", 
        "        return self.__imaginary\n", 
        "    "
      ], 
      "outputs": [], 
      "metadata": {
        "collapsed": true
      }
    }, 
    {
      "execution_count": 109, 
      "cell_type": "code", 
      "source": [
        "c1 = ComplexClass(1,2)\n", 
        "c1.real, c1.imaginary"
      ], 
      "outputs": [], 
      "metadata": {
        "collapsed": false
      }
    }, 
    {
      "source": [
        "Notice that I can change the value of the real part and make it read-only"
      ], 
      "cell_type": "markdown", 
      "metadata": {}
    }, 
    {
      "execution_count": 110, 
      "cell_type": "code", 
      "source": [
        "c1.real = 5"
      ], 
      "outputs": [], 
      "metadata": {
        "collapsed": true
      }
    }, 
    {
      "source": [
        "But I cannot change the value of the imaginary part"
      ], 
      "cell_type": "markdown", 
      "metadata": {}
    }, 
    {
      "execution_count": 111, 
      "cell_type": "code", 
      "source": [
        "c1.imaginary = 3"
      ], 
      "outputs": [], 
      "metadata": {
        "collapsed": false
      }
    }, 
    {
      "source": [
        "### Q2. Add a class method\n", 
        "\n", 
        "Implement a class method `make_complex` that takes two arguments and constructs a complex number for us. Rewrite the class definition above with this method.\n", 
        "\n", 
        "Also add a `__str__` method to print out complex numbers in the usual form `1+2i`.\n", 
        "\n", 
        "Test (informally) that both your methods work."
      ], 
      "cell_type": "markdown", 
      "metadata": {}
    }, 
    {
      "execution_count": 104, 
      "cell_type": "code", 
      "source": [
        "#your code here\n"
      ], 
      "outputs": [], 
      "metadata": {
        "collapsed": true
      }
    }, 
    {
      "execution_count": 107, 
      "cell_type": "code", 
      "source": [
        "# your code here\n"
      ], 
      "outputs": [], 
      "metadata": {
        "collapsed": false
      }
    }, 
    {
      "execution_count": 113, 
      "cell_type": "code", 
      "source": [
        "# your code here\n"
      ], 
      "outputs": [], 
      "metadata": {
        "collapsed": false
      }
    }, 
    {
      "source": [
        "Notice that python marginally obfuscates variables with two leading underscores. But where are our properties?"
      ], 
      "cell_type": "markdown", 
      "metadata": {}
    }, 
    {
      "execution_count": 112, 
      "cell_type": "code", 
      "source": [
        "vars(c1)"
      ], 
      "outputs": [], 
      "metadata": {
        "collapsed": false
      }
    }, 
    {
      "source": [
        "This tells us a bit about lookup with properties. When you do instance.attribute for something marked as a property, it is first looked up in instance.__class__ and only then in the instance specific dictionary. "
      ], 
      "cell_type": "markdown", 
      "metadata": {}
    }, 
    {
      "execution_count": 115, 
      "cell_type": "code", 
      "source": [
        "vars(type(c1))"
      ], 
      "outputs": [], 
      "metadata": {
        "collapsed": false
      }
    }, 
    {
      "source": [
        "The usual way in Python is exactly the reverse, a variable called as `self.x` is first looked up in the instance dictionary, and only then in the class dictionary."
      ], 
      "cell_type": "markdown", 
      "metadata": {}
    }, 
    {
      "source": [
        "### A sequence for light curves"
      ], 
      "cell_type": "markdown", 
      "metadata": {}
    }, 
    {
      "execution_count": 20, 
      "cell_type": "code", 
      "source": [
        "!head -5 ./data/CEPH/lc_1.3441.15.B.mjd"
      ], 
      "outputs": [], 
      "metadata": {
        "collapsed": false
      }
    }, 
    {
      "execution_count": 9, 
      "cell_type": "code", 
      "source": [
        "def lc_reader(filename):\n", 
        "    lclist=[]\n", 
        "    with open(filename) as fp:\n", 
        "        for line in fp:\n", 
        "            if line.find('#')!=0:\n", 
        "                lclist.append([float(f) for f in line.strip().split()])\n", 
        "    return lclist\n", 
        "                "
      ], 
      "outputs": [], 
      "metadata": {
        "collapsed": true
      }
    }, 
    {
      "execution_count": 11, 
      "cell_type": "code", 
      "source": [
        "eg = lc_reader(\"./data/CEPH/lc_1.3441.15.B.mjd\")\n", 
        "eg[:5]"
      ], 
      "outputs": [], 
      "metadata": {
        "collapsed": false
      }
    }, 
    {
      "execution_count": 19, 
      "cell_type": "code", 
      "source": [
        "%matplotlib inline\n", 
        "import matplotlib.pyplot as plt\n", 
        "plt.figure(figsize=(12,4))\n", 
        "plt.plot([x[0] for x in eg], [x[1] for x in eg],'.');"
      ], 
      "outputs": [], 
      "metadata": {
        "collapsed": false
      }
    }, 
    {
      "source": [
        "### Q3. Reader with metadata\n", 
        "\n", 
        "The first two lines of the file, after the `#` have facet names and facet values. These are in the same order and space separated. Change `lc_reader` ro parse these lines as well, returning both the list we had earlier, and a second dictionary of facetnames and facetvalues."
      ], 
      "cell_type": "markdown", 
      "metadata": {}
    }, 
    {
      "execution_count": 21, 
      "cell_type": "code", 
      "source": [
        "# your code here\n"
      ], 
      "outputs": [], 
      "metadata": {
        "collapsed": true
      }
    }, 
    {
      "source": [
        "We use your definition above to write a `LightCurve` class with a class method that reads the light curve from a file. \n", 
        "\n", 
        "### Q4. A Light Curve Class with properties\n", 
        "\n", 
        "Since data in a light-curve is read-once, we use properties to prevent any changes to the data. Add to the light curve class below read-only properties `time`, `amplitude` which correspond to `_time` and `_amplitude`, and also a read-only property `timeseries` which zips these together. Notice how `self.timeseries` is used in `__repr__` below. "
      ], 
      "cell_type": "markdown", 
      "metadata": {}
    }, 
    {
      "execution_count": 42, 
      "cell_type": "code", 
      "source": [
        "import itertools\n", 
        "class LightCurve:\n", 
        "    \n", 
        "    def __init__(self, data, metadict):\n", 
        "        self._time = [x[0] for x in data]\n", 
        "        self._amplitude = [x[1] for x in data]\n", 
        "        self._error = [x[2] for x in data]\n", 
        "        self.metadata = metadict\n", 
        "        self.filename = None\n", 
        "    \n", 
        "    @classmethod\n", 
        "    def from_file(cls, filename):\n", 
        "        lclist, metadict = lc_reader(filename)\n", 
        "        instance = cls(lclist, metadict)\n", 
        "        instance.filename = filename\n", 
        "        return instance\n", 
        "    \n", 
        "    def __repr__(self):\n", 
        "        class_name = type(self).__name__\n", 
        "        components = reprlib.repr(list(itertools.islice(self.timeseries,0,10)))\n", 
        "        components = components[components.find('['):]\n", 
        "        return '{}({})'.format(class_name, components)        \n", 
        "        \n", 
        "    #your code here\n"
      ], 
      "outputs": [], 
      "metadata": {
        "collapsed": true
      }
    }, 
    {
      "execution_count": 43, 
      "cell_type": "code", 
      "source": [
        "l = LightCurve.from_file(\"./data/CEPH/lc_1.3441.15.B.mjd\")\n", 
        "l"
      ], 
      "outputs": [], 
      "metadata": {
        "collapsed": false
      }
    }, 
    {
      "source": [
        "### Q5. Make LightCurve a sequence\n", 
        "\n", 
        "But our Lightcurves class is not a sequence yet! It implements none of the sequence protocol. The `__repr__` above makes it look like one, but its your job to make it one! (Hint: dont change the O-complexity behavior of indexing)"
      ], 
      "cell_type": "markdown", 
      "metadata": {}
    }, 
    {
      "execution_count": 119, 
      "cell_type": "code", 
      "source": [
        "#your code here\n"
      ], 
      "outputs": [], 
      "metadata": {
        "collapsed": false
      }
    }, 
    {
      "execution_count": 120, 
      "cell_type": "code", 
      "source": [
        "l2 = LightCurve.from_file(\"./data/CEPH/lc_1.3441.15.B.mjd\")\n", 
        "l2"
      ], 
      "outputs": [], 
      "metadata": {
        "collapsed": false
      }
    }, 
    {
      "execution_count": 121, 
      "cell_type": "code", 
      "source": [
        "len(l2)"
      ], 
      "outputs": [], 
      "metadata": {
        "collapsed": false
      }
    }, 
    {
      "execution_count": 122, 
      "cell_type": "code", 
      "source": [
        "l2[100]"
      ], 
      "outputs": [], 
      "metadata": {
        "collapsed": false
      }
    }, 
    {
      "execution_count": 123, 
      "cell_type": "code", 
      "source": [
        "l2[1:3]# this will be not quite what we want given our __repr__"
      ], 
      "outputs": [], 
      "metadata": {
        "collapsed": false
      }
    }, 
    {
      "source": [
        "The reason for the above not being quite the result we expect is because we dont yet know how Python handles slices. We shall do this next week!"
      ], 
      "cell_type": "markdown", 
      "metadata": {}
    }, 
    {
      "source": [
        "### A database for light curves\n", 
        "\n", 
        "We now write a small little database class whose game is to read all light curves from a directory, store them in memory and construct an \"index\" on the field, tile, and color that these light-curves have.\n", 
        "\n", 
        "A light curve filename of the form `lc_1.3441.15.B.mjd` means that this data has `field` 1, `tile` 3441, `sequence` 15, and `color` 'B'. We'll parse the filenames below and store the indexed in internal attributes such as `self._field_index`. Note the use of `defaultdict` instead of a regular dictionary (look it up). Are we duplicating Light Curve objects in these indices?\n", 
        "\n", 
        "### Q6. \n", 
        "\n", 
        "Write a method `def retrieve(self, facet, value)` which retrieves a list of Light Curves corresponding to the given value of the facet. (like say facet is tile and value is 4661)."
      ], 
      "cell_type": "markdown", 
      "metadata": {}
    }, 
    {
      "execution_count": 85, 
      "cell_type": "code", 
      "source": [
        "import os\n", 
        "from collections import defaultdict\n", 
        "class LightCurveDB:\n", 
        "    \n", 
        "    def __init__(self):\n", 
        "        self._collection={}\n", 
        "        self._field_index=defaultdict(list)\n", 
        "        self._tile_index=defaultdict(list)\n", 
        "        self._color_index=defaultdict(list)\n", 
        "    \n", 
        "    def populate(self, folder):\n", 
        "        for root,dirs,files in os.walk(folder): # DEPTH 1 ONLY\n", 
        "            for file in files:\n", 
        "                if file.find('.mjd')!=-1:\n", 
        "                    the_path = root+\"/\"+file\n", 
        "                    self._collection[file] = LightCurve.from_file(the_path)\n", 
        "    \n", 
        "    def index(self):\n", 
        "        for f in self._collection:\n", 
        "            lc, tilestring, seq, color, _ = f.split('.')\n", 
        "            field = int(lc.split('_')[-1])\n", 
        "            tile = int(tilestring)\n", 
        "            self._field_index[field].append(self._collection[f])\n", 
        "            self._tile_index[tile].append(self._collection[f])\n", 
        "            self._color_index[color].append(self._collection[f])\n", 
        "     \n", 
        "    #your code here\n"
      ], 
      "outputs": [], 
      "metadata": {
        "collapsed": false
      }
    }, 
    {
      "execution_count": 86, 
      "cell_type": "code", 
      "source": [
        "ldb = LightCurveDB()\n", 
        "ldb.populate(\"./data/CEPH\")\n", 
        "ldb.index()"
      ], 
      "outputs": [], 
      "metadata": {
        "collapsed": false
      }
    }, 
    {
      "execution_count": 89, 
      "cell_type": "code", 
      "source": [
        "ldb.retrieve('tile', 4661) # do this"
      ], 
      "outputs": [], 
      "metadata": {
        "collapsed": false
      }
    }, 
    {
      "source": [
        "### Q7. Module-arity\n", 
        "\n", 
        "Put your `lc_reader`, and `LightCurve` and `LightCurveDB` classes in a module: a separate file, named lc.py. Organize the imports at the top. The following code should then work here"
      ], 
      "cell_type": "markdown", 
      "metadata": {}
    }, 
    {
      "execution_count": 124, 
      "cell_type": "code", 
      "source": [
        "import lc\n", 
        "ldb2 = lc.LightCurveDB()\n", 
        "ldb2.populate(\"./data/CEPH\")\n", 
        "ldb2.index()\n", 
        "ldb2.retrieve('tile', 4661)"
      ], 
      "outputs": [], 
      "metadata": {
        "collapsed": false
      }
    }
  ]
}