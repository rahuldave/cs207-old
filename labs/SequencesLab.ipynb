{
 "cells": [
  {
   "cell_type": "markdown",
   "metadata": {},
   "source": [
    "### Q1.\n",
    "\n",
    "**Project exercise. Please do this with your team.**\n",
    "\n",
    "This question continues your implementation of the time series class you started on Monday. On Monday, you stored your time series as a python list. Today, you will store the data as a numpy 1-D array.\n",
    "\n",
    "Please implement a new class `ArrayTimeSeries` which inherits your `TimeSeries` class and uses `numpy.array` to store the data internally.\n",
    "\n",
    "At this point you will notice a fundamental mismatch: unlike python `list`s or `array.array`s which are dynamic, `numpy` expects you to provide a length of the sequence. This means that you cant process each element of the time series as it comes in, and must calculate the length of the input sequence to allocate space for the time series in your constructor. (This makes it hard to write a \"direct from file\" without intermdiate storage implementation; but we shall worry about this later).\n",
    "\n",
    "Because your class inherits from your `TimeSeries` class, you'll notice you get some functionality automatically. You may choose to reimplement `__getitem__`, `__setitem__`, and `__len__` at your discretion. Please do NOT implement a `__str__` or `__repr__` function. Note that this means the `__str__` and `__repr__` functions will need to work with both classes, and you may need to fix your original versions.\n",
    "\n",
    "Make sure that any doctests you wrote on Monday to test all kinds of sequences as input still pass. (If you didnt write any, how do you know your sime series Class from Monday is any good? We'll be testing your code by running our own tests as well!)"
   ]
  },
  {
   "cell_type": "markdown",
   "metadata": {},
   "source": [
    "### Q2.\n",
    "\n",
    "**Individual exercise.**\n",
    "\n",
    "Add a `__setitem__` to the python linked list implementation from the lecture."
   ]
  },
  {
   "cell_type": "markdown",
   "metadata": {},
   "source": [
    "### Q3.\n",
    "\n",
    "**Individual exercise.**\n",
    "\n",
    "Finish the second part of last friday's C linked list lab: implement the `remove_item` and `get_index` functions. For fun, you might want to implement an `insert_back`, and `set_item` function as well."
   ]
  }
 ],
 "metadata": {
  "kernelspec": {
   "display_name": "Python 3",
   "language": "python",
   "name": "python3"
  },
  "language_info": {
   "codemirror_mode": {
    "name": "ipython",
    "version": 3
   },
   "file_extension": ".py",
   "mimetype": "text/x-python",
   "name": "python",
   "nbconvert_exporter": "python",
   "pygments_lexer": "ipython3",
   "version": "3.5.1"
  }
 },
 "nbformat": 4,
 "nbformat_minor": 0
}
